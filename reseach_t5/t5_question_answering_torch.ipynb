{
  "nbformat": 4,
  "nbformat_minor": 0,
  "metadata": {
    "colab": {
      "name": "t5_question_answering_torch.ipynb",
      "provenance": [],
      "collapsed_sections": []
    },
    "kernelspec": {
      "name": "python3",
      "display_name": "Python 3"
    },
    "language_info": {
      "name": "python"
    },
    "accelerator": "GPU",
    "widgets": {
      "application/vnd.jupyter.widget-state+json": {
        "ce282c861eb444c189419062ed4136b7": {
          "model_module": "@jupyter-widgets/controls",
          "model_name": "HBoxModel",
          "state": {
            "_view_name": "HBoxView",
            "_dom_classes": [],
            "_model_name": "HBoxModel",
            "_view_module": "@jupyter-widgets/controls",
            "_model_module_version": "1.5.0",
            "_view_count": null,
            "_view_module_version": "1.5.0",
            "box_style": "",
            "layout": "IPY_MODEL_eb113924dee24491b73e444c776fd422",
            "_model_module": "@jupyter-widgets/controls",
            "children": [
              "IPY_MODEL_bb369cd7779a41339d68a68c4b14b699",
              "IPY_MODEL_d6cf44c2adf047f1a83b0caced8910e9"
            ]
          }
        },
        "eb113924dee24491b73e444c776fd422": {
          "model_module": "@jupyter-widgets/base",
          "model_name": "LayoutModel",
          "state": {
            "_view_name": "LayoutView",
            "grid_template_rows": null,
            "right": null,
            "justify_content": null,
            "_view_module": "@jupyter-widgets/base",
            "overflow": null,
            "_model_module_version": "1.2.0",
            "_view_count": null,
            "flex_flow": null,
            "width": null,
            "min_width": null,
            "border": null,
            "align_items": null,
            "bottom": null,
            "_model_module": "@jupyter-widgets/base",
            "top": null,
            "grid_column": null,
            "overflow_y": null,
            "overflow_x": null,
            "grid_auto_flow": null,
            "grid_area": null,
            "grid_template_columns": null,
            "flex": null,
            "_model_name": "LayoutModel",
            "justify_items": null,
            "grid_row": null,
            "max_height": null,
            "align_content": null,
            "visibility": null,
            "align_self": null,
            "height": null,
            "min_height": null,
            "padding": null,
            "grid_auto_rows": null,
            "grid_gap": null,
            "max_width": null,
            "order": null,
            "_view_module_version": "1.2.0",
            "grid_template_areas": null,
            "object_position": null,
            "object_fit": null,
            "grid_auto_columns": null,
            "margin": null,
            "display": null,
            "left": null
          }
        },
        "bb369cd7779a41339d68a68c4b14b699": {
          "model_module": "@jupyter-widgets/controls",
          "model_name": "FloatProgressModel",
          "state": {
            "_view_name": "ProgressView",
            "style": "IPY_MODEL_7047e3e197194c6db9decaf2ce6e4b81",
            "_dom_classes": [],
            "description": "Downloading: 100%",
            "_model_name": "FloatProgressModel",
            "bar_style": "success",
            "max": 791656,
            "_view_module": "@jupyter-widgets/controls",
            "_model_module_version": "1.5.0",
            "value": 791656,
            "_view_count": null,
            "_view_module_version": "1.5.0",
            "orientation": "horizontal",
            "min": 0,
            "description_tooltip": null,
            "_model_module": "@jupyter-widgets/controls",
            "layout": "IPY_MODEL_bc79f058d2e94d41a90568b861aed1bf"
          }
        },
        "d6cf44c2adf047f1a83b0caced8910e9": {
          "model_module": "@jupyter-widgets/controls",
          "model_name": "HTMLModel",
          "state": {
            "_view_name": "HTMLView",
            "style": "IPY_MODEL_49d9a817b97b4b68800180d1a540be5f",
            "_dom_classes": [],
            "description": "",
            "_model_name": "HTMLModel",
            "placeholder": "​",
            "_view_module": "@jupyter-widgets/controls",
            "_model_module_version": "1.5.0",
            "value": " 792k/792k [00:50&lt;00:00, 15.7kB/s]",
            "_view_count": null,
            "_view_module_version": "1.5.0",
            "description_tooltip": null,
            "_model_module": "@jupyter-widgets/controls",
            "layout": "IPY_MODEL_efda79932e654f1cb036b15d2df3dbab"
          }
        },
        "7047e3e197194c6db9decaf2ce6e4b81": {
          "model_module": "@jupyter-widgets/controls",
          "model_name": "ProgressStyleModel",
          "state": {
            "_view_name": "StyleView",
            "_model_name": "ProgressStyleModel",
            "description_width": "initial",
            "_view_module": "@jupyter-widgets/base",
            "_model_module_version": "1.5.0",
            "_view_count": null,
            "_view_module_version": "1.2.0",
            "bar_color": null,
            "_model_module": "@jupyter-widgets/controls"
          }
        },
        "bc79f058d2e94d41a90568b861aed1bf": {
          "model_module": "@jupyter-widgets/base",
          "model_name": "LayoutModel",
          "state": {
            "_view_name": "LayoutView",
            "grid_template_rows": null,
            "right": null,
            "justify_content": null,
            "_view_module": "@jupyter-widgets/base",
            "overflow": null,
            "_model_module_version": "1.2.0",
            "_view_count": null,
            "flex_flow": null,
            "width": null,
            "min_width": null,
            "border": null,
            "align_items": null,
            "bottom": null,
            "_model_module": "@jupyter-widgets/base",
            "top": null,
            "grid_column": null,
            "overflow_y": null,
            "overflow_x": null,
            "grid_auto_flow": null,
            "grid_area": null,
            "grid_template_columns": null,
            "flex": null,
            "_model_name": "LayoutModel",
            "justify_items": null,
            "grid_row": null,
            "max_height": null,
            "align_content": null,
            "visibility": null,
            "align_self": null,
            "height": null,
            "min_height": null,
            "padding": null,
            "grid_auto_rows": null,
            "grid_gap": null,
            "max_width": null,
            "order": null,
            "_view_module_version": "1.2.0",
            "grid_template_areas": null,
            "object_position": null,
            "object_fit": null,
            "grid_auto_columns": null,
            "margin": null,
            "display": null,
            "left": null
          }
        },
        "49d9a817b97b4b68800180d1a540be5f": {
          "model_module": "@jupyter-widgets/controls",
          "model_name": "DescriptionStyleModel",
          "state": {
            "_view_name": "StyleView",
            "_model_name": "DescriptionStyleModel",
            "description_width": "",
            "_view_module": "@jupyter-widgets/base",
            "_model_module_version": "1.5.0",
            "_view_count": null,
            "_view_module_version": "1.2.0",
            "_model_module": "@jupyter-widgets/controls"
          }
        },
        "efda79932e654f1cb036b15d2df3dbab": {
          "model_module": "@jupyter-widgets/base",
          "model_name": "LayoutModel",
          "state": {
            "_view_name": "LayoutView",
            "grid_template_rows": null,
            "right": null,
            "justify_content": null,
            "_view_module": "@jupyter-widgets/base",
            "overflow": null,
            "_model_module_version": "1.2.0",
            "_view_count": null,
            "flex_flow": null,
            "width": null,
            "min_width": null,
            "border": null,
            "align_items": null,
            "bottom": null,
            "_model_module": "@jupyter-widgets/base",
            "top": null,
            "grid_column": null,
            "overflow_y": null,
            "overflow_x": null,
            "grid_auto_flow": null,
            "grid_area": null,
            "grid_template_columns": null,
            "flex": null,
            "_model_name": "LayoutModel",
            "justify_items": null,
            "grid_row": null,
            "max_height": null,
            "align_content": null,
            "visibility": null,
            "align_self": null,
            "height": null,
            "min_height": null,
            "padding": null,
            "grid_auto_rows": null,
            "grid_gap": null,
            "max_width": null,
            "order": null,
            "_view_module_version": "1.2.0",
            "grid_template_areas": null,
            "object_position": null,
            "object_fit": null,
            "grid_auto_columns": null,
            "margin": null,
            "display": null,
            "left": null
          }
        },
        "3ca7caa70e484a05a9e7a2e1947c4029": {
          "model_module": "@jupyter-widgets/controls",
          "model_name": "HBoxModel",
          "state": {
            "_view_name": "HBoxView",
            "_dom_classes": [],
            "_model_name": "HBoxModel",
            "_view_module": "@jupyter-widgets/controls",
            "_model_module_version": "1.5.0",
            "_view_count": null,
            "_view_module_version": "1.5.0",
            "box_style": "",
            "layout": "IPY_MODEL_c51080eae02e43c1982ed422d53d9992",
            "_model_module": "@jupyter-widgets/controls",
            "children": [
              "IPY_MODEL_682ff873601e4086bdc0a8a077c485d0",
              "IPY_MODEL_d4198d9fea7442b7b858b98cda05f388"
            ]
          }
        },
        "c51080eae02e43c1982ed422d53d9992": {
          "model_module": "@jupyter-widgets/base",
          "model_name": "LayoutModel",
          "state": {
            "_view_name": "LayoutView",
            "grid_template_rows": null,
            "right": null,
            "justify_content": null,
            "_view_module": "@jupyter-widgets/base",
            "overflow": null,
            "_model_module_version": "1.2.0",
            "_view_count": null,
            "flex_flow": null,
            "width": null,
            "min_width": null,
            "border": null,
            "align_items": null,
            "bottom": null,
            "_model_module": "@jupyter-widgets/base",
            "top": null,
            "grid_column": null,
            "overflow_y": null,
            "overflow_x": null,
            "grid_auto_flow": null,
            "grid_area": null,
            "grid_template_columns": null,
            "flex": null,
            "_model_name": "LayoutModel",
            "justify_items": null,
            "grid_row": null,
            "max_height": null,
            "align_content": null,
            "visibility": null,
            "align_self": null,
            "height": null,
            "min_height": null,
            "padding": null,
            "grid_auto_rows": null,
            "grid_gap": null,
            "max_width": null,
            "order": null,
            "_view_module_version": "1.2.0",
            "grid_template_areas": null,
            "object_position": null,
            "object_fit": null,
            "grid_auto_columns": null,
            "margin": null,
            "display": null,
            "left": null
          }
        },
        "682ff873601e4086bdc0a8a077c485d0": {
          "model_module": "@jupyter-widgets/controls",
          "model_name": "FloatProgressModel",
          "state": {
            "_view_name": "ProgressView",
            "style": "IPY_MODEL_559cb645b1124621be22da727a262aad",
            "_dom_classes": [],
            "description": "Downloading: 100%",
            "_model_name": "FloatProgressModel",
            "bar_style": "success",
            "max": 1389353,
            "_view_module": "@jupyter-widgets/controls",
            "_model_module_version": "1.5.0",
            "value": 1389353,
            "_view_count": null,
            "_view_module_version": "1.5.0",
            "orientation": "horizontal",
            "min": 0,
            "description_tooltip": null,
            "_model_module": "@jupyter-widgets/controls",
            "layout": "IPY_MODEL_0d2bf17269744a36933a2d9a2503904d"
          }
        },
        "d4198d9fea7442b7b858b98cda05f388": {
          "model_module": "@jupyter-widgets/controls",
          "model_name": "HTMLModel",
          "state": {
            "_view_name": "HTMLView",
            "style": "IPY_MODEL_e07a2064ebe044fdbaad3d37122c60fe",
            "_dom_classes": [],
            "description": "",
            "_model_name": "HTMLModel",
            "placeholder": "​",
            "_view_module": "@jupyter-widgets/controls",
            "_model_module_version": "1.5.0",
            "value": " 1.39M/1.39M [00:01&lt;00:00, 823kB/s]",
            "_view_count": null,
            "_view_module_version": "1.5.0",
            "description_tooltip": null,
            "_model_module": "@jupyter-widgets/controls",
            "layout": "IPY_MODEL_9782fd6085614048b1375fad6957b932"
          }
        },
        "559cb645b1124621be22da727a262aad": {
          "model_module": "@jupyter-widgets/controls",
          "model_name": "ProgressStyleModel",
          "state": {
            "_view_name": "StyleView",
            "_model_name": "ProgressStyleModel",
            "description_width": "initial",
            "_view_module": "@jupyter-widgets/base",
            "_model_module_version": "1.5.0",
            "_view_count": null,
            "_view_module_version": "1.2.0",
            "bar_color": null,
            "_model_module": "@jupyter-widgets/controls"
          }
        },
        "0d2bf17269744a36933a2d9a2503904d": {
          "model_module": "@jupyter-widgets/base",
          "model_name": "LayoutModel",
          "state": {
            "_view_name": "LayoutView",
            "grid_template_rows": null,
            "right": null,
            "justify_content": null,
            "_view_module": "@jupyter-widgets/base",
            "overflow": null,
            "_model_module_version": "1.2.0",
            "_view_count": null,
            "flex_flow": null,
            "width": null,
            "min_width": null,
            "border": null,
            "align_items": null,
            "bottom": null,
            "_model_module": "@jupyter-widgets/base",
            "top": null,
            "grid_column": null,
            "overflow_y": null,
            "overflow_x": null,
            "grid_auto_flow": null,
            "grid_area": null,
            "grid_template_columns": null,
            "flex": null,
            "_model_name": "LayoutModel",
            "justify_items": null,
            "grid_row": null,
            "max_height": null,
            "align_content": null,
            "visibility": null,
            "align_self": null,
            "height": null,
            "min_height": null,
            "padding": null,
            "grid_auto_rows": null,
            "grid_gap": null,
            "max_width": null,
            "order": null,
            "_view_module_version": "1.2.0",
            "grid_template_areas": null,
            "object_position": null,
            "object_fit": null,
            "grid_auto_columns": null,
            "margin": null,
            "display": null,
            "left": null
          }
        },
        "e07a2064ebe044fdbaad3d37122c60fe": {
          "model_module": "@jupyter-widgets/controls",
          "model_name": "DescriptionStyleModel",
          "state": {
            "_view_name": "StyleView",
            "_model_name": "DescriptionStyleModel",
            "description_width": "",
            "_view_module": "@jupyter-widgets/base",
            "_model_module_version": "1.5.0",
            "_view_count": null,
            "_view_module_version": "1.2.0",
            "_model_module": "@jupyter-widgets/controls"
          }
        },
        "9782fd6085614048b1375fad6957b932": {
          "model_module": "@jupyter-widgets/base",
          "model_name": "LayoutModel",
          "state": {
            "_view_name": "LayoutView",
            "grid_template_rows": null,
            "right": null,
            "justify_content": null,
            "_view_module": "@jupyter-widgets/base",
            "overflow": null,
            "_model_module_version": "1.2.0",
            "_view_count": null,
            "flex_flow": null,
            "width": null,
            "min_width": null,
            "border": null,
            "align_items": null,
            "bottom": null,
            "_model_module": "@jupyter-widgets/base",
            "top": null,
            "grid_column": null,
            "overflow_y": null,
            "overflow_x": null,
            "grid_auto_flow": null,
            "grid_area": null,
            "grid_template_columns": null,
            "flex": null,
            "_model_name": "LayoutModel",
            "justify_items": null,
            "grid_row": null,
            "max_height": null,
            "align_content": null,
            "visibility": null,
            "align_self": null,
            "height": null,
            "min_height": null,
            "padding": null,
            "grid_auto_rows": null,
            "grid_gap": null,
            "max_width": null,
            "order": null,
            "_view_module_version": "1.2.0",
            "grid_template_areas": null,
            "object_position": null,
            "object_fit": null,
            "grid_auto_columns": null,
            "margin": null,
            "display": null,
            "left": null
          }
        },
        "08f0973a069f4942aa10e1d4187f9136": {
          "model_module": "@jupyter-widgets/controls",
          "model_name": "HBoxModel",
          "state": {
            "_view_name": "HBoxView",
            "_dom_classes": [],
            "_model_name": "HBoxModel",
            "_view_module": "@jupyter-widgets/controls",
            "_model_module_version": "1.5.0",
            "_view_count": null,
            "_view_module_version": "1.5.0",
            "box_style": "",
            "layout": "IPY_MODEL_34e2a6358f854a25a808b6597d812709",
            "_model_module": "@jupyter-widgets/controls",
            "children": [
              "IPY_MODEL_6cc48581ec7c4635852fc19b47a144ab",
              "IPY_MODEL_c216f37aa82c430f8505faf12facbb12"
            ]
          }
        },
        "34e2a6358f854a25a808b6597d812709": {
          "model_module": "@jupyter-widgets/base",
          "model_name": "LayoutModel",
          "state": {
            "_view_name": "LayoutView",
            "grid_template_rows": null,
            "right": null,
            "justify_content": null,
            "_view_module": "@jupyter-widgets/base",
            "overflow": null,
            "_model_module_version": "1.2.0",
            "_view_count": null,
            "flex_flow": null,
            "width": null,
            "min_width": null,
            "border": null,
            "align_items": null,
            "bottom": null,
            "_model_module": "@jupyter-widgets/base",
            "top": null,
            "grid_column": null,
            "overflow_y": null,
            "overflow_x": null,
            "grid_auto_flow": null,
            "grid_area": null,
            "grid_template_columns": null,
            "flex": null,
            "_model_name": "LayoutModel",
            "justify_items": null,
            "grid_row": null,
            "max_height": null,
            "align_content": null,
            "visibility": null,
            "align_self": null,
            "height": null,
            "min_height": null,
            "padding": null,
            "grid_auto_rows": null,
            "grid_gap": null,
            "max_width": null,
            "order": null,
            "_view_module_version": "1.2.0",
            "grid_template_areas": null,
            "object_position": null,
            "object_fit": null,
            "grid_auto_columns": null,
            "margin": null,
            "display": null,
            "left": null
          }
        },
        "6cc48581ec7c4635852fc19b47a144ab": {
          "model_module": "@jupyter-widgets/controls",
          "model_name": "FloatProgressModel",
          "state": {
            "_view_name": "ProgressView",
            "style": "IPY_MODEL_128f76c792f1455d8b8197e64b4cb529",
            "_dom_classes": [],
            "description": "Downloading: 100%",
            "_model_name": "FloatProgressModel",
            "bar_style": "success",
            "max": 1199,
            "_view_module": "@jupyter-widgets/controls",
            "_model_module_version": "1.5.0",
            "value": 1199,
            "_view_count": null,
            "_view_module_version": "1.5.0",
            "orientation": "horizontal",
            "min": 0,
            "description_tooltip": null,
            "_model_module": "@jupyter-widgets/controls",
            "layout": "IPY_MODEL_46cabc6350824de688ba74ca0d0ecf19"
          }
        },
        "c216f37aa82c430f8505faf12facbb12": {
          "model_module": "@jupyter-widgets/controls",
          "model_name": "HTMLModel",
          "state": {
            "_view_name": "HTMLView",
            "style": "IPY_MODEL_9613b15132e44c5da7711cac412b7c64",
            "_dom_classes": [],
            "description": "",
            "_model_name": "HTMLModel",
            "placeholder": "​",
            "_view_module": "@jupyter-widgets/controls",
            "_model_module_version": "1.5.0",
            "value": " 1.20k/1.20k [00:26&lt;00:00, 45.2B/s]",
            "_view_count": null,
            "_view_module_version": "1.5.0",
            "description_tooltip": null,
            "_model_module": "@jupyter-widgets/controls",
            "layout": "IPY_MODEL_31d59efcc0d14125b4bdc1e79d322ef6"
          }
        },
        "128f76c792f1455d8b8197e64b4cb529": {
          "model_module": "@jupyter-widgets/controls",
          "model_name": "ProgressStyleModel",
          "state": {
            "_view_name": "StyleView",
            "_model_name": "ProgressStyleModel",
            "description_width": "initial",
            "_view_module": "@jupyter-widgets/base",
            "_model_module_version": "1.5.0",
            "_view_count": null,
            "_view_module_version": "1.2.0",
            "bar_color": null,
            "_model_module": "@jupyter-widgets/controls"
          }
        },
        "46cabc6350824de688ba74ca0d0ecf19": {
          "model_module": "@jupyter-widgets/base",
          "model_name": "LayoutModel",
          "state": {
            "_view_name": "LayoutView",
            "grid_template_rows": null,
            "right": null,
            "justify_content": null,
            "_view_module": "@jupyter-widgets/base",
            "overflow": null,
            "_model_module_version": "1.2.0",
            "_view_count": null,
            "flex_flow": null,
            "width": null,
            "min_width": null,
            "border": null,
            "align_items": null,
            "bottom": null,
            "_model_module": "@jupyter-widgets/base",
            "top": null,
            "grid_column": null,
            "overflow_y": null,
            "overflow_x": null,
            "grid_auto_flow": null,
            "grid_area": null,
            "grid_template_columns": null,
            "flex": null,
            "_model_name": "LayoutModel",
            "justify_items": null,
            "grid_row": null,
            "max_height": null,
            "align_content": null,
            "visibility": null,
            "align_self": null,
            "height": null,
            "min_height": null,
            "padding": null,
            "grid_auto_rows": null,
            "grid_gap": null,
            "max_width": null,
            "order": null,
            "_view_module_version": "1.2.0",
            "grid_template_areas": null,
            "object_position": null,
            "object_fit": null,
            "grid_auto_columns": null,
            "margin": null,
            "display": null,
            "left": null
          }
        },
        "9613b15132e44c5da7711cac412b7c64": {
          "model_module": "@jupyter-widgets/controls",
          "model_name": "DescriptionStyleModel",
          "state": {
            "_view_name": "StyleView",
            "_model_name": "DescriptionStyleModel",
            "description_width": "",
            "_view_module": "@jupyter-widgets/base",
            "_model_module_version": "1.5.0",
            "_view_count": null,
            "_view_module_version": "1.2.0",
            "_model_module": "@jupyter-widgets/controls"
          }
        },
        "31d59efcc0d14125b4bdc1e79d322ef6": {
          "model_module": "@jupyter-widgets/base",
          "model_name": "LayoutModel",
          "state": {
            "_view_name": "LayoutView",
            "grid_template_rows": null,
            "right": null,
            "justify_content": null,
            "_view_module": "@jupyter-widgets/base",
            "overflow": null,
            "_model_module_version": "1.2.0",
            "_view_count": null,
            "flex_flow": null,
            "width": null,
            "min_width": null,
            "border": null,
            "align_items": null,
            "bottom": null,
            "_model_module": "@jupyter-widgets/base",
            "top": null,
            "grid_column": null,
            "overflow_y": null,
            "overflow_x": null,
            "grid_auto_flow": null,
            "grid_area": null,
            "grid_template_columns": null,
            "flex": null,
            "_model_name": "LayoutModel",
            "justify_items": null,
            "grid_row": null,
            "max_height": null,
            "align_content": null,
            "visibility": null,
            "align_self": null,
            "height": null,
            "min_height": null,
            "padding": null,
            "grid_auto_rows": null,
            "grid_gap": null,
            "max_width": null,
            "order": null,
            "_view_module_version": "1.2.0",
            "grid_template_areas": null,
            "object_position": null,
            "object_fit": null,
            "grid_auto_columns": null,
            "margin": null,
            "display": null,
            "left": null
          }
        },
        "7f41be6946b44ae9ae5d104c467bf343": {
          "model_module": "@jupyter-widgets/controls",
          "model_name": "HBoxModel",
          "state": {
            "_view_name": "HBoxView",
            "_dom_classes": [],
            "_model_name": "HBoxModel",
            "_view_module": "@jupyter-widgets/controls",
            "_model_module_version": "1.5.0",
            "_view_count": null,
            "_view_module_version": "1.5.0",
            "box_style": "",
            "layout": "IPY_MODEL_820cb49c076644d7aa6ae4e84dd8d161",
            "_model_module": "@jupyter-widgets/controls",
            "children": [
              "IPY_MODEL_84c717f360984afbad5b91d0864b9a62",
              "IPY_MODEL_2e3a5429bdf044ccb230acbb3f2ca208"
            ]
          }
        },
        "820cb49c076644d7aa6ae4e84dd8d161": {
          "model_module": "@jupyter-widgets/base",
          "model_name": "LayoutModel",
          "state": {
            "_view_name": "LayoutView",
            "grid_template_rows": null,
            "right": null,
            "justify_content": null,
            "_view_module": "@jupyter-widgets/base",
            "overflow": null,
            "_model_module_version": "1.2.0",
            "_view_count": null,
            "flex_flow": null,
            "width": null,
            "min_width": null,
            "border": null,
            "align_items": null,
            "bottom": null,
            "_model_module": "@jupyter-widgets/base",
            "top": null,
            "grid_column": null,
            "overflow_y": null,
            "overflow_x": null,
            "grid_auto_flow": null,
            "grid_area": null,
            "grid_template_columns": null,
            "flex": null,
            "_model_name": "LayoutModel",
            "justify_items": null,
            "grid_row": null,
            "max_height": null,
            "align_content": null,
            "visibility": null,
            "align_self": null,
            "height": null,
            "min_height": null,
            "padding": null,
            "grid_auto_rows": null,
            "grid_gap": null,
            "max_width": null,
            "order": null,
            "_view_module_version": "1.2.0",
            "grid_template_areas": null,
            "object_position": null,
            "object_fit": null,
            "grid_auto_columns": null,
            "margin": null,
            "display": null,
            "left": null
          }
        },
        "84c717f360984afbad5b91d0864b9a62": {
          "model_module": "@jupyter-widgets/controls",
          "model_name": "FloatProgressModel",
          "state": {
            "_view_name": "ProgressView",
            "style": "IPY_MODEL_c35474645ba74aca8da2ada28624fb45",
            "_dom_classes": [],
            "description": "Downloading: 100%",
            "_model_name": "FloatProgressModel",
            "bar_style": "success",
            "max": 891691430,
            "_view_module": "@jupyter-widgets/controls",
            "_model_module_version": "1.5.0",
            "value": 891691430,
            "_view_count": null,
            "_view_module_version": "1.5.0",
            "orientation": "horizontal",
            "min": 0,
            "description_tooltip": null,
            "_model_module": "@jupyter-widgets/controls",
            "layout": "IPY_MODEL_b813b3c38c0b4b9290e2aebd131d2caa"
          }
        },
        "2e3a5429bdf044ccb230acbb3f2ca208": {
          "model_module": "@jupyter-widgets/controls",
          "model_name": "HTMLModel",
          "state": {
            "_view_name": "HTMLView",
            "style": "IPY_MODEL_14ca17edfa5d44c2a0bbeedc0e3acb63",
            "_dom_classes": [],
            "description": "",
            "_model_name": "HTMLModel",
            "placeholder": "​",
            "_view_module": "@jupyter-widgets/controls",
            "_model_module_version": "1.5.0",
            "value": " 892M/892M [00:26&lt;00:00, 34.1MB/s]",
            "_view_count": null,
            "_view_module_version": "1.5.0",
            "description_tooltip": null,
            "_model_module": "@jupyter-widgets/controls",
            "layout": "IPY_MODEL_b23f51ad24e342309374751d09afd5f2"
          }
        },
        "c35474645ba74aca8da2ada28624fb45": {
          "model_module": "@jupyter-widgets/controls",
          "model_name": "ProgressStyleModel",
          "state": {
            "_view_name": "StyleView",
            "_model_name": "ProgressStyleModel",
            "description_width": "initial",
            "_view_module": "@jupyter-widgets/base",
            "_model_module_version": "1.5.0",
            "_view_count": null,
            "_view_module_version": "1.2.0",
            "bar_color": null,
            "_model_module": "@jupyter-widgets/controls"
          }
        },
        "b813b3c38c0b4b9290e2aebd131d2caa": {
          "model_module": "@jupyter-widgets/base",
          "model_name": "LayoutModel",
          "state": {
            "_view_name": "LayoutView",
            "grid_template_rows": null,
            "right": null,
            "justify_content": null,
            "_view_module": "@jupyter-widgets/base",
            "overflow": null,
            "_model_module_version": "1.2.0",
            "_view_count": null,
            "flex_flow": null,
            "width": null,
            "min_width": null,
            "border": null,
            "align_items": null,
            "bottom": null,
            "_model_module": "@jupyter-widgets/base",
            "top": null,
            "grid_column": null,
            "overflow_y": null,
            "overflow_x": null,
            "grid_auto_flow": null,
            "grid_area": null,
            "grid_template_columns": null,
            "flex": null,
            "_model_name": "LayoutModel",
            "justify_items": null,
            "grid_row": null,
            "max_height": null,
            "align_content": null,
            "visibility": null,
            "align_self": null,
            "height": null,
            "min_height": null,
            "padding": null,
            "grid_auto_rows": null,
            "grid_gap": null,
            "max_width": null,
            "order": null,
            "_view_module_version": "1.2.0",
            "grid_template_areas": null,
            "object_position": null,
            "object_fit": null,
            "grid_auto_columns": null,
            "margin": null,
            "display": null,
            "left": null
          }
        },
        "14ca17edfa5d44c2a0bbeedc0e3acb63": {
          "model_module": "@jupyter-widgets/controls",
          "model_name": "DescriptionStyleModel",
          "state": {
            "_view_name": "StyleView",
            "_model_name": "DescriptionStyleModel",
            "description_width": "",
            "_view_module": "@jupyter-widgets/base",
            "_model_module_version": "1.5.0",
            "_view_count": null,
            "_view_module_version": "1.2.0",
            "_model_module": "@jupyter-widgets/controls"
          }
        },
        "b23f51ad24e342309374751d09afd5f2": {
          "model_module": "@jupyter-widgets/base",
          "model_name": "LayoutModel",
          "state": {
            "_view_name": "LayoutView",
            "grid_template_rows": null,
            "right": null,
            "justify_content": null,
            "_view_module": "@jupyter-widgets/base",
            "overflow": null,
            "_model_module_version": "1.2.0",
            "_view_count": null,
            "flex_flow": null,
            "width": null,
            "min_width": null,
            "border": null,
            "align_items": null,
            "bottom": null,
            "_model_module": "@jupyter-widgets/base",
            "top": null,
            "grid_column": null,
            "overflow_y": null,
            "overflow_x": null,
            "grid_auto_flow": null,
            "grid_area": null,
            "grid_template_columns": null,
            "flex": null,
            "_model_name": "LayoutModel",
            "justify_items": null,
            "grid_row": null,
            "max_height": null,
            "align_content": null,
            "visibility": null,
            "align_self": null,
            "height": null,
            "min_height": null,
            "padding": null,
            "grid_auto_rows": null,
            "grid_gap": null,
            "max_width": null,
            "order": null,
            "_view_module_version": "1.2.0",
            "grid_template_areas": null,
            "object_position": null,
            "object_fit": null,
            "grid_auto_columns": null,
            "margin": null,
            "display": null,
            "left": null
          }
        }
      }
    }
  },
  "cells": [
    {
      "cell_type": "code",
      "metadata": {
        "id": "I_3UZqLw61B9"
      },
      "source": [
        "!pip install pytorch_lightning\n",
        "!pip install transformers\n",
        "!pip install sentencepiece"
      ],
      "execution_count": null,
      "outputs": []
    },
    {
      "cell_type": "code",
      "metadata": {
        "id": "i1Mu6OEa71I_"
      },
      "source": [
        "!pip install wandb -qqq"
      ],
      "execution_count": null,
      "outputs": []
    },
    {
      "cell_type": "code",
      "metadata": {
        "id": "nqC3b3SO8BeC"
      },
      "source": [
        "import wandb\n",
        "wandb.login()"
      ],
      "execution_count": null,
      "outputs": []
    },
    {
      "cell_type": "code",
      "metadata": {
        "colab": {
          "base_uri": "https://localhost:8080/"
        },
        "id": "bqh7j3n878Id",
        "outputId": "e6c3e865-31ee-4caa-a521-8843c6bba4aa"
      },
      "source": [
        "import json\n",
        "import torch\n",
        "from tqdm import tqdm\n",
        "import torch.nn as nn\n",
        "import os, glob, re\n",
        "import pandas as pd\n",
        "import numpy as np\n",
        "from pathlib import Path\n",
        "from tqdm import tqdm\n",
        "import matplotlib.pyplot as plt\n",
        "from transformers import (T5ForConditionalGeneration,\n",
        "                          AdamW,\n",
        "                          T5TokenizerFast as token)\n",
        "\n",
        "from torch.utils.data import Dataset, DataLoader\n",
        "import pytorch_lightning as pl\n",
        "from sklearn.model_selection import train_test_split\n",
        "pl.seed_everything(13)\n",
        "print(torch.__version__)\n",
        "PATH = '/content/drive/MyDrive/Coleridge_Initiative/input'"
      ],
      "execution_count": null,
      "outputs": [
        {
          "output_type": "stream",
          "text": [
            "Global seed set to 13\n"
          ],
          "name": "stderr"
        },
        {
          "output_type": "stream",
          "text": [
            "1.8.1+cu101\n"
          ],
          "name": "stdout"
        }
      ]
    },
    {
      "cell_type": "markdown",
      "metadata": {
        "id": "VHf1tD8WVPrf"
      },
      "source": [
        "## Model"
      ]
    },
    {
      "cell_type": "code",
      "metadata": {
        "colab": {
          "base_uri": "https://localhost:8080/",
          "height": 66
        },
        "id": "WY3lis9B9X5M",
        "outputId": "f0096f45-2f73-4e73-bab9-5712f67209d1"
      },
      "source": [
        "df = pd.read_csv('/content/drive/MyDrive/Coleridge_Initiative/input/v6_data_qa.csv')\n",
        "df[df.answer.isna()]"
      ],
      "execution_count": null,
      "outputs": [
        {
          "output_type": "execute_result",
          "data": {
            "text/html": [
              "<div>\n",
              "<style scoped>\n",
              "    .dataframe tbody tr th:only-of-type {\n",
              "        vertical-align: middle;\n",
              "    }\n",
              "\n",
              "    .dataframe tbody tr th {\n",
              "        vertical-align: top;\n",
              "    }\n",
              "\n",
              "    .dataframe thead th {\n",
              "        text-align: right;\n",
              "    }\n",
              "</style>\n",
              "<table border=\"1\" class=\"dataframe\">\n",
              "  <thead>\n",
              "    <tr style=\"text-align: right;\">\n",
              "      <th></th>\n",
              "      <th>question</th>\n",
              "      <th>text</th>\n",
              "      <th>answer</th>\n",
              "      <th>answer_start</th>\n",
              "      <th>answer_end</th>\n",
              "      <th>origin_text</th>\n",
              "      <th>origin_answer_start</th>\n",
              "      <th>origin_answer_end</th>\n",
              "      <th>len text</th>\n",
              "      <th>id</th>\n",
              "    </tr>\n",
              "  </thead>\n",
              "  <tbody>\n",
              "  </tbody>\n",
              "</table>\n",
              "</div>"
            ],
            "text/plain": [
              "Empty DataFrame\n",
              "Columns: [question, text, answer, answer_start, answer_end, origin_text, origin_answer_start, origin_answer_end, len text, id]\n",
              "Index: []"
            ]
          },
          "metadata": {
            "tags": []
          },
          "execution_count": 3
        }
      ]
    },
    {
      "cell_type": "code",
      "metadata": {
        "id": "skTdDeA19iuh"
      },
      "source": [
        "# wandb.init(project=\"ci\", config={\n",
        "#     \"learning_rate\": 0.0001,\n",
        "#     \"architecture\": \"T5\",\n",
        "#     'model': 't5-base',\n",
        "#     \"dataset\": \"Coleridge Initiative \",\n",
        "#     'tex_max_len': 396,\n",
        "#     'asw_max_len': 44,\n",
        "#     'batch_size' : BATCH_SIZE,\n",
        "#     'epoch':N_EPOCHS\n",
        "# })\n",
        "# config = wandb.config\n",
        "\n",
        "BATCH = 6\n",
        "EPOCHS =1\n",
        "\n",
        "config={\n",
        "    \"learning_rate\": 0.0001,\n",
        "    \"architecture\": \"T5\",\n",
        "    'model': 't5-base',\n",
        "    \"dataset\": \"Coleridge Initiative \",\n",
        "    'tex_max_len': 396,\n",
        "    'asw_max_len': 44,\n",
        "    'batch_size' : BATCH,\n",
        "    'epoch':EPOCHS,\n",
        "    'device': 'cuda'\n",
        "}"
      ],
      "execution_count": null,
      "outputs": []
    },
    {
      "cell_type": "code",
      "metadata": {
        "id": "Ceo8GpbU_Uuo"
      },
      "source": [
        "class CI_Dataset(Dataset):\n",
        "    def __init__(\n",
        "        self,\n",
        "        data: pd.DataFrame,\n",
        "        tokenizer: token,\n",
        "        config\n",
        "    ):\n",
        "\n",
        "        self.tokenizer = tokenizer\n",
        "        self.data = data\n",
        "        self.tex_max_len = config['tex_max_len']\n",
        "        self.asw_max_len = config['asw_max_len']\n",
        "\n",
        "    def __len__(self):\n",
        "        return len(self.data)\n",
        "\n",
        "    def __getitem__(self, index:int):\n",
        "        txt = self.data.iloc[index]\n",
        "\n",
        "        encode_txt = token(\n",
        "            txt['question'],\n",
        "            txt['text'],\n",
        "            max_length = self.tex_max_len, \n",
        "            padding= 'max_length',\n",
        "            truncation = 'only_second',\n",
        "            return_attention_mask = True,\n",
        "            add_special_tokens =True,\n",
        "            return_tensors = 'pt'\n",
        "            )\n",
        "        \n",
        "        encode_asw = token( \n",
        "            txt['answer'],\n",
        "            max_length = self.asw_max_len,\n",
        "            padding= 'max_length',\n",
        "            truncation = True,\n",
        "            return_attention_mask = True,\n",
        "            add_special_tokens =True,\n",
        "            return_tensors = 'pt'\n",
        "            )\n",
        "        labels = encode_asw['input_ids']\n",
        "        labels[labels == 0] = -100\n",
        "\n",
        "        return dict(\n",
        "            question=txt['question'],\n",
        "            text=txt['text'],\n",
        "            answer=txt['answer'],\n",
        "            input_ids=encode_txt['input_ids'].flatten(),\n",
        "            attention_mask=encode_txt['attention_mask'].flatten(),\n",
        "            labels = labels.flatten()\n",
        "            )\n",
        "        \n",
        "class CI(nn.Module):\n",
        "\n",
        "    def __init__(self, config):\n",
        "        super().__init__()\n",
        "        self.config = config\n",
        "        self.model = T5ForConditionalGeneration.from_pretrained(config['model'], return_dict = True)\n",
        "\n",
        "    def forward(self, input_ids, attention_mask, labels):\n",
        "        out = self.model(input_ids = input_ids,\n",
        "                    attention_mask = attention_mask,\n",
        "                    labels = labels\n",
        "                    )\n",
        "        return out.loss, out.logits"
      ],
      "execution_count": null,
      "outputs": []
    },
    {
      "cell_type": "code",
      "metadata": {
        "colab": {
          "base_uri": "https://localhost:8080/",
          "height": 220,
          "referenced_widgets": [
            "ce282c861eb444c189419062ed4136b7",
            "eb113924dee24491b73e444c776fd422",
            "bb369cd7779a41339d68a68c4b14b699",
            "d6cf44c2adf047f1a83b0caced8910e9",
            "7047e3e197194c6db9decaf2ce6e4b81",
            "bc79f058d2e94d41a90568b861aed1bf",
            "49d9a817b97b4b68800180d1a540be5f",
            "efda79932e654f1cb036b15d2df3dbab",
            "3ca7caa70e484a05a9e7a2e1947c4029",
            "c51080eae02e43c1982ed422d53d9992",
            "682ff873601e4086bdc0a8a077c485d0",
            "d4198d9fea7442b7b858b98cda05f388",
            "559cb645b1124621be22da727a262aad",
            "0d2bf17269744a36933a2d9a2503904d",
            "e07a2064ebe044fdbaad3d37122c60fe",
            "9782fd6085614048b1375fad6957b932"
          ]
        },
        "id": "mBb9cgbwAC76",
        "outputId": "f74e4aff-eb5b-451b-8499-ee75b28056bb"
      },
      "source": [
        "MODEL = config['model']\n",
        "token = token.from_pretrained(MODEL)\n",
        "exampe_dataset = CI_Dataset(df, token, config)\n",
        "\n",
        "for data in exampe_dataset:\n",
        "    print(data['question'])\n",
        "    print(data['text'])\n",
        "    print(data['answer'])\n",
        "\n",
        "    print(data['input_ids'][:10])\n",
        "    print(data['attention_mask'][:10])    \n",
        "    break"
      ],
      "execution_count": null,
      "outputs": [
        {
          "output_type": "display_data",
          "data": {
            "application/vnd.jupyter.widget-view+json": {
              "model_id": "ce282c861eb444c189419062ed4136b7",
              "version_minor": 0,
              "version_major": 2
            },
            "text/plain": [
              "HBox(children=(FloatProgress(value=0.0, description='Downloading', max=791656.0, style=ProgressStyle(descripti…"
            ]
          },
          "metadata": {
            "tags": []
          }
        },
        {
          "output_type": "stream",
          "text": [
            "\n"
          ],
          "name": "stdout"
        },
        {
          "output_type": "display_data",
          "data": {
            "application/vnd.jupyter.widget-view+json": {
              "model_id": "3ca7caa70e484a05a9e7a2e1947c4029",
              "version_minor": 0,
              "version_major": 2
            },
            "text/plain": [
              "HBox(children=(FloatProgress(value=0.0, description='Downloading', max=1389353.0, style=ProgressStyle(descript…"
            ]
          },
          "metadata": {
            "tags": []
          }
        },
        {
          "output_type": "stream",
          "text": [
            "\n",
            "the impact of evaluation use on accounting programs performance an exploratory study\n",
            "the quality of educational programs has been an object of debate and research around the world initiatives such as the program for international student assessment pisa and the trends in international mathematics and science study timss show that international organizations such as the organization for economic co operation and development oecd and the international association for the evaluation of educational achievement iea are trying to verify whether schools are adequately preparing their students by comparing their performances aiming to highlight the strengths and weaknesses among the educational systems of different countries higher education has also been the object of quality evaluations around the world ursin huusko aittola kiviniemi muhonen van kemenade pupius hardjono governmental and non governmental organizations have developed ways to certify institutional quality through evaluation or accreditation processes examples of these organizations include the european association for quality assurance in higher education enqa the quality assurance agency for higher education qaa the association to advance collegiate schools of business aacsb and the national institute of educational studies and research an sio teixeira inep many higher education institutions are applying for an iso certificate as a way to assure their quality lundquist ursin et al van kemenade et al but the most popular way to obtain evidence of quality in higher education programs is through external evaluation van kemenade et al external program evaluations are implemented with the goal of producing information that helps to better comprehend how activities processes and outcomes are contributing to the attainment of an organization s primary objectives therefore if properly used evaluations can potentially serve as an information system that can help educational institutions achieve their goals and correct possible deviations in their operations additionally according to the utilization focused evaluation literature educational programs could benefit from the evaluation report utilization because the ultimate purpose of evaluation is to improve programs and increase the quality of decisions made patton p the definition of evaluation use has been widely discussed in utilization focused evaluation theory among the many concepts of evaluation use that of cousins and leithwood perfectly fits the purpose of the present study this concept states that the mere psychological processing of evaluation results constitutes use without necessarily informing decisions dictating actions or changing thinking cousins leithwood p in an attempt to better distinguish the evaluation uses presented in the literature leviton and hughes summarized the categories for the most frequent uses described at that time and classified them into the current and broadly known types of use which include conceptual use instrumental use and persuasive use this nomenclature is generally accepted when describing the uses of evaluation findings alkin taut preskill caracelli the conceptual type of use also known as enlightenment braskamp owen lambert refers to improving the understanding of program aspects such as its participants its context or its outcomes through the evaluation the conceptual use is also related to developing new views of the program and identifying problems alkin braskamp henry mark the instrumental use perhaps the earliest type of use examined in the literature johnson p is related to the\n",
            "trends in international mathematics and science study\n",
            "tensor([   8, 1113,   13, 5002,  169,   30, 7625, 1356,  821,   46])\n",
            "tensor([1, 1, 1, 1, 1, 1, 1, 1, 1, 1])\n"
          ],
          "name": "stdout"
        }
      ]
    },
    {
      "cell_type": "code",
      "metadata": {
        "id": "vBOxEAxLYnOn"
      },
      "source": [
        "def jaccard(str1, str2): \n",
        "    a = set(str1.lower().split()) \n",
        "    b = set(str2.lower().split())\n",
        "    c = a.intersection(b)\n",
        "    return float(len(c)) / (len(a) + len(b) - len(c))\n",
        "\n",
        "# def loss_func(pred, target):\n",
        "#     tmp = []\n",
        "#     token = token.from_pretrained(MODEL)\n",
        "#     for i in range(len(t)):\n",
        "        \n",
        "#         tt = np.where(t[i] != -100, t[i], 0)\n",
        "#         decode = token.decode(tt, skip_special_tokens=True, clean_up_tokenization_spaces=True)          \n",
        "#         tmp.append(jaccard(''.join(decode), target))\n",
        "#     return tmp\n",
        "\n",
        "def loss_func(pred, target, config):\n",
        "    tmp = []\n",
        "    MODEL = config['model']\n",
        "    tokenizer = token.from_pretrained(MODEL)\n",
        "    for i in range(len(pred)):\n",
        "        out_decode = tokenizer.decode(np.argmax(pred[i], axis = 1),\n",
        "                                  skip_special_tokens=True, \n",
        "                                  clean_up_tokenization_spaces=True)       \n",
        "        tmp.append(jaccard(''.join(out_decode), target[i]))\n",
        "    return tmp\n",
        "\n",
        "\n",
        "def train(model, data_loader, optimizer, config, scheduler = None):\n",
        "    model.train()\n",
        "    for _, txt in enumerate(data_loader):        \n",
        "        input_ids=txt['input_ids'].to(config['device'])\n",
        "        mask=txt['attention_mask'].to(config['device'])\n",
        "        labels = txt['labels'].to(config['device'])\n",
        "        optimizer.zero_grad()\n",
        "        loss, out = model(input_ids, mask, labels)\n",
        "        loss.backward()\n",
        "        if scheduler is not None:\n",
        "            scheduler.step()\n",
        "\n",
        "def valid(model, data_loader,config):\n",
        "    model.eval()\n",
        "    losses = []\n",
        "    asw = []\n",
        "    loss_2 = []\n",
        "    outs = []\n",
        "    for _, txt in enumerate(data_loader):\n",
        "        input_ids=txt['input_ids'].to(config['device'])\n",
        "        mask=txt['attention_mask'].to(config['device'])\n",
        "        labels = txt['labels'].to(config['device']) \n",
        "        answer=txt['answer']\n",
        "\n",
        "        loss, out = model(input_ids, mask, labels)\n",
        "        out = out.cpu().detach().numpy()\n",
        "        loss2 = loss_func(out, answer, config)\n",
        "        losses.append(loss.cpu().detach().numpy())\n",
        "        loss_2.append(loss2)\n",
        "        asw.append(answer)\n",
        "        outs.append(out)\n",
        "\n",
        "    return np.vstack(losses), np.vstack(asw), np.vstack(loss_2), np.vstack(outs)\n",
        "\n",
        "\n",
        "def run(config):\n",
        "    MODEL = config['model']\n",
        "\n",
        "    df = pd.read_csv('/content/drive/MyDrive/Coleridge_Initiative/input/v6_data_qa.csv')\n",
        "    df_small = df.drop_duplicates(subset=['question']).reset_index(drop=True)\n",
        "    train_df, val_df = train_test_split(df_small.head(100), random_state = 13, test_size = 0.1)\n",
        "    tr = train_df.reset_index(drop=True)\n",
        "    vl = val_df.reset_index(drop=True)\n",
        "\n",
        "    tokenizer = token.from_pretrained(MODEL)\n",
        "\n",
        "    tr_dataset = CI_Dataset(tr,tokenizer,config)\n",
        "    vl_dataset = CI_Dataset(vl,tokenizer,config)\n",
        "\n",
        "    tr_loader = DataLoader(tr_dataset, batch_size = config['batch_size'], shuffle = True, num_workers = 4)\n",
        "    vl_loader = DataLoader(vl_dataset, batch_size = 1, num_workers = 4)\n",
        "\n",
        "    model = CI(config).to(config['device'])\n",
        "    optimizer = AdamW(model.parameters(), lr = config['learning_rate'])\n",
        "    bar =  tqdm(range(config['epoch']))\n",
        "    for e in bar:\n",
        "          \n",
        "        train(model, tr_loader, optimizer, config)\n",
        "        l, t, j, o = valid(model, vl_loader, config)\n",
        "        print('Loss:', np.mean(l))\n",
        "        bar.set_description(f'Jaccard Loss: {np.mean(j)}, Epoch: {e +1}')\n",
        "\n",
        "    # https://pytorch.org/tutorials/beginner/saving_loading_models.html\n",
        "    torch.save(model.state_dict(), '/content/drive/MyDrive/Coleridge_Initiative/model/model_check_predict.pth')\n",
        "    torch.cuda.empty_cache()    \n",
        "    return l,t, j, o"
      ],
      "execution_count": null,
      "outputs": []
    },
    {
      "cell_type": "code",
      "metadata": {
        "id": "4ImU0XzvpHVU",
        "colab": {
          "base_uri": "https://localhost:8080/",
          "height": 203,
          "referenced_widgets": [
            "08f0973a069f4942aa10e1d4187f9136",
            "34e2a6358f854a25a808b6597d812709",
            "6cc48581ec7c4635852fc19b47a144ab",
            "c216f37aa82c430f8505faf12facbb12",
            "128f76c792f1455d8b8197e64b4cb529",
            "46cabc6350824de688ba74ca0d0ecf19",
            "9613b15132e44c5da7711cac412b7c64",
            "31d59efcc0d14125b4bdc1e79d322ef6",
            "7f41be6946b44ae9ae5d104c467bf343",
            "820cb49c076644d7aa6ae4e84dd8d161",
            "84c717f360984afbad5b91d0864b9a62",
            "2e3a5429bdf044ccb230acbb3f2ca208",
            "c35474645ba74aca8da2ada28624fb45",
            "b813b3c38c0b4b9290e2aebd131d2caa",
            "14ca17edfa5d44c2a0bbeedc0e3acb63",
            "b23f51ad24e342309374751d09afd5f2"
          ]
        },
        "outputId": "63234252-aeb6-4719-d137-5af516ec4168"
      },
      "source": [
        "l, t, j, o = run(config)"
      ],
      "execution_count": null,
      "outputs": [
        {
          "output_type": "stream",
          "text": [
            "/usr/local/lib/python3.7/dist-packages/torch/utils/data/dataloader.py:477: UserWarning: This DataLoader will create 4 worker processes in total. Our suggested max number of worker in current system is 2, which is smaller than what this DataLoader is going to create. Please be aware that excessive worker creation might get DataLoader running slow or even freeze, lower the worker number to avoid potential slowness/freeze if necessary.\n",
            "  cpuset_checked))\n"
          ],
          "name": "stderr"
        },
        {
          "output_type": "display_data",
          "data": {
            "application/vnd.jupyter.widget-view+json": {
              "model_id": "08f0973a069f4942aa10e1d4187f9136",
              "version_minor": 0,
              "version_major": 2
            },
            "text/plain": [
              "HBox(children=(FloatProgress(value=0.0, description='Downloading', max=1199.0, style=ProgressStyle(description…"
            ]
          },
          "metadata": {
            "tags": []
          }
        },
        {
          "output_type": "stream",
          "text": [
            "\n"
          ],
          "name": "stdout"
        },
        {
          "output_type": "display_data",
          "data": {
            "application/vnd.jupyter.widget-view+json": {
              "model_id": "7f41be6946b44ae9ae5d104c467bf343",
              "version_minor": 0,
              "version_major": 2
            },
            "text/plain": [
              "HBox(children=(FloatProgress(value=0.0, description='Downloading', max=891691430.0, style=ProgressStyle(descri…"
            ]
          },
          "metadata": {
            "tags": []
          }
        },
        {
          "output_type": "stream",
          "text": [
            "\n"
          ],
          "name": "stdout"
        },
        {
          "output_type": "stream",
          "text": [
            "Jaccard Loss: 0.42023809523809524, Epoch: 1: 100%|██████████| 1/1 [00:34<00:00, 34.17s/it]"
          ],
          "name": "stderr"
        },
        {
          "output_type": "stream",
          "text": [
            "Loss: 6.3800325\n"
          ],
          "name": "stdout"
        },
        {
          "output_type": "stream",
          "text": [
            "\n"
          ],
          "name": "stderr"
        }
      ]
    },
    {
      "cell_type": "code",
      "metadata": {
        "id": "cIL1582tLxLk"
      },
      "source": [
        ""
      ],
      "execution_count": null,
      "outputs": []
    },
    {
      "cell_type": "markdown",
      "metadata": {
        "id": "a_69NQjEVG4Q"
      },
      "source": [
        "## Submit"
      ]
    },
    {
      "cell_type": "code",
      "metadata": {
        "id": "3ttWkjYCV7Yw"
      },
      "source": [
        "train = pd.read_csv('/content/drive/MyDrive/Coleridge_Initiative/input/train.csv')\n",
        "submission_df = pd.read_csv('/content/drive/MyDrive/Coleridge_Initiative/input/sample_submission.csv', index_col=0)\n",
        "df_test_head = pd.read_csv('/content/drive/MyDrive/Coleridge_Initiative/input/df_test_publications.csv')\n",
        "datasets_titles = [x.lower() for x in set(train['dataset_title'].unique()).union(set(train['dataset_label'].unique()))]\n"
      ],
      "execution_count": null,
      "outputs": []
    },
    {
      "cell_type": "code",
      "metadata": {
        "id": "ls3dG8NYF2Wu"
      },
      "source": [
        "def clean_text(txt):\n",
        "    return re.sub('[^A-Za-z0-9]+', ' ', str(txt).lower()).strip()\n",
        "\n",
        "def make_interval(start:int, txt:str, interval: int)->str:\n",
        "    \"\"\"\n",
        "    start: int return re.search() count latter\n",
        "    txt: str text\n",
        "    interval: int len text \n",
        "\n",
        "    return: str text\n",
        "    \"\"\"\n",
        "    words = txt.split()\n",
        "    len_interval = interval * 2\n",
        "    start = len(txt[:start].split())    \n",
        "    if (start - interval) > 0:\n",
        "        start = start - interval\n",
        "        if start + len_interval < len(words):\n",
        "            words = words[start: start + len_interval]\n",
        "        else:              \n",
        "            words = words[start: len(words)]\n",
        "    else:      \n",
        "        words = words[0: len_interval]\n",
        "    return ' '.join(words)\n",
        "\n",
        "\n",
        "def make_pred(question:str, pre_model, tokenizer)->str:\n",
        "    encode_test = tokenizer(question['question'],\n",
        "                        question['text'],    \n",
        "                        max_length = 396, \n",
        "                        padding= 'max_length',\n",
        "                        truncation = 'only_second',\n",
        "                        return_attention_mask = True,\n",
        "                        add_special_tokens =True,\n",
        "                        return_tensors = 'pt'\n",
        "                        )\n",
        "    gen_ids = pre_model.model.generate(\n",
        "        input_ids = encode_test['input_ids'],\n",
        "        attention_mask = encode_test['attention_mask'],\n",
        "        num_beams = 5,\n",
        "        no_repeat_ngram_size = 1,\n",
        "        # Если установлено значение int> 0, все нграммы этого размера могут встречаться только один раз.\n",
        "              \n",
        "        num_return_sequences = 1, \n",
        "        # количество независимо вычисленных возвращаемых  последовательностей для каждого элемента в пакете.\n",
        "    \n",
        "        do_sample=True,\n",
        "        # использовать ли выборку; в противном случае используйте жадное декодирование.        \n",
        "        top_k=0,\n",
        "        # Количество лексем словаря с наивысшей вероятностью, которое нужно сохранить для фильтрации top-k        \n",
        "\n",
        "#         temperature=0.7,  \n",
        "        # Значение, используемое для модуля вероятностей следующего токена.\n",
        "        top_p=0.92,       \n",
        "        max_length = 8,\n",
        "        # максимальная длина генерируемой последовательности.\n",
        "        repetition_penalty = 2.5,\n",
        "        # Параметр штрафа за повторение. 1.0 означает отсутствие штрафа    \n",
        "        length_penalty =0.5,\n",
        "        \n",
        "#         означает отсутствие штрафа. Установите значения <1.0, чтобы стимулировать модель\n",
        "#         генерировать более короткие последовательности, на значение> 1.0, \n",
        "#         чтобы стимулировать модель к созданию более длинных последовательностей.\n",
        "               \n",
        "        early_stopping = True,\n",
        "        use_cache = True\n",
        "\n",
        "        \n",
        "    )\n",
        "\n",
        "\n",
        "    decode = [\n",
        "              tokenizer.decode(ids, skip_special_tokens=True, clean_up_tokenization_spaces=True)\n",
        "              for ids in gen_ids\n",
        "              ]\n",
        "    return ' '.join(decode)\n",
        "\n",
        "df_test_head = pd.read_csv('../input/model-ci/df_test_publications.csv')\n",
        "datasets_titles = [x.lower() for x in set(train['dataset_title'].unique()).union(set(train['dataset_label'].unique()))]"
      ],
      "execution_count": null,
      "outputs": []
    },
    {
      "cell_type": "code",
      "metadata": {
        "id": "46XZAvojYnIV"
      },
      "source": [
        "model = CI(config)\n",
        "model.load_state_dict(torch.load('/content/drive/MyDrive/Coleridge_Initiative/model/model_check_predict.pth'))\n",
        "model.eval()\n",
        "\n",
        "labels = []\n",
        "MODEL = config['model']\n",
        "tokenizer = token.from_pretrained('../input/model-ci/token')\n",
        "for index in submission_df.index:\n",
        "    publication_text = df_test_head[df_test_head['pub_id'] == index].text.str.cat(sep='\\n').lower()\n",
        "    label = []\n",
        "    for dataset_title in datasets_titles:\n",
        "        dt =clean_text(dataset_title)\n",
        "        pt = clean_text(publication_text)\n",
        "\n",
        "        if dt in pt:\n",
        "            start = re.search(r'\\b%s\\b' % dt, pt).start()\n",
        "            txt = make_interval(start, pt, 396)\n",
        "            \n",
        "            data = {'question':dt,\n",
        "                    'text': txt,\n",
        "                    }            \n",
        "            y_ = make_pred(data, model, tokenizer)\n",
        "            y_ = clean_text(y_)\n",
        "        \n",
        "#             if y_.split()[:3] not in label:\n",
        "            label.append(y_)\n",
        "\n",
        "    labels.append('|'.join(label))\n",
        "\n",
        "submission_df['PredictionString'] = labels\n",
        "submission_df.to_csv('submission.csv')\n",
        "submission_df"
      ],
      "execution_count": null,
      "outputs": []
    },
    {
      "cell_type": "code",
      "metadata": {
        "id": "ZCWVDSk3DyTO"
      },
      "source": [
        ""
      ],
      "execution_count": null,
      "outputs": []
    },
    {
      "cell_type": "code",
      "metadata": {
        "id": "SL2SrUxxj7sA"
      },
      "source": [
        ""
      ],
      "execution_count": null,
      "outputs": []
    },
    {
      "cell_type": "code",
      "metadata": {
        "id": "TeLIxAghj7pE"
      },
      "source": [
        ""
      ],
      "execution_count": null,
      "outputs": []
    }
  ]
}