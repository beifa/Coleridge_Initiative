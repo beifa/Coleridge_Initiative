{
  "nbformat": 4,
  "nbformat_minor": 0,
  "metadata": {
    "colab": {
      "name": "preprocessing_data.ipynb",
      "provenance": [],
      "collapsed_sections": []
    },
    "kernelspec": {
      "name": "python3",
      "display_name": "Python 3"
    },
    "language_info": {
      "name": "python"
    }
  },
  "cells": [
    {
      "cell_type": "code",
      "metadata": {
        "id": "BKHpdSN0LWHh"
      },
      "source": [
        "import json\n",
        "import pandas as pd\n",
        "import numpy as np\n",
        "import os, glob,re\n",
        "\n",
        "from pathlib import Path\n",
        "from tqdm import tqdm\n",
        "import matplotlib.pyplot as plt\n",
        "\n",
        "from IPython.core.display import HTML\n",
        "\n",
        "import torch\n",
        "DEBUG = None\n",
        "PATH = '/content/drive/MyDrive/Coleridge_Initiative/input'"
      ],
      "execution_count": 1,
      "outputs": []
    },
    {
      "cell_type": "markdown",
      "metadata": {
        "id": "ecbjzv7QXu3a"
      },
      "source": [
        "## Ideas and research"
      ]
    },
    {
      "cell_type": "markdown",
      "metadata": {
        "id": "n7Ocsw97SqxM"
      },
      "source": [
        "for BERT not useble very length text, base model 512 tokens"
      ]
    },
    {
      "cell_type": "code",
      "metadata": {
        "colab": {
          "base_uri": "https://localhost:8080/"
        },
        "id": "7ZQhC8w4OPOx",
        "outputId": "1199250a-3408-4c73-d54d-03b92c2ff163"
      },
      "source": [
        "print(df1.text.apply(lambda x: len(x.split())).describe())\n",
        "print()\n",
        "print('All length text in json: ', len(df1.text.str.cat(sep = '\\n').split()))"
      ],
      "execution_count": null,
      "outputs": [
        {
          "output_type": "stream",
          "text": [
            "count     18.000000\n",
            "mean      98.000000\n",
            "std       95.736157\n",
            "min       10.000000\n",
            "25%       27.750000\n",
            "50%       41.500000\n",
            "75%      165.000000\n",
            "max      298.000000\n",
            "Name: text, dtype: float64\n",
            "\n",
            "All length text in json:  1764\n"
          ],
          "name": "stdout"
        }
      ]
    },
    {
      "cell_type": "markdown",
      "metadata": {
        "id": "xCv0xz1aphp5"
      },
      "source": [
        "Nice len in d0fa7568-7d8e-4db9-870f-f9c6f668c17b\n",
        "\n",
        "min = 10 and max 298 by title, and we check all len(all text) is eq = 1764\n",
        "\n",
        "\n",
        "Okay lets see all json length param"
      ]
    },
    {
      "cell_type": "code",
      "metadata": {
        "id": "u7OhV79nurud",
        "colab": {
          "base_uri": "https://localhost:8080/",
          "height": 221
        },
        "outputId": "3e347ea6-2057-4b85-da73-d7f86c086937"
      },
      "source": [
        "def see_length(file: Path):\n",
        "    # make conf interval for length\n",
        "    tmp_df = pd.read_json(file)\n",
        "    tmp_stat = tmp_df.text.apply(lambda x: len(x.split())).describe().to_dict()\n",
        "    len_text = len(tmp_df.text.str.cat(sep = '\\n').split())\n",
        "    id = file.stem\n",
        "    return {\n",
        "        'id':id,\n",
        "        'min': tmp_stat['min'],\n",
        "        'mean': tmp_stat['mean'],\n",
        "        'max': tmp_stat['max'],\n",
        "        'len_txt': len_text\n",
        "        }\n",
        "\n",
        "list_train_json = list(Path(PATH).glob('train/*.json'))\n",
        "\n",
        "tmp = []\n",
        "# time by colab is 1h\n",
        "for file in tqdm(list_train_json):\n",
        "    tmp_dict = see_length(file)\n",
        "    tmp.append(\n",
        "        pd.DataFrame(tmp_dict,index=[0])\n",
        "        )\n",
        "length_df = pd.concat(tmp).reset_index(drop=True)\n",
        "length_df.head()"
      ],
      "execution_count": null,
      "outputs": [
        {
          "output_type": "stream",
          "text": [
            "100%|██████████| 14316/14316 [59:22<00:00,  4.02it/s]\n"
          ],
          "name": "stderr"
        },
        {
          "output_type": "execute_result",
          "data": {
            "text/html": [
              "<div>\n",
              "<style scoped>\n",
              "    .dataframe tbody tr th:only-of-type {\n",
              "        vertical-align: middle;\n",
              "    }\n",
              "\n",
              "    .dataframe tbody tr th {\n",
              "        vertical-align: top;\n",
              "    }\n",
              "\n",
              "    .dataframe thead th {\n",
              "        text-align: right;\n",
              "    }\n",
              "</style>\n",
              "<table border=\"1\" class=\"dataframe\">\n",
              "  <thead>\n",
              "    <tr style=\"text-align: right;\">\n",
              "      <th></th>\n",
              "      <th>index</th>\n",
              "      <th>id</th>\n",
              "      <th>min</th>\n",
              "      <th>mean</th>\n",
              "      <th>max</th>\n",
              "      <th>len_txt</th>\n",
              "    </tr>\n",
              "  </thead>\n",
              "  <tbody>\n",
              "    <tr>\n",
              "      <th>0</th>\n",
              "      <td>0</td>\n",
              "      <td>f0249680-2273-4b1a-8a0a-2e8bbf9ec11a</td>\n",
              "      <td>0.0</td>\n",
              "      <td>316.541667</td>\n",
              "      <td>1197.0</td>\n",
              "      <td>15194</td>\n",
              "    </tr>\n",
              "    <tr>\n",
              "      <th>1</th>\n",
              "      <td>0</td>\n",
              "      <td>ef4b7964-b7dc-4570-804e-74cc7b804c61</td>\n",
              "      <td>42.0</td>\n",
              "      <td>427.266667</td>\n",
              "      <td>985.0</td>\n",
              "      <td>6409</td>\n",
              "    </tr>\n",
              "    <tr>\n",
              "      <th>2</th>\n",
              "      <td>0</td>\n",
              "      <td>ec938f38-37e7-4a35-87bd-e59ffa02d52e</td>\n",
              "      <td>76.0</td>\n",
              "      <td>318.214286</td>\n",
              "      <td>532.0</td>\n",
              "      <td>4455</td>\n",
              "    </tr>\n",
              "    <tr>\n",
              "      <th>3</th>\n",
              "      <td>0</td>\n",
              "      <td>f042f6d8-c940-4cda-9b96-75cb95db4ef8</td>\n",
              "      <td>0.0</td>\n",
              "      <td>378.200000</td>\n",
              "      <td>705.0</td>\n",
              "      <td>3782</td>\n",
              "    </tr>\n",
              "    <tr>\n",
              "      <th>4</th>\n",
              "      <td>0</td>\n",
              "      <td>ed1a995e-63f9-4542-b515-bcaab0ed4295</td>\n",
              "      <td>0.0</td>\n",
              "      <td>380.789474</td>\n",
              "      <td>2738.0</td>\n",
              "      <td>7235</td>\n",
              "    </tr>\n",
              "  </tbody>\n",
              "</table>\n",
              "</div>"
            ],
            "text/plain": [
              "   index                                    id  ...     max  len_txt\n",
              "0      0  f0249680-2273-4b1a-8a0a-2e8bbf9ec11a  ...  1197.0    15194\n",
              "1      0  ef4b7964-b7dc-4570-804e-74cc7b804c61  ...   985.0     6409\n",
              "2      0  ec938f38-37e7-4a35-87bd-e59ffa02d52e  ...   532.0     4455\n",
              "3      0  f042f6d8-c940-4cda-9b96-75cb95db4ef8  ...   705.0     3782\n",
              "4      0  ed1a995e-63f9-4542-b515-bcaab0ed4295  ...  2738.0     7235\n",
              "\n",
              "[5 rows x 6 columns]"
            ]
          },
          "metadata": {
            "tags": []
          },
          "execution_count": 30
        }
      ]
    },
    {
      "cell_type": "code",
      "metadata": {
        "colab": {
          "base_uri": "https://localhost:8080/"
        },
        "id": "JLjcMk5_KB4I",
        "outputId": "873c6c5a-d506-4452-c9b6-94646a361848"
      },
      "source": [
        "length_df.mean(axis = 0)"
      ],
      "execution_count": null,
      "outputs": [
        {
          "output_type": "execute_result",
          "data": {
            "text/plain": [
              "index         0.000000\n",
              "min         553.132858\n",
              "mean        924.293620\n",
              "max        1864.406259\n",
              "len_txt    7049.041771\n",
              "dtype: float64"
            ]
          },
          "metadata": {
            "tags": []
          },
          "execution_count": 31
        }
      ]
    },
    {
      "cell_type": "code",
      "metadata": {
        "colab": {
          "base_uri": "https://localhost:8080/"
        },
        "id": "1TN6pkWTNHFE",
        "outputId": "3721c8e6-bb68-4b62-a07b-d2558ff33918"
      },
      "source": [
        "length_df['min'].value_counts().sort_values(ascending=False)"
      ],
      "execution_count": null,
      "outputs": [
        {
          "output_type": "execute_result",
          "data": {
            "text/plain": [
              "0.0         9052\n",
              "15.0          79\n",
              "26.0          77\n",
              "2.0           74\n",
              "1.0           70\n",
              "            ... \n",
              "328235.0       1\n",
              "564.0          1\n",
              "1356.0         1\n",
              "522.0          1\n",
              "1014.0         1\n",
              "Name: min, Length: 632, dtype: int64"
            ]
          },
          "metadata": {
            "tags": []
          },
          "execution_count": 32
        }
      ]
    },
    {
      "cell_type": "code",
      "metadata": {
        "colab": {
          "base_uri": "https://localhost:8080/"
        },
        "id": "oxeCLDLxR8_v",
        "outputId": "d4141b2a-b6f3-420a-d01e-91fe8213c95c"
      },
      "source": [
        "length_df[length_df['min'] < 100].mean(axis = 0)"
      ],
      "execution_count": null,
      "outputs": [
        {
          "output_type": "execute_result",
          "data": {
            "text/plain": [
              "index         0.000000\n",
              "min          10.655568\n",
              "mean        374.762448\n",
              "max        1352.718951\n",
              "len_txt    6855.988687\n",
              "dtype: float64"
            ]
          },
          "metadata": {
            "tags": []
          },
          "execution_count": 33
        }
      ]
    },
    {
      "cell_type": "markdown",
      "metadata": {
        "id": "MxpsvtiJE6gs"
      },
      "source": [
        "check where in lable have digits"
      ]
    },
    {
      "cell_type": "code",
      "metadata": {
        "id": "aTofPaUAiM7Z"
      },
      "source": [
        "def have_digit(txt: str) -> bool:\n",
        "    return any(char.isdigit() for char in txt)\n",
        "\n",
        "reusult = df.cleaned_label.apply(lambda x: have_digit(x))"
      ],
      "execution_count": null,
      "outputs": []
    },
    {
      "cell_type": "code",
      "metadata": {
        "id": "l-RXP6wF2Vxd",
        "colab": {
          "base_uri": "https://localhost:8080/"
        },
        "outputId": "23b5d180-3739-4867-dc50-5e4367375320"
      },
      "source": [
        "for i in df[reusult].cleaned_label.values:\n",
        "    if 'covid' not in i:\n",
        "        print(i)\n",
        "        break"
      ],
      "execution_count": null,
      "outputs": [
        {
          "output_type": "stream",
          "text": [
            "characterizing health associated risks and your baseline disease in sars cov 2 charybdis \n"
          ],
          "name": "stdout"
        }
      ]
    },
    {
      "cell_type": "code",
      "metadata": {
        "id": "EV5eEVLyK6bm",
        "colab": {
          "base_uri": "https://localhost:8080/"
        },
        "outputId": "4e9b8fd7-d862-4c5c-f2aa-ff500d0b0c25"
      },
      "source": [
        "pd.DataFrame(['cas covid 19 antiviral candidate compounds dataset',\n",
        "              'cas covid 19 antiviral candidate compounds dataset',\n",
        "              'cas cov antiviral candidate compounds dataset'\n",
        "])[0].str.contains('covid').sum()"
      ],
      "execution_count": null,
      "outputs": [
        {
          "output_type": "execute_result",
          "data": {
            "text/plain": [
              "2"
            ]
          },
          "metadata": {
            "tags": []
          },
          "execution_count": 192
        }
      ]
    },
    {
      "cell_type": "markdown",
      "metadata": {
        "id": "y5HWfMcyFDPR"
      },
      "source": [
        "find smalles label"
      ]
    },
    {
      "cell_type": "code",
      "metadata": {
        "id": "wqnort055BW4"
      },
      "source": [
        "def the_smallest(txt: str)->int:\n",
        "    tmp = list(len(x) for x in txt.split() if not x.isdigit())\n",
        "    return tmp[np.argmin(tmp)]"
      ],
      "execution_count": null,
      "outputs": []
    },
    {
      "cell_type": "code",
      "metadata": {
        "id": "Jg6OyD4a2V0c"
      },
      "source": [
        "df['the_smallest'] = df.cleaned_label.apply(lambda x: the_smallest(x))"
      ],
      "execution_count": null,
      "outputs": []
    },
    {
      "cell_type": "code",
      "metadata": {
        "colab": {
          "base_uri": "https://localhost:8080/",
          "height": 357
        },
        "id": "a55P0awN5BLM",
        "outputId": "0d17fc90-aa71-4bc3-df82-312722109909"
      },
      "source": [
        "df[df.the_smallest == 1].head()"
      ],
      "execution_count": null,
      "outputs": [
        {
          "output_type": "execute_result",
          "data": {
            "text/html": [
              "<div>\n",
              "<style scoped>\n",
              "    .dataframe tbody tr th:only-of-type {\n",
              "        vertical-align: middle;\n",
              "    }\n",
              "\n",
              "    .dataframe tbody tr th {\n",
              "        vertical-align: top;\n",
              "    }\n",
              "\n",
              "    .dataframe thead th {\n",
              "        text-align: right;\n",
              "    }\n",
              "</style>\n",
              "<table border=\"1\" class=\"dataframe\">\n",
              "  <thead>\n",
              "    <tr style=\"text-align: right;\">\n",
              "      <th></th>\n",
              "      <th>Id</th>\n",
              "      <th>pub_title</th>\n",
              "      <th>dataset_title</th>\n",
              "      <th>dataset_label</th>\n",
              "      <th>cleaned_label</th>\n",
              "      <th>the_smallest</th>\n",
              "    </tr>\n",
              "  </thead>\n",
              "  <tbody>\n",
              "    <tr>\n",
              "      <th>412</th>\n",
              "      <td>237b2194-9c15-4e33-b9b7-e9a0ab37f499</td>\n",
              "      <td>A Process Oriented Areal Interpolation Techniq...</td>\n",
              "      <td>Coastal Change Analysis Program</td>\n",
              "      <td>NOAA C-CAP</td>\n",
              "      <td>noaa c cap</td>\n",
              "      <td>1</td>\n",
              "    </tr>\n",
              "    <tr>\n",
              "      <th>413</th>\n",
              "      <td>c210f9ed-b69e-4bd6-aa60-d94de4efe7e1</td>\n",
              "      <td>Voluntary Restoration: Mitigation's Silent Par...</td>\n",
              "      <td>Coastal Change Analysis Program</td>\n",
              "      <td>NOAA C-CAP</td>\n",
              "      <td>noaa c cap</td>\n",
              "      <td>1</td>\n",
              "    </tr>\n",
              "    <tr>\n",
              "      <th>414</th>\n",
              "      <td>a9f6ce1b-829b-4fdf-9c0c-cb04261e21ad</td>\n",
              "      <td>The Multi-Resolution Land Characteristics (MRL...</td>\n",
              "      <td>Coastal Change Analysis Program</td>\n",
              "      <td>NOAA C-CAP</td>\n",
              "      <td>noaa c cap</td>\n",
              "      <td>1</td>\n",
              "    </tr>\n",
              "    <tr>\n",
              "      <th>415</th>\n",
              "      <td>bf02931b-7872-4c63-9837-51479e37b5d3</td>\n",
              "      <td>Evaluation of Airborne Lidar Elevation Surface...</td>\n",
              "      <td>Coastal Change Analysis Program</td>\n",
              "      <td>NOAA C-CAP</td>\n",
              "      <td>noaa c cap</td>\n",
              "      <td>1</td>\n",
              "    </tr>\n",
              "    <tr>\n",
              "      <th>416</th>\n",
              "      <td>aac0d000-4569-41fe-b071-118d93d6068a</td>\n",
              "      <td>Change in Land Cover along the Lower Columbia ...</td>\n",
              "      <td>Coastal Change Analysis Program</td>\n",
              "      <td>NOAA C-CAP</td>\n",
              "      <td>noaa c cap</td>\n",
              "      <td>1</td>\n",
              "    </tr>\n",
              "  </tbody>\n",
              "</table>\n",
              "</div>"
            ],
            "text/plain": [
              "                                       Id  ... the_smallest\n",
              "412  237b2194-9c15-4e33-b9b7-e9a0ab37f499  ...            1\n",
              "413  c210f9ed-b69e-4bd6-aa60-d94de4efe7e1  ...            1\n",
              "414  a9f6ce1b-829b-4fdf-9c0c-cb04261e21ad  ...            1\n",
              "415  bf02931b-7872-4c63-9837-51479e37b5d3  ...            1\n",
              "416  aac0d000-4569-41fe-b071-118d93d6068a  ...            1\n",
              "\n",
              "[5 rows x 6 columns]"
            ]
          },
          "metadata": {
            "tags": []
          },
          "execution_count": 206
        }
      ]
    },
    {
      "cell_type": "code",
      "metadata": {
        "id": "AD3B-k2A5BGm"
      },
      "source": [
        "def the_smallest_txt_label(txt: str)->int:\n",
        "    for x in txt.split():\n",
        "        if (not x.isdigit()) and (len(txt.split()) == 1):\n",
        "            return len(x)\n",
        "\n",
        "df['len_label'] =df.cleaned_label.apply(lambda x: the_smallest_txt_label(x))"
      ],
      "execution_count": null,
      "outputs": []
    },
    {
      "cell_type": "code",
      "metadata": {
        "colab": {
          "base_uri": "https://localhost:8080/"
        },
        "id": "65yX_Oxt5BEP",
        "outputId": "d038a15a-7246-40e6-ae1e-5ae2fc462518"
      },
      "source": [
        "df['len_label'].value_counts()"
      ],
      "execution_count": null,
      "outputs": [
        {
          "output_type": "execute_result",
          "data": {
            "text/plain": [
              "4.0    3673\n",
              "7.0     280\n",
              "5.0       2\n",
              "Name: len_label, dtype: int64"
            ]
          },
          "metadata": {
            "tags": []
          },
          "execution_count": 209
        }
      ]
    },
    {
      "cell_type": "markdown",
      "metadata": {
        "id": "t2ASPni8EnEm"
      },
      "source": [
        "delete in title CHAPTER|Page|Figure"
      ]
    },
    {
      "cell_type": "code",
      "metadata": {
        "id": "iPq_GwAFPjkS",
        "colab": {
          "base_uri": "https://localhost:8080/",
          "height": 35
        },
        "outputId": "5bd0720f-18ff-4b64-e033-543c6365ea77"
      },
      "source": [
        "a = 'LITERATURE REVIEW Page adakdkah Figure'\n",
        "re.sub(r'(\\bCHAPTER|Page|Figure\\b)', ' ', a)"
      ],
      "execution_count": null,
      "outputs": [
        {
          "output_type": "execute_result",
          "data": {
            "application/vnd.google.colaboratory.intrinsic+json": {
              "type": "string"
            },
            "text/plain": [
              "'LITERATURE REVIEW   adakdkah  '"
            ]
          },
          "metadata": {
            "tags": []
          },
          "execution_count": 211
        }
      ]
    },
    {
      "cell_type": "markdown",
      "metadata": {
        "id": "_0CYnUudEtAc"
      },
      "source": [
        "## Preprocessing"
      ]
    },
    {
      "cell_type": "code",
      "metadata": {
        "id": "hnxExmKAPjYr"
      },
      "source": [
        "def clean_text(txt: str)-> str:\n",
        "    return re.sub('[^A-Za-z]+', ' ', str(txt).lower()).strip()\n",
        "\n",
        "def clean_text_add_digit(txt):\n",
        "    return re.sub('[^A-Za-z0-9]+', ' ', str(txt).lower())\n",
        "\n",
        "def len_title(txt: str)->str:\n",
        "    \"\"\"\n",
        "    String is p p p Result:  nan\n",
        "    String is Andi Result:  Andi\n",
        "    String is pr Result:  nan\n",
        "    String is aa aa aa Result:  nan\n",
        "    String is cas cov Result:  nan\n",
        "    String is cas c Result:  nan\n",
        "    String is c a s c o v as Result:  nan\n",
        "    String is a 0 gv) Result:  nan\n",
        "    String is ft Result:  nan\n",
        "    String is All all Result:  nan\n",
        "    String is Alaa 2 Result:  Alaa 2\n",
        "    String is A Aa2a Result:  A Aa2a\n",
        "    String is cas Result:  nan\n",
        "    String is covantiviral Result:  covantiviral\n",
        "    String is candidate compounds dataset Result:  candidate compounds dataset\n",
        "\n",
        "    if one word len >= 4 return word\n",
        "    else \n",
        "        if less and one of words >= 4 words\n",
        "    else nan\n",
        "    \n",
        "    \"\"\"\n",
        "    if txt == 'nan' or txt == ' ' or txt == '':        \n",
        "        return txt  \n",
        "\n",
        "    txt = txt.split()\n",
        "\n",
        "    # len('Andi'.split()) == 1\n",
        "    if (len(txt) == 1) and (len(txt[0])>= 4):\n",
        "        # one word\n",
        "        txt = txt[0]\n",
        "    else:\n",
        "        len_each_word = list(len(i) for i in txt)\n",
        "        # print(len_each_word, txt)\n",
        "        max_len_txt = txt[np.argmax(len_each_word)]\n",
        "        if len(max_len_txt)>= 4:\n",
        "            if len_each_word == len(txt):\n",
        "                txt = 'nan'\n",
        "            else:              \n",
        "                txt = ' '.join(txt)\n",
        "        else:\n",
        "            txt = 'nan'\n",
        "    return txt\n",
        "\n",
        "def change_len(txt: str)-> str: \n",
        "    if txt == 'nan':\n",
        "        return txt   \n",
        "    return ' '.join(list(i for i in txt.split() if len(txt.split()) >= 10))\n",
        "\n",
        "\n",
        "def clear_data(txt: str, check : bool = False)-> None:\n",
        "    \"\"\"\n",
        "    txt : path to json file\n",
        "    check: bool if true return dataframe else save json    \n",
        "    \n",
        "    \"\"\"\n",
        "    # print(txt)\n",
        "    tmp_df = pd.read_json(txt)\n",
        "    \"\"\"\n",
        "    a = 'CHAPTER 2. LITERATURE REVIEW Page'\n",
        "    re.sub(r'(\\bCHAPTER|Page|Figure\\b)', ' ', a) ->   2. LITERATURE REVIEW  \n",
        "    \"\"\"\n",
        "    tmp_df.section_title = tmp_df.section_title.apply(lambda x:\n",
        "                                                      re.sub(r'(\\bCHAPTER|Page|Figure\\b)', ' ', str(x)).strip())\n",
        "    \"\"\"\n",
        "    2. delete \n",
        "        C. Career activities after obtaining a doctora...\n",
        "        IV. Changes to the 1998 SED Marital Status\n",
        "        B. Policy recommendtions for the utilization .\n",
        "        1A.\n",
        "        1.\n",
        "        GH12.\n",
        "    \"\"\"\n",
        "\n",
        "    tmp_df.section_title = tmp_df.section_title.apply(lambda x:\n",
        "                                                      re.sub('^[A-Z0-9]+(?=\\.)', ' ', str(x)).strip())\n",
        "    \"\"\"\n",
        "    if covid in line use clear with digits save else skip digit\n",
        "    only in covid label have digit\n",
        "    \"\"\"\n",
        "    if (tmp_df.section_title.str.contains('covid', flags=re.IGNORECASE).sum() != 0) or \\\n",
        "       (tmp_df.text.str.contains('covid', flags=re.IGNORECASE).sum() != 0):\n",
        "        #covid more digits\n",
        "        tmp_df.section_title = tmp_df.section_title.apply(lambda x: clean_text_add_digit(x))\n",
        "        tmp_df.text = tmp_df.text.apply(lambda x: clean_text_add_digit(x))\n",
        "    else:\n",
        "         # clear digit\n",
        "        tmp_df.section_title = tmp_df.section_title.apply(lambda x: clean_text(x))\n",
        "        tmp_df.text = tmp_df.text.apply(lambda x: clean_text(x))\n",
        "\n",
        "    #chek length title and if not correct droped\n",
        "    #find blank line\n",
        "    tmp_df.section_title.replace('', 'nan', inplace=True)\n",
        "    tmp_df.text.replace('', 'nan', inplace=True)\n",
        "\n",
        "    # idea for title if sum len words in title == len title drop, [1,1,1] == 'a t u'  \n",
        "    tmp_df.section_title = tmp_df.section_title.apply(lambda x: len_title(x))\n",
        "    tmp_df.text = tmp_df.text.apply(lambda x: change_len(x))\n",
        "\n",
        "    url = '(https?://|w{3}\\.)(?:[-\\w.]|(?:%[\\da-fA-F]{2}))+'\n",
        "    tel = '(\\d{3}[-\\.\\s]??\\d{3}[-\\.\\s]??\\d{4}|\\(\\d{3}\\)\\s*\\d{3}[-\\.\\s]??\\d{4}|\\d{3}[-\\.\\s]??\\d{4})'\n",
        "\n",
        "    # tmp_df.dropna(inplace =True)\n",
        "\n",
        "    for rgx in [url, tel]:\n",
        "        tmp_df.text = tmp_df.text.apply(lambda x:\n",
        "                                    re.sub(rgx, ' ', str(x)))\n",
        "        \n",
        "    if check is False:\n",
        "        #save json??        \n",
        "        path_save = Path(PATH) /'data_train_v2'/ txt.name       \n",
        "        tmp_df.reset_index(drop=True).to_json(path_save, orient=\"columns\")\n",
        "    else:\n",
        "        return tmp_df.reset_index(drop=True)"
      ],
      "execution_count": null,
      "outputs": []
    },
    {
      "cell_type": "markdown",
      "metadata": {
        "id": "JdDj2mjOmm-o"
      },
      "source": [
        "check works"
      ]
    },
    {
      "cell_type": "code",
      "metadata": {
        "id": "GdD2BRbyPjSg",
        "colab": {
          "base_uri": "https://localhost:8080/"
        },
        "outputId": "06bb03a4-4e70-4401-e4c2-2dc2a5f2b61c"
      },
      "source": [
        "f = 'b3498176-8832-4033-aea6-b5ea85ea04c4.json'\n",
        "f = 'e9057a7a-ea41-4b40-88bf-3bfb8354c807.json'\n",
        "f = 'f0249680-2273-4b1a-8a0a-2e8bbf9ec11a.json'\n",
        "f = 'c6e74b14-6da5-43bf-9723-dcce7c2124ff.json'\n",
        "f = '9e7a78df-4757-40d8-b347-fe6578f0e4ad.json'\n",
        "f = '755506a3-1516-4c8b-8fc0-ca10027aed61.json'\n",
        "f = '6bfda128-a0c0-41ba-96a8-ec62731124d9.json'\n",
        "f = 'e682c0c9-89bf-4bcf-9919-559729dcf714.json'\n",
        "f = 'ef228135-27af-4278-a225-57acd2ac0a82.json'\n",
        "# f = 'd9d43c5a-97b8-4520-bf84-bdb7880878ce.json'\n",
        "\n",
        "f = Path(PATH) /'train' / f\n",
        "print(clear_data(f, check=True))"
      ],
      "execution_count": null,
      "outputs": [
        {
          "output_type": "stream",
          "text": [
            "                                       section_title                                               text\n",
            "0                                                nan  most common observed substitutions in sars cov...\n",
            "1                                               adar  adenosine deamination in dsrnas is attributed ...\n",
            "2  is there a link between adar1 and autoimmune d...  double stranded rnas are the pathogen associat...\n",
            "3                         strandedness of sars cov 2  upon entry into the host cell sars cov 2 exist...\n",
            "4                                            summary  global travel societal interactions and the in...\n",
            "5                                                     matrix showing the distribution of genomic cha...\n",
            "6                                                nan  the three types of changes resulting from the ...\n"
          ],
          "name": "stdout"
        }
      ]
    },
    {
      "cell_type": "code",
      "metadata": {
        "id": "RcoGm_0F1V12"
      },
      "source": [
        "PATH = '/content/drive/MyDrive/Coleridge_Initiative/input'\n",
        "PATH_SAVE = '/content/drive/MyDrive/Coleridge_Initiative/input/handles_fix'\n",
        "\n",
        "handles_fix = list(i.name for i in Path(PATH_SAVE).glob('*.*'))\n",
        "fixed_list_id = pd.read_csv('/content/drive/MyDrive/Coleridge_Initiative/input/fixed_list_id.csv')"
      ],
      "execution_count": null,
      "outputs": []
    },
    {
      "cell_type": "markdown",
      "metadata": {
        "id": "mqp75bxQYHk3"
      },
      "source": [
        "script"
      ]
    },
    {
      "cell_type": "code",
      "metadata": {
        "id": "qiL1b_MEmjmI"
      },
      "source": [
        "for name in tqdm(fixed_list_id.id):\n",
        "    if name in handles_fix:  \n",
        "        f = Path(PATH_SAVE) / name \n",
        "    else:\n",
        "        f = Path(PATH) /'train'/ name  \n",
        "    clear_data(f)  "
      ],
      "execution_count": null,
      "outputs": []
    },
    {
      "cell_type": "markdown",
      "metadata": {
        "id": "Pti1yqX4YD99"
      },
      "source": [
        "check correct"
      ]
    },
    {
      "cell_type": "code",
      "metadata": {
        "colab": {
          "base_uri": "https://localhost:8080/"
        },
        "id": "MYYllxNVBGXT",
        "outputId": "6dfbef2a-a6a7-4e59-d896-7cc807a859c7"
      },
      "source": [
        "for f in list(Path(PATH).glob('data_train_v2/*.*'))[10:50]:\n",
        "    tmp = pd.read_json(f)\n",
        "    print(f)\n",
        "    print(tmp)"
      ],
      "execution_count": null,
      "outputs": [
        {
          "output_type": "stream",
          "text": [
            "/content/drive/MyDrive/Coleridge_Initiative/input/data_train_v2/59ceea9a-be62-4d3e-82cd-eeba5135a70e.json\n",
            "   section_title                                               text\n",
            "0       abstract  abstract background studies investigating the ...\n",
            "1            nan  objective to determine the diagnostic accuracy...\n",
            "2            nan  methods to determine the diagnostic accuracy o...\n",
            "3            nan  and the onset of the pathogenic process as ref...\n",
            "4            nan  the second data set consisted of alzheimer s d...\n",
            "5            nan  the first optimistic prior in accordance with ...\n",
            "6            nan                                                nan\n",
            "7        results                                                nan\n",
            "8            nan  figure shows the roc curves for different anal...\n",
            "9            nan  in particular it shows the curves for the anal...\n",
            "10           nan  note that the latter were obtained by using th...\n",
            "11           nan  the roc curves for the logistic regression are...\n",
            "12           nan  with an imperfect clinical diagnosis some indi...\n",
            "13           nan                                                   \n",
            "14           nan  for each of the three models the combined biom...\n",
            "15           nan                                                   \n",
            "/content/drive/MyDrive/Coleridge_Initiative/input/data_train_v2/a475d47e-3fe5-43c5-ab2d-fbd1bfd38769.json\n",
            "                    section_title                                               text\n",
            "0                      background  marketing contracts are common for specialty c...\n",
            "1                         outline                                                nan\n",
            "2                      motivation                                                nan\n",
            "3             modeling approaches  jennifer ifft wen li sharon raszap skorbiansky...\n",
            "4          unique characteristics  the unique characteristics of specialty crops ...\n",
            "5            limited spot markets                                                nan\n",
            "6                       challenge  delivery risk is a major challenge for special...\n",
            "7             summary of du et al  farmer s expected utility is p bq q be the ins...\n",
            "8                    model set up  extension and difference from du et al interme...\n",
            "9             limited spot market  spot market typically has lower value for exam...\n",
            "10                          model  model set up lagrange equation let be the lagr...\n",
            "11     model intermediary problem  the intermediary s problem is to maximize the ...\n",
            "12           model farmer problem  let u be the utility function for the farmer w...\n",
            "13  model farmer problem continue  let u be the utility function for the farmer w...\n",
            "/content/drive/MyDrive/Coleridge_Initiative/input/data_train_v2/b3d9c906-a062-4e62-88f4-3b4f4242ceac.json\n",
            "   section_title                                               text\n",
            "0            NaN  coronaviruses are group viruses belong to coro...\n",
            "1            NaN  sars cov 2 outbreaks occurred at the end of de...\n",
            "2            NaN  phylogenetic tree construction 79 the retrieve...\n",
            "3            NaN  these results suggested that cats might be nat...\n",
            "4            NaN  these reports suggest that sars cov 2 could be...\n",
            "5            NaN  a microbiologist of pennsylvania school of vet...\n",
            "/content/drive/MyDrive/Coleridge_Initiative/input/data_train_v2/995076c4-b4cc-4d8f-b53f-a62c72db2e81.json\n",
            "                                       section_title                                               text\n",
            "0                                                nan  elgrass zostera marina l is a flowering plant ...\n",
            "1                                       key findings  eelgrass beds in casco bay were mapped from ae...\n",
            "2                  why is eelgrass habitat important  eelgrass serves many important ecological func...\n",
            "3                                     hilary neckles                                                nan\n",
            "4                                    hillary neckles                                                   \n",
            "5  has eelgrass habitat in casco bay changed over...  answer yes the overall amount of eelgrass has ...\n",
            "6                                inidicator eelgrass                                                nan\n",
            "7                                                nan  a dragging scar circled in yellow created in j...\n",
            "8   why has eelgrass habitat declined in a few areas                                                   \n",
            "/content/drive/MyDrive/Coleridge_Initiative/input/data_train_v2/cea948eb-55f7-412b-bcb5-cdb65902d8cf.json\n",
            "                                        section_title                                               text\n",
            "0                               contents introduction                                                nan\n",
            "1                                         methodology                                                nan\n",
            "2                                        introduction  the data presented in these tables show the de...\n",
            "3                                       response rate  in general the response rate to the survey is ...\n",
            "4                                       academic year  an academic year starts at july i of one year ...\n",
            "5                                    age at doctorate  a recipient s age is derived by subtracting th...\n",
            "6                                        program area  history and the fine applied and performing ar...\n",
            "7                                            business  includes accounting banking and finance busine...\n",
            "8                                           education  includes curriculum and instruction educationa...\n",
            "9                                         engineering  includes aerospace aeronautical and astronauti...\n",
            "10                       fine applied performing arts                                                   \n",
            "11                                    health sciences  includes audiology and speech pathology en iro...\n",
            "12                                            history  includes american and european history history...\n",
            "13                                         humanities  includes classics comparative literature lingu...\n",
            "14                                  physical sciences  includes computer sciences information science...\n",
            "15                                    social sciences  includes anthropology area studies criminology...\n",
            "16                                              other  includes communications research journalism ra...\n",
            "17                                     time to degree  total time to degree ttd is a gross measus and...\n",
            "18                                        citizenship  a united states citizen may be native born or ...\n",
            "19                                          dependent  a dependent is someone who is receiving at lea...\n",
            "20          educational institutions employment plans  four year college or university other than med...\n",
            "21                              level of indebtedness  the amount of debt reported is outstanding deb...\n",
            "22                              student financial aid  consists of grants loans work study and other ...\n",
            "23                                        federal aid  student financial aid whose source is the fede...\n",
            "24                              title iv aid programs  those federal student financial aid programs a...\n",
            "25                                                nan                                                nan\n",
            "26                                                nan                                                   \n",
            "27                                                nan  best copy available history and the fine appli...\n",
            "28  source u s department of education national ce...  council survey of eatned doctorates history an...\n",
            "29                                                nan                                                nan\n",
            "30                                                nan                                                nan\n",
            "31                                                nan  pest tr lf mailable nrq eery alan all f histor...\n",
            "32                                                nan                                                nan\n",
            "33                                      art education                                                   \n",
            "34                              mathematics education  music education physical health and nursing ed...\n",
            "35                                                nan  social science education speech education fiel...\n",
            "/content/drive/MyDrive/Coleridge_Initiative/input/data_train_v2/dd7b04c0-7edc-4e0d-ae07-2e1898e39d81.json\n",
            "    section_title                                               text\n",
            "0             NaN  from the positive control it could be because ...\n",
            "1             NaN  the use of in vitro synthesis of rna and dna s...\n",
            "2             NaN  in this design all the target sequences of a m...\n",
            "3             NaN  among the benefits of this design a chimera al...\n",
            "4             NaN  the recent emergence of the sars cov 2 pandemi...\n",
            "5             NaN  the different targeted regions for standards a...\n",
            "6             NaN  the paired design of chimeric a b standards wh...\n",
            "7             NaN  dna synthesis enables rapid and flexible assem...\n",
            "8             NaN  we first retrieved the sars cov 2 genome seque...\n",
            "9             NaN  united states cdc germany and france fig 1a ea...\n",
            "10            NaN  we next organised these sequences across two d...\n",
            "11            NaN  an additional unique control sequence ucs was ...\n",
            "12            NaN  the two distinct chimeric a b standard sequenc...\n",
            "13            NaN  chimeric standards compared to rna from confir...\n",
            "14            NaN  we next validated the chimeric a b standards b...\n",
            "15            NaN  the real time rt pcr was initially performed o...\n",
            "16            NaN  for the rp target gene which is a positive con...\n",
            "17            NaN  observed ct values for targets n1 n2 n3 and rp...\n",
            "18            NaN  to determine the limit of detection lod for th...\n",
            "19            NaN  4 221 copies l into separate background sample...\n",
            "20            NaN  the advent of routine dna synthesis has enable...\n",
            "21            NaN  this allows multiple sequences of interest to ...\n",
            "22            NaN  the a b standards were synthesized by a commer...\n",
            "23            NaN  the transformed cells were grown overnight 37 ...\n",
            "24            NaN                                                   \n",
            "25            NaN  twenty l reactions were prepared containing 5 ...\n",
            "26            NaN  we performed two different serial dilution exp...\n",
            "27            NaN  the baseline concentration was 3 96 x 10 8 cop...\n",
            "/content/drive/MyDrive/Coleridge_Initiative/input/data_train_v2/03b0d505-3383-4e94-b7bc-97953a7897d9.json\n",
            "                                        section_title                                               text\n",
            "0               technology adoption updates from arms  recent data from the agricultural resource man...\n",
            "1             redesigned food consumption data system  in january ers released a redesigned per capit...\n",
            "2                              agriculture in the wto  the myriad issues facing trade negotiators are...\n",
            "3                       activities current activities                                                nan\n",
            "4   how will new dietary guidelines affect agricul...  in january usda and the department of health a...\n",
            "5   how is rural hispanic growth affecting rural p...  the hispanic population in rural areas has dou...\n",
            "6                                        new releases                                                nan\n",
            "7                                         amber waves  the citations here and in the rest of this edi...\n",
            "8                                            comstock                                                nan\n",
            "9                                           photospin                                                nan\n",
            "10                           meetings recent meetings                                                nan\n",
            "11                    usda agricultural outlook forum  agricultural outlook forum to be held on febru...\n",
            "12      usda biotechnology conference in north africa  in december ers economist john king gave two p...\n",
            "13         allied social science association meetings  in january several ers researchers participate...\n",
            "14                    future of our food farms summit  in december two ers economists participated in...\n",
            "15  food and nutrition research small grants confe...  in december the ers food assistance and nutrit...\n",
            "16          community colleges and creative economies  in november ers and regional technology strate...\n",
            "17       professional agricultural workers conference  in december ers provided support for the nd pr...\n",
            "18        agricultural trade policy modeling workshop  in november ers and pennsylvania state univers...\n",
            "/content/drive/MyDrive/Coleridge_Initiative/input/data_train_v2/fe130674-fb1d-4e52-a263-650944297bee.json\n",
            "                                        section_title                                               text\n",
            "0                    researchers from ers and rutgers  university have compiled a database of over u ...\n",
            "1                 farm income estimates and forecasts  ers has released updated estimates of farm inc...\n",
            "2           decoupled payments and farm sector models  in october ers and the farm foundation cospons...\n",
            "3                        demand for grain based foods  in september ers and the farm foundation cospo...\n",
            "4                            a new ers lecture series  in september ers inaugurated the henry c taylo...\n",
            "5                                      henry c taylor                                                nan\n",
            "6                               releases new releases                                                nan\n",
            "7                                             eyewire                                                nan\n",
            "8                                             eyewire                                                nan\n",
            "9   customized agricultural resource management su...  as of november visitors to the ers website can...\n",
            "10  ers awards grants for research on the economic...                                                nan\n",
            "11      baby boomers increasingly move to rural areas  the oldest members of the baby boom cohort are...\n",
            "12                     improvements in pesticide data  in september ers economist jorge fernandez cor...\n",
            "13    keeping agricultural market access data current  the agricultural market access database amad i...\n",
            "/content/drive/MyDrive/Coleridge_Initiative/input/data_train_v2/e9b40a93-e233-48de-a195-04ade1a3b468.json\n",
            "                           section_title                                               text\n",
            "0                                    nan  left slosh model run for hurricane ivan made h...\n",
            "1                     product generation                                                nan\n",
            "2                            probability                                                nan\n",
            "3                             exceedance  the p surge model is an ensemble of slosh mode...\n",
            "4               p surge error statistics  nhc determines the year error statistics by co...\n",
            "5       variability of cross track error                                                nan\n",
            "6   size error distribution and sampling  the size error is bounded invalidating the nor...\n",
            "7             cross track error sampling  cross track samples cover of the area sigma un...\n",
            "8                           future plans  adding a hour forecast point adding error stat...\n",
            "9                       p surge products                                                nan\n",
            "10                            motivation  mdl developed the sea lake and overland surges...\n",
            "/content/drive/MyDrive/Coleridge_Initiative/input/data_train_v2/25904121-08fa-446b-89df-a75f1a267609.json\n",
            "   section_title                                               text\n",
            "0       abstract  in this paper we develop a new automated surfa...\n",
            "1            nan  a b s t r a c t a r t i c l e i n f o in this ...\n",
            "2            nan                                                   \n",
            "3            nan                                                   \n",
            "4            nan                                                   \n",
            "5            nan  all t weighted images were automatically segme...\n",
            "6            nan  for a general surface and its conformal parame...\n",
            "7            nan  here v x is the deformation velocity and are t...\n",
            "8            nan  imize the following energy function where h x ...\n",
            "9            nan  forward direction and u f x is the forward dis...\n",
            "10           nan                                                   \n",
            "11           nan  suppose s s is a map from the surface s to the...\n",
            "12           nan  to simplify the formulation we use the isother...\n",
            "13           nan  nates of s and s the riemannian metric of s i ...\n",
            "14           nan  in the triangle mesh surface the derivative ma...\n",
            "15           nan  representing its anterior junction with the am...\n",
            "16           nan                                                   \n",
            "17           nan  given the hippocampal tube like shape these la...\n",
            "18           nan  we chose to encode surface features using a co...\n",
            "19           nan                                                   \n",
            "20           nan  to check the group difference between any two ...\n",
            "21           nan  used the manually traced hippocampal contours ...\n",
            "22           nan  our work is the first study to our knowledge w...\n",
            "23           nan  for the fifth experiment all three methods ach...\n",
            "24           nan                                                nan\n",
            "25    discussion                                                nan\n",
            "26           nan  the current study has two main contributions f...\n",
            "27           nan  then a c shape was added to the cylinder model...\n",
            "28           nan  fig b the combination of the c shape and the c...\n",
            "29           nan  for a fair comparison we applied these two sur...\n",
            "30           nan  we tried to perform the registrations with or ...\n",
            "31           nan  on the other hand conformal parameterization w...\n",
            "32           nan  the discrete conformal mapping has a rigorous ...\n",
            "33           nan                                                   \n",
            "34           nan  as a shape analysis software tool the input to...\n",
            "35           nan  the laplacian can be computed by gradient and ...\n",
            "/content/drive/MyDrive/Coleridge_Initiative/input/data_train_v2/01703df7-3cfa-4f07-b4e5-c3fa09eb5963.json\n",
            "                                        section_title                                               text\n",
            "0                                             list of                                                nan\n",
            "1                                     list of figures  page of table presents a list of people who wi...\n",
            "2                                 a distribution list                                                nan\n",
            "3                         a project task organization  the project will be completed by the unh jacks...\n",
            "4                     a problem definition background  eelgrass zostera marina is an essential habita...\n",
            "5                          a project task description  this project has six main tasks prepare qa pro...\n",
            "6                                 train project staff  the program manager will organize and implemen...\n",
            "7           acquire aerial imagery of the estuary for  the program manager will organize an aerial ov...\n",
            "8                         ground truth aerial imagery  the project manager will organize field crews ...\n",
            "9           generate maps of eelgrass distribution in  using aerial imagery and ground truthing data ...\n",
            "10                               prepare final report  the final work product will be arcinfo files o...\n",
            "11                  a quality objectives and criteria  this study is primarily an interpretation of a...\n",
            "12                   a special training certification  the program manager will organize and implemen...\n",
            "13                            a documents and records  qa project plan the program manager will be re...\n",
            "14                              reports to management  the program manager will provide a final repor...\n",
            "15                                          archiving  the qa project plan and final report will be k...\n",
            "16                          b sampling process design  images will be acquired with a overlap typical...\n",
            "17                                 b sampling methods  aerial photographs are taken at feet at low sp...\n",
            "18                      b sample handling and custody  photographs will be archived by the project ma...\n",
            "19                               b analytical methods  the photographs in the form of mm slides or di...\n",
            "20                                  b quality control  ground truthing will be done from a small boat...\n",
            "21  b instrument equipment testing inspection main...                                                   \n",
            "22   b instrument equipment calibration and frequency                                                   \n",
            "23  b inspection acceptance requirements for suppl...                                                   \n",
            "24                          b non direct measurements                                                   \n",
            "25                                  b data management  arcinfo files of eelgrass in the estuary are m...\n",
            "26                 c assessments and response actions  review and assessment of all aspects of this p...\n",
            "27                            c reports to management  the program manager will provide the following...\n",
            "28          d data review verification and validation  the project qa officer will review the methods...\n",
            "29           d verification and validation procedures  the program manager reviews the memorandum fro...\n",
            "30            d reconciliation with user requirements  the program manager will be responsible for re...\n",
            "/content/drive/MyDrive/Coleridge_Initiative/input/data_train_v2/42f45e23-d242-449b-85db-8948ca434d2c.json\n",
            "  section_title                                               text\n",
            "0      abstract  telephone fax data used in preparation of this...\n",
            "1  introduction  were analyzed in one laboratory and collected ...\n",
            "2          adni                                                nan\n",
            "3           nan  for adni datasets used to extract csf measures...\n",
            "/content/drive/MyDrive/Coleridge_Initiative/input/data_train_v2/92cfef91-39b2-4033-ba08-57adbc766e99.json\n",
            "                                    section_title                                               text\n",
            "0                                      background  rice is produced worldwide and is the world s ...\n",
            "1                                       objective  given the steady growth of the rice market pro...\n",
            "2                                            data  data for this research will be used from the u...\n",
            "3  herbicide tolerant v hybrid herbicide tolerant  herbicide tolerant seeds have been developed c...\n",
            "4                                          hybrid  hybrid rice is rice produced by crossbreeding ...\n",
            "5                               hybrid rice seeds  in the u s a single hybrid rice variety was co...\n",
            "6                                     hybrid seed  hybrid seed varieties sometimes require more f...\n",
            "7       pecentage of producers by seed variety in  from to producers have increased their use of ...\n",
            "8          management practices of rice producers  weeds can develop resistance to herbicides but...\n",
            "/content/drive/MyDrive/Coleridge_Initiative/input/data_train_v2/d26d4a7c-6045-485e-9135-052ca21fe501.json\n",
            "                                          section_title                                               text\n",
            "0                                          introduction  the college course map ccm is a taxonomy syste...\n",
            "1     library science biological and biomedical scie...                                                nan\n",
            "2                                       code categories  this section describes each six digit code use...\n",
            "3          agricultural business and management general  a general course that focuses on modern busine...\n",
            "4         agribusiness agricultural business operations  a course that prepares individuals to manage a...\n",
            "...                                                 ...                                                ...\n",
            "1115                              transplant hepatology  a residency training course that prepares phys...\n",
            "1116                   undersea and hyperbaric medicine  a residency training course that prepares phys...\n",
            "1117              vascular and interventional radiology  a residency training course that prepares diag...\n",
            "1118                                 vascular neurology  a residency training course that prepares phys...\n",
            "1119                     podiatric medicine and surgery  a two year residency training course that prep...\n",
            "\n",
            "[1120 rows x 2 columns]\n",
            "/content/drive/MyDrive/Coleridge_Initiative/input/data_train_v2/ba963459-b368-4e57-bc73-940f33ca3918.json\n",
            "                          section_title                                               text\n",
            "0                              abstract  abstract morphometry is identifying and charac...\n",
            "1                          introduction  medical imaging with biomedical engineering ha...\n",
            "2                                   nan  six regions present in brain image usually use...\n",
            "3                          related work  the specificity of region based approach along...\n",
            "4                                   nan  atlases across different ages for subjects in ...\n",
            "5                                   nan  overlaying monochrome images using different c...\n",
            "6                                method  methods used to analyse are pattern based and ...\n",
            "7      step changes in synthetic images  large set of different images is generated by ...\n",
            "8                                   nan  any image generated by subtracting an image in...\n",
            "9               step surface extraction  layer of cortical surface is being measured an...\n",
            "10  step k singular value decomposition  it solves a matrix decomposition problem to ex...\n",
            "11                  step reconstruction  image is being smoothed by the moving average ...\n",
            "12                  step group analysis  once the reconstruction has been computed a gr...\n",
            "13                 experimental results  it is done to discover this dictionary of imag...\n",
            "14                                  nan  image generated by subtracting an image using ...\n",
            "15                          conclusions  the technique of pbm with sbm measures both vo...\n",
            "16                     acknowledgements                                                   \n",
            "/content/drive/MyDrive/Coleridge_Initiative/input/data_train_v2/3ecdf8fc-7cfc-4aab-a40e-c2128bb98bf6.json\n",
            "                           section_title                                               text\n",
            "0                                    nan  what percentage of enrolled ninth graders drop...\n",
            "1  more about early high school dropouts  what were the dropout rates of males and femal...\n",
            "2                               endnotes  the first look report for hsls nces also repor...\n",
            "/content/drive/MyDrive/Coleridge_Initiative/input/data_train_v2/efec55b5-dc01-4a8c-8d9d-781b737f55d9.json\n",
            "   section_title                                               text\n",
            "0       abstract  bio imaging technologies allow scientists to c...\n",
            "1            nan  multi source learning is closely related to an...\n",
            "2            nan  in this paper we will use the term bi level an...\n",
            "3            nan  besides the multi modality aspects and the hig...\n",
            "4            nan  in this paper we propose a novel bi level lear...\n",
            "5       subjects                                                nan\n",
            "6            nan  we use data from the alzheimer s disease neuro...\n",
            "7            nan  and proteomics including a total of subjects i...\n",
            "8            nan  a unified feature learning model for multi sou...\n",
            "9            nan  we first present a unified learning model for ...\n",
            "10           nan  assume we are given a collection of m samples ...\n",
            "11           nan  the regularization is taken independently over...\n",
            "12           nan  taking the partial derivative with respect to ...\n",
            "13           nan  let p and q in this case the regularization te...\n",
            "14           nan  similarly if p and q we obtain the regularizat...\n",
            "15           nan  besides these common convex formulations our g...\n",
            "16           nan                                                   \n",
            "17           nan  as shown in fig we learn the weight for each s...\n",
            "18           nan                                                   \n",
            "19           nan  when we keep fixed and seek the optimal eq bec...\n",
            "20       results                                                nan\n",
            "21           nan  to examine the efficacy of the proposed bi lev...\n",
            "22           nan  comparison on complete data we first evaluate ...\n",
            "23           nan  for each scenario we partition the data set in...\n",
            "24           nan                                                nan\n",
            "25           nan  capability of source selection performance on ...\n",
            "26           nan  obtained from each individual algorithm specif...\n",
            "27           nan  for each of imsf and isfs we select two parame...\n",
            "28           nan  which results in models in total fig since i a...\n",
            "29           nan  the only difference is that in each iteration ...\n",
            "30           nan  finally by extracting the lower part of matrix...\n",
            "/content/drive/MyDrive/Coleridge_Initiative/input/data_train_v2/d9d43c5a-97b8-4520-bf84-bdb7880878ce.json\n",
            "    section_title                                               text\n",
            "0             NaN  naval architecture marine nuclear engineering ...\n",
            "1             NaN  table science and engineering s e doctorates a...\n",
            "2             NaN  in this subfield was changed from pharmaceutic...\n",
            "3             NaN  in this subfield was changed from atomic molec...\n",
            "4             NaN  in this subfield was changed from plasma physi...\n",
            "5             NaN  in this subfield was changed from math probabi...\n",
            "6             NaN  these subfields were introduced in biomedical ...\n",
            "7             NaN  in this subfield was changed from embryology t...\n",
            "8             NaN  in this subfield was changed from immunology t...\n",
            "9             NaN  in this subfield was changed from agronomy to ...\n",
            "10            NaN  in this subfield was changed from fisheries sc...\n",
            "11            NaN  in this subfield was changed from wildlife man...\n",
            "12            NaN  in food sciences was separated into food engin...\n",
            "13            NaN  in forestry science was separated into forest ...\n",
            "14            NaN  in soil sciences was separated into soil chemi...\n",
            "15            NaN  in this subfield was changed from cognitive ps...\n",
            "16            NaN  in this subfield was changed from developmenta...\n",
            "17            NaN                                                   \n",
            "18            NaN  in this subfield was changed from physiologica...\n",
            "19            NaN  in this subfield was changed from internationa...\n",
            "20            NaN  in this subfield was changed from public polic...\n",
            "21            NaN  in this subfield was changed from demography t...\n",
            "22            NaN  in this subfield was changed from history of s...\n",
            "23            NaN  in this subfield was changed from urban studie...\n",
            "24            NaN  categories differ from those published by othe...\n",
            "25            NaN  percent not available as data were not collect...\n",
            "26            NaN  best copy available page of field of study fie...\n",
            "27            NaN  field of study u s citizens and permanent resi...\n",
            "28            NaN                                                   \n",
            "29            NaN  best copy available field of study field of st...\n",
            "30            NaN  best copy available see explanatory informatio...\n",
            "31            NaN  best copy available best copy available texas ...\n",
            "/content/drive/MyDrive/Coleridge_Initiative/input/data_train_v2/4e195c2b-a659-45d1-97b6-f2d197cb6ea4.json\n",
            "                              section_title                                               text\n",
            "0                      related nces reports  trends in the receipt of pell grants selected ...\n",
            "1             persistence and attainment of                                                   \n",
            "2   persistence and attainment of beginning  students with pell grants nces nces http nces ...\n",
            "3                   beginning postsecondary                                                nan\n",
            "4                             this analysis  total students in thousands table s standard e...\n",
            "5               total students in thousands                                                   \n",
            "6                                  glossary  all of the variables used in this report are d...\n",
            "7                      bps panel weight wtb  the bps panel weight was used to produce the t...\n",
            "8            cumulative pell through pellcu  indicates the cumulative amount of pell grant ...\n",
            "9                                glossary g  degree program ugdeg indicates the undergradua...\n",
            "10                              certificate  the student was enrolled in a certificate prog...\n",
            "11                 dependency status depend  student s dependency status for federal financ...\n",
            "12                    dependent independent                                                nan\n",
            "/content/drive/MyDrive/Coleridge_Initiative/input/data_train_v2/54009600-042d-4777-9034-60e2fa541045.json\n",
            "                                       section_title                                               text\n",
            "0                                                nan  pandemic the potential contributions of ai dur...\n",
            "1            pandemic control and detection of cases  ai has been used in various countries for chec...\n",
            "2                        assisting healthcare system  the x rays and computed tomography ct scans of...\n",
            "3                               ai based development  this article is protected by copyright all rig...\n",
            "4                       vaccine and drug development  the prediction of rna structure of sars cov 2 ...\n",
            "5                          streamlining the research  everyday hundreds of papers on covid 19 appear...\n",
            "6  adding intelligence to scientific meetings and...  most of the organizing bodies and institutions...\n",
            "7  constraints in the current application of ai t...  most of the ai systems are in their early stag...\n",
            "8                                         references                                                   \n",
            "/content/drive/MyDrive/Coleridge_Initiative/input/data_train_v2/e321e6da-591a-40ee-9819-c66a5a58e3c3.json\n",
            "   section_title                                               text\n",
            "0       abstract  neuroimaging initiative adni database adni lon...\n",
            "1   introduction                                                nan\n",
            "2            nan  alzheimer disease ad is characterized by a lon...\n",
            "3            nan  these studies highlight non canonical patholog...\n",
            "4            nan  one of the peptides identified using this hypo...\n",
            "5            nan                                                nan\n",
            "6        methods                                                nan\n",
            "7            nan  methods and data used for this research are si...\n",
            "8            nan  http www r project org version with the public...\n",
            "9            nan  the time to progression analysis of the derive...\n",
            "10           nan  these data suggest that vgf levels may correla...\n",
            "/content/drive/MyDrive/Coleridge_Initiative/input/data_train_v2/d08dc4f9-9c73-4f76-a630-099a6173787e.json\n",
            "                                        section_title                                               text\n",
            "0                                                 nan  in the last years ships have doubled in length...\n",
            "1          supporting marine transport and navigation  larger and faster vessels in increasingly crow...\n",
            "2                  protecting our ports and waterways                                                nan\n",
            "3                        supporting national security  as gateways to our largest cities and industri...\n",
            "4                 locating and removing marine debris  marine debris like lost fish nets plastic bags...\n",
            "5                           updating vertical control  knowing the relationship of water levels to la...\n",
            "6                              meeting new challenges  exploring the arctic melting sea ice in the ar...\n",
            "7                      supporting coastal communities  sea level rise caused by climate change will h...\n",
            "8                      mapping and charting the coast  noaa uses sonar photogrammetry and remote sens...\n",
            "9                                pinpoint positioning  noaa s national spatial reference system and n...\n",
            "10  providing innovative tools and practical assis...                                                   \n",
            "11                          data on marine conditions  today s massive ships push the depth limit of ...\n",
            "12                            responding to disasters  noaa s efforts speed the reopening of ports na...\n",
            "/content/drive/MyDrive/Coleridge_Initiative/input/data_train_v2/3b95ba93-6f85-461a-b896-db894e910fbe.json\n",
            "  section_title                                               text\n",
            "0      abstract  abstract depressive symptoms are common in old...\n",
            "1           nan  data used in preparation of this article were ...\n",
            "2  introduction                                                nan\n",
            "3           nan  neuropsychiatric symptoms such as depression a...\n",
            "4           nan                                                nan\n",
            "5       results                                                nan\n",
            "6           nan  in the analysis we used participants from adni...\n",
            "/content/drive/MyDrive/Coleridge_Initiative/input/data_train_v2/e76527d8-c458-4722-9f20-e170d757a0a2.json\n",
            "                                       section_title                                               text\n",
            "0                                                nan  enlargement correlate with these more global a...\n",
            "1                                                nan  fdg pet is useful in differentiating ad from n...\n",
            "2                           drug activity biomarkers  drug development is facilitated by employing a...\n",
            "3                                                nan  few drug activity biomarkers have been identif...\n",
            "4  biomarkers in alzheimer s disease clinical trials                                                nan\n",
            "/content/drive/MyDrive/Coleridge_Initiative/input/data_train_v2/d6501235-e69a-409a-b31a-ece212879e26.json\n",
            "                                        section_title                                               text\n",
            "0                                                 nan  researchers from ers and rutgers university ha...\n",
            "1                 farm income estimates and forecasts  ers has released updated estimates of farm inc...\n",
            "2                            meetings recent meetings                                                nan\n",
            "3                                         amber waves                                                nan\n",
            "4           decoupled payments and farm sector models  in october ers and the farm foundation cospons...\n",
            "5                        demand for grain based foods  in september ers and the farm foundation cospo...\n",
            "6                            a new ers lecture series  in september ers inaugurated the henry c taylo...\n",
            "7                                      henry c taylor                                                nan\n",
            "8                               releases new releases                                                nan\n",
            "9                                             eyewire                                                nan\n",
            "10  customized agricultural resource management su...  as of november visitors to the ers website can...\n",
            "11  ers awards grants for research on the economic...  ers recently made seven competitive funding aw...\n",
            "12  agricultural resource management survey promot...  in september kitty smith ers resource economic...\n",
            "13      baby boomers increasingly move to rural areas  the oldest members of the baby boom cohort are...\n",
            "14                     improvements in pesticide data  in september ers economist jorge fernandez cor...\n",
            "15    keeping agricultural market access data current  the agricultural market access database amad i...\n",
            "/content/drive/MyDrive/Coleridge_Initiative/input/data_train_v2/23bf8c0c-2f42-40f4-b233-7f04585e123b.json\n",
            "                                         section_title                                               text\n",
            "0                                              preface  as we begin the ets policy information center ...\n",
            "1                                      acknowledgments  the data analyzed in this report are from the ...\n",
            "2    drew gitomer senior vice president statistics ...  was the editor carla cooper provided desktop p...\n",
            "3                                    executive summary  while school readiness has been a concern of e...\n",
            "4                                              reading  asian and white children were more likely than...\n",
            "..                                                 ...                                                ...\n",
            "122                                                nan                                                   \n",
            "123                                                nan                                                nan\n",
            "124                                                nan                                                nan\n",
            "125                                                nan                                                nan\n",
            "126                                                nan                                                nan\n",
            "\n",
            "[127 rows x 2 columns]\n",
            "/content/drive/MyDrive/Coleridge_Initiative/input/data_train_v2/e316be69-9d21-438f-b23f-fcc1b3351a4a.json\n",
            "                                        section_title                                               text\n",
            "0                                        introduction                                                nan\n",
            "1   people who thought that the question about tec...                                                nan\n",
            "2   early childhood education and technology a nee...  the learning opportunities and expectations fo...\n",
            "3                                   research question  what technology tools are considered age appro...\n",
            "4                               theoretical framework                                                   \n",
            "5                            materials and procedures  a survey identifying types of popular technolo...\n",
            "6                            assessments and measures  appropriate ages for technology use figure it ...\n",
            "7                                       entertainment  in order to better represent the data the auth...\n",
            "8                           basic computing functions  for the purposes of this study we looked at ec...\n",
            "9                                              social  in order to better represent the data we will ...\n",
            "10                                         discussion  the first point of interest is the response ra...\n",
            "/content/drive/MyDrive/Coleridge_Initiative/input/data_train_v2/c1150709-1981-4506-94d8-2befdcef6ede.json\n",
            "           section_title                                               text\n",
            "0               abstract  abstract automatic detection of alzheimer s di...\n",
            "1           introduction  the progressive and constant aging of the popu...\n",
            "2  materials and methods  this section describes the datasets and comput...\n",
            "3              materials  this work makes the mri images dataset adni bo...\n",
            "4         proposed model  the proposed method uses the classical pipelin...\n",
            "5                results  in this paper the results for the adni dataset...\n",
            "6             discussion  as a main conclusion the identification of alz...\n",
            "7        acknowledgments  the authors would like to thank the support fr...\n",
            "8  conflicts of interest                                                   \n",
            "9          abbreviations  the following abbreviations are used in this m...\n",
            "/content/drive/MyDrive/Coleridge_Initiative/input/data_train_v2/f472b96c-8346-4192-819b-09693c60a2d0.json\n",
            "                                      section_title                                               text\n",
            "0                                          abstract  abstract clinical benign prostatic hyperplasia...\n",
            "1                                      introduction  clinical benign prostatic hyperplasia bph is o...\n",
            "2                                 prevalence of bph                                                nan\n",
            "3                                               nan  the prevalence of bph rises markedly with incr...\n",
            "4                                              race  no clear patterns have emerged with respect to...\n",
            "5                                          genetics  evidence suggests a strong genetic component t...\n",
            "6                                         lifestyle  it has increasingly been observed that modifia...\n",
            "7                                              diet  there are some indications that both macronutr...\n",
            "8                                 physical activity  increased physical activity and exercise have ...\n",
            "9                                           alcohol  like exercise moderate alcohol intake also app...\n",
            "10                               metabolic syndrome                                                nan\n",
            "11                                          obesity  studies have consistently observed that increa...\n",
            "12  diabetes and disruptions in glucose homeostasis  physician diagnosed diabetes increased serum i...\n",
            "13                                           lipids  there are relatively little data on potential ...\n",
            "14                             erectile dysfunction  there is overwhelming evidence to support that...\n",
            "15                                     inflammation  it is likely that inflammation plays a role in...\n",
            "16                                       conclusion  with a changing demographic profile and an inc...\n",
            "17                            conflicts of interest                                                   \n",
            "/content/drive/MyDrive/Coleridge_Initiative/input/data_train_v2/6ba89be1-545f-4945-b263-bcb36725c78c.json\n",
            "                                        section_title                                               text\n",
            "0                                     recommendations                                                nan\n",
            "1                                                 nan  expand the tracking and analyzing of nonrespon...\n",
            "2                                                 nan  emphasize the importance of collecting nonresp...\n",
            "3                                                 nan  designate a cell on the back page of the quest...\n",
            "4   problem june area survey deteriorating respons...  over time the jas response rate has been gradu...\n",
            "5                                             purpose  past nonresponse research has focused on other...\n",
            "6                                         definitions                                                nan\n",
            "7                                            segments  land areas with identifiable boundaries such a...\n",
            "8                                               tract  an area of land inside a segment under one typ...\n",
            "9                                              usable                                                   \n",
            "10                                             method  the jas s sample was comprised of segments acr...\n",
            "11                                enumerator training  survey workshops are conducted annually to tra...\n",
            "12                                      project costs  no additional field enumerator training costs ...\n",
            "13                                           findings  the results are discussed at the individual st...\n",
            "14                             overall response rates  the u s response rate percent exceeded omb s r...\n",
            "15                               reasons for refusals  a refusal occurs when an operator declines to ...\n",
            "16                          reasons for inaccessibles  a questionnaire is recorded as inaccessible if...\n",
            "17                                                nan  no respondent as listed on the label could be ...\n",
            "18                                                nan  no operation as listed on the label could be f...\n",
            "19                                                nan  enumerator workload prevented this operation f...\n",
            "20                                                nan  access to the address on the label was denied ...\n",
            "21                                        incompletes  a report is coded as an incomplete if the resp...\n",
            "22                                    lessons learned  analysis of the data uncovered inaccessible op...\n",
            "23                                         conclusion  understanding the reasons for nonresponse prov...\n",
            "24                                         references  beckler d j known refusal no contact attempted...\n",
            "25                                                nan  family illness death you contact me too often ...\n",
            "26                                                nan  respondent only does compulsory surveys does n...\n",
            "27                                                nan  feels the survey items are too complex too muc...\n",
            "28                                                nan  spouse secretary etc will not let the enumerat...\n",
            "29                                                nan  violent threatening refusal i did this survey ...\n",
            "30                                                nan  does not think the information is kept confide...\n",
            "31                                                nan  illness death in the family prevent the operat...\n",
            "32                                                nan  no operation as listed on the label could be f...\n",
            "33                                                nan                                                nan\n",
            "34                                                nan  enumerator workload prevented this operation f...\n",
            "35                                                nan  no respondent as listed on the label could be ...\n",
            "36                                                nan  missing data no reason provided on the questio...\n",
            "/content/drive/MyDrive/Coleridge_Initiative/input/data_train_v2/061ab28a-08e3-4272-a838-c743c340d31c.json\n",
            "                                       section_title                                               text\n",
            "0                                           abstract  objective to study differences in longitudinal...\n",
            "1                                                nan  objective to study differences in longitudinal...\n",
            "2  design setting and participants using oxygen o...  emission tomography and voxel based analysis w...\n",
            "3                                            results  widespread differences were observed in longit...\n",
            "4                                        conclusions  our findings suggest that apoe epsilon mediate...\n",
            "5                                               pmid                                                nan\n",
            "/content/drive/MyDrive/Coleridge_Initiative/input/data_train_v2/d4758863-072c-4abe-84e1-a4d4c57027fd.json\n",
            "                                        section_title                                               text\n",
            "0                                            snapshot                                                nan\n",
            "1                                              report                                                nan\n",
            "2                                                 nan                                                nan\n",
            "3                                     list of figures                                                nan\n",
            "4                first year persistence and retention                                                   \n",
            "5             overall persistence and retention rates  among the million people who enrolled in colle...\n",
            "6                   disparities by race and ethnicity  for the fall beginning cohort racial and ethni...\n",
            "7                  persistence and retention rates by  over the past few years there was very little ...\n",
            "8           starting at public four year institutions  for students who started college in fall at pu...\n",
            "9   racial and ethnic disparities at public four y...  asian and white students who started at public...\n",
            "10           starting at public two year institutions  for students who started college in fall at pu...\n",
            "11  racial and ethnic disparities at public two ye...  among students who entered public two year ins...\n",
            "12  starting at private nonprofit four year instit...  for students who started college in fall at pr...\n",
            "13  racial and ethnic disparities at private nonpr...  among students who entered private nonprofit f...\n",
            "14  starting private for profit four year institut...  for students who started college in private fo...\n",
            "15     top five common majors bachelor s degree level  among the five most common majors by enrollmen...\n",
            "16      top five common majors associate degree level  among the five most common associate degree ma...\n",
            "17           top five common majors certificate level  the persistence rates for the top five common ...\n",
            "18   methodological notes higher education enrollment  many postsecondary institutions that are degre...\n",
            "19                  degree certificate seeking status  the report is designed to examine retention an...\n",
            "20                                          retention  defined in this report as continued enrollment...\n",
            "21                                        persistence  defined in this report as continued enrollment...\n",
            "22                               enrollment intensity  a student is classified as having started coll...\n",
            "/content/drive/MyDrive/Coleridge_Initiative/input/data_train_v2/6de864d6-9e6c-4fcd-9520-0682bf5f66d3.json\n",
            "   section_title                                               text\n",
            "0            NaN  severe acute respiratory syndrome coronavirus ...\n",
            "1            NaN  genome sequences around the world were reveale...\n",
            "2            NaN  to perform our analyses we retrieved virus gen...\n",
            "3            NaN  the sub tree consisting of turkey isolates inf...\n",
            "4            NaN  eventually the variants were categorized as no...\n",
            "5            NaN  one of the genomes isolated in turkey epi isl ...\n",
            "6            NaN  although the isolation date of this early samp...\n",
            "7            NaN  we used the turkey isolates 30 to analyze thei...\n",
            "/content/drive/MyDrive/Coleridge_Initiative/input/data_train_v2/645f13b0-d8de-455c-99f6-105ce71bee39.json\n",
            "     section_title                                               text\n",
            "0              nan  almost of latino and of all applied or enrolle...\n",
            "1  college choices  latinos were significantly more likely to chos...\n",
            "/content/drive/MyDrive/Coleridge_Initiative/input/data_train_v2/cc3ec2db-24f4-4a8e-b7bb-3f03b8c2feca.json\n",
            "                                        section_title                                               text\n",
            "0                                            abstract  feature selection many neuroimaging applicatio...\n",
            "1                                                 nan                      u n c o r r e c t e d p r o o\n",
            "2                                                 nan  many neuroimaging applications deal with imbal...\n",
            "3                                                 nan  future treatments could then target the diseas...\n",
            "4                                                 nan  there are many studies which aim to capture th...\n",
            "5                                                 nan  however the greatest disadvantage of internal ...\n",
            "6                                                 nan  while ubiquitous and important imbalanced data...\n",
            "7                                                 nan                                                   \n",
            "8                                                 nan  the mathematical formulation of the problem st...\n",
            "9                                                 nan  set of feature selection algorithms set of cla...\n",
            "10                                                nan  set of classification algorithms an ensemble s...\n",
            "11                                                nan  hence there were f s c ensemble systems studie...\n",
            "12                                                nan  the efficacy of different ensemble systems was...\n",
            "13                                                nan                                                   \n",
            "14                                                nan  and area under the roc curve auc these metrics...\n",
            "15                                                nan  in section we studied such an approach and com...\n",
            "16  a no sampling b random undersampling c random ...  fig illustrating three different sampling appr...\n",
            "17                                                nan  in the following tables and figures is used to...\n",
            "18                                                nan  rf avg and svm avg represent averaged performa...\n",
            "19                                                nan  the data and the performance measures of nc ad...\n",
            "20                                                nan  the mri counterparts of this task are given in...\n",
            "21                                                nan  from these six classification tasks we conclud...\n",
            "22                                                nan  comparison with a combination scheme models an...\n",
            "23                                                nan                                                   \n",
            "24                                                nan  comparing different rates of data resampling u...\n",
            "25                                                nan  the results for majority performance metrics a...\n",
            "26                                                nan  comparison with a multi classifier learning ap...\n",
            "27                                                nan  the results are summarized in table sensitivit...\n",
            "28                                                nan  gini index based on measure of inequality in t...\n",
            "29                                                nan  tbm studies wang et al the line of equality gi...\n",
            "/content/drive/MyDrive/Coleridge_Initiative/input/data_train_v2/95b8dd7d-d659-4897-b03f-7d1c33585f30.json\n",
            "                                        section_title                                               text\n",
            "0                                            foreword  the council of graduate schools cgs provides h...\n",
            "1                                      suzanne ortega  president of the council of graduate schools p...\n",
            "2                                    cgs agep program  as the only national organization solely commi...\n",
            "3                              some signs of progress  the cgs report doctoral initiative on minority...\n",
            "4                              challenges that remain  additional work is needed to achieve more just...\n",
            "5                                       opportunities  one of the project s key findings was that man...\n",
            "6            introduction and self location statement  in alignment with indigenous methodologies in ...\n",
            "7                                   mentoring program  there are three primary research components to...\n",
            "8                                conceptual framework  to further inform the concept of this program ...\n",
            "9                        all of the activities in the                                                   \n",
            "10  preparing minority postdocs for faculty positi...  there are currently urm stem postdocs particip...\n",
            "11  coaching faculty to become leaders in diversit...  many if not most faculty members on search com...\n",
            "12                                           progress  the big ten pai is making good progress thus f...\n",
            "13  what do you want the legacy of the agep progra...  what is the first thing that comes to your min...\n",
            "14                                academic resilience  so this is the bottom line we want our agep st...\n",
            "15  fostering and empowering program champions in ...                                                nan\n",
            "16     champions of agep a study of existing programs                                                nan\n",
            "17                                         discussion  existing scholarship argues that program champ...\n",
            "18  fostering and empowering program champions in ...                                                nan\n",
            "19  the michigan state university crossdisciplinar...                                                nan\n",
            "20  the michigan state university prospective doct...                                                nan\n",
            "21           nurturing a champion through empowerment  as the spokesperson for promise and author of ...\n",
            "22  multiple dimensions of evaluation and resource...                                                nan\n",
            "23                                  mentoring circles  the goal of mentoring circles is to create a c...\n",
            "24                    assessing institutional culture  discussion participants noted that their insti...\n",
            "25                              dissertation retreats  several institutions discussed the value of di...\n",
            "26          communicating degree completion timetable  institutions noted that communicating the time...\n",
            "27                      community for new urm faculty                                                nan\n",
            "28                              negotiating contracts  new faculty typically have not been mentored t...\n",
            "29                                     topic advocacy                                                nan\n",
            "30                                non inclusion issue                                                nan\n",
            "31                                    outreach models  the dean of diversity at the university of pit...\n",
            "32                              sustaining strategies  the group noted that using structures that wer...\n",
            "33                                  topic recruitment                                                nan\n",
            "34                           student ambassador model  cornell university reported that the instituti...\n",
            "35                                   faculty networks  the tuskegee institute reported that it uses f...\n",
            "36                                       partnerships                                                nan\n",
            "37                                   virtual outreach  the institute for broadening participation rep...\n",
            "38                                         networking  the american physical society bridge program b...\n",
            "39                                      implicit bias  the northern ohio alliance reported that it is...\n",
            "40                                managing resistance  the discussion considered the resistance that ...\n",
            "41                  career pathways and alumni panels  the group discussed career pathways panels as ...\n",
            "42                     professors in training program  the professors in training program requires th...\n",
            "43                   multiple advisory boards program                                                   \n",
            "44                                  data and tracking  the group discussed the data collected to show...\n",
            "45                    implicit bias training outcomes  the discussion addressed ways in which implici...\n",
            "46  interpersonal and intrapersonal mechanisms in ...                                                nan\n",
            "47                  university of california berkeley  in academic and professional contexts people r...\n",
            "48             agep t poster summaries transformation  for example chemistry advisors are directly as...\n",
            "49  the california alliance model to increase the ...  together these findings extend the existing re...\n",
            "50                                         references  watkins d green b goodson p guidry j stanley c...\n",
            "51  improved academic climate for stem dissertator...                                                nan\n",
            "52  the center for the integration of research tea...                                                nan\n",
            "53  a racially and ethnically inclusive graduate e...                                                nan\n",
            "54                         the northern ohio alliance  all twenty one partnering institutions were re...\n",
            "55  alliances for gr aduate education and the prof...  the project has resulted in the largest datase...\n",
            "56                             physics bridge program  by placing an additional students in the th ye...\n",
            "57                          doctoral scholars program                                                nan\n",
            "58             southern regional education board sreb  national science foundation nsf funding throug...\n",
            "/content/drive/MyDrive/Coleridge_Initiative/input/data_train_v2/b2097355-aa41-42d3-9c6d-5426f14cd95f.json\n",
            "                                  section_title                                               text\n",
            "0                                      abstract  motivation many available genotyping microarra...\n",
            "1                                           nan  tel e mail shea andrews mssm edu data used in ...\n",
            "2                                  introduction  mitochondrial dna mtdna variation is informati...\n",
            "3                                       methods                                                nan\n",
            "4                           reference alignment  we used publicly available phylotree van oven ...\n",
            "5                               reference panel  whole human mtdna sequences were downloaded fr...\n",
            "6                              validation panel  in silico microarrays isms were created by sub...\n",
            "7                                    imputation  we used the impute chromosome x protocol for i...\n",
            "8                                       results                                                nan\n",
            "9                         in silico microarrays                                                nan\n",
            "10                             parameter tuning  when compared to un imputed data haplogroup co...\n",
            "11               overall haplogroup concordance  concordance of individual haplogroups was esti...\n",
            "12  alzheimer s disease neuroimaging initiative  to illustrate the utility of mitoimpute we tes...\n",
            "13                                   discussion  the mitoimpute pipeline improves haplogroup as...\n",
            "/content/drive/MyDrive/Coleridge_Initiative/input/data_train_v2/2987fc66-373e-4b91-8478-4d045abbba3d.json\n",
            "                                         section_title                                               text\n",
            "0                                                  nan  oecd science technology and industry working p...\n",
            "1    dratf guidelines model questionnaire and indic...  laudeline auriol bernard felix ernesto fernand...\n",
            "2    suivi des carri res et de la mobilit des titul...  les ressources humaines ont un r le d terminan...\n",
            "3                                    table of contents                                                nan\n",
            "4    mapping careers and mobility of doctorate hold...                                                nan\n",
            "..                                                 ...                                                ...\n",
            "133  module car career related experience and scien...  this module is foreseen in order to provide da...\n",
            "134                              definition researcher  researchers are professionals engaged in the c...\n",
            "135                module per personal characteristics  the module per personal characteristics collec...\n",
            "136  statistics on the careers of doctorate holders...  average output of doctorate holders working as...\n",
            "137                                     source of data  average gross annual earnings national currenc...\n",
            "\n",
            "[138 rows x 2 columns]\n",
            "/content/drive/MyDrive/Coleridge_Initiative/input/data_train_v2/08764fe7-46ab-469f-97e5-c72ff3efb800.json\n",
            "                                        section_title                                               text\n",
            "0                                        introduction  sethusamudram shipping canal project is a prop...\n",
            "1             introduction to tsunami and storm surge  the sri lankan coastline was devastated by the...\n",
            "2                                   literature review                                                nan\n",
            "3                                  storm surge models  storm surge is an abnormal rise in sea level a...\n",
            "4                                      tsunami models  during the indian ocean tsunami of december th...\n",
            "5                                         methodology                                                nan\n",
            "6                                        model domain                                                   \n",
            "7                                     bathymetry data  bathymetric data provides a representative bot...\n",
            "8                             delft d modeling system  to simulate the evolution of tsunami waves and...\n",
            "9                               model grid generation  the wave related factors for suspended load an...\n",
            "10                                      land boundary  the land boundary was used to identify the lan...\n",
            "11                                      land boundary                                                nan\n",
            "12                           model set up and running  using quickplot facility in the delft d the re...\n",
            "13                       sethusamudram canal creation  proposed ship channel alignment dredging segme...\n",
            "14    sethusamudram canal between sri lanka and india                                                nan\n",
            "15                             results and discussion                                                nan\n",
            "16                     calibration of the tidal model  the tidal constituents o m s and k were select...\n",
            "17  comparison of measured and modelled tidal elev...  the constructed tidal flow model was calibrate...\n",
            "18                   calibration of the tsunami model  the model was calibrated against water levels ...\n",
            "19  hydrodynamic modelling of the canal and surrou...  after the canal creation in the bathymetry the...\n",
            "20         hydrodynamic model for cyclonic conditions  the delft d flow model was used for storm surg...\n",
            "21                                        conclusions  this research was conducted to investigate the...\n",
            "22                                           location                                                nan\n",
            "23                       surge height without canal m  surge height with canal m percentage increase ...\n",
            "24                                    acknowledgments  authors would like to thank national oceanic a...\n",
            "/content/drive/MyDrive/Coleridge_Initiative/input/data_train_v2/caf1bbe3-dabf-4fdb-bb89-5be2bc0fad3a.json\n",
            "                                       section_title                                               text\n",
            "0                sources for detailed farm loan data  while many lenders such as commercial banks or...\n",
            "1       farmers seek loans from a variety of lenders  the annual arms survey includes a series of qu...\n",
            "2  implement dealers increasing market share in l...  the graph below shows the share of long term n...\n",
            "3                                               real                                                nan\n"
          ],
          "name": "stdout"
        }
      ]
    },
    {
      "cell_type": "markdown",
      "metadata": {
        "id": "nnYmrSaOZ6hP"
      },
      "source": [
        "\n",
        "## AFTER PREPROCESSION"
      ]
    },
    {
      "cell_type": "code",
      "metadata": {
        "id": "i4FLYZ9yXVwB"
      },
      "source": [
        "def make_interval(start:int, txt:str, interval: int)->str:\n",
        "    \"\"\"\n",
        "    start: int return re.search() count latter\n",
        "    txt: str text\n",
        "    interval: int len text \n",
        "\n",
        "    return: str text\n",
        "    \"\"\"\n",
        "    words = txt.split()\n",
        "    len_interval = interval * 2\n",
        "    start = len(txt[:start].split())    \n",
        "    if (start - interval) > 0:\n",
        "        start = start - interval\n",
        "        if start + len_interval < len(words):\n",
        "            words = words[start: start + len_interval]\n",
        "        else:              \n",
        "            words = words[start: len(words)]\n",
        "    else:      \n",
        "        words = words[0: len_interval]\n",
        "    return ' '.join(words)\n",
        "\n",
        "def clean_text_add_digit(txt):\n",
        "    return re.sub('[^A-Za-z0-9]+', ' ', str(txt).lower())\n",
        "\n",
        "def make_label(label: list, txt: str, section_title:str)->list:\n",
        "\n",
        "    new_title =None\n",
        "    if (section_title == 'nan') or (section_title == np.nan):\n",
        "        if (txt != 'nan') or (txt != np.nan):\n",
        "            new_title = re.search(r'\\b%s\\b' % label[-1], txt)\n",
        "\n",
        "    if new_title is None:\n",
        "        out_l = re.search(r'\\b%s\\b' % label[-1], txt)\n",
        "        if out_l is None: # in txt no label\n",
        "            out_l_small = re.search(r'\\b%s\\b' % label[0], txt)\n",
        "            if out_l_small is None:\n",
        "                out_st = re.search(r'\\b%s\\b' % section_title, txt)                \n",
        "                if out_st is None:          \n",
        "\n",
        "                    target = label[-1]\n",
        "                    start, end = 0, 0\n",
        "                else:\n",
        "                    if (section_title == 'nan') or (section_title == np.nan) or \\\n",
        "                       (section_title == ' ')   or   (section_title == ''):\n",
        "                        target = label[-1]         \n",
        "                        start, end = 0, 0     \n",
        "                    else:\n",
        "                        target = section_title\n",
        "                        start, end = out_st.start(), out_st.end()            \n",
        "            else:\n",
        "                target = label[0]   \n",
        "                start, end = out_l_small.start(), out_l_small.end() \n",
        "        else: \n",
        "            target = label[-1]   \n",
        "            start, end = out_l.start(), out_l.end()\n",
        "        \n",
        "        return target, start, end\n",
        "    else:\n",
        "        return new_title.group(), new_title.start(), new_title.end()\n",
        "\n",
        "def main()->None:\n",
        "\n",
        "    list_json = list(Path(PATH).glob('data_train_v2/*.*'))\n",
        "\n",
        "    if DEBUG is not None:\n",
        "        list_json = [np.random.choice(list_json)]\n",
        "\n",
        "    \n",
        "    for f in tqdm(list_json):\n",
        "        tmp = []\n",
        "        df_head = pd.read_csv(Path(PATH) / 'train.csv')\n",
        "        labels = df_head[df_head.Id == f.stem].cleaned_label.values\n",
        "        pub_title = df_head[df_head.Id == f.stem].pub_title.values[0]\n",
        "        label = sorted(labels)\n",
        "        with f.open() as json_file:\n",
        "            data_json = json.load(json_file)\n",
        "            \n",
        "            for idx in range(len(data_json['section_title'])):\n",
        "                txt = data_json['text'][str(idx)]\n",
        "              \n",
        "                section_title = data_json['section_title'][str(idx)]\n",
        "                if txt == 'nan':\n",
        "                    target, start, end  = np.nan, np.nan, np.nan\n",
        "                else:\n",
        "                    target, start, end  = make_label(label, txt, section_title)\n",
        "                \n",
        "                # start_txt = 0\n",
        "                # end_txt = len(txt)\n",
        "                ori_txt = txt\n",
        "       \n",
        "                if len(txt.split()) > 512:\n",
        "                    if start != end:\n",
        "                        l = len(txt)\n",
        "                        interval = 256\n",
        "                        txt = make_interval(start, txt, interval)\n",
        "\n",
        "                # fix start ends\n",
        "                # hmm we save originl tet and len\n",
        "\n",
        "                fix_len = re.search(r'\\b%s\\b' % target, txt)\n",
        "                if fix_len is not None:\n",
        "                    fix_len_start = fix_len.start()\n",
        "                    fix_len_end = fix_len.end()\n",
        "                else:\n",
        "                    fix_len_start = 0\n",
        "                    fix_len_end = 0                \n",
        "\n",
        "                tmp.append(\n",
        "                    {\n",
        "                    'question': clean_text_add_digit(pub_title), #National Education Longitudinal Study\n",
        "                    'text': txt,\n",
        "                    'answer': target,\n",
        "                    'answer_start': fix_len_start,\n",
        "                    'answer_end': fix_len_end,\n",
        "                    'origin_text': ori_txt,                       \n",
        "                    'origin_answer_start': start,\n",
        "                    'origin_answer_end': end,\n",
        "                    'len text': len(ori_txt.split())                  \n",
        "                    }\n",
        "                )       \n",
        "\n",
        "        if DEBUG is not None:\n",
        "            tmp_df = pd.DataFrame(tmp)\n",
        "            tmp_df['id'] = f.stem\n",
        "            # tmp_df = pd.DataFrame(tmp).dropna(axis = 0) \n",
        "            # tmp_df = tmp_df[tmp_df.answer_end != 0].reset_index(drop=True)\n",
        "            return tmp_df.reset_index(drop=True) \n",
        "        else:\n",
        "            tmp_df = pd.DataFrame(tmp).dropna(axis = 0)\n",
        "            # end not eq zeros never\n",
        "            tmp_df['id'] = f.stem        \n",
        "            tmp_df = tmp_df[tmp_df.answer_end != 0].reset_index(drop=True)\n",
        "            if tmp_df.shape[0] == 0:\n",
        "                print('shape = 0', f.stem)         \n",
        "            else:\n",
        "                tmp_df.to_csv(Path(PATH) / 'csv_fix_v6' / (f.stem + '.csv'), index = False)"
      ],
      "execution_count": 20,
      "outputs": []
    },
    {
      "cell_type": "code",
      "metadata": {
        "colab": {
          "base_uri": "https://localhost:8080/"
        },
        "id": "lei_A58zAnJe",
        "outputId": "a2f9573d-1aab-4047-e80c-287414549b92"
      },
      "source": [
        "DEBUG=None\n",
        "main()"
      ],
      "execution_count": 21,
      "outputs": [
        {
          "output_type": "stream",
          "text": [
            "  2%|▏         | 245/14002 [00:24<22:11, 10.33it/s]/usr/local/lib/python3.7/dist-packages/ipykernel_launcher.py:141: SettingWithCopyWarning: \n",
            "A value is trying to be set on a copy of a slice from a DataFrame.\n",
            "Try using .loc[row_indexer,col_indexer] = value instead\n",
            "\n",
            "See the caveats in the documentation: https://pandas.pydata.org/pandas-docs/stable/user_guide/indexing.html#returning-a-view-versus-a-copy\n",
            "  4%|▎         | 524/14002 [00:52<23:56,  9.38it/s]/usr/local/lib/python3.7/dist-packages/ipykernel_launcher.py:141: SettingWithCopyWarning: \n",
            "A value is trying to be set on a copy of a slice from a DataFrame.\n",
            "Try using .loc[row_indexer,col_indexer] = value instead\n",
            "\n",
            "See the caveats in the documentation: https://pandas.pydata.org/pandas-docs/stable/user_guide/indexing.html#returning-a-view-versus-a-copy\n",
            "  5%|▍         | 688/14002 [01:08<21:38, 10.25it/s]"
          ],
          "name": "stderr"
        },
        {
          "output_type": "stream",
          "text": [
            "shape = 0 137df1c9-9aba-43b6-9714-4baa4189a971\n"
          ],
          "name": "stdout"
        },
        {
          "output_type": "stream",
          "text": [
            "  9%|▉         | 1326/14002 [02:13<21:30,  9.83it/s]"
          ],
          "name": "stderr"
        },
        {
          "output_type": "stream",
          "text": [
            "shape = 0 7b0bbe49-2ca9-451c-afab-0517642a263f\n"
          ],
          "name": "stdout"
        },
        {
          "output_type": "stream",
          "text": [
            " 16%|█▌        | 2190/14002 [03:39<19:25, 10.14it/s]"
          ],
          "name": "stderr"
        },
        {
          "output_type": "stream",
          "text": [
            "shape = 0 65ec7b24-bf8b-4e4c-b34e-7992de18773d\n"
          ],
          "name": "stdout"
        },
        {
          "output_type": "stream",
          "text": [
            " 16%|█▌        | 2233/14002 [03:43<19:27, 10.08it/s]"
          ],
          "name": "stderr"
        },
        {
          "output_type": "stream",
          "text": [
            "shape = 0 9ebf1f28-9b6e-45fc-81b4-413cf6850c84\n"
          ],
          "name": "stdout"
        },
        {
          "output_type": "stream",
          "text": [
            " 20%|██        | 2829/14002 [04:43<18:41,  9.96it/s]/usr/local/lib/python3.7/dist-packages/ipykernel_launcher.py:141: SettingWithCopyWarning: \n",
            "A value is trying to be set on a copy of a slice from a DataFrame.\n",
            "Try using .loc[row_indexer,col_indexer] = value instead\n",
            "\n",
            "See the caveats in the documentation: https://pandas.pydata.org/pandas-docs/stable/user_guide/indexing.html#returning-a-view-versus-a-copy\n",
            " 21%|██▏       | 2994/14002 [04:59<17:52, 10.27it/s]"
          ],
          "name": "stderr"
        },
        {
          "output_type": "stream",
          "text": [
            "shape = 0 e0b6860c-e898-421d-bf29-f3873878c07d\n"
          ],
          "name": "stdout"
        },
        {
          "output_type": "stream",
          "text": [
            " 29%|██▉       | 4097/14002 [06:50<18:31,  8.91it/s]/usr/local/lib/python3.7/dist-packages/ipykernel_launcher.py:141: SettingWithCopyWarning: \n",
            "A value is trying to be set on a copy of a slice from a DataFrame.\n",
            "Try using .loc[row_indexer,col_indexer] = value instead\n",
            "\n",
            "See the caveats in the documentation: https://pandas.pydata.org/pandas-docs/stable/user_guide/indexing.html#returning-a-view-versus-a-copy\n",
            " 31%|███       | 4297/14002 [07:10<16:17,  9.93it/s]/usr/local/lib/python3.7/dist-packages/ipykernel_launcher.py:141: SettingWithCopyWarning: \n",
            "A value is trying to be set on a copy of a slice from a DataFrame.\n",
            "Try using .loc[row_indexer,col_indexer] = value instead\n",
            "\n",
            "See the caveats in the documentation: https://pandas.pydata.org/pandas-docs/stable/user_guide/indexing.html#returning-a-view-versus-a-copy\n",
            " 31%|███       | 4346/14002 [07:15<16:17,  9.88it/s]/usr/local/lib/python3.7/dist-packages/ipykernel_launcher.py:141: SettingWithCopyWarning: \n",
            "A value is trying to be set on a copy of a slice from a DataFrame.\n",
            "Try using .loc[row_indexer,col_indexer] = value instead\n",
            "\n",
            "See the caveats in the documentation: https://pandas.pydata.org/pandas-docs/stable/user_guide/indexing.html#returning-a-view-versus-a-copy\n",
            " 31%|███▏      | 4384/14002 [07:18<15:42, 10.21it/s]"
          ],
          "name": "stderr"
        },
        {
          "output_type": "stream",
          "text": [
            "shape = 0 d6b68a94-2c61-4a38-8e81-7bc524c54ebb\n"
          ],
          "name": "stdout"
        },
        {
          "output_type": "stream",
          "text": [
            " 33%|███▎      | 4657/14002 [07:46<14:59, 10.39it/s]"
          ],
          "name": "stderr"
        },
        {
          "output_type": "stream",
          "text": [
            "shape = 0 20a69766-063f-4dd7-9e4f-1d44b571bdb8\n"
          ],
          "name": "stdout"
        },
        {
          "output_type": "stream",
          "text": [
            " 39%|███▉      | 5475/14002 [09:09<13:44, 10.35it/s]"
          ],
          "name": "stderr"
        },
        {
          "output_type": "stream",
          "text": [
            "shape = 0 526e90f3-4b69-4466-85a5-d1528495d541\n"
          ],
          "name": "stdout"
        },
        {
          "output_type": "stream",
          "text": [
            " 41%|████      | 5711/14002 [09:33<13:51,  9.98it/s]"
          ],
          "name": "stderr"
        },
        {
          "output_type": "stream",
          "text": [
            "shape = 0 bc24201a-3698-4720-acfb-0eb5c7dc5f25\n"
          ],
          "name": "stdout"
        },
        {
          "output_type": "stream",
          "text": [
            " 41%|████▏     | 5778/14002 [09:39<13:14, 10.35it/s]"
          ],
          "name": "stderr"
        },
        {
          "output_type": "stream",
          "text": [
            "shape = 0 ff1bce8b-d207-4d5f-9a67-50b59bc7b975\n"
          ],
          "name": "stdout"
        },
        {
          "output_type": "stream",
          "text": [
            " 41%|████▏     | 5792/14002 [09:41<13:14, 10.33it/s]"
          ],
          "name": "stderr"
        },
        {
          "output_type": "stream",
          "text": [
            "shape = 0 3fbea7e1-eee3-41db-bb2c-15bf1367fb70\n"
          ],
          "name": "stdout"
        },
        {
          "output_type": "stream",
          "text": [
            " 42%|████▏     | 5944/14002 [09:56<13:16, 10.12it/s]/usr/local/lib/python3.7/dist-packages/ipykernel_launcher.py:141: SettingWithCopyWarning: \n",
            "A value is trying to be set on a copy of a slice from a DataFrame.\n",
            "Try using .loc[row_indexer,col_indexer] = value instead\n",
            "\n",
            "See the caveats in the documentation: https://pandas.pydata.org/pandas-docs/stable/user_guide/indexing.html#returning-a-view-versus-a-copy\n",
            " 43%|████▎     | 6004/14002 [10:02<13:09, 10.14it/s]/usr/local/lib/python3.7/dist-packages/ipykernel_launcher.py:141: SettingWithCopyWarning: \n",
            "A value is trying to be set on a copy of a slice from a DataFrame.\n",
            "Try using .loc[row_indexer,col_indexer] = value instead\n",
            "\n",
            "See the caveats in the documentation: https://pandas.pydata.org/pandas-docs/stable/user_guide/indexing.html#returning-a-view-versus-a-copy\n",
            " 49%|████▊     | 6811/14002 [11:23<12:03,  9.94it/s]"
          ],
          "name": "stderr"
        },
        {
          "output_type": "stream",
          "text": [
            "shape = 0 2c014ca6-04b7-4672-b594-e5aaf23cf2d5\n"
          ],
          "name": "stdout"
        },
        {
          "output_type": "stream",
          "text": [
            " 49%|████▉     | 6919/14002 [11:33<11:16, 10.47it/s]"
          ],
          "name": "stderr"
        },
        {
          "output_type": "stream",
          "text": [
            "shape = 0 703ed31d-8fbd-42a7-9bdd-797abf0adaa0\n"
          ],
          "name": "stdout"
        },
        {
          "output_type": "stream",
          "text": [
            " 50%|████▉     | 6933/14002 [11:35<11:25, 10.31it/s]"
          ],
          "name": "stderr"
        },
        {
          "output_type": "stream",
          "text": [
            "shape = 0 30ac418c-77f3-47d5-9a1a-ccacafa26c50\n"
          ],
          "name": "stdout"
        },
        {
          "output_type": "stream",
          "text": [
            " 51%|█████     | 7145/14002 [11:56<11:01, 10.37it/s]/usr/local/lib/python3.7/dist-packages/ipykernel_launcher.py:141: SettingWithCopyWarning: \n",
            "A value is trying to be set on a copy of a slice from a DataFrame.\n",
            "Try using .loc[row_indexer,col_indexer] = value instead\n",
            "\n",
            "See the caveats in the documentation: https://pandas.pydata.org/pandas-docs/stable/user_guide/indexing.html#returning-a-view-versus-a-copy\n",
            " 51%|█████▏    | 7195/14002 [12:01<10:49, 10.47it/s]"
          ],
          "name": "stderr"
        },
        {
          "output_type": "stream",
          "text": [
            "shape = 0 5ba41bf5-1f88-45b0-8138-e435202cb361\n"
          ],
          "name": "stdout"
        },
        {
          "output_type": "stream",
          "text": [
            " 51%|█████▏    | 7205/14002 [12:02<11:06, 10.20it/s]"
          ],
          "name": "stderr"
        },
        {
          "output_type": "stream",
          "text": [
            "shape = 0 ded210ea-c8cd-4873-ba82-d114695687fb\n"
          ],
          "name": "stdout"
        },
        {
          "output_type": "stream",
          "text": [
            " 51%|█████▏    | 7208/14002 [12:02<11:28,  9.87it/s]"
          ],
          "name": "stderr"
        },
        {
          "output_type": "stream",
          "text": [
            "shape = 0 26b9745c-e700-4732-b1eb-3e1713a13f57\n"
          ],
          "name": "stdout"
        },
        {
          "output_type": "stream",
          "text": [
            " 59%|█████▉    | 8314/14002 [13:52<09:01, 10.50it/s]"
          ],
          "name": "stderr"
        },
        {
          "output_type": "stream",
          "text": [
            "shape = 0 e573ab99-54f7-4bac-bfd9-dd29430600f5\n"
          ],
          "name": "stdout"
        },
        {
          "output_type": "stream",
          "text": [
            " 60%|██████    | 8407/14002 [14:01<09:07, 10.21it/s]"
          ],
          "name": "stderr"
        },
        {
          "output_type": "stream",
          "text": [
            "shape = 0 d675107e-6640-4831-8e55-b5f90e6410bc\n"
          ],
          "name": "stdout"
        },
        {
          "output_type": "stream",
          "text": [
            " 62%|██████▏   | 8634/14002 [14:24<09:07,  9.80it/s]/usr/local/lib/python3.7/dist-packages/ipykernel_launcher.py:141: SettingWithCopyWarning: \n",
            "A value is trying to be set on a copy of a slice from a DataFrame.\n",
            "Try using .loc[row_indexer,col_indexer] = value instead\n",
            "\n",
            "See the caveats in the documentation: https://pandas.pydata.org/pandas-docs/stable/user_guide/indexing.html#returning-a-view-versus-a-copy\n",
            " 63%|██████▎   | 8815/14002 [14:42<08:12, 10.53it/s]"
          ],
          "name": "stderr"
        },
        {
          "output_type": "stream",
          "text": [
            "shape = 0 ae3defe7-13e5-46db-84a6-4dc299918750\n"
          ],
          "name": "stdout"
        },
        {
          "output_type": "stream",
          "text": [
            " 67%|██████▋   | 9371/14002 [15:37<07:51,  9.82it/s]"
          ],
          "name": "stderr"
        },
        {
          "output_type": "stream",
          "text": [
            "shape = 0 4ff22cdc-741d-4276-8480-c7e94d7f84f0\n"
          ],
          "name": "stdout"
        },
        {
          "output_type": "stream",
          "text": [
            " 77%|███████▋  | 10757/14002 [17:56<05:14, 10.32it/s]"
          ],
          "name": "stderr"
        },
        {
          "output_type": "stream",
          "text": [
            "shape = 0 c6b1ae20-4299-4167-a1db-a4e37f5a872c\n"
          ],
          "name": "stdout"
        },
        {
          "output_type": "stream",
          "text": [
            " 79%|███████▉  | 11031/14002 [18:24<04:54, 10.08it/s]"
          ],
          "name": "stderr"
        },
        {
          "output_type": "stream",
          "text": [
            "shape = 0 90a2aaf0-8596-4830-a138-a44a3226d5c7\n"
          ],
          "name": "stdout"
        },
        {
          "output_type": "stream",
          "text": [
            " 80%|███████▉  | 11132/14002 [18:34<04:32, 10.52it/s]"
          ],
          "name": "stderr"
        },
        {
          "output_type": "stream",
          "text": [
            "shape = 0 d237ff71-b2d2-4a70-a014-f08b32b0cddd\n"
          ],
          "name": "stdout"
        },
        {
          "output_type": "stream",
          "text": [
            " 81%|████████  | 11330/14002 [18:53<04:18, 10.32it/s]"
          ],
          "name": "stderr"
        },
        {
          "output_type": "stream",
          "text": [
            "shape = 0 c27bdedd-b717-492c-a48b-d8d07677c1b5\n"
          ],
          "name": "stdout"
        },
        {
          "output_type": "stream",
          "text": [
            " 82%|████████▏ | 11416/14002 [19:02<04:25,  9.74it/s]"
          ],
          "name": "stderr"
        },
        {
          "output_type": "stream",
          "text": [
            "shape = 0 88ec1a9d-213c-4d66-8a9f-226671b9e13a\n"
          ],
          "name": "stdout"
        },
        {
          "output_type": "stream",
          "text": [
            " 84%|████████▍ | 11748/14002 [19:34<03:38, 10.31it/s]"
          ],
          "name": "stderr"
        },
        {
          "output_type": "stream",
          "text": [
            "shape = 0 ec9e0a3c-9415-4fc5-bd55-b823fb3f5115\n"
          ],
          "name": "stdout"
        },
        {
          "output_type": "stream",
          "text": [
            " 86%|████████▌ | 12043/14002 [20:04<03:11, 10.22it/s]"
          ],
          "name": "stderr"
        },
        {
          "output_type": "stream",
          "text": [
            "shape = 0 6ee08022-c96c-4f62-8c8a-2b1ab2a9bd2a\n"
          ],
          "name": "stdout"
        },
        {
          "output_type": "stream",
          "text": [
            " 87%|████████▋ | 12122/14002 [20:12<02:58, 10.56it/s]"
          ],
          "name": "stderr"
        },
        {
          "output_type": "stream",
          "text": [
            "shape = 0 0280af2e-f57b-4cde-98b9-0becd5b44c95\n"
          ],
          "name": "stdout"
        },
        {
          "output_type": "stream",
          "text": [
            " 87%|████████▋ | 12251/14002 [20:24<02:43, 10.72it/s]"
          ],
          "name": "stderr"
        },
        {
          "output_type": "stream",
          "text": [
            "shape = 0 ac6f1a97-c13a-4058-8ded-4ddd6534c66d\n"
          ],
          "name": "stdout"
        },
        {
          "output_type": "stream",
          "text": [
            " 88%|████████▊ | 12372/14002 [20:36<02:34, 10.55it/s]"
          ],
          "name": "stderr"
        },
        {
          "output_type": "stream",
          "text": [
            "shape = 0 bf84fe87-0d9b-48ab-a24e-ccccfb60af2a\n"
          ],
          "name": "stdout"
        },
        {
          "output_type": "stream",
          "text": [
            " 91%|█████████ | 12730/14002 [21:11<02:02, 10.35it/s]"
          ],
          "name": "stderr"
        },
        {
          "output_type": "stream",
          "text": [
            "shape = 0 550ea55c-6e6d-4dbb-8736-fb497c4234d9\n"
          ],
          "name": "stdout"
        },
        {
          "output_type": "stream",
          "text": [
            " 91%|█████████▏| 12779/14002 [21:16<02:01, 10.11it/s]"
          ],
          "name": "stderr"
        },
        {
          "output_type": "stream",
          "text": [
            "shape = 0 9cd31f6a-f900-4388-bbaa-91c0ac781565\n"
          ],
          "name": "stdout"
        },
        {
          "output_type": "stream",
          "text": [
            " 91%|█████████▏| 12791/14002 [21:18<01:56, 10.40it/s]"
          ],
          "name": "stderr"
        },
        {
          "output_type": "stream",
          "text": [
            "shape = 0 cb21f8af-8296-4970-ad64-24821f2eeb61\n"
          ],
          "name": "stdout"
        },
        {
          "output_type": "stream",
          "text": [
            " 93%|█████████▎| 13050/14002 [21:43<01:29, 10.63it/s]"
          ],
          "name": "stderr"
        },
        {
          "output_type": "stream",
          "text": [
            "shape = 0 99096154-27e5-4b1a-9622-2ba0b1fcfcab\n"
          ],
          "name": "stdout"
        },
        {
          "output_type": "stream",
          "text": [
            " 94%|█████████▍| 13154/14002 [21:53<01:24, 10.01it/s]"
          ],
          "name": "stderr"
        },
        {
          "output_type": "stream",
          "text": [
            "shape = 0 ccbeae47-bd72-483c-9b00-ae08156c212e\n"
          ],
          "name": "stdout"
        },
        {
          "output_type": "stream",
          "text": [
            " 94%|█████████▍| 13231/14002 [22:01<01:17,  9.99it/s]/usr/local/lib/python3.7/dist-packages/ipykernel_launcher.py:141: SettingWithCopyWarning: \n",
            "A value is trying to be set on a copy of a slice from a DataFrame.\n",
            "Try using .loc[row_indexer,col_indexer] = value instead\n",
            "\n",
            "See the caveats in the documentation: https://pandas.pydata.org/pandas-docs/stable/user_guide/indexing.html#returning-a-view-versus-a-copy\n",
            " 97%|█████████▋| 13605/14002 [22:38<00:37, 10.51it/s]"
          ],
          "name": "stderr"
        },
        {
          "output_type": "stream",
          "text": [
            "shape = 0 98958405-bdfc-4ac8-99ea-0873a05f1d80\n"
          ],
          "name": "stdout"
        },
        {
          "output_type": "stream",
          "text": [
            "100%|██████████| 14002/14002 [23:17<00:00, 10.02it/s]\n"
          ],
          "name": "stderr"
        }
      ]
    },
    {
      "cell_type": "code",
      "metadata": {
        "colab": {
          "base_uri": "https://localhost:8080/",
          "height": 1000
        },
        "id": "Tp9Ofb7FbZUB",
        "outputId": "1b8f758f-9434-4534-de9a-0b0ad4a33ccf"
      },
      "source": [
        "DEBUG='Fix'\n",
        "a = main()\n",
        "a"
      ],
      "execution_count": null,
      "outputs": [
        {
          "output_type": "stream",
          "text": [
            "  0%|          | 0/1 [00:00<?, ?it/s]\n"
          ],
          "name": "stderr"
        },
        {
          "output_type": "execute_result",
          "data": {
            "text/html": [
              "<div>\n",
              "<style scoped>\n",
              "    .dataframe tbody tr th:only-of-type {\n",
              "        vertical-align: middle;\n",
              "    }\n",
              "\n",
              "    .dataframe tbody tr th {\n",
              "        vertical-align: top;\n",
              "    }\n",
              "\n",
              "    .dataframe thead th {\n",
              "        text-align: right;\n",
              "    }\n",
              "</style>\n",
              "<table border=\"1\" class=\"dataframe\">\n",
              "  <thead>\n",
              "    <tr style=\"text-align: right;\">\n",
              "      <th></th>\n",
              "      <th>question</th>\n",
              "      <th>text</th>\n",
              "      <th>answer</th>\n",
              "      <th>answer_start</th>\n",
              "      <th>answer_end</th>\n",
              "      <th>origin_text</th>\n",
              "      <th>origin_answer_start</th>\n",
              "      <th>origin_answer_end</th>\n",
              "      <th>len text</th>\n",
              "      <th>id</th>\n",
              "    </tr>\n",
              "  </thead>\n",
              "  <tbody>\n",
              "    <tr>\n",
              "      <th>0</th>\n",
              "      <td>spill in counts in the quantification of 18f f...</td>\n",
              "      <td>background we aim to provide a systematic stud...</td>\n",
              "      <td>alzheimer s disease neuroimaging initiative adni</td>\n",
              "      <td>486</td>\n",
              "      <td>535</td>\n",
              "      <td>background we aim to provide a systematic stud...</td>\n",
              "      <td>486.0</td>\n",
              "      <td>535.0</td>\n",
              "      <td>318</td>\n",
              "      <td>e9b3ea9c-251e-4b51-8ebf-db7d09325c66</td>\n",
              "    </tr>\n",
              "    <tr>\n",
              "      <th>1</th>\n",
              "      <td>spill in counts in the quantification of 18f f...</td>\n",
              "      <td>structured myelin basic proteins and as such r...</td>\n",
              "      <td>alzheimer s disease neuroimaging initiative adni</td>\n",
              "      <td>0</td>\n",
              "      <td>0</td>\n",
              "      <td>structured myelin basic proteins and as such r...</td>\n",
              "      <td>0.0</td>\n",
              "      <td>0.0</td>\n",
              "      <td>477</td>\n",
              "      <td>e9b3ea9c-251e-4b51-8ebf-db7d09325c66</td>\n",
              "    </tr>\n",
              "    <tr>\n",
              "      <th>2</th>\n",
              "      <td>spill in counts in the quantification of 18f f...</td>\n",
              "      <td>nan</td>\n",
              "      <td>NaN</td>\n",
              "      <td>0</td>\n",
              "      <td>3</td>\n",
              "      <td>nan</td>\n",
              "      <td>NaN</td>\n",
              "      <td>NaN</td>\n",
              "      <td>1</td>\n",
              "      <td>e9b3ea9c-251e-4b51-8ebf-db7d09325c66</td>\n",
              "    </tr>\n",
              "    <tr>\n",
              "      <th>3</th>\n",
              "      <td>spill in counts in the quantification of 18f f...</td>\n",
              "      <td>patient data used in the preparation of this a...</td>\n",
              "      <td>alzheimer s disease neuroimaging initiative adni</td>\n",
              "      <td>76</td>\n",
              "      <td>125</td>\n",
              "      <td>patient data used in the preparation of this a...</td>\n",
              "      <td>76.0</td>\n",
              "      <td>125.0</td>\n",
              "      <td>100</td>\n",
              "      <td>e9b3ea9c-251e-4b51-8ebf-db7d09325c66</td>\n",
              "    </tr>\n",
              "    <tr>\n",
              "      <th>4</th>\n",
              "      <td>spill in counts in the quantification of 18f f...</td>\n",
              "      <td>pet images were acquired by using dynamic d ac...</td>\n",
              "      <td>adni</td>\n",
              "      <td>174</td>\n",
              "      <td>178</td>\n",
              "      <td>pet images were acquired by using dynamic d ac...</td>\n",
              "      <td>174.0</td>\n",
              "      <td>178.0</td>\n",
              "      <td>181</td>\n",
              "      <td>e9b3ea9c-251e-4b51-8ebf-db7d09325c66</td>\n",
              "    </tr>\n",
              "    <tr>\n",
              "      <th>5</th>\n",
              "      <td>spill in counts in the quantification of 18f f...</td>\n",
              "      <td>image processing was performed using the stati...</td>\n",
              "      <td>adni</td>\n",
              "      <td>1380</td>\n",
              "      <td>1384</td>\n",
              "      <td>image processing was performed using the stati...</td>\n",
              "      <td>1380.0</td>\n",
              "      <td>1384.0</td>\n",
              "      <td>370</td>\n",
              "      <td>e9b3ea9c-251e-4b51-8ebf-db7d09325c66</td>\n",
              "    </tr>\n",
              "    <tr>\n",
              "      <th>6</th>\n",
              "      <td>spill in counts in the quantification of 18f f...</td>\n",
              "      <td>firstly the variability of wm suvr cgm across ...</td>\n",
              "      <td>adni</td>\n",
              "      <td>167</td>\n",
              "      <td>171</td>\n",
              "      <td>firstly the variability of wm suvr cgm across ...</td>\n",
              "      <td>167.0</td>\n",
              "      <td>171.0</td>\n",
              "      <td>120</td>\n",
              "      <td>e9b3ea9c-251e-4b51-8ebf-db7d09325c66</td>\n",
              "    </tr>\n",
              "    <tr>\n",
              "      <th>7</th>\n",
              "      <td>spill in counts in the quantification of 18f f...</td>\n",
              "      <td>the impact of the changes in wm uptake on the ...</td>\n",
              "      <td>adni</td>\n",
              "      <td>347</td>\n",
              "      <td>351</td>\n",
              "      <td>the impact of the changes in wm uptake on the ...</td>\n",
              "      <td>347.0</td>\n",
              "      <td>351.0</td>\n",
              "      <td>242</td>\n",
              "      <td>e9b3ea9c-251e-4b51-8ebf-db7d09325c66</td>\n",
              "    </tr>\n",
              "    <tr>\n",
              "      <th>8</th>\n",
              "      <td>spill in counts in the quantification of 18f f...</td>\n",
              "      <td>patient specific activity maps were generated ...</td>\n",
              "      <td>adni</td>\n",
              "      <td>551</td>\n",
              "      <td>555</td>\n",
              "      <td>patient specific activity maps were generated ...</td>\n",
              "      <td>551.0</td>\n",
              "      <td>555.0</td>\n",
              "      <td>219</td>\n",
              "      <td>e9b3ea9c-251e-4b51-8ebf-db7d09325c66</td>\n",
              "    </tr>\n",
              "    <tr>\n",
              "      <th>9</th>\n",
              "      <td>spill in counts in the quantification of 18f f...</td>\n",
              "      <td>mc simulations were performed using the open a...</td>\n",
              "      <td>adni</td>\n",
              "      <td>767</td>\n",
              "      <td>771</td>\n",
              "      <td>mc simulations were performed using the open a...</td>\n",
              "      <td>767.0</td>\n",
              "      <td>771.0</td>\n",
              "      <td>205</td>\n",
              "      <td>e9b3ea9c-251e-4b51-8ebf-db7d09325c66</td>\n",
              "    </tr>\n",
              "    <tr>\n",
              "      <th>10</th>\n",
              "      <td>spill in counts in the quantification of 18f f...</td>\n",
              "      <td>the image reconstruction of the simulated data...</td>\n",
              "      <td>image reconstruction</td>\n",
              "      <td>4</td>\n",
              "      <td>24</td>\n",
              "      <td>the image reconstruction of the simulated data...</td>\n",
              "      <td>4.0</td>\n",
              "      <td>24.0</td>\n",
              "      <td>89</td>\n",
              "      <td>e9b3ea9c-251e-4b51-8ebf-db7d09325c66</td>\n",
              "    </tr>\n",
              "    <tr>\n",
              "      <th>11</th>\n",
              "      <td>spill in counts in the quantification of 18f f...</td>\n",
              "      <td>suvr cgm suvr wc and wm suvr cgm for the simul...</td>\n",
              "      <td>alzheimer s disease neuroimaging initiative adni</td>\n",
              "      <td>0</td>\n",
              "      <td>0</td>\n",
              "      <td>suvr cgm suvr wc and wm suvr cgm for the simul...</td>\n",
              "      <td>0.0</td>\n",
              "      <td>0.0</td>\n",
              "      <td>87</td>\n",
              "      <td>e9b3ea9c-251e-4b51-8ebf-db7d09325c66</td>\n",
              "    </tr>\n",
              "    <tr>\n",
              "      <th>12</th>\n",
              "      <td>spill in counts in the quantification of 18f f...</td>\n",
              "      <td>two pvc methods were tested on the simulated d...</td>\n",
              "      <td>adni</td>\n",
              "      <td>202</td>\n",
              "      <td>206</td>\n",
              "      <td>two pvc methods were tested on the simulated d...</td>\n",
              "      <td>202.0</td>\n",
              "      <td>206.0</td>\n",
              "      <td>530</td>\n",
              "      <td>e9b3ea9c-251e-4b51-8ebf-db7d09325c66</td>\n",
              "    </tr>\n",
              "    <tr>\n",
              "      <th>13</th>\n",
              "      <td>spill in counts in the quantification of 18f f...</td>\n",
              "      <td>in addition a simple analytical correction was...</td>\n",
              "      <td>alzheimer s disease neuroimaging initiative adni</td>\n",
              "      <td>0</td>\n",
              "      <td>0</td>\n",
              "      <td>in addition a simple analytical correction was...</td>\n",
              "      <td>0.0</td>\n",
              "      <td>0.0</td>\n",
              "      <td>110</td>\n",
              "      <td>e9b3ea9c-251e-4b51-8ebf-db7d09325c66</td>\n",
              "    </tr>\n",
              "    <tr>\n",
              "      <th>14</th>\n",
              "      <td>spill in counts in the quantification of 18f f...</td>\n",
              "      <td>nan</td>\n",
              "      <td>NaN</td>\n",
              "      <td>0</td>\n",
              "      <td>3</td>\n",
              "      <td>nan</td>\n",
              "      <td>NaN</td>\n",
              "      <td>NaN</td>\n",
              "      <td>1</td>\n",
              "      <td>e9b3ea9c-251e-4b51-8ebf-db7d09325c66</td>\n",
              "    </tr>\n",
              "    <tr>\n",
              "      <th>15</th>\n",
              "      <td>spill in counts in the quantification of 18f f...</td>\n",
              "      <td>of the analyzed cn patients were discarded bec...</td>\n",
              "      <td>adni</td>\n",
              "      <td>211</td>\n",
              "      <td>215</td>\n",
              "      <td>of the analyzed cn patients were discarded bec...</td>\n",
              "      <td>211.0</td>\n",
              "      <td>215.0</td>\n",
              "      <td>213</td>\n",
              "      <td>e9b3ea9c-251e-4b51-8ebf-db7d09325c66</td>\n",
              "    </tr>\n",
              "    <tr>\n",
              "      <th>16</th>\n",
              "      <td>spill in counts in the quantification of 18f f...</td>\n",
              "      <td>patient data was corrected by applying the lin...</td>\n",
              "      <td>alzheimer s disease neuroimaging initiative adni</td>\n",
              "      <td>0</td>\n",
              "      <td>0</td>\n",
              "      <td>patient data was corrected by applying the lin...</td>\n",
              "      <td>0.0</td>\n",
              "      <td>0.0</td>\n",
              "      <td>72</td>\n",
              "      <td>e9b3ea9c-251e-4b51-8ebf-db7d09325c66</td>\n",
              "    </tr>\n",
              "    <tr>\n",
              "      <th>17</th>\n",
              "      <td>spill in counts in the quantification of 18f f...</td>\n",
              "      <td>if a reference region including wm in our case...</td>\n",
              "      <td>adni</td>\n",
              "      <td>1480</td>\n",
              "      <td>1484</td>\n",
              "      <td>several publications have recently pointed to ...</td>\n",
              "      <td>2628.0</td>\n",
              "      <td>2632.0</td>\n",
              "      <td>1448</td>\n",
              "      <td>e9b3ea9c-251e-4b51-8ebf-db7d09325c66</td>\n",
              "    </tr>\n",
              "    <tr>\n",
              "      <th>18</th>\n",
              "      <td>spill in counts in the quantification of 18f f...</td>\n",
              "      <td>we have observed that there is a significant p...</td>\n",
              "      <td>adni</td>\n",
              "      <td>882</td>\n",
              "      <td>886</td>\n",
              "      <td>we have observed that there is a significant p...</td>\n",
              "      <td>882.0</td>\n",
              "      <td>886.0</td>\n",
              "      <td>472</td>\n",
              "      <td>e9b3ea9c-251e-4b51-8ebf-db7d09325c66</td>\n",
              "    </tr>\n",
              "  </tbody>\n",
              "</table>\n",
              "</div>"
            ],
            "text/plain": [
              "                                             question  ...                                    id\n",
              "0   spill in counts in the quantification of 18f f...  ...  e9b3ea9c-251e-4b51-8ebf-db7d09325c66\n",
              "1   spill in counts in the quantification of 18f f...  ...  e9b3ea9c-251e-4b51-8ebf-db7d09325c66\n",
              "2   spill in counts in the quantification of 18f f...  ...  e9b3ea9c-251e-4b51-8ebf-db7d09325c66\n",
              "3   spill in counts in the quantification of 18f f...  ...  e9b3ea9c-251e-4b51-8ebf-db7d09325c66\n",
              "4   spill in counts in the quantification of 18f f...  ...  e9b3ea9c-251e-4b51-8ebf-db7d09325c66\n",
              "5   spill in counts in the quantification of 18f f...  ...  e9b3ea9c-251e-4b51-8ebf-db7d09325c66\n",
              "6   spill in counts in the quantification of 18f f...  ...  e9b3ea9c-251e-4b51-8ebf-db7d09325c66\n",
              "7   spill in counts in the quantification of 18f f...  ...  e9b3ea9c-251e-4b51-8ebf-db7d09325c66\n",
              "8   spill in counts in the quantification of 18f f...  ...  e9b3ea9c-251e-4b51-8ebf-db7d09325c66\n",
              "9   spill in counts in the quantification of 18f f...  ...  e9b3ea9c-251e-4b51-8ebf-db7d09325c66\n",
              "10  spill in counts in the quantification of 18f f...  ...  e9b3ea9c-251e-4b51-8ebf-db7d09325c66\n",
              "11  spill in counts in the quantification of 18f f...  ...  e9b3ea9c-251e-4b51-8ebf-db7d09325c66\n",
              "12  spill in counts in the quantification of 18f f...  ...  e9b3ea9c-251e-4b51-8ebf-db7d09325c66\n",
              "13  spill in counts in the quantification of 18f f...  ...  e9b3ea9c-251e-4b51-8ebf-db7d09325c66\n",
              "14  spill in counts in the quantification of 18f f...  ...  e9b3ea9c-251e-4b51-8ebf-db7d09325c66\n",
              "15  spill in counts in the quantification of 18f f...  ...  e9b3ea9c-251e-4b51-8ebf-db7d09325c66\n",
              "16  spill in counts in the quantification of 18f f...  ...  e9b3ea9c-251e-4b51-8ebf-db7d09325c66\n",
              "17  spill in counts in the quantification of 18f f...  ...  e9b3ea9c-251e-4b51-8ebf-db7d09325c66\n",
              "18  spill in counts in the quantification of 18f f...  ...  e9b3ea9c-251e-4b51-8ebf-db7d09325c66\n",
              "\n",
              "[19 rows x 10 columns]"
            ]
          },
          "metadata": {
            "tags": []
          },
          "execution_count": 90
        }
      ]
    },
    {
      "cell_type": "code",
      "metadata": {
        "colab": {
          "base_uri": "https://localhost:8080/"
        },
        "id": "g_6CGw4pQZGW",
        "outputId": "1b61c560-932f-4fe0-97ad-2bedbb0fdd90"
      },
      "source": [
        "a.iloc[17]"
      ],
      "execution_count": null,
      "outputs": [
        {
          "output_type": "execute_result",
          "data": {
            "text/plain": [
              "question               spill in counts in the quantification of 18f f...\n",
              "text                   if a reference region including wm in our case...\n",
              "answer                                                              adni\n",
              "answer_start                                                        1480\n",
              "answer_end                                                          1484\n",
              "origin_text            several publications have recently pointed to ...\n",
              "origin_answer_start                                                 2628\n",
              "origin_answer_end                                                   2632\n",
              "len text                                                            1448\n",
              "id                                  e9b3ea9c-251e-4b51-8ebf-db7d09325c66\n",
              "Name: 17, dtype: object"
            ]
          },
          "metadata": {
            "tags": []
          },
          "execution_count": 94
        }
      ]
    },
    {
      "cell_type": "code",
      "metadata": {
        "colab": {
          "base_uri": "https://localhost:8080/"
        },
        "id": "1lZVJkOgQfcc",
        "outputId": "28e159d1-3d03-4eff-c4bb-b1f55534d1f7"
      },
      "source": [
        "re.search(r'\\badni\\b', a.iloc[17].text), re.search(r'\\badni\\b', a.iloc[17].origin_text)"
      ],
      "execution_count": null,
      "outputs": [
        {
          "output_type": "execute_result",
          "data": {
            "text/plain": [
              "(<re.Match object; span=(1480, 1484), match='adni'>,\n",
              " <re.Match object; span=(2628, 2632), match='adni'>)"
            ]
          },
          "metadata": {
            "tags": []
          },
          "execution_count": 110
        }
      ]
    },
    {
      "cell_type": "markdown",
      "metadata": {
        "id": "6jt39nILYMFC"
      },
      "source": [
        "Check correct"
      ]
    },
    {
      "cell_type": "code",
      "metadata": {
        "id": "961IM_ppLGUM"
      },
      "source": [
        "zero_df = [\n",
        "        '137df1c9-9aba-43b6-9714-4baa4189a971',\n",
        "        '7b0bbe49-2ca9-451c-afab-0517642a263f',\n",
        "        '65ec7b24-bf8b-4e4c-b34e-7992de18773d',\n",
        "        '9ebf1f28-9b6e-45fc-81b4-413cf6850c84',\n",
        "        'e0b6860c-e898-421d-bf29-f3873878c07d',\n",
        "        'd6b68a94-2c61-4a38-8e81-7bc524c54ebb',\n",
        "        '20a69766-063f-4dd7-9e4f-1d44b571bdb8',\n",
        "        '526e90f3-4b69-4466-85a5-d1528495d541',\n",
        "        'bc24201a-3698-4720-acfb-0eb5c7dc5f25',\n",
        "        'ff1bce8b-d207-4d5f-9a67-50b59bc7b975',\n",
        "        '3fbea7e1-eee3-41db-bb2c-15bf1367fb70',\n",
        "        '2c014ca6-04b7-4672-b594-e5aaf23cf2d5',\n",
        "        '703ed31d-8fbd-42a7-9bdd-797abf0adaa0',\n",
        "        '30ac418c-77f3-47d5-9a1a-ccacafa26c50',\n",
        "        '5ba41bf5-1f88-45b0-8138-e435202cb361',\n",
        "        'ded210ea-c8cd-4873-ba82-d114695687fb',\n",
        "        '26b9745c-e700-4732-b1eb-3e1713a13f57',\n",
        "        'e573ab99-54f7-4bac-bfd9-dd29430600f5',\n",
        "        'd675107e-6640-4831-8e55-b5f90e6410bc',\n",
        "        'ae3defe7-13e5-46db-84a6-4dc299918750',\n",
        "        '4ff22cdc-741d-4276-8480-c7e94d7f84f0',\n",
        "        'c6b1ae20-4299-4167-a1db-a4e37f5a872c',\n",
        "        '90a2aaf0-8596-4830-a138-a44a3226d5c7',\n",
        "        'd237ff71-b2d2-4a70-a014-f08b32b0cddd',\n",
        "        'c27bdedd-b717-492c-a48b-d8d07677c1b5',\n",
        "        '88ec1a9d-213c-4d66-8a9f-226671b9e13a',\n",
        "        'ec9e0a3c-9415-4fc5-bd55-b823fb3f5115',\n",
        "        '6ee08022-c96c-4f62-8c8a-2b1ab2a9bd2a',\n",
        "        '0280af2e-f57b-4cde-98b9-0becd5b44c95',\n",
        "        'ac6f1a97-c13a-4058-8ded-4ddd6534c66d',\n",
        "        'bf84fe87-0d9b-48ab-a24e-ccccfb60af2a',\n",
        "        '550ea55c-6e6d-4dbb-8736-fb497c4234d9',\n",
        "        '9cd31f6a-f900-4388-bbaa-91c0ac781565',\n",
        "        'cb21f8af-8296-4970-ad64-24821f2eeb61',\n",
        "        '99096154-27e5-4b1a-9622-2ba0b1fcfcab',\n",
        "        'ccbeae47-bd72-483c-9b00-ae08156c212e',\n",
        "        '98958405-bdfc-4ac8-99ea-0873a05f1d80'\n",
        "        ]"
      ],
      "execution_count": 22,
      "outputs": []
    },
    {
      "cell_type": "code",
      "metadata": {
        "colab": {
          "base_uri": "https://localhost:8080/",
          "height": 683
        },
        "id": "Zawq53l5eFIy",
        "outputId": "b13c1f71-5605-4d6f-9152-6152468747d5"
      },
      "source": [
        "assert len(list(Path(PATH).glob('csv_fix_v6/*.*'))) == 14002 - len(zero_df), 'error saved not eq'\n",
        "a = pd.read_csv(np.random.choice(list(Path(PATH).glob('csv_fix_v6/*.*'))))\n",
        "a"
      ],
      "execution_count": 24,
      "outputs": [
        {
          "output_type": "execute_result",
          "data": {
            "text/html": [
              "<div>\n",
              "<style scoped>\n",
              "    .dataframe tbody tr th:only-of-type {\n",
              "        vertical-align: middle;\n",
              "    }\n",
              "\n",
              "    .dataframe tbody tr th {\n",
              "        vertical-align: top;\n",
              "    }\n",
              "\n",
              "    .dataframe thead th {\n",
              "        text-align: right;\n",
              "    }\n",
              "</style>\n",
              "<table border=\"1\" class=\"dataframe\">\n",
              "  <thead>\n",
              "    <tr style=\"text-align: right;\">\n",
              "      <th></th>\n",
              "      <th>question</th>\n",
              "      <th>text</th>\n",
              "      <th>answer</th>\n",
              "      <th>answer_start</th>\n",
              "      <th>answer_end</th>\n",
              "      <th>origin_text</th>\n",
              "      <th>origin_answer_start</th>\n",
              "      <th>origin_answer_end</th>\n",
              "      <th>len text</th>\n",
              "      <th>id</th>\n",
              "    </tr>\n",
              "  </thead>\n",
              "  <tbody>\n",
              "    <tr>\n",
              "      <th>0</th>\n",
              "      <td>ensemble merit merge feature selection for enh...</td>\n",
              "      <td>bagging follows a bootstrap method of data sel...</td>\n",
              "      <td>bagging</td>\n",
              "      <td>0</td>\n",
              "      <td>7</td>\n",
              "      <td>bagging follows a bootstrap method of data sel...</td>\n",
              "      <td>0.0</td>\n",
              "      <td>7.0</td>\n",
              "      <td>416</td>\n",
              "      <td>09336949-3842-4d47-b110-23e93d5bb48d</td>\n",
              "    </tr>\n",
              "    <tr>\n",
              "      <th>1</th>\n",
              "      <td>ensemble merit merge feature selection for enh...</td>\n",
              "      <td>na ve bayes classifier is a statistical techni...</td>\n",
              "      <td>na ve bayes</td>\n",
              "      <td>0</td>\n",
              "      <td>11</td>\n",
              "      <td>na ve bayes classifier is a statistical techni...</td>\n",
              "      <td>0.0</td>\n",
              "      <td>11.0</td>\n",
              "      <td>70</td>\n",
              "      <td>09336949-3842-4d47-b110-23e93d5bb48d</td>\n",
              "    </tr>\n",
              "    <tr>\n",
              "      <th>2</th>\n",
              "      <td>ensemble merit merge feature selection for enh...</td>\n",
              "      <td>there are phases in the proposed merit merge f...</td>\n",
              "      <td>ensemble feature selection</td>\n",
              "      <td>1599</td>\n",
              "      <td>1625</td>\n",
              "      <td>there are phases in the proposed merit merge f...</td>\n",
              "      <td>1599.0</td>\n",
              "      <td>1625.0</td>\n",
              "      <td>616</td>\n",
              "      <td>09336949-3842-4d47-b110-23e93d5bb48d</td>\n",
              "    </tr>\n",
              "    <tr>\n",
              "      <th>3</th>\n",
              "      <td>ensemble merit merge feature selection for enh...</td>\n",
              "      <td>the results are evaluated based on the perform...</td>\n",
              "      <td>results</td>\n",
              "      <td>4</td>\n",
              "      <td>11</td>\n",
              "      <td>the results are evaluated based on the perform...</td>\n",
              "      <td>4.0</td>\n",
              "      <td>11.0</td>\n",
              "      <td>464</td>\n",
              "      <td>09336949-3842-4d47-b110-23e93d5bb48d</td>\n",
              "    </tr>\n",
              "    <tr>\n",
              "      <th>4</th>\n",
              "      <td>ensemble merit merge feature selection for enh...</td>\n",
              "      <td>t r sivapriya is the registered user of adni d...</td>\n",
              "      <td>alzheimer s disease neuroimaging initiative adni</td>\n",
              "      <td>107</td>\n",
              "      <td>156</td>\n",
              "      <td>t r sivapriya is the registered user of adni d...</td>\n",
              "      <td>107.0</td>\n",
              "      <td>156.0</td>\n",
              "      <td>86</td>\n",
              "      <td>09336949-3842-4d47-b110-23e93d5bb48d</td>\n",
              "    </tr>\n",
              "  </tbody>\n",
              "</table>\n",
              "</div>"
            ],
            "text/plain": [
              "                                            question  ...                                    id\n",
              "0  ensemble merit merge feature selection for enh...  ...  09336949-3842-4d47-b110-23e93d5bb48d\n",
              "1  ensemble merit merge feature selection for enh...  ...  09336949-3842-4d47-b110-23e93d5bb48d\n",
              "2  ensemble merit merge feature selection for enh...  ...  09336949-3842-4d47-b110-23e93d5bb48d\n",
              "3  ensemble merit merge feature selection for enh...  ...  09336949-3842-4d47-b110-23e93d5bb48d\n",
              "4  ensemble merit merge feature selection for enh...  ...  09336949-3842-4d47-b110-23e93d5bb48d\n",
              "\n",
              "[5 rows x 10 columns]"
            ]
          },
          "metadata": {
            "tags": []
          },
          "execution_count": 24
        }
      ]
    },
    {
      "cell_type": "markdown",
      "metadata": {
        "id": "sO310dB30GfN"
      },
      "source": [
        "## Concat all csv"
      ]
    },
    {
      "cell_type": "code",
      "metadata": {
        "colab": {
          "base_uri": "https://localhost:8080/"
        },
        "id": "SSto8l3z0N3X",
        "outputId": "e55bc7f0-01dd-4ac1-80ad-6fcc99f3957a"
      },
      "source": [
        "# len 13964\n",
        "# how maked\n",
        "dfs = []\n",
        "for f in tqdm(list(Path(PATH).glob('csv_fix_v6/*.*'))):\n",
        "    dfs.append(pd.read_csv(f))\n",
        "\n",
        "df = pd.concat(dfs)\n",
        "df = df.dropna()# fix 4\n",
        "df = df.reset_index(drop=True)\n",
        "df.to_csv('/content/drive/MyDrive/Coleridge_Initiative/input/v6_data_qa.csv', index = False)\n",
        "df.head(), df.shape"
      ],
      "execution_count": 25,
      "outputs": [
        {
          "output_type": "stream",
          "text": [
            "100%|██████████| 13965/13965 [01:01<00:00, 225.56it/s]\n"
          ],
          "name": "stderr"
        },
        {
          "output_type": "execute_result",
          "data": {
            "text/plain": [
              "(                                            question  ...                                    id\n",
              " 0  the impact of evaluation use on accounting pro...  ...  40bf999d-8537-47f7-8913-bd67b060146d\n",
              " 1  the impact of evaluation use on accounting pro...  ...  40bf999d-8537-47f7-8913-bd67b060146d\n",
              " 2  the sars cov 2 spike glycoprotein biosynthesis...  ...  5631ebad-191f-44d7-9c21-89b4f84852dc\n",
              " 3  mechanisms of pacific summer water variability...  ...  43f2034e-9220-4103-84bf-79f67b75f29c\n",
              " 4  mechanisms of pacific summer water variability...  ...  43f2034e-9220-4103-84bf-79f67b75f29c\n",
              " \n",
              " [5 rows x 10 columns], (62543, 10))"
            ]
          },
          "metadata": {
            "tags": []
          },
          "execution_count": 25
        }
      ]
    },
    {
      "cell_type": "markdown",
      "metadata": {
        "id": "ljxnHRWEIyzK"
      },
      "source": [
        "## To fix issure 2"
      ]
    },
    {
      "cell_type": "markdown",
      "metadata": {
        "id": "YwN8huXJC-u5"
      },
      "source": [
        "Okay i find problem i not change start and end after cut text old param not correct"
      ]
    },
    {
      "cell_type": "code",
      "metadata": {
        "id": "ZuiW8rNOIyBo"
      },
      "source": [
        "from termcolor import colored\n",
        "import textwrap"
      ],
      "execution_count": null,
      "outputs": []
    },
    {
      "cell_type": "code",
      "metadata": {
        "colab": {
          "base_uri": "https://localhost:8080/"
        },
        "id": "sGSYsjuHLls1",
        "outputId": "7aa55bb4-147f-4f6e-cd76-16d724935340"
      },
      "source": [
        "df = pd.read_csv('/content/drive/MyDrive/Coleridge_Initiative/input/v3_data_qa.csv')\n",
        "print(f'Size data: {df.shape[0]}, count uniques: {len(df.question.unique())}')"
      ],
      "execution_count": null,
      "outputs": [
        {
          "output_type": "stream",
          "text": [
            "Size data: 62586, count uniques: 13902\n"
          ],
          "name": "stdout"
        }
      ]
    },
    {
      "cell_type": "code",
      "metadata": {
        "colab": {
          "base_uri": "https://localhost:8080/"
        },
        "id": "91bQwFIFwc68",
        "outputId": "d34f4715-f10a-4c79-d3f7-7a5f3844d9d2"
      },
      "source": [
        "df.iloc[9999]"
      ],
      "execution_count": null,
      "outputs": [
        {
          "output_type": "execute_result",
          "data": {
            "text/plain": [
              "question               seeking explanation in theory reflections on t...\n",
              "text                   in transition and the principal investigator r...\n",
              "answer                                                   data collection\n",
              "answer_start                                                         256\n",
              "answer_end                                                           271\n",
              "origin_text            in may and june a cover letter that described ...\n",
              "origin_answer_start                                                  624\n",
              "origin_answer_end                                                    639\n",
              "len text                                                            4203\n",
              "id                                  2d858fc7-3c56-47de-94fc-b156c53afb55\n",
              "Name: 9999, dtype: object"
            ]
          },
          "metadata": {
            "tags": []
          },
          "execution_count": 13
        }
      ]
    },
    {
      "cell_type": "code",
      "metadata": {
        "colab": {
          "base_uri": "https://localhost:8080/"
        },
        "id": "LLklHhcrDkbf",
        "outputId": "f6b89d16-acf0-42ae-80f6-2d2920f5c8bb"
      },
      "source": [
        "ans = df.iloc[9999].answer\n",
        "txt = df.iloc[9999].text\n",
        "re.search(r'\\b%s\\b' % ans, txt)"
      ],
      "execution_count": null,
      "outputs": [
        {
          "output_type": "execute_result",
          "data": {
            "text/plain": [
              "<re.Match object; span=(256, 271), match='data collection'>"
            ]
          },
          "metadata": {
            "tags": []
          },
          "execution_count": 14
        }
      ]
    },
    {
      "cell_type": "code",
      "metadata": {
        "colab": {
          "base_uri": "https://localhost:8080/"
        },
        "id": "o4eTpDSvEJEB",
        "outputId": "70cf7f95-3829-4e0e-9c9b-450007ccbbea"
      },
      "source": [
        "print('Question: ', df.iloc[9999].question)\n",
        "print('Answer: ', df.iloc[9999].answer)\n",
        "print('Correct')\n",
        "print(colored(txt[:256], 'white'))\n",
        "print(colored(txt[256:271+1], 'green'))\n",
        "print(colored(txt[271+1:], 'white'))"
      ],
      "execution_count": null,
      "outputs": [
        {
          "output_type": "stream",
          "text": [
            "Question:  seeking explanation in theory reflections on the social practices of organizations that distribute public use microdata files for research purposes\n",
            "Answer:  data collection\n",
            "Correct\n",
            "\u001b[37min transition and the principal investigator reported that no one was available to answer questions about data confidentiality however we were able to gather limited descriptive information about this microdata set through their web site by the end of the \u001b[0m\n",
            "\u001b[32mdata collection \u001b[0m\n",
            "\u001b[37mperiod four additional data sets had been identified and information on a total of microdata sets that met the study criteria had been gathered these longitudinal microdata files contain detailed portraits of individuals families and househ\u001b[0m\n"
          ],
          "name": "stdout"
        }
      ]
    },
    {
      "cell_type": "markdown",
      "metadata": {
        "id": "cEUP_bKvbB4k"
      },
      "source": [
        "# to fix 3 len count latter but i need words"
      ]
    },
    {
      "cell_type": "code",
      "metadata": {
        "colab": {
          "base_uri": "https://localhost:8080/"
        },
        "id": "cXlZkR8l4VlP",
        "outputId": "4c451346-1e51-4e3e-aae2-ef75e5e00862"
      },
      "source": [
        "def make_interval(start:int, txt:str, interval: int)->str:\n",
        "    \"\"\"\n",
        "    start: int return re.search() count latter\n",
        "    txt: str text\n",
        "    interval: int len text \n",
        "\n",
        "    return: str text\n",
        "    \"\"\"\n",
        "    words = txt.split()\n",
        "    len_interval = interval * 2\n",
        "    start = len(txt[:start].split())    \n",
        "    if (start - interval) > 0:\n",
        "        start = start - interval\n",
        "        print(f'start {start}')\n",
        "        print('if in')\n",
        "        if start + len_interval < len(words):       \n",
        "            print(f'if in in {start + len_interval}')\n",
        "            words = words[start: start + len_interval]\n",
        "        else:\n",
        "            print(f'if else {start + len_interval}')      \n",
        "            words = words[start: len(words)]\n",
        "    else:\n",
        "        print(f'else in {start - interval}')\n",
        "        words = words[0: len_interval]\n",
        "    return ' '.join(words)\n",
        "\n",
        "txt = \"\"\"\n",
        "farm finance theme overview are the good times really over</s> the sector level trends reflect the economic performance of the farm economy as a whole however changes in sector level income and total sector real estate asset values accrue to farm operators as well as other agricultural stakeholders including nonoperator landowners according to a new usda survey the tenure ownership and transition of agricultural land total survey of land in farms in the contiguous states was rented or leased a portion of land in farms of this rented land was rented from other farm operators however the majority of land in farms of rented land was rented from non operators therefore both farm operators and non operators benefit from or are vulnerable to changes in farm income and asset values non operator landowners rented out of all land in farms which represented of the sector s value of real estate assets according to the total survey figure in contrast non operator landowners hold a disproportionately low portion of sector debt only as a result non operator landowners account for of farm real estate equity the farm sector s balance sheet nests the balance sheet of both operators and non operator landlords because non operators own a larger share of the sector s real estate assets than real estate debt the farm sector s balance sheet may appear relatively stronger than if only the assets and debt owned by farm operations are examined in addition certain farms may use debt more aggressively than others causing the sector balance sheet to mask heterogeneity among farms therefore looking at the leverage for farm operations and in particular farm businesses may better illustrate the extent sector level trends are reflected in the financial standing of individual farm operations farm businesses those farms with at least in sales or farms with lower revenues where the operator s primary occupation is farming account for more than of the sector s production and hold of all farm assets and of farm debt according to the agricultural resource management survey arms therefore examining changes in the leverage position of farm businesses will provide a good gauge of how closely changes in the solvency risk for these operations compares to the total sector s solvency risk which includes non operator landlords in addition to farm operators because farm businesses represent such a substantial portion of the farm sector the change in the average farm business d a ratios shows a similar pattern to that seen in the sector as a whole after reaching a near record low of in the average farm business d a ratio has been increasing and is expected to be higher at in</s>\n",
        "farm finance theme overview are the good times really over</s> the sector level trends reflect the economic performance of the farm economy as a whole however changes in sector level income and total sector real estate asset values accrue to farm operators as well as other agricultural stakeholders including nonoperator landowners according to a new usda survey the tenure ownership and transition of agricultural land total survey of land in farms in the contiguous states was rented or leased a portion of land in farms of this rented land was rented from other farm operators however the majority of land in farms of rented land was rented from non operators therefore both farm operators and non operators benefit from or are vulnerable to changes in farm income and asset values non operator landowners rented out of all land in farms which represented of the sector s value of real estate assets according to the total survey figure in contrast non operator landowners hold a disproportionately low portion of sector debt only as a result non operator landowners account for of farm real estate equity the farm sector s balance sheet nests the balance sheet of both operators and non operator landlords because non operators own a larger share of the sector s real estate assets than real estate debt the farm sector s balance sheet may appear relatively stronger than if only the assets and debt owned by farm operations are examined in addition certain farms may use debt more aggressively than others causing the sector balance sheet to mask heterogeneity among farms therefore looking at the leverage for farm operations and in particular farm businesses may better illustrate the extent sector level trends are reflected in the financial standing of individual farm operations farm businesses those farms with at least in sales or farms with lower revenues where the operator s primary occupation is farming account for more than of the sector s production and hold of all farm assets and of farm debt according to the agricultural resource management survey arms therefore examining changes in the leverage position of farm businesses will provide a good gauge of how closely changes in the solvency risk for these operations compares to the total sector s solvency risk which includes non operator landlords in addition to farm operators because farm businesses represent such a substantial portion of the farm sector the change in the average farm business d a ratios shows a similar pattern to that seen in the sector as a whole after reaching a near record low of in the average farm business d a ratio has been increasing and is expected to be higher at in</s>\n",
        "\"\"\"\n",
        "print(len(txt.split()), len(txt))"
      ],
      "execution_count": null,
      "outputs": [
        {
          "output_type": "stream",
          "text": [
            "896 5361\n"
          ],
          "name": "stdout"
        }
      ]
    },
    {
      "cell_type": "code",
      "metadata": {
        "colab": {
          "base_uri": "https://localhost:8080/",
          "height": 205
        },
        "id": "pItNC-yu-Dd6",
        "outputId": "0eb7ce50-04e0-4261-e1a8-302321e28928"
      },
      "source": [
        "make_interval(5218, txt, 256)"
      ],
      "execution_count": null,
      "outputs": [
        {
          "output_type": "stream",
          "text": [
            "start 612\n",
            "if in\n",
            "if else 1124\n"
          ],
          "name": "stdout"
        },
        {
          "output_type": "execute_result",
          "data": {
            "application/vnd.google.colaboratory.intrinsic+json": {
              "type": "string"
            },
            "text/plain": [
              "'disproportionately low portion of sector debt only as a result non operator landowners account for of farm real estate equity the farm sector s balance sheet nests the balance sheet of both operators and non operator landlords because non operators own a larger share of the sector s real estate assets than real estate debt the farm sector s balance sheet may appear relatively stronger than if only the assets and debt owned by farm operations are examined in addition certain farms may use debt more aggressively than others causing the sector balance sheet to mask heterogeneity among farms therefore looking at the leverage for farm operations and in particular farm businesses may better illustrate the extent sector level trends are reflected in the financial standing of individual farm operations farm businesses those farms with at least in sales or farms with lower revenues where the operator s primary occupation is farming account for more than of the sector s production and hold of all farm assets and of farm debt according to the agricultural resource management survey arms therefore examining changes in the leverage position of farm businesses will provide a good gauge of how closely changes in the solvency risk for these operations compares to the total sector s solvency risk which includes non operator landlords in addition to farm operators because farm businesses represent such a substantial portion of the farm sector the change in the average farm business d a ratios shows a similar pattern to that seen in the sector as a whole after reaching a near record low of in the average farm business d a ratio has been increasing and is expected to be higher at in</s>'"
            ]
          },
          "metadata": {
            "tags": []
          },
          "execution_count": 60
        }
      ]
    },
    {
      "cell_type": "code",
      "metadata": {
        "colab": {
          "base_uri": "https://localhost:8080/"
        },
        "id": "uQ_IIl1cDTq7",
        "outputId": "39fe4b88-4e31-4ff6-c715-b56c46d62015"
      },
      "source": [
        "896-612"
      ],
      "execution_count": null,
      "outputs": [
        {
          "output_type": "execute_result",
          "data": {
            "text/plain": [
              "284"
            ]
          },
          "metadata": {
            "tags": []
          },
          "execution_count": 57
        }
      ]
    },
    {
      "cell_type": "code",
      "metadata": {
        "colab": {
          "base_uri": "https://localhost:8080/"
        },
        "id": "Yw9zh9YPDWvC",
        "outputId": "2d755450-f769-4e10-889f-4c3c9b5b5d83"
      },
      "source": [
        "a = '''disproportionately low portion of sector debt only as a result non operator landowners account for of farm real estate equity the farm sector s balance sheet nests the balance sheet of both operators and non operator landlords because non operators own a larger share of the sector s real estate assets than real estate debt the farm sector s balance sheet may appear relatively stronger than if only the assets and debt owned by farm operations are examined in addition certain farms may use debt more aggressively than others causing the sector balance sheet to mask heterogeneity among farms therefore looking at the leverage for farm operations and in particular farm businesses may better illustrate the extent sector level trends are reflected in the financial standing of individual farm operations farm businesses those farms with at least in sales or farms with lower revenues where the operator s primary occupation is farming account for more than of the sector s production and hold of all farm assets and of farm debt according to the agricultural resource management survey arms therefore examining changes in the leverage position of farm businesses will provide a good gauge of how closely changes in the solvency risk for these operations compares to the total sector s solvency risk which includes non operator landlords in addition to farm operators because farm businesses represent such a substantial portion of the farm sector the change in the average farm business d a ratios shows a similar pattern to that seen in the sector as a whole after reaching a near record low of in the average farm business d a ratio has been increasing and is expected to be higher at in</s>'''\n",
        "\n",
        "len(a.split())"
      ],
      "execution_count": null,
      "outputs": [
        {
          "output_type": "execute_result",
          "data": {
            "text/plain": [
              "284"
            ]
          },
          "metadata": {
            "tags": []
          },
          "execution_count": 58
        }
      ]
    },
    {
      "cell_type": "markdown",
      "metadata": {
        "id": "fRx5asrz2ZW6"
      },
      "source": [
        "## to fix 4 answer have nan\n",
        "\n",
        "because label not in text but in text have nan\n",
        "skip"
      ]
    },
    {
      "cell_type": "code",
      "metadata": {
        "id": "5FrRI2sL2ZMG"
      },
      "source": [
        "df = pd.read_csv('/content/drive/MyDrive/Coleridge_Initiative/input/v4_data_qa.csv')\n",
        "df_head = pd.read_csv(os.path.join(PATH, 'train.csv'))"
      ],
      "execution_count": 6,
      "outputs": []
    },
    {
      "cell_type": "code",
      "metadata": {
        "colab": {
          "base_uri": "https://localhost:8080/",
          "height": 796
        },
        "id": "Cuuz-JmlhJTr",
        "outputId": "84a29101-da39-468e-d8bf-7ad55f134504"
      },
      "source": [
        "df_isna = df[df.answer.isna()]\n",
        "df_isna"
      ],
      "execution_count": 4,
      "outputs": [
        {
          "output_type": "execute_result",
          "data": {
            "text/html": [
              "<div>\n",
              "<style scoped>\n",
              "    .dataframe tbody tr th:only-of-type {\n",
              "        vertical-align: middle;\n",
              "    }\n",
              "\n",
              "    .dataframe tbody tr th {\n",
              "        vertical-align: top;\n",
              "    }\n",
              "\n",
              "    .dataframe thead th {\n",
              "        text-align: right;\n",
              "    }\n",
              "</style>\n",
              "<table border=\"1\" class=\"dataframe\">\n",
              "  <thead>\n",
              "    <tr style=\"text-align: right;\">\n",
              "      <th></th>\n",
              "      <th>question</th>\n",
              "      <th>text</th>\n",
              "      <th>answer</th>\n",
              "      <th>answer_start</th>\n",
              "      <th>answer_end</th>\n",
              "      <th>origin_text</th>\n",
              "      <th>origin_answer_start</th>\n",
              "      <th>origin_answer_end</th>\n",
              "      <th>len text</th>\n",
              "      <th>id</th>\n",
              "    </tr>\n",
              "  </thead>\n",
              "  <tbody>\n",
              "    <tr>\n",
              "      <th>1046</th>\n",
              "      <td>state of the climate in 2009</td>\n",
              "      <td>july as m to m occurred in northern caucasia o...</td>\n",
              "      <td>NaN</td>\n",
              "      <td>1930</td>\n",
              "      <td>1933</td>\n",
              "      <td>july as m to m occurred in northern caucasia o...</td>\n",
              "      <td>1930.0</td>\n",
              "      <td>1933.0</td>\n",
              "      <td>367</td>\n",
              "      <td>d60fdd8e-cc74-46f5-ad7e-6ddb47e4ab85</td>\n",
              "    </tr>\n",
              "    <tr>\n",
              "      <th>3294</th>\n",
              "      <td>regime shift of the south china sea sst in the...</td>\n",
              "      <td>to the west pacific ocean in the northern scs ...</td>\n",
              "      <td>NaN</td>\n",
              "      <td>1457</td>\n",
              "      <td>1460</td>\n",
              "      <td>the pdo or inter decadal pacific oscillation i...</td>\n",
              "      <td>3664.0</td>\n",
              "      <td>3667.0</td>\n",
              "      <td>946</td>\n",
              "      <td>41353837-186e-4814-ba1c-63ecb841cc42</td>\n",
              "    </tr>\n",
              "    <tr>\n",
              "      <th>16001</th>\n",
              "      <td>state of the climate in 2019</td>\n",
              "      <td>ii precipitation precipitation over the sahel ...</td>\n",
              "      <td>NaN</td>\n",
              "      <td>1407</td>\n",
              "      <td>1410</td>\n",
              "      <td>ii precipitation precipitation over the sahel ...</td>\n",
              "      <td>1407.0</td>\n",
              "      <td>1410.0</td>\n",
              "      <td>429</td>\n",
              "      <td>11703fa1-62d0-46ea-9b99-160b5dc81dad</td>\n",
              "    </tr>\n",
              "    <tr>\n",
              "      <th>18678</th>\n",
              "      <td>structured sparse canonical correlation analys...</td>\n",
              "      <td>the difference numbers in parentheses between ...</td>\n",
              "      <td>NaN</td>\n",
              "      <td>153</td>\n",
              "      <td>156</td>\n",
              "      <td>the difference numbers in parentheses between ...</td>\n",
              "      <td>153.0</td>\n",
              "      <td>156.0</td>\n",
              "      <td>421</td>\n",
              "      <td>e3643a65-5682-4c23-94ac-203bfceef7d1</td>\n",
              "    </tr>\n",
              "    <tr>\n",
              "      <th>23176</th>\n",
              "      <td>base year sample design report national educat...</td>\n",
              "      <td>selection of students parents teachers and sch...</td>\n",
              "      <td>NaN</td>\n",
              "      <td>1115</td>\n",
              "      <td>1118</td>\n",
              "      <td>selection of students parents teachers and sch...</td>\n",
              "      <td>1115.0</td>\n",
              "      <td>1118.0</td>\n",
              "      <td>372</td>\n",
              "      <td>89facd61-149d-42a6-a720-3d1175f499fd</td>\n",
              "    </tr>\n",
              "    <tr>\n",
              "      <th>27645</th>\n",
              "      <td>interannual coral 14c records of surface water...</td>\n",
              "      <td>c records used in this study blue circle houbi...</td>\n",
              "      <td>NaN</td>\n",
              "      <td>1171</td>\n",
              "      <td>1174</td>\n",
              "      <td>c records used in this study blue circle houbi...</td>\n",
              "      <td>1171.0</td>\n",
              "      <td>1174.0</td>\n",
              "      <td>2603</td>\n",
              "      <td>66698158-8404-4094-a8c3-e023a041388b</td>\n",
              "    </tr>\n",
              "    <tr>\n",
              "      <th>33240</th>\n",
              "      <td>the effect of the use of mathematics course in...</td>\n",
              "      <td>matemati i kullanma dersi al ma grubunda yer a...</td>\n",
              "      <td>NaN</td>\n",
              "      <td>709</td>\n",
              "      <td>712</td>\n",
              "      <td>matemati i kullanma dersi al ma grubunda yer a...</td>\n",
              "      <td>709.0</td>\n",
              "      <td>712.0</td>\n",
              "      <td>575</td>\n",
              "      <td>95d21d82-310e-4ce7-9e5a-30bbdec1eb8d</td>\n",
              "    </tr>\n",
              "  </tbody>\n",
              "</table>\n",
              "</div>"
            ],
            "text/plain": [
              "                                                question  ...                                    id\n",
              "1046                        state of the climate in 2009  ...  d60fdd8e-cc74-46f5-ad7e-6ddb47e4ab85\n",
              "3294   regime shift of the south china sea sst in the...  ...  41353837-186e-4814-ba1c-63ecb841cc42\n",
              "16001                       state of the climate in 2019  ...  11703fa1-62d0-46ea-9b99-160b5dc81dad\n",
              "18678  structured sparse canonical correlation analys...  ...  e3643a65-5682-4c23-94ac-203bfceef7d1\n",
              "23176  base year sample design report national educat...  ...  89facd61-149d-42a6-a720-3d1175f499fd\n",
              "27645  interannual coral 14c records of surface water...  ...  66698158-8404-4094-a8c3-e023a041388b\n",
              "33240  the effect of the use of mathematics course in...  ...  95d21d82-310e-4ce7-9e5a-30bbdec1eb8d\n",
              "\n",
              "[7 rows x 10 columns]"
            ]
          },
          "metadata": {
            "tags": []
          },
          "execution_count": 4
        }
      ]
    },
    {
      "cell_type": "code",
      "metadata": {
        "colab": {
          "base_uri": "https://localhost:8080/",
          "height": 145
        },
        "id": "9d82dpaIlsOG",
        "outputId": "77b07bd4-98d2-4d5e-a072-aff4cfe1d23f"
      },
      "source": [
        "df_head[df_head.Id == '66698158-8404-4094-a8c3-e023a041388b']"
      ],
      "execution_count": 7,
      "outputs": [
        {
          "output_type": "execute_result",
          "data": {
            "text/html": [
              "<div>\n",
              "<style scoped>\n",
              "    .dataframe tbody tr th:only-of-type {\n",
              "        vertical-align: middle;\n",
              "    }\n",
              "\n",
              "    .dataframe tbody tr th {\n",
              "        vertical-align: top;\n",
              "    }\n",
              "\n",
              "    .dataframe thead th {\n",
              "        text-align: right;\n",
              "    }\n",
              "</style>\n",
              "<table border=\"1\" class=\"dataframe\">\n",
              "  <thead>\n",
              "    <tr style=\"text-align: right;\">\n",
              "      <th></th>\n",
              "      <th>Id</th>\n",
              "      <th>pub_title</th>\n",
              "      <th>dataset_title</th>\n",
              "      <th>dataset_label</th>\n",
              "      <th>cleaned_label</th>\n",
              "    </tr>\n",
              "  </thead>\n",
              "  <tbody>\n",
              "    <tr>\n",
              "      <th>1480</th>\n",
              "      <td>66698158-8404-4094-a8c3-e023a041388b</td>\n",
              "      <td>Interannual coral Δ14C records of surface wate...</td>\n",
              "      <td>World Ocean Database</td>\n",
              "      <td>National Oceanic and Atmospheric Administratio...</td>\n",
              "      <td>national oceanic and atmospheric administratio...</td>\n",
              "    </tr>\n",
              "    <tr>\n",
              "      <th>11710</th>\n",
              "      <td>66698158-8404-4094-a8c3-e023a041388b</td>\n",
              "      <td>Interannual coral Δ14C records of surface wate...</td>\n",
              "      <td>World Ocean Database</td>\n",
              "      <td>World Ocean Database</td>\n",
              "      <td>world ocean database</td>\n",
              "    </tr>\n",
              "  </tbody>\n",
              "</table>\n",
              "</div>"
            ],
            "text/plain": [
              "                                         Id  ...                                      cleaned_label\n",
              "1480   66698158-8404-4094-a8c3-e023a041388b  ...  national oceanic and atmospheric administratio...\n",
              "11710  66698158-8404-4094-a8c3-e023a041388b  ...                               world ocean database\n",
              "\n",
              "[2 rows x 5 columns]"
            ]
          },
          "metadata": {
            "tags": []
          },
          "execution_count": 7
        }
      ]
    },
    {
      "cell_type": "code",
      "metadata": {
        "colab": {
          "base_uri": "https://localhost:8080/",
          "height": 171
        },
        "id": "htSJNjkdmCOD",
        "outputId": "a96bacba-27f4-474a-ac5f-20636c27a850"
      },
      "source": [
        "df_isna.iloc[5].origin_text"
      ],
      "execution_count": null,
      "outputs": [
        {
          "output_type": "execute_result",
          "data": {
            "application/vnd.google.colaboratory.intrinsic+json": {
              "type": "string"
            },
            "text/plain": [
              "'c records used in this study blue circle houbihu taiwan and red circle palaui philippines this study gray diamond guam usa andrews et al light green diamond palau glynn et al yellow diamond ishigaki island japan orange triangle langkai indonesia fallon guilderson light blue triangle lombok strait indonesia guilderson et al green square currimao philippines hirabayashi yokoyama suzuki miyairi aze siringan maeda pink square hon tre vietnam and brown square con dao vietnam mitsuguchi et al the red line across the strait at e running from n to n define the transect where surface zonal currents and sea surface heights from the simple ocean data assimilation data set soda v http apdrc soest hawaii edu dods public data soda soda pop are derived shown in figures and c respectively nec north equatorial current necc north equatorial counter current kc kuroshio current ki kuroshio intrusion mc mindanao current scs south china sea wpo western pacific ocean itf indonesian throughflow from to sv and to sv for winters and summers respectively the large range of these estimates primarily result due to the differences in the methodology and model assumptions hsin et al nan et al compared to seasonal variability the interannual lst variation and its controlling mechanisms are less understood due to scarcity of continuous direct observations nan et al wu numerical models show that the el ni o southern oscillation enso exerts influence on the interannual variability of the lst by means of shifting the position of the north equatorial current nec bifurcation latitude e g qu et al the position of the bifurcation latitude determines the volume of the kuroshio relative to the southward flowing mindanao current mc and the subsequent intrusion into the scs during el ni o years anomalous southerly winds east of the philippines push the bifurcation latitude northward reducing the kuroshio transport east of luzon y y kim et al qiu chen qiu lukas q y wang hu and increasing the ki into the scs potentially a result of inertial effects gordon et al qu et al the situation then reverses for la ni a periods however recent studies show that the interannual variability of the nec bifurcation and consequently the mean flow across the strait is strongly linked to the pacific decadal oscillation pdo and not enso e g nan et al wu wu et al with the more frequent pdo shifts in the recent years enso is hypothesized to exert less impact on the nec bifurcation latitude migration and mean lst especially after when the pdo became predominantly negative wu similar to the enso related wind forcing anomalous winds during warm cold pdo phase induces northward southward shift of the nec bifurcation which enhances reduces the ki wu wu et al the weakening trend of the ki sv year from to estimated from satellite data and hydrographic observations across the strait is likewise attributed to the changes in pdo phase nan et al due to the predominantly cold negative pdo regime since the early s the position of the nec bifurcation latitude is southward lessening the penetration of the ki into the scs nan et al wu another study highlights the role of longterm changes in pressure gradient on the reduction of ki across the strait in the recent decades e g nan et al whether the intrusion is linked with the enso or pdo and driven by the local and large scale wind forcing or pressure difference across the strait still remains a subject of disagreement nan et al paleoreconstructions based on both marine sediments and coral proxies provide insights into the long term change of kuroshio transport changes in planktonic foraminiferal assemblages and stable isotope geochemistry reveal fluctuations in kuroshio flow patterns and intensities along the east coast of japan since the late quaternary to the holocene e g jian et al ujiie ujiie similarly coral n and o from east of japan and south of taiwan record kuroshio variability in the last to years e g li et al yamazaki et al paleoreconstruction of the ki strength on the other hand is limited to the holocene e g liu et al where enso related mechanisms remained unclear while direct measurements satellite data numerical models and proxy reconstructions have advanced our presentday knowledge of current movements and transport variability in recent decades there is still a need for multidecadal high resolution on site lst records to better understand its interannual variation this study presents annually resolved histories of mean transport variability across the ls based on coral radiocarbon c records in this approach we aim to investigate how the surface transport across the ls has changed in the past years moreover we aim to provide insights on the possible mechanisms that drive its variability this information is critical to understanding the causes and impacts of long term ocean circulation variability in this region c coral is not affected by biological process thus they provide a conservative tracer of ocean circulation dunbar cole coral c records of various temporal resolution and length are available in the wpo scs and indonesia regions figure these records provide histories of basin scale changes in ocean circulation since the beginning of the twentieth century in conjunction with our coral c records we take advantage of this extensive spatial and temporal information to examine the interaction between the wpo and the scs through the ls c with lower c values and the observed dampening in c seasonality at this site however since the ls is a site of water mass exchange between the scs and the wpo the c values at our sites must be additionally affected by the c variability between these basins the occurrence of early bomb peaks in both houbihu and palaui c records indicates influence of the western pacific circulation across the ls relative to air sea co exchange which typically takes a decade nydal the quick c rise in houbihu and palaui recorded year after the initial bomb detonations is likely due to a nuclear fallout signal distributed by the advection of tropical pacific currents i e nec and kc originating at the testing sites at bikini and enewetak atolls andrews et al glynn et al this current system delivers bomb contaminated nec waters through guam with a current speed of to m s until it bifurcates to the northward flowing kc and the southward flowing mc whose speeds are roughly to times faster andrews et al lien et al qu et al figure the difference in the transport velocities between the nec and its branches i e kc and mc explains the year lag time between the initial detonations and the early bomb peaks in the coral records in the pacific the interannual variability of the location and speed of the western boundary currents are strongly influenced by enso y y kim et al qiu chen to further investigate this control on the c variability at our sites during the post bomb period i e after we compared our results with guam c since the kuroshio waters reaching our sites originate from the nec that flow by guam figure a and the southern oscillation index y y kim et al during el ni o years the northward nbl position causes less nec water to flow northward to the kc relative to the southward flow east of mindanao y y kim et al qiu chen qiu lukas due to the dampened winds the nec and kuroshio velocities are slower and transports are at their minimum during el ni o y y kim et al qiu chen qiu lukas this leads to a positive palaui guam c difference and is opposite of what the above mechanism predicts this period coincides with the broad c plateau recorded in guam andrews et al the cause of the small c variability after the bomb peak in guam is not well understood andrews et al however the higher face flow across the strait and surface circulation in the scs are strongly dependent on the asian monsoon system e g centurioni et al g chen hu et al hsin et al metzger hurlburt nan et al qu et al qu et al tian et al p x wang li wyrtki yang et al during winter the prevailing northeast monsoon winds drive surface water flow westward across the strait the general surface circulation within the scs is also cyclonic during this period figure during summer the general surface circulation involves a cyclonic and anticyclonic circulation in the northern and southern scs region respectively figure between the winter and summer monsoon systems the east asian winter monsoon eawm has a greater impact on the westward flow across the strait and circulation within the scs hsin et al to examine the monsoonal control on the circulation and c variability between our sites and the scs records we similarly calculated the interannual c difference between houbihu c and con dao hon tre and currimao con dao sits on a continental shelf in shallow waters and is mainly impacted by atmospheric c processes mitsuguchi et al in contrast hon tre and currimao are monsoon driven sites with seasonal upwelling and advection impacting c southeast monsoon winds blow parallel to the vietnam coast at hon tre driving summer upwelling at this site c in currimao shows significant correspondence with the strength of the winter monsoon winds hirabayashi yokoyama suzuki miyairi aze siringan maeda which drives upwelling and c variability along the northwest coast of luzon shaw et al due to these site attributes only the c difference between houbihu and currimao shows a significant relationship with the eawm winds e g d arrigo et al with a year lag r p n figure b because of westward intrusions across the strait and upwelling offshore of currimao during stronger positive eawm periods the c difference between houbihu and currimao is positive i e houbihu currimao conversely the scs outflow is more evident during weak eawm periods leading to a negative houbihu currimao c difference i e houbihu currimao the slower currents within the strait and in the northern scs region i e maximum of m s j hu et al nan et al compared with the surrounding waters may explain the year delay across the strait the interannual c difference between houbihu and palaui is significantly correlated with enso e g ni o with a year lag r p n figure c the negative correlation indicates that large small c differences i e greater lesser than coincide with el ni o la ni a years the influence of enso to the c difference between our sites may lie on the meridional pressure difference across the strait soda derived sea surface height ssh anomalies an indicator of pressure difference see details in figures and s show a significant negative correlation with enso from to r p n figure c the negative relationship indicates that el ni o la ni a years coincide with lower higher ssh anomalies since the mean ssh in the western pacific is higher than that of the scs figure a higher ssh across our sites must be due to the piling up of water across the strait during la ni a the enhanced trade winds push more water toward the western pacific leading to higher sshs in this region indicating presence of the ki along the strait nan et al nan et al and thus smaller c differences between our houbihu and palaui sites conversely due to the relaxed trade winds during el ni o the western pacific warm pool spreads toward the east flattening the ssh in this region and increasing the c difference between our sites other satellite altimetry studies along the strait have shown that ssh anomalies in conjunction with density stratification data are indicative of the presence or absence of the ki along the strait e g decarlo et al however whether the ki penetrates into the scs based on the above c differences remains ambiguous overall basin specific processes controlling the c variability of the ls sites are evident from quantifying the c difference between our sites and other c records in the region palaui c relative to that of jc c values are the least constrained through time adding additional uncertainty the net lateral exchange rate k lat is significantly correlated with enso r p n figure indicating its influence in driving the transport variability across the strait higher lower k lat generally coincides with el ni o la ni a periods highlighting enso s role in the meridional shifts of the nec bifurcation latitude and subsequent transport across the ls during el ni o the northward position of the nec bifurcation latitude leads to weaker kuroshio and stronger intrusion across the strait figure the reverse is expected during la ni a conditions however in however in however in however in however in however in however in however in and and show higher k lat values the observed k lat anomalies at beginning of the record may be impacted by the postbomb peak c distribution that is not advection related as previously discussed because the eawm is shown to exert influence on the westward transport across the strait we also compared these anomalous years with the eawm index and found that the weaker stronger monsoon strength in and may explain the above discrepancies weaker eawm during an el ni o event may indicate the relative dominance of k so to k ki in a stronger eawm during a la ni a event on the other hand may enhance overall k lat across the strait however the negative relationship between enso and eawm is not consistent for each enso period such that not all weak strong eawm coincides with el ni o la ni a years e g d arrigo et al the pdo may impact the enso eawm relationship e g j w kim et al l wang et al and hence the lateral transport across the strait e g wu wu et al however we do not find a significant relationship between enso and the eawm at different pdo phases and between k lat and pdo p due to the length of the record the interdecadal modulation of the pdo may not be apparent nevertheless the time varying response of the eawm to enso regardless of the pdo phase gives indication of the secondary control of the reversing monsoons over the lateral advection across the strait c is lower compared to palaui philippines both houbihu and palaui c records show early bomb produced spikes as a result of a nuclear fallout signal carried by the tropical pacific western boundary currents the early c spikes at our sites and the wpo records indicate that circulation in the c difference between these sites shows a significant relationship with the eawm the main driver of the scs general circulation and alternating flow patterns across the strait while the enso driven pressure difference between our sites offers support on the occurrence of ki across the strait whether ki reaches the scs remains unclear in conjunction with other c records in the region we were able to calculate the changes in the lateral transport across the strait the mean amount of water exchanged across the strait from after the postbomb peak is sv ranging from to sv where a positive negative value indicates net flow into out of the scs by shifting the position of the nec bifurcation latitude enso plays a critical role on the interannual variability of water mass exchange across the ls and circulation and water mass renewal in the scs'"
            ]
          },
          "metadata": {
            "tags": []
          },
          "execution_count": 74
        }
      ]
    },
    {
      "cell_type": "code",
      "metadata": {
        "colab": {
          "base_uri": "https://localhost:8080/"
        },
        "id": "MBFjNU__2ZHQ",
        "outputId": "3f29b1f2-1640-4f7a-b344-1c57cb90d845"
      },
      "source": [
        "df.shape"
      ],
      "execution_count": 8,
      "outputs": [
        {
          "output_type": "execute_result",
          "data": {
            "text/plain": [
              "(62587, 10)"
            ]
          },
          "metadata": {
            "tags": []
          },
          "execution_count": 8
        }
      ]
    },
    {
      "cell_type": "code",
      "metadata": {
        "colab": {
          "base_uri": "https://localhost:8080/",
          "height": 66
        },
        "id": "P2b4hHU-2Y-4",
        "outputId": "6bedb55f-2231-46f4-ef05-64cff2989cc7"
      },
      "source": [
        "df = df.dropna()\n",
        "df[df.answer.isna()]"
      ],
      "execution_count": 11,
      "outputs": [
        {
          "output_type": "execute_result",
          "data": {
            "text/html": [
              "<div>\n",
              "<style scoped>\n",
              "    .dataframe tbody tr th:only-of-type {\n",
              "        vertical-align: middle;\n",
              "    }\n",
              "\n",
              "    .dataframe tbody tr th {\n",
              "        vertical-align: top;\n",
              "    }\n",
              "\n",
              "    .dataframe thead th {\n",
              "        text-align: right;\n",
              "    }\n",
              "</style>\n",
              "<table border=\"1\" class=\"dataframe\">\n",
              "  <thead>\n",
              "    <tr style=\"text-align: right;\">\n",
              "      <th></th>\n",
              "      <th>question</th>\n",
              "      <th>text</th>\n",
              "      <th>answer</th>\n",
              "      <th>answer_start</th>\n",
              "      <th>answer_end</th>\n",
              "      <th>origin_text</th>\n",
              "      <th>origin_answer_start</th>\n",
              "      <th>origin_answer_end</th>\n",
              "      <th>len text</th>\n",
              "      <th>id</th>\n",
              "    </tr>\n",
              "  </thead>\n",
              "  <tbody>\n",
              "  </tbody>\n",
              "</table>\n",
              "</div>"
            ],
            "text/plain": [
              "Empty DataFrame\n",
              "Columns: [question, text, answer, answer_start, answer_end, origin_text, origin_answer_start, origin_answer_end, len text, id]\n",
              "Index: []"
            ]
          },
          "metadata": {
            "tags": []
          },
          "execution_count": 11
        }
      ]
    },
    {
      "cell_type": "markdown",
      "metadata": {
        "id": "ZrpX6GrtAkOx"
      },
      "source": [
        "## to fix 5 \n",
        "\n",
        "label is \" \""
      ]
    },
    {
      "cell_type": "code",
      "metadata": {
        "id": "8Eq6ourUAoap"
      },
      "source": [
        "def make_label(label: list, txt: str, section_title:str)->list:\n",
        "\n",
        "    new_title =None\n",
        "    if (section_title == 'nan') or (section_title == np.nan):\n",
        "        if (txt != 'nan') or (txt != np.nan):\n",
        "            new_title = re.search(r'\\b%s\\b' % label[-1], txt)\n",
        "\n",
        "    if new_title is None:\n",
        "        out_l = re.search(r'\\b%s\\b' % label[-1], txt)\n",
        "        if out_l is None: # in txt no label\n",
        "            out_l_small = re.search(r'\\b%s\\b' % label[0], txt)\n",
        "            if out_l_small is None:\n",
        "                out_st = re.search(r'\\b%s\\b' % section_title, txt)                \n",
        "                if out_st is None:          \n",
        "\n",
        "                    target = label[-1]\n",
        "                    start, end = 0, 0\n",
        "                else:\n",
        "                    \"\"\"\n",
        "                    fix 5\n",
        "                    problem if title is nan or ' '\n",
        "                    we find this in text its bad\n",
        "                    \"\"\"\n",
        "                    if (section_title == 'nan') or (section_title == np.nan) or (section_title == ' '):\n",
        "                        target = label[-1]         \n",
        "                        start, end = 0, 0     \n",
        "                    else:\n",
        "                        target = section_title\n",
        "                        start, end = out_st.start(), out_st.end()            \n",
        "            else:\n",
        "                target = label[0]   \n",
        "                start, end = out_l_small.start(), out_l_small.end() \n",
        "        else: \n",
        "            target = label[-1]   \n",
        "            start, end = out_l.start(), out_l.end()\n",
        "        \n",
        "        return target, start, end\n",
        "    else:\n",
        "        return new_title.group(), new_title.start(), new_title.end()"
      ],
      "execution_count": null,
      "outputs": []
    },
    {
      "cell_type": "code",
      "metadata": {
        "id": "F5vZAj8_AodS"
      },
      "source": [
        ""
      ],
      "execution_count": null,
      "outputs": []
    },
    {
      "cell_type": "code",
      "metadata": {
        "id": "MDUCVOoMAofP"
      },
      "source": [
        ""
      ],
      "execution_count": null,
      "outputs": []
    }
  ]
}