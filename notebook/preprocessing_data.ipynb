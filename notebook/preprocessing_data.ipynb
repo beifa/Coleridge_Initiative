{
  "nbformat": 4,
  "nbformat_minor": 0,
  "metadata": {
    "colab": {
      "name": "preprocessing_data.ipynb",
      "provenance": [],
      "collapsed_sections": []
    },
    "kernelspec": {
      "name": "python3",
      "display_name": "Python 3"
    },
    "language_info": {
      "name": "python"
    },
    "widgets": {
      "application/vnd.jupyter.widget-state+json": {
        "fa6e47b40fc7487ab32caf50a7f05610": {
          "model_module": "@jupyter-widgets/controls",
          "model_name": "HBoxModel",
          "state": {
            "_view_name": "HBoxView",
            "_dom_classes": [],
            "_model_name": "HBoxModel",
            "_view_module": "@jupyter-widgets/controls",
            "_model_module_version": "1.5.0",
            "_view_count": null,
            "_view_module_version": "1.5.0",
            "box_style": "",
            "layout": "IPY_MODEL_8cb49eca55834decaec92e4d66b30875",
            "_model_module": "@jupyter-widgets/controls",
            "children": [
              "IPY_MODEL_e74042e5d5ae41f3ad4d0adeac4ce089",
              "IPY_MODEL_1f824e4fb05a44abb400e517c64a98f5"
            ]
          }
        },
        "8cb49eca55834decaec92e4d66b30875": {
          "model_module": "@jupyter-widgets/base",
          "model_name": "LayoutModel",
          "state": {
            "_view_name": "LayoutView",
            "grid_template_rows": null,
            "right": null,
            "justify_content": null,
            "_view_module": "@jupyter-widgets/base",
            "overflow": null,
            "_model_module_version": "1.2.0",
            "_view_count": null,
            "flex_flow": null,
            "width": null,
            "min_width": null,
            "border": null,
            "align_items": null,
            "bottom": null,
            "_model_module": "@jupyter-widgets/base",
            "top": null,
            "grid_column": null,
            "overflow_y": null,
            "overflow_x": null,
            "grid_auto_flow": null,
            "grid_area": null,
            "grid_template_columns": null,
            "flex": null,
            "_model_name": "LayoutModel",
            "justify_items": null,
            "grid_row": null,
            "max_height": null,
            "align_content": null,
            "visibility": null,
            "align_self": null,
            "height": null,
            "min_height": null,
            "padding": null,
            "grid_auto_rows": null,
            "grid_gap": null,
            "max_width": null,
            "order": null,
            "_view_module_version": "1.2.0",
            "grid_template_areas": null,
            "object_position": null,
            "object_fit": null,
            "grid_auto_columns": null,
            "margin": null,
            "display": null,
            "left": null
          }
        },
        "e74042e5d5ae41f3ad4d0adeac4ce089": {
          "model_module": "@jupyter-widgets/controls",
          "model_name": "FloatProgressModel",
          "state": {
            "_view_name": "ProgressView",
            "style": "IPY_MODEL_21866846ab5348ac8a08e4ce884fdacd",
            "_dom_classes": [],
            "description": "Downloading: 100%",
            "_model_name": "FloatProgressModel",
            "bar_style": "success",
            "max": 433,
            "_view_module": "@jupyter-widgets/controls",
            "_model_module_version": "1.5.0",
            "value": 433,
            "_view_count": null,
            "_view_module_version": "1.5.0",
            "orientation": "horizontal",
            "min": 0,
            "description_tooltip": null,
            "_model_module": "@jupyter-widgets/controls",
            "layout": "IPY_MODEL_e25bf0dd66e249be8da6b1f904c604a1"
          }
        },
        "1f824e4fb05a44abb400e517c64a98f5": {
          "model_module": "@jupyter-widgets/controls",
          "model_name": "HTMLModel",
          "state": {
            "_view_name": "HTMLView",
            "style": "IPY_MODEL_6a8708abaead4378bf92028e608ba8a2",
            "_dom_classes": [],
            "description": "",
            "_model_name": "HTMLModel",
            "placeholder": "​",
            "_view_module": "@jupyter-widgets/controls",
            "_model_module_version": "1.5.0",
            "value": " 433/433 [00:00&lt;00:00, 8.07kB/s]",
            "_view_count": null,
            "_view_module_version": "1.5.0",
            "description_tooltip": null,
            "_model_module": "@jupyter-widgets/controls",
            "layout": "IPY_MODEL_ef655b34508c43b3a5cd2eafe9f78f69"
          }
        },
        "21866846ab5348ac8a08e4ce884fdacd": {
          "model_module": "@jupyter-widgets/controls",
          "model_name": "ProgressStyleModel",
          "state": {
            "_view_name": "StyleView",
            "_model_name": "ProgressStyleModel",
            "description_width": "initial",
            "_view_module": "@jupyter-widgets/base",
            "_model_module_version": "1.5.0",
            "_view_count": null,
            "_view_module_version": "1.2.0",
            "bar_color": null,
            "_model_module": "@jupyter-widgets/controls"
          }
        },
        "e25bf0dd66e249be8da6b1f904c604a1": {
          "model_module": "@jupyter-widgets/base",
          "model_name": "LayoutModel",
          "state": {
            "_view_name": "LayoutView",
            "grid_template_rows": null,
            "right": null,
            "justify_content": null,
            "_view_module": "@jupyter-widgets/base",
            "overflow": null,
            "_model_module_version": "1.2.0",
            "_view_count": null,
            "flex_flow": null,
            "width": null,
            "min_width": null,
            "border": null,
            "align_items": null,
            "bottom": null,
            "_model_module": "@jupyter-widgets/base",
            "top": null,
            "grid_column": null,
            "overflow_y": null,
            "overflow_x": null,
            "grid_auto_flow": null,
            "grid_area": null,
            "grid_template_columns": null,
            "flex": null,
            "_model_name": "LayoutModel",
            "justify_items": null,
            "grid_row": null,
            "max_height": null,
            "align_content": null,
            "visibility": null,
            "align_self": null,
            "height": null,
            "min_height": null,
            "padding": null,
            "grid_auto_rows": null,
            "grid_gap": null,
            "max_width": null,
            "order": null,
            "_view_module_version": "1.2.0",
            "grid_template_areas": null,
            "object_position": null,
            "object_fit": null,
            "grid_auto_columns": null,
            "margin": null,
            "display": null,
            "left": null
          }
        },
        "6a8708abaead4378bf92028e608ba8a2": {
          "model_module": "@jupyter-widgets/controls",
          "model_name": "DescriptionStyleModel",
          "state": {
            "_view_name": "StyleView",
            "_model_name": "DescriptionStyleModel",
            "description_width": "",
            "_view_module": "@jupyter-widgets/base",
            "_model_module_version": "1.5.0",
            "_view_count": null,
            "_view_module_version": "1.2.0",
            "_model_module": "@jupyter-widgets/controls"
          }
        },
        "ef655b34508c43b3a5cd2eafe9f78f69": {
          "model_module": "@jupyter-widgets/base",
          "model_name": "LayoutModel",
          "state": {
            "_view_name": "LayoutView",
            "grid_template_rows": null,
            "right": null,
            "justify_content": null,
            "_view_module": "@jupyter-widgets/base",
            "overflow": null,
            "_model_module_version": "1.2.0",
            "_view_count": null,
            "flex_flow": null,
            "width": null,
            "min_width": null,
            "border": null,
            "align_items": null,
            "bottom": null,
            "_model_module": "@jupyter-widgets/base",
            "top": null,
            "grid_column": null,
            "overflow_y": null,
            "overflow_x": null,
            "grid_auto_flow": null,
            "grid_area": null,
            "grid_template_columns": null,
            "flex": null,
            "_model_name": "LayoutModel",
            "justify_items": null,
            "grid_row": null,
            "max_height": null,
            "align_content": null,
            "visibility": null,
            "align_self": null,
            "height": null,
            "min_height": null,
            "padding": null,
            "grid_auto_rows": null,
            "grid_gap": null,
            "max_width": null,
            "order": null,
            "_view_module_version": "1.2.0",
            "grid_template_areas": null,
            "object_position": null,
            "object_fit": null,
            "grid_auto_columns": null,
            "margin": null,
            "display": null,
            "left": null
          }
        },
        "40831194c5bc4bf4b9db6d445a270ec0": {
          "model_module": "@jupyter-widgets/controls",
          "model_name": "HBoxModel",
          "state": {
            "_view_name": "HBoxView",
            "_dom_classes": [],
            "_model_name": "HBoxModel",
            "_view_module": "@jupyter-widgets/controls",
            "_model_module_version": "1.5.0",
            "_view_count": null,
            "_view_module_version": "1.5.0",
            "box_style": "",
            "layout": "IPY_MODEL_f18e7e3386a74ce8b8dc0bae48271d58",
            "_model_module": "@jupyter-widgets/controls",
            "children": [
              "IPY_MODEL_93d0e294381342feab9f578408e1fa74",
              "IPY_MODEL_9f117b7eddde4c058f7ce80e71a0ec0e"
            ]
          }
        },
        "f18e7e3386a74ce8b8dc0bae48271d58": {
          "model_module": "@jupyter-widgets/base",
          "model_name": "LayoutModel",
          "state": {
            "_view_name": "LayoutView",
            "grid_template_rows": null,
            "right": null,
            "justify_content": null,
            "_view_module": "@jupyter-widgets/base",
            "overflow": null,
            "_model_module_version": "1.2.0",
            "_view_count": null,
            "flex_flow": null,
            "width": null,
            "min_width": null,
            "border": null,
            "align_items": null,
            "bottom": null,
            "_model_module": "@jupyter-widgets/base",
            "top": null,
            "grid_column": null,
            "overflow_y": null,
            "overflow_x": null,
            "grid_auto_flow": null,
            "grid_area": null,
            "grid_template_columns": null,
            "flex": null,
            "_model_name": "LayoutModel",
            "justify_items": null,
            "grid_row": null,
            "max_height": null,
            "align_content": null,
            "visibility": null,
            "align_self": null,
            "height": null,
            "min_height": null,
            "padding": null,
            "grid_auto_rows": null,
            "grid_gap": null,
            "max_width": null,
            "order": null,
            "_view_module_version": "1.2.0",
            "grid_template_areas": null,
            "object_position": null,
            "object_fit": null,
            "grid_auto_columns": null,
            "margin": null,
            "display": null,
            "left": null
          }
        },
        "93d0e294381342feab9f578408e1fa74": {
          "model_module": "@jupyter-widgets/controls",
          "model_name": "FloatProgressModel",
          "state": {
            "_view_name": "ProgressView",
            "style": "IPY_MODEL_1649be5a621b4a18aba2f5a3ec302624",
            "_dom_classes": [],
            "description": "Downloading: 100%",
            "_model_name": "FloatProgressModel",
            "bar_style": "success",
            "max": 231508,
            "_view_module": "@jupyter-widgets/controls",
            "_model_module_version": "1.5.0",
            "value": 231508,
            "_view_count": null,
            "_view_module_version": "1.5.0",
            "orientation": "horizontal",
            "min": 0,
            "description_tooltip": null,
            "_model_module": "@jupyter-widgets/controls",
            "layout": "IPY_MODEL_6cbf2a5771cd4c2486d5c70dcb22f8b3"
          }
        },
        "9f117b7eddde4c058f7ce80e71a0ec0e": {
          "model_module": "@jupyter-widgets/controls",
          "model_name": "HTMLModel",
          "state": {
            "_view_name": "HTMLView",
            "style": "IPY_MODEL_20d0400f8da14101a551bc6e0a5bfddb",
            "_dom_classes": [],
            "description": "",
            "_model_name": "HTMLModel",
            "placeholder": "​",
            "_view_module": "@jupyter-widgets/controls",
            "_model_module_version": "1.5.0",
            "value": " 232k/232k [00:01&lt;00:00, 130kB/s]",
            "_view_count": null,
            "_view_module_version": "1.5.0",
            "description_tooltip": null,
            "_model_module": "@jupyter-widgets/controls",
            "layout": "IPY_MODEL_c44d8c375f9c4dc5926f5811b7b0318e"
          }
        },
        "1649be5a621b4a18aba2f5a3ec302624": {
          "model_module": "@jupyter-widgets/controls",
          "model_name": "ProgressStyleModel",
          "state": {
            "_view_name": "StyleView",
            "_model_name": "ProgressStyleModel",
            "description_width": "initial",
            "_view_module": "@jupyter-widgets/base",
            "_model_module_version": "1.5.0",
            "_view_count": null,
            "_view_module_version": "1.2.0",
            "bar_color": null,
            "_model_module": "@jupyter-widgets/controls"
          }
        },
        "6cbf2a5771cd4c2486d5c70dcb22f8b3": {
          "model_module": "@jupyter-widgets/base",
          "model_name": "LayoutModel",
          "state": {
            "_view_name": "LayoutView",
            "grid_template_rows": null,
            "right": null,
            "justify_content": null,
            "_view_module": "@jupyter-widgets/base",
            "overflow": null,
            "_model_module_version": "1.2.0",
            "_view_count": null,
            "flex_flow": null,
            "width": null,
            "min_width": null,
            "border": null,
            "align_items": null,
            "bottom": null,
            "_model_module": "@jupyter-widgets/base",
            "top": null,
            "grid_column": null,
            "overflow_y": null,
            "overflow_x": null,
            "grid_auto_flow": null,
            "grid_area": null,
            "grid_template_columns": null,
            "flex": null,
            "_model_name": "LayoutModel",
            "justify_items": null,
            "grid_row": null,
            "max_height": null,
            "align_content": null,
            "visibility": null,
            "align_self": null,
            "height": null,
            "min_height": null,
            "padding": null,
            "grid_auto_rows": null,
            "grid_gap": null,
            "max_width": null,
            "order": null,
            "_view_module_version": "1.2.0",
            "grid_template_areas": null,
            "object_position": null,
            "object_fit": null,
            "grid_auto_columns": null,
            "margin": null,
            "display": null,
            "left": null
          }
        },
        "20d0400f8da14101a551bc6e0a5bfddb": {
          "model_module": "@jupyter-widgets/controls",
          "model_name": "DescriptionStyleModel",
          "state": {
            "_view_name": "StyleView",
            "_model_name": "DescriptionStyleModel",
            "description_width": "",
            "_view_module": "@jupyter-widgets/base",
            "_model_module_version": "1.5.0",
            "_view_count": null,
            "_view_module_version": "1.2.0",
            "_model_module": "@jupyter-widgets/controls"
          }
        },
        "c44d8c375f9c4dc5926f5811b7b0318e": {
          "model_module": "@jupyter-widgets/base",
          "model_name": "LayoutModel",
          "state": {
            "_view_name": "LayoutView",
            "grid_template_rows": null,
            "right": null,
            "justify_content": null,
            "_view_module": "@jupyter-widgets/base",
            "overflow": null,
            "_model_module_version": "1.2.0",
            "_view_count": null,
            "flex_flow": null,
            "width": null,
            "min_width": null,
            "border": null,
            "align_items": null,
            "bottom": null,
            "_model_module": "@jupyter-widgets/base",
            "top": null,
            "grid_column": null,
            "overflow_y": null,
            "overflow_x": null,
            "grid_auto_flow": null,
            "grid_area": null,
            "grid_template_columns": null,
            "flex": null,
            "_model_name": "LayoutModel",
            "justify_items": null,
            "grid_row": null,
            "max_height": null,
            "align_content": null,
            "visibility": null,
            "align_self": null,
            "height": null,
            "min_height": null,
            "padding": null,
            "grid_auto_rows": null,
            "grid_gap": null,
            "max_width": null,
            "order": null,
            "_view_module_version": "1.2.0",
            "grid_template_areas": null,
            "object_position": null,
            "object_fit": null,
            "grid_auto_columns": null,
            "margin": null,
            "display": null,
            "left": null
          }
        },
        "905e59dcafca4e36acf8dcf3a88c77cb": {
          "model_module": "@jupyter-widgets/controls",
          "model_name": "HBoxModel",
          "state": {
            "_view_name": "HBoxView",
            "_dom_classes": [],
            "_model_name": "HBoxModel",
            "_view_module": "@jupyter-widgets/controls",
            "_model_module_version": "1.5.0",
            "_view_count": null,
            "_view_module_version": "1.5.0",
            "box_style": "",
            "layout": "IPY_MODEL_9d65ec87aa8145dfa786423f17b7df8f",
            "_model_module": "@jupyter-widgets/controls",
            "children": [
              "IPY_MODEL_9c021d0ebe2846e0846596c6dfbe0562",
              "IPY_MODEL_975d7380573740e19faf71afad3503b3"
            ]
          }
        },
        "9d65ec87aa8145dfa786423f17b7df8f": {
          "model_module": "@jupyter-widgets/base",
          "model_name": "LayoutModel",
          "state": {
            "_view_name": "LayoutView",
            "grid_template_rows": null,
            "right": null,
            "justify_content": null,
            "_view_module": "@jupyter-widgets/base",
            "overflow": null,
            "_model_module_version": "1.2.0",
            "_view_count": null,
            "flex_flow": null,
            "width": null,
            "min_width": null,
            "border": null,
            "align_items": null,
            "bottom": null,
            "_model_module": "@jupyter-widgets/base",
            "top": null,
            "grid_column": null,
            "overflow_y": null,
            "overflow_x": null,
            "grid_auto_flow": null,
            "grid_area": null,
            "grid_template_columns": null,
            "flex": null,
            "_model_name": "LayoutModel",
            "justify_items": null,
            "grid_row": null,
            "max_height": null,
            "align_content": null,
            "visibility": null,
            "align_self": null,
            "height": null,
            "min_height": null,
            "padding": null,
            "grid_auto_rows": null,
            "grid_gap": null,
            "max_width": null,
            "order": null,
            "_view_module_version": "1.2.0",
            "grid_template_areas": null,
            "object_position": null,
            "object_fit": null,
            "grid_auto_columns": null,
            "margin": null,
            "display": null,
            "left": null
          }
        },
        "9c021d0ebe2846e0846596c6dfbe0562": {
          "model_module": "@jupyter-widgets/controls",
          "model_name": "FloatProgressModel",
          "state": {
            "_view_name": "ProgressView",
            "style": "IPY_MODEL_6f54fece7c0b4560adaf3c695f9cfa4c",
            "_dom_classes": [],
            "description": "Downloading: 100%",
            "_model_name": "FloatProgressModel",
            "bar_style": "success",
            "max": 466062,
            "_view_module": "@jupyter-widgets/controls",
            "_model_module_version": "1.5.0",
            "value": 466062,
            "_view_count": null,
            "_view_module_version": "1.5.0",
            "orientation": "horizontal",
            "min": 0,
            "description_tooltip": null,
            "_model_module": "@jupyter-widgets/controls",
            "layout": "IPY_MODEL_1365da6aadd64fadbee7578e34826eac"
          }
        },
        "975d7380573740e19faf71afad3503b3": {
          "model_module": "@jupyter-widgets/controls",
          "model_name": "HTMLModel",
          "state": {
            "_view_name": "HTMLView",
            "style": "IPY_MODEL_ac044771f21b41bfb9b63003a6e17c2b",
            "_dom_classes": [],
            "description": "",
            "_model_name": "HTMLModel",
            "placeholder": "​",
            "_view_module": "@jupyter-widgets/controls",
            "_model_module_version": "1.5.0",
            "value": " 466k/466k [00:01&lt;00:00, 421kB/s]",
            "_view_count": null,
            "_view_module_version": "1.5.0",
            "description_tooltip": null,
            "_model_module": "@jupyter-widgets/controls",
            "layout": "IPY_MODEL_590262326ff7401f94c673808a64f01b"
          }
        },
        "6f54fece7c0b4560adaf3c695f9cfa4c": {
          "model_module": "@jupyter-widgets/controls",
          "model_name": "ProgressStyleModel",
          "state": {
            "_view_name": "StyleView",
            "_model_name": "ProgressStyleModel",
            "description_width": "initial",
            "_view_module": "@jupyter-widgets/base",
            "_model_module_version": "1.5.0",
            "_view_count": null,
            "_view_module_version": "1.2.0",
            "bar_color": null,
            "_model_module": "@jupyter-widgets/controls"
          }
        },
        "1365da6aadd64fadbee7578e34826eac": {
          "model_module": "@jupyter-widgets/base",
          "model_name": "LayoutModel",
          "state": {
            "_view_name": "LayoutView",
            "grid_template_rows": null,
            "right": null,
            "justify_content": null,
            "_view_module": "@jupyter-widgets/base",
            "overflow": null,
            "_model_module_version": "1.2.0",
            "_view_count": null,
            "flex_flow": null,
            "width": null,
            "min_width": null,
            "border": null,
            "align_items": null,
            "bottom": null,
            "_model_module": "@jupyter-widgets/base",
            "top": null,
            "grid_column": null,
            "overflow_y": null,
            "overflow_x": null,
            "grid_auto_flow": null,
            "grid_area": null,
            "grid_template_columns": null,
            "flex": null,
            "_model_name": "LayoutModel",
            "justify_items": null,
            "grid_row": null,
            "max_height": null,
            "align_content": null,
            "visibility": null,
            "align_self": null,
            "height": null,
            "min_height": null,
            "padding": null,
            "grid_auto_rows": null,
            "grid_gap": null,
            "max_width": null,
            "order": null,
            "_view_module_version": "1.2.0",
            "grid_template_areas": null,
            "object_position": null,
            "object_fit": null,
            "grid_auto_columns": null,
            "margin": null,
            "display": null,
            "left": null
          }
        },
        "ac044771f21b41bfb9b63003a6e17c2b": {
          "model_module": "@jupyter-widgets/controls",
          "model_name": "DescriptionStyleModel",
          "state": {
            "_view_name": "StyleView",
            "_model_name": "DescriptionStyleModel",
            "description_width": "",
            "_view_module": "@jupyter-widgets/base",
            "_model_module_version": "1.5.0",
            "_view_count": null,
            "_view_module_version": "1.2.0",
            "_model_module": "@jupyter-widgets/controls"
          }
        },
        "590262326ff7401f94c673808a64f01b": {
          "model_module": "@jupyter-widgets/base",
          "model_name": "LayoutModel",
          "state": {
            "_view_name": "LayoutView",
            "grid_template_rows": null,
            "right": null,
            "justify_content": null,
            "_view_module": "@jupyter-widgets/base",
            "overflow": null,
            "_model_module_version": "1.2.0",
            "_view_count": null,
            "flex_flow": null,
            "width": null,
            "min_width": null,
            "border": null,
            "align_items": null,
            "bottom": null,
            "_model_module": "@jupyter-widgets/base",
            "top": null,
            "grid_column": null,
            "overflow_y": null,
            "overflow_x": null,
            "grid_auto_flow": null,
            "grid_area": null,
            "grid_template_columns": null,
            "flex": null,
            "_model_name": "LayoutModel",
            "justify_items": null,
            "grid_row": null,
            "max_height": null,
            "align_content": null,
            "visibility": null,
            "align_self": null,
            "height": null,
            "min_height": null,
            "padding": null,
            "grid_auto_rows": null,
            "grid_gap": null,
            "max_width": null,
            "order": null,
            "_view_module_version": "1.2.0",
            "grid_template_areas": null,
            "object_position": null,
            "object_fit": null,
            "grid_auto_columns": null,
            "margin": null,
            "display": null,
            "left": null
          }
        },
        "4ba572429a3042aeb78d4bb872b77f77": {
          "model_module": "@jupyter-widgets/controls",
          "model_name": "HBoxModel",
          "state": {
            "_view_name": "HBoxView",
            "_dom_classes": [],
            "_model_name": "HBoxModel",
            "_view_module": "@jupyter-widgets/controls",
            "_model_module_version": "1.5.0",
            "_view_count": null,
            "_view_module_version": "1.5.0",
            "box_style": "",
            "layout": "IPY_MODEL_519e5f8ce034417ca59a807787fe3a67",
            "_model_module": "@jupyter-widgets/controls",
            "children": [
              "IPY_MODEL_395b8b4e63814e6689088c49f5a93413",
              "IPY_MODEL_3673575254f84f5c861e9b56965539e9"
            ]
          }
        },
        "519e5f8ce034417ca59a807787fe3a67": {
          "model_module": "@jupyter-widgets/base",
          "model_name": "LayoutModel",
          "state": {
            "_view_name": "LayoutView",
            "grid_template_rows": null,
            "right": null,
            "justify_content": null,
            "_view_module": "@jupyter-widgets/base",
            "overflow": null,
            "_model_module_version": "1.2.0",
            "_view_count": null,
            "flex_flow": null,
            "width": null,
            "min_width": null,
            "border": null,
            "align_items": null,
            "bottom": null,
            "_model_module": "@jupyter-widgets/base",
            "top": null,
            "grid_column": null,
            "overflow_y": null,
            "overflow_x": null,
            "grid_auto_flow": null,
            "grid_area": null,
            "grid_template_columns": null,
            "flex": null,
            "_model_name": "LayoutModel",
            "justify_items": null,
            "grid_row": null,
            "max_height": null,
            "align_content": null,
            "visibility": null,
            "align_self": null,
            "height": null,
            "min_height": null,
            "padding": null,
            "grid_auto_rows": null,
            "grid_gap": null,
            "max_width": null,
            "order": null,
            "_view_module_version": "1.2.0",
            "grid_template_areas": null,
            "object_position": null,
            "object_fit": null,
            "grid_auto_columns": null,
            "margin": null,
            "display": null,
            "left": null
          }
        },
        "395b8b4e63814e6689088c49f5a93413": {
          "model_module": "@jupyter-widgets/controls",
          "model_name": "FloatProgressModel",
          "state": {
            "_view_name": "ProgressView",
            "style": "IPY_MODEL_9116dad139664fcebf110e47a5fcac9f",
            "_dom_classes": [],
            "description": "Downloading: 100%",
            "_model_name": "FloatProgressModel",
            "bar_style": "success",
            "max": 28,
            "_view_module": "@jupyter-widgets/controls",
            "_model_module_version": "1.5.0",
            "value": 28,
            "_view_count": null,
            "_view_module_version": "1.5.0",
            "orientation": "horizontal",
            "min": 0,
            "description_tooltip": null,
            "_model_module": "@jupyter-widgets/controls",
            "layout": "IPY_MODEL_7644831d79014aa3a52ed0e77040eeb8"
          }
        },
        "3673575254f84f5c861e9b56965539e9": {
          "model_module": "@jupyter-widgets/controls",
          "model_name": "HTMLModel",
          "state": {
            "_view_name": "HTMLView",
            "style": "IPY_MODEL_1e4a8edf70254baf981e4af384faa61b",
            "_dom_classes": [],
            "description": "",
            "_model_name": "HTMLModel",
            "placeholder": "​",
            "_view_module": "@jupyter-widgets/controls",
            "_model_module_version": "1.5.0",
            "value": " 28.0/28.0 [00:19&lt;00:00, 1.46B/s]",
            "_view_count": null,
            "_view_module_version": "1.5.0",
            "description_tooltip": null,
            "_model_module": "@jupyter-widgets/controls",
            "layout": "IPY_MODEL_214d2d30cd084c07ad191620ef079113"
          }
        },
        "9116dad139664fcebf110e47a5fcac9f": {
          "model_module": "@jupyter-widgets/controls",
          "model_name": "ProgressStyleModel",
          "state": {
            "_view_name": "StyleView",
            "_model_name": "ProgressStyleModel",
            "description_width": "initial",
            "_view_module": "@jupyter-widgets/base",
            "_model_module_version": "1.5.0",
            "_view_count": null,
            "_view_module_version": "1.2.0",
            "bar_color": null,
            "_model_module": "@jupyter-widgets/controls"
          }
        },
        "7644831d79014aa3a52ed0e77040eeb8": {
          "model_module": "@jupyter-widgets/base",
          "model_name": "LayoutModel",
          "state": {
            "_view_name": "LayoutView",
            "grid_template_rows": null,
            "right": null,
            "justify_content": null,
            "_view_module": "@jupyter-widgets/base",
            "overflow": null,
            "_model_module_version": "1.2.0",
            "_view_count": null,
            "flex_flow": null,
            "width": null,
            "min_width": null,
            "border": null,
            "align_items": null,
            "bottom": null,
            "_model_module": "@jupyter-widgets/base",
            "top": null,
            "grid_column": null,
            "overflow_y": null,
            "overflow_x": null,
            "grid_auto_flow": null,
            "grid_area": null,
            "grid_template_columns": null,
            "flex": null,
            "_model_name": "LayoutModel",
            "justify_items": null,
            "grid_row": null,
            "max_height": null,
            "align_content": null,
            "visibility": null,
            "align_self": null,
            "height": null,
            "min_height": null,
            "padding": null,
            "grid_auto_rows": null,
            "grid_gap": null,
            "max_width": null,
            "order": null,
            "_view_module_version": "1.2.0",
            "grid_template_areas": null,
            "object_position": null,
            "object_fit": null,
            "grid_auto_columns": null,
            "margin": null,
            "display": null,
            "left": null
          }
        },
        "1e4a8edf70254baf981e4af384faa61b": {
          "model_module": "@jupyter-widgets/controls",
          "model_name": "DescriptionStyleModel",
          "state": {
            "_view_name": "StyleView",
            "_model_name": "DescriptionStyleModel",
            "description_width": "",
            "_view_module": "@jupyter-widgets/base",
            "_model_module_version": "1.5.0",
            "_view_count": null,
            "_view_module_version": "1.2.0",
            "_model_module": "@jupyter-widgets/controls"
          }
        },
        "214d2d30cd084c07ad191620ef079113": {
          "model_module": "@jupyter-widgets/base",
          "model_name": "LayoutModel",
          "state": {
            "_view_name": "LayoutView",
            "grid_template_rows": null,
            "right": null,
            "justify_content": null,
            "_view_module": "@jupyter-widgets/base",
            "overflow": null,
            "_model_module_version": "1.2.0",
            "_view_count": null,
            "flex_flow": null,
            "width": null,
            "min_width": null,
            "border": null,
            "align_items": null,
            "bottom": null,
            "_model_module": "@jupyter-widgets/base",
            "top": null,
            "grid_column": null,
            "overflow_y": null,
            "overflow_x": null,
            "grid_auto_flow": null,
            "grid_area": null,
            "grid_template_columns": null,
            "flex": null,
            "_model_name": "LayoutModel",
            "justify_items": null,
            "grid_row": null,
            "max_height": null,
            "align_content": null,
            "visibility": null,
            "align_self": null,
            "height": null,
            "min_height": null,
            "padding": null,
            "grid_auto_rows": null,
            "grid_gap": null,
            "max_width": null,
            "order": null,
            "_view_module_version": "1.2.0",
            "grid_template_areas": null,
            "object_position": null,
            "object_fit": null,
            "grid_auto_columns": null,
            "margin": null,
            "display": null,
            "left": null
          }
        },
        "bb1a4ffa79fa4f3da417bc0182f93826": {
          "model_module": "@jupyter-widgets/controls",
          "model_name": "HBoxModel",
          "state": {
            "_view_name": "HBoxView",
            "_dom_classes": [],
            "_model_name": "HBoxModel",
            "_view_module": "@jupyter-widgets/controls",
            "_model_module_version": "1.5.0",
            "_view_count": null,
            "_view_module_version": "1.5.0",
            "box_style": "",
            "layout": "IPY_MODEL_cf1564aa9ff540878b37f5c90e4e3d24",
            "_model_module": "@jupyter-widgets/controls",
            "children": [
              "IPY_MODEL_32fef7af40d94152b302465d5df00ede",
              "IPY_MODEL_23ce68d02eac4e19bd68b871ff935c97"
            ]
          }
        },
        "cf1564aa9ff540878b37f5c90e4e3d24": {
          "model_module": "@jupyter-widgets/base",
          "model_name": "LayoutModel",
          "state": {
            "_view_name": "LayoutView",
            "grid_template_rows": null,
            "right": null,
            "justify_content": null,
            "_view_module": "@jupyter-widgets/base",
            "overflow": null,
            "_model_module_version": "1.2.0",
            "_view_count": null,
            "flex_flow": null,
            "width": null,
            "min_width": null,
            "border": null,
            "align_items": null,
            "bottom": null,
            "_model_module": "@jupyter-widgets/base",
            "top": null,
            "grid_column": null,
            "overflow_y": null,
            "overflow_x": null,
            "grid_auto_flow": null,
            "grid_area": null,
            "grid_template_columns": null,
            "flex": null,
            "_model_name": "LayoutModel",
            "justify_items": null,
            "grid_row": null,
            "max_height": null,
            "align_content": null,
            "visibility": null,
            "align_self": null,
            "height": null,
            "min_height": null,
            "padding": null,
            "grid_auto_rows": null,
            "grid_gap": null,
            "max_width": null,
            "order": null,
            "_view_module_version": "1.2.0",
            "grid_template_areas": null,
            "object_position": null,
            "object_fit": null,
            "grid_auto_columns": null,
            "margin": null,
            "display": null,
            "left": null
          }
        },
        "32fef7af40d94152b302465d5df00ede": {
          "model_module": "@jupyter-widgets/controls",
          "model_name": "FloatProgressModel",
          "state": {
            "_view_name": "ProgressView",
            "style": "IPY_MODEL_cb89fd65861e42d2b7bec445b16f9263",
            "_dom_classes": [],
            "description": "Downloading: 100%",
            "_model_name": "FloatProgressModel",
            "bar_style": "success",
            "max": 435779157,
            "_view_module": "@jupyter-widgets/controls",
            "_model_module_version": "1.5.0",
            "value": 435779157,
            "_view_count": null,
            "_view_module_version": "1.5.0",
            "orientation": "horizontal",
            "min": 0,
            "description_tooltip": null,
            "_model_module": "@jupyter-widgets/controls",
            "layout": "IPY_MODEL_a0592da53913412dbfa8c54755892bbf"
          }
        },
        "23ce68d02eac4e19bd68b871ff935c97": {
          "model_module": "@jupyter-widgets/controls",
          "model_name": "HTMLModel",
          "state": {
            "_view_name": "HTMLView",
            "style": "IPY_MODEL_5b8ae2b551394582a6416ea6e2eca829",
            "_dom_classes": [],
            "description": "",
            "_model_name": "HTMLModel",
            "placeholder": "​",
            "_view_module": "@jupyter-widgets/controls",
            "_model_module_version": "1.5.0",
            "value": " 436M/436M [00:09&lt;00:00, 44.2MB/s]",
            "_view_count": null,
            "_view_module_version": "1.5.0",
            "description_tooltip": null,
            "_model_module": "@jupyter-widgets/controls",
            "layout": "IPY_MODEL_3362cc6d786c4124a1a68bcb5dd576e7"
          }
        },
        "cb89fd65861e42d2b7bec445b16f9263": {
          "model_module": "@jupyter-widgets/controls",
          "model_name": "ProgressStyleModel",
          "state": {
            "_view_name": "StyleView",
            "_model_name": "ProgressStyleModel",
            "description_width": "initial",
            "_view_module": "@jupyter-widgets/base",
            "_model_module_version": "1.5.0",
            "_view_count": null,
            "_view_module_version": "1.2.0",
            "bar_color": null,
            "_model_module": "@jupyter-widgets/controls"
          }
        },
        "a0592da53913412dbfa8c54755892bbf": {
          "model_module": "@jupyter-widgets/base",
          "model_name": "LayoutModel",
          "state": {
            "_view_name": "LayoutView",
            "grid_template_rows": null,
            "right": null,
            "justify_content": null,
            "_view_module": "@jupyter-widgets/base",
            "overflow": null,
            "_model_module_version": "1.2.0",
            "_view_count": null,
            "flex_flow": null,
            "width": null,
            "min_width": null,
            "border": null,
            "align_items": null,
            "bottom": null,
            "_model_module": "@jupyter-widgets/base",
            "top": null,
            "grid_column": null,
            "overflow_y": null,
            "overflow_x": null,
            "grid_auto_flow": null,
            "grid_area": null,
            "grid_template_columns": null,
            "flex": null,
            "_model_name": "LayoutModel",
            "justify_items": null,
            "grid_row": null,
            "max_height": null,
            "align_content": null,
            "visibility": null,
            "align_self": null,
            "height": null,
            "min_height": null,
            "padding": null,
            "grid_auto_rows": null,
            "grid_gap": null,
            "max_width": null,
            "order": null,
            "_view_module_version": "1.2.0",
            "grid_template_areas": null,
            "object_position": null,
            "object_fit": null,
            "grid_auto_columns": null,
            "margin": null,
            "display": null,
            "left": null
          }
        },
        "5b8ae2b551394582a6416ea6e2eca829": {
          "model_module": "@jupyter-widgets/controls",
          "model_name": "DescriptionStyleModel",
          "state": {
            "_view_name": "StyleView",
            "_model_name": "DescriptionStyleModel",
            "description_width": "",
            "_view_module": "@jupyter-widgets/base",
            "_model_module_version": "1.5.0",
            "_view_count": null,
            "_view_module_version": "1.2.0",
            "_model_module": "@jupyter-widgets/controls"
          }
        },
        "3362cc6d786c4124a1a68bcb5dd576e7": {
          "model_module": "@jupyter-widgets/base",
          "model_name": "LayoutModel",
          "state": {
            "_view_name": "LayoutView",
            "grid_template_rows": null,
            "right": null,
            "justify_content": null,
            "_view_module": "@jupyter-widgets/base",
            "overflow": null,
            "_model_module_version": "1.2.0",
            "_view_count": null,
            "flex_flow": null,
            "width": null,
            "min_width": null,
            "border": null,
            "align_items": null,
            "bottom": null,
            "_model_module": "@jupyter-widgets/base",
            "top": null,
            "grid_column": null,
            "overflow_y": null,
            "overflow_x": null,
            "grid_auto_flow": null,
            "grid_area": null,
            "grid_template_columns": null,
            "flex": null,
            "_model_name": "LayoutModel",
            "justify_items": null,
            "grid_row": null,
            "max_height": null,
            "align_content": null,
            "visibility": null,
            "align_self": null,
            "height": null,
            "min_height": null,
            "padding": null,
            "grid_auto_rows": null,
            "grid_gap": null,
            "max_width": null,
            "order": null,
            "_view_module_version": "1.2.0",
            "grid_template_areas": null,
            "object_position": null,
            "object_fit": null,
            "grid_auto_columns": null,
            "margin": null,
            "display": null,
            "left": null
          }
        }
      }
    }
  },
  "cells": [
    {
      "cell_type": "code",
      "metadata": {
        "id": "BKHpdSN0LWHh"
      },
      "source": [
        "import pandas as pd\n",
        "import numpy as np\n",
        "import os, glob,re\n",
        "\n",
        "from pathlib import Path\n",
        "from tqdm import tqdm\n",
        "import matplotlib.pyplot as plt\n",
        "\n",
        "from IPython.core.display import HTML\n",
        "\n",
        "import torch\n",
        "PATH = '/content/drive/MyDrive/Coleridge_Initiative/input'"
      ],
      "execution_count": 8,
      "outputs": []
    },
    {
      "cell_type": "code",
      "metadata": {
        "id": "aJRhrWInkGVi",
        "colab": {
          "base_uri": "https://localhost:8080/"
        },
        "outputId": "c16fc12c-20e2-4c09-f08d-28fb53421a5c"
      },
      "source": [
        "!pip install transformers\n",
        "!pip install pytorch_lightning"
      ],
      "execution_count": null,
      "outputs": [
        {
          "output_type": "stream",
          "text": [
            "Collecting transformers\n",
            "\u001b[?25l  Downloading https://files.pythonhosted.org/packages/81/91/61d69d58a1af1bd81d9ca9d62c90a6de3ab80d77f27c5df65d9a2c1f5626/transformers-4.5.0-py3-none-any.whl (2.1MB)\n",
            "\u001b[K     |████████████████████████████████| 2.2MB 12.6MB/s \n",
            "\u001b[?25hRequirement already satisfied: importlib-metadata; python_version < \"3.8\" in /usr/local/lib/python3.7/dist-packages (from transformers) (3.8.1)\n",
            "Collecting sacremoses\n",
            "\u001b[?25l  Downloading https://files.pythonhosted.org/packages/08/cd/342e584ee544d044fb573ae697404ce22ede086c9e87ce5960772084cad0/sacremoses-0.0.44.tar.gz (862kB)\n",
            "\u001b[K     |████████████████████████████████| 870kB 39.8MB/s \n",
            "\u001b[?25hRequirement already satisfied: tqdm>=4.27 in /usr/local/lib/python3.7/dist-packages (from transformers) (4.41.1)\n",
            "Requirement already satisfied: regex!=2019.12.17 in /usr/local/lib/python3.7/dist-packages (from transformers) (2019.12.20)\n",
            "Requirement already satisfied: numpy>=1.17 in /usr/local/lib/python3.7/dist-packages (from transformers) (1.19.5)\n",
            "Requirement already satisfied: requests in /usr/local/lib/python3.7/dist-packages (from transformers) (2.23.0)\n",
            "Collecting tokenizers<0.11,>=0.10.1\n",
            "\u001b[?25l  Downloading https://files.pythonhosted.org/packages/ae/04/5b870f26a858552025a62f1649c20d29d2672c02ff3c3fb4c688ca46467a/tokenizers-0.10.2-cp37-cp37m-manylinux2010_x86_64.whl (3.3MB)\n",
            "\u001b[K     |████████████████████████████████| 3.3MB 38.4MB/s \n",
            "\u001b[?25hRequirement already satisfied: packaging in /usr/local/lib/python3.7/dist-packages (from transformers) (20.9)\n",
            "Requirement already satisfied: filelock in /usr/local/lib/python3.7/dist-packages (from transformers) (3.0.12)\n",
            "Requirement already satisfied: zipp>=0.5 in /usr/local/lib/python3.7/dist-packages (from importlib-metadata; python_version < \"3.8\"->transformers) (3.4.1)\n",
            "Requirement already satisfied: typing-extensions>=3.6.4; python_version < \"3.8\" in /usr/local/lib/python3.7/dist-packages (from importlib-metadata; python_version < \"3.8\"->transformers) (3.7.4.3)\n",
            "Requirement already satisfied: six in /usr/local/lib/python3.7/dist-packages (from sacremoses->transformers) (1.15.0)\n",
            "Requirement already satisfied: click in /usr/local/lib/python3.7/dist-packages (from sacremoses->transformers) (7.1.2)\n",
            "Requirement already satisfied: joblib in /usr/local/lib/python3.7/dist-packages (from sacremoses->transformers) (1.0.1)\n",
            "Requirement already satisfied: idna<3,>=2.5 in /usr/local/lib/python3.7/dist-packages (from requests->transformers) (2.10)\n",
            "Requirement already satisfied: certifi>=2017.4.17 in /usr/local/lib/python3.7/dist-packages (from requests->transformers) (2020.12.5)\n",
            "Requirement already satisfied: urllib3!=1.25.0,!=1.25.1,<1.26,>=1.21.1 in /usr/local/lib/python3.7/dist-packages (from requests->transformers) (1.24.3)\n",
            "Requirement already satisfied: chardet<4,>=3.0.2 in /usr/local/lib/python3.7/dist-packages (from requests->transformers) (3.0.4)\n",
            "Requirement already satisfied: pyparsing>=2.0.2 in /usr/local/lib/python3.7/dist-packages (from packaging->transformers) (2.4.7)\n",
            "Building wheels for collected packages: sacremoses\n",
            "  Building wheel for sacremoses (setup.py) ... \u001b[?25l\u001b[?25hdone\n",
            "  Created wheel for sacremoses: filename=sacremoses-0.0.44-cp37-none-any.whl size=886084 sha256=b579d67a8cf6ba6f6ed6efaf2e4c6049c31525766dc6294c3b061ec8735c483c\n",
            "  Stored in directory: /root/.cache/pip/wheels/3e/fb/c0/13ab4d63d537658f448366744654323077c4d90069b6512f3c\n",
            "Successfully built sacremoses\n",
            "Installing collected packages: sacremoses, tokenizers, transformers\n",
            "Successfully installed sacremoses-0.0.44 tokenizers-0.10.2 transformers-4.5.0\n"
          ],
          "name": "stdout"
        }
      ]
    },
    {
      "cell_type": "code",
      "metadata": {
        "id": "Aty5BrBEkKU3"
      },
      "source": [
        "import transformers\n",
        "import pytorch_lightning as pl\n",
        "\n",
        "pl.seed_everything(13)"
      ],
      "execution_count": null,
      "outputs": []
    },
    {
      "cell_type": "code",
      "metadata": {
        "colab": {
          "base_uri": "https://localhost:8080/",
          "height": 289
        },
        "id": "HPwb6zaJLcKb",
        "outputId": "0d93ad6c-1c58-43c8-cbab-c22af5f33b7f"
      },
      "source": [
        "df = pd.read_csv(Path(PATH) / 'train.csv')\n",
        "df.head()"
      ],
      "execution_count": 2,
      "outputs": [
        {
          "output_type": "execute_result",
          "data": {
            "text/html": [
              "<div>\n",
              "<style scoped>\n",
              "    .dataframe tbody tr th:only-of-type {\n",
              "        vertical-align: middle;\n",
              "    }\n",
              "\n",
              "    .dataframe tbody tr th {\n",
              "        vertical-align: top;\n",
              "    }\n",
              "\n",
              "    .dataframe thead th {\n",
              "        text-align: right;\n",
              "    }\n",
              "</style>\n",
              "<table border=\"1\" class=\"dataframe\">\n",
              "  <thead>\n",
              "    <tr style=\"text-align: right;\">\n",
              "      <th></th>\n",
              "      <th>Id</th>\n",
              "      <th>pub_title</th>\n",
              "      <th>dataset_title</th>\n",
              "      <th>dataset_label</th>\n",
              "      <th>cleaned_label</th>\n",
              "    </tr>\n",
              "  </thead>\n",
              "  <tbody>\n",
              "    <tr>\n",
              "      <th>0</th>\n",
              "      <td>d0fa7568-7d8e-4db9-870f-f9c6f668c17b</td>\n",
              "      <td>The Impact of Dual Enrollment on College Degre...</td>\n",
              "      <td>National Education Longitudinal Study</td>\n",
              "      <td>National Education Longitudinal Study</td>\n",
              "      <td>national education longitudinal study</td>\n",
              "    </tr>\n",
              "    <tr>\n",
              "      <th>1</th>\n",
              "      <td>2f26f645-3dec-485d-b68d-f013c9e05e60</td>\n",
              "      <td>Educational Attainment of High School Dropouts...</td>\n",
              "      <td>National Education Longitudinal Study</td>\n",
              "      <td>National Education Longitudinal Study</td>\n",
              "      <td>national education longitudinal study</td>\n",
              "    </tr>\n",
              "    <tr>\n",
              "      <th>2</th>\n",
              "      <td>c5d5cd2c-59de-4f29-bbb1-6a88c7b52f29</td>\n",
              "      <td>Differences in Outcomes for Female and Male St...</td>\n",
              "      <td>National Education Longitudinal Study</td>\n",
              "      <td>National Education Longitudinal Study</td>\n",
              "      <td>national education longitudinal study</td>\n",
              "    </tr>\n",
              "    <tr>\n",
              "      <th>3</th>\n",
              "      <td>5c9a3bc9-41ba-4574-ad71-e25c1442c8af</td>\n",
              "      <td>Stepping Stone and Option Value in a Model of ...</td>\n",
              "      <td>National Education Longitudinal Study</td>\n",
              "      <td>National Education Longitudinal Study</td>\n",
              "      <td>national education longitudinal study</td>\n",
              "    </tr>\n",
              "    <tr>\n",
              "      <th>4</th>\n",
              "      <td>c754dec7-c5a3-4337-9892-c02158475064</td>\n",
              "      <td>Parental Effort, School Resources, and Student...</td>\n",
              "      <td>National Education Longitudinal Study</td>\n",
              "      <td>National Education Longitudinal Study</td>\n",
              "      <td>national education longitudinal study</td>\n",
              "    </tr>\n",
              "  </tbody>\n",
              "</table>\n",
              "</div>"
            ],
            "text/plain": [
              "                                     Id  ...                          cleaned_label\n",
              "0  d0fa7568-7d8e-4db9-870f-f9c6f668c17b  ...  national education longitudinal study\n",
              "1  2f26f645-3dec-485d-b68d-f013c9e05e60  ...  national education longitudinal study\n",
              "2  c5d5cd2c-59de-4f29-bbb1-6a88c7b52f29  ...  national education longitudinal study\n",
              "3  5c9a3bc9-41ba-4574-ad71-e25c1442c8af  ...  national education longitudinal study\n",
              "4  c754dec7-c5a3-4337-9892-c02158475064  ...  national education longitudinal study\n",
              "\n",
              "[5 rows x 5 columns]"
            ]
          },
          "metadata": {
            "tags": []
          },
          "execution_count": 2
        }
      ]
    },
    {
      "cell_type": "markdown",
      "metadata": {
        "id": "RSCN8DIekUFj"
      },
      "source": [
        "Look for text in Json\n"
      ]
    },
    {
      "cell_type": "code",
      "metadata": {
        "colab": {
          "base_uri": "https://localhost:8080/",
          "height": 607
        },
        "id": "JY2dL-c3N5Gt",
        "outputId": "13dbaa87-6c73-4630-c6d9-aec639c9eba3"
      },
      "source": [
        "df1 = pd.read_json(Path(PATH) /'train' /'d0fa7568-7d8e-4db9-870f-f9c6f668c17b.json')\n",
        "df1"
      ],
      "execution_count": 4,
      "outputs": [
        {
          "output_type": "execute_result",
          "data": {
            "text/html": [
              "<div>\n",
              "<style scoped>\n",
              "    .dataframe tbody tr th:only-of-type {\n",
              "        vertical-align: middle;\n",
              "    }\n",
              "\n",
              "    .dataframe tbody tr th {\n",
              "        vertical-align: top;\n",
              "    }\n",
              "\n",
              "    .dataframe thead th {\n",
              "        text-align: right;\n",
              "    }\n",
              "</style>\n",
              "<table border=\"1\" class=\"dataframe\">\n",
              "  <thead>\n",
              "    <tr style=\"text-align: right;\">\n",
              "      <th></th>\n",
              "      <th>section_title</th>\n",
              "      <th>text</th>\n",
              "    </tr>\n",
              "  </thead>\n",
              "  <tbody>\n",
              "    <tr>\n",
              "      <th>0</th>\n",
              "      <td>What is this study about?</td>\n",
              "      <td>This study used data from the National Educati...</td>\n",
              "    </tr>\n",
              "    <tr>\n",
              "      <th>1</th>\n",
              "      <td>Features of Dual Enrollment Programs</td>\n",
              "      <td>Dual enrollment programs allow high school stu...</td>\n",
              "    </tr>\n",
              "    <tr>\n",
              "      <th>2</th>\n",
              "      <td>WWC Single Study Review</td>\n",
              "      <td>What did the study find?\\nThe study reported, ...</td>\n",
              "    </tr>\n",
              "    <tr>\n",
              "      <th>3</th>\n",
              "      <td>WWC Rating</td>\n",
              "      <td>The research described in this report meets WW...</td>\n",
              "    </tr>\n",
              "    <tr>\n",
              "      <th>4</th>\n",
              "      <td>Intervention group</td>\n",
              "      <td>The intervention group was comprised of those ...</td>\n",
              "    </tr>\n",
              "    <tr>\n",
              "      <th>5</th>\n",
              "      <td>Comparison group</td>\n",
              "      <td>The comparison group was comprised of NELS par...</td>\n",
              "    </tr>\n",
              "    <tr>\n",
              "      <th>6</th>\n",
              "      <td>Outcomes and measurement</td>\n",
              "      <td>There were two outcomes examined in the study:...</td>\n",
              "    </tr>\n",
              "    <tr>\n",
              "      <th>7</th>\n",
              "      <td>Support for implementation</td>\n",
              "      <td>The study was based on secondary data from a n...</td>\n",
              "    </tr>\n",
              "    <tr>\n",
              "      <th>8</th>\n",
              "      <td>Reason for review</td>\n",
              "      <td>This study was identified for review by receiv...</td>\n",
              "    </tr>\n",
              "    <tr>\n",
              "      <th>9</th>\n",
              "      <td>Degree attainment</td>\n",
              "      <td>Any college degree attainment The study author...</td>\n",
              "    </tr>\n",
              "    <tr>\n",
              "      <th>10</th>\n",
              "      <td>Bachelor's degree attainment</td>\n",
              "      <td>The study author collected information on bach...</td>\n",
              "    </tr>\n",
              "    <tr>\n",
              "      <th>11</th>\n",
              "      <td>Study Notes:</td>\n",
              "      <td>A correction for multiple comparisons was need...</td>\n",
              "    </tr>\n",
              "    <tr>\n",
              "      <th>12</th>\n",
              "      <td>Glossary of Terms</td>\n",
              "      <td>Attrition Attrition occurs when an outcome var...</td>\n",
              "    </tr>\n",
              "    <tr>\n",
              "      <th>13</th>\n",
              "      <td>Multiple comparison adjustment</td>\n",
              "      <td>When a study includes multiple outcomes or com...</td>\n",
              "    </tr>\n",
              "    <tr>\n",
              "      <th>14</th>\n",
              "      <td>Quasi-experimental design (QED)</td>\n",
              "      <td>A quasi-experimental design (QED) is a researc...</td>\n",
              "    </tr>\n",
              "    <tr>\n",
              "      <th>15</th>\n",
              "      <td>Randomized controlled trial (RCT)</td>\n",
              "      <td>A randomized controlled trial (RCT) is an expe...</td>\n",
              "    </tr>\n",
              "    <tr>\n",
              "      <th>16</th>\n",
              "      <td>Single-case design (SCD)</td>\n",
              "      <td>A research approach in which an outcome variab...</td>\n",
              "    </tr>\n",
              "    <tr>\n",
              "      <th>17</th>\n",
              "      <td>Standard deviation</td>\n",
              "      <td>The standard deviation of a measure shows how ...</td>\n",
              "    </tr>\n",
              "  </tbody>\n",
              "</table>\n",
              "</div>"
            ],
            "text/plain": [
              "                           section_title                                               text\n",
              "0              What is this study about?  This study used data from the National Educati...\n",
              "1   Features of Dual Enrollment Programs  Dual enrollment programs allow high school stu...\n",
              "2                WWC Single Study Review  What did the study find?\\nThe study reported, ...\n",
              "3                             WWC Rating  The research described in this report meets WW...\n",
              "4                     Intervention group  The intervention group was comprised of those ...\n",
              "5                       Comparison group  The comparison group was comprised of NELS par...\n",
              "6               Outcomes and measurement  There were two outcomes examined in the study:...\n",
              "7             Support for implementation  The study was based on secondary data from a n...\n",
              "8                      Reason for review  This study was identified for review by receiv...\n",
              "9                      Degree attainment  Any college degree attainment The study author...\n",
              "10          Bachelor's degree attainment  The study author collected information on bach...\n",
              "11                          Study Notes:  A correction for multiple comparisons was need...\n",
              "12                     Glossary of Terms  Attrition Attrition occurs when an outcome var...\n",
              "13        Multiple comparison adjustment  When a study includes multiple outcomes or com...\n",
              "14       Quasi-experimental design (QED)  A quasi-experimental design (QED) is a researc...\n",
              "15     Randomized controlled trial (RCT)  A randomized controlled trial (RCT) is an expe...\n",
              "16              Single-case design (SCD)  A research approach in which an outcome variab...\n",
              "17                    Standard deviation  The standard deviation of a measure shows how ..."
            ]
          },
          "metadata": {
            "tags": []
          },
          "execution_count": 4
        }
      ]
    },
    {
      "cell_type": "markdown",
      "metadata": {
        "id": "n7Ocsw97SqxM"
      },
      "source": [
        "for BERT not useble very length text, base model 512 tokens"
      ]
    },
    {
      "cell_type": "code",
      "metadata": {
        "colab": {
          "base_uri": "https://localhost:8080/"
        },
        "id": "7ZQhC8w4OPOx",
        "outputId": "1199250a-3408-4c73-d54d-03b92c2ff163"
      },
      "source": [
        "print(df1.text.apply(lambda x: len(x.split())).describe())\n",
        "print()\n",
        "print('All length text in json: ', len(df1.text.str.cat(sep = '\\n').split()))"
      ],
      "execution_count": 17,
      "outputs": [
        {
          "output_type": "stream",
          "text": [
            "count     18.000000\n",
            "mean      98.000000\n",
            "std       95.736157\n",
            "min       10.000000\n",
            "25%       27.750000\n",
            "50%       41.500000\n",
            "75%      165.000000\n",
            "max      298.000000\n",
            "Name: text, dtype: float64\n",
            "\n",
            "All length text in json:  1764\n"
          ],
          "name": "stdout"
        }
      ]
    },
    {
      "cell_type": "markdown",
      "metadata": {
        "id": "xCv0xz1aphp5"
      },
      "source": [
        "Nice len in d0fa7568-7d8e-4db9-870f-f9c6f668c17b\n",
        "\n",
        "min = 10 and max 298 by title, and we check all len(all text) is eq = 1764\n",
        "\n",
        "\n",
        "Okay lets see all json length param"
      ]
    },
    {
      "cell_type": "code",
      "metadata": {
        "id": "u7OhV79nurud",
        "colab": {
          "base_uri": "https://localhost:8080/",
          "height": 221
        },
        "outputId": "3e347ea6-2057-4b85-da73-d7f86c086937"
      },
      "source": [
        "def see_length(file: Path):\n",
        "    # make conf interval for length\n",
        "    tmp_df = pd.read_json(file)\n",
        "    tmp_stat = tmp_df.text.apply(lambda x: len(x.split())).describe().to_dict()\n",
        "    len_text = len(tmp_df.text.str.cat(sep = '\\n').split())\n",
        "    id = file.stem\n",
        "    return {\n",
        "        'id':id,\n",
        "        'min': tmp_stat['min'],\n",
        "        'mean': tmp_stat['mean'],\n",
        "        'max': tmp_stat['max'],\n",
        "        'len_txt': len_text\n",
        "        }\n",
        "\n",
        "list_train_json = list(Path(PATH).glob('train/*.json'))\n",
        "\n",
        "tmp = []\n",
        "# time by colab is 1h\n",
        "for file in tqdm(list_train_json):\n",
        "    tmp_dict = see_length(file)\n",
        "    tmp.append(\n",
        "        pd.DataFrame(tmp_dict,index=[0])\n",
        "        )\n",
        "length_df = pd.concat(tmp).reset_index(drop=True)\n",
        "length_df.head()"
      ],
      "execution_count": 30,
      "outputs": [
        {
          "output_type": "stream",
          "text": [
            "100%|██████████| 14316/14316 [59:22<00:00,  4.02it/s]\n"
          ],
          "name": "stderr"
        },
        {
          "output_type": "execute_result",
          "data": {
            "text/html": [
              "<div>\n",
              "<style scoped>\n",
              "    .dataframe tbody tr th:only-of-type {\n",
              "        vertical-align: middle;\n",
              "    }\n",
              "\n",
              "    .dataframe tbody tr th {\n",
              "        vertical-align: top;\n",
              "    }\n",
              "\n",
              "    .dataframe thead th {\n",
              "        text-align: right;\n",
              "    }\n",
              "</style>\n",
              "<table border=\"1\" class=\"dataframe\">\n",
              "  <thead>\n",
              "    <tr style=\"text-align: right;\">\n",
              "      <th></th>\n",
              "      <th>index</th>\n",
              "      <th>id</th>\n",
              "      <th>min</th>\n",
              "      <th>mean</th>\n",
              "      <th>max</th>\n",
              "      <th>len_txt</th>\n",
              "    </tr>\n",
              "  </thead>\n",
              "  <tbody>\n",
              "    <tr>\n",
              "      <th>0</th>\n",
              "      <td>0</td>\n",
              "      <td>f0249680-2273-4b1a-8a0a-2e8bbf9ec11a</td>\n",
              "      <td>0.0</td>\n",
              "      <td>316.541667</td>\n",
              "      <td>1197.0</td>\n",
              "      <td>15194</td>\n",
              "    </tr>\n",
              "    <tr>\n",
              "      <th>1</th>\n",
              "      <td>0</td>\n",
              "      <td>ef4b7964-b7dc-4570-804e-74cc7b804c61</td>\n",
              "      <td>42.0</td>\n",
              "      <td>427.266667</td>\n",
              "      <td>985.0</td>\n",
              "      <td>6409</td>\n",
              "    </tr>\n",
              "    <tr>\n",
              "      <th>2</th>\n",
              "      <td>0</td>\n",
              "      <td>ec938f38-37e7-4a35-87bd-e59ffa02d52e</td>\n",
              "      <td>76.0</td>\n",
              "      <td>318.214286</td>\n",
              "      <td>532.0</td>\n",
              "      <td>4455</td>\n",
              "    </tr>\n",
              "    <tr>\n",
              "      <th>3</th>\n",
              "      <td>0</td>\n",
              "      <td>f042f6d8-c940-4cda-9b96-75cb95db4ef8</td>\n",
              "      <td>0.0</td>\n",
              "      <td>378.200000</td>\n",
              "      <td>705.0</td>\n",
              "      <td>3782</td>\n",
              "    </tr>\n",
              "    <tr>\n",
              "      <th>4</th>\n",
              "      <td>0</td>\n",
              "      <td>ed1a995e-63f9-4542-b515-bcaab0ed4295</td>\n",
              "      <td>0.0</td>\n",
              "      <td>380.789474</td>\n",
              "      <td>2738.0</td>\n",
              "      <td>7235</td>\n",
              "    </tr>\n",
              "  </tbody>\n",
              "</table>\n",
              "</div>"
            ],
            "text/plain": [
              "   index                                    id  ...     max  len_txt\n",
              "0      0  f0249680-2273-4b1a-8a0a-2e8bbf9ec11a  ...  1197.0    15194\n",
              "1      0  ef4b7964-b7dc-4570-804e-74cc7b804c61  ...   985.0     6409\n",
              "2      0  ec938f38-37e7-4a35-87bd-e59ffa02d52e  ...   532.0     4455\n",
              "3      0  f042f6d8-c940-4cda-9b96-75cb95db4ef8  ...   705.0     3782\n",
              "4      0  ed1a995e-63f9-4542-b515-bcaab0ed4295  ...  2738.0     7235\n",
              "\n",
              "[5 rows x 6 columns]"
            ]
          },
          "metadata": {
            "tags": []
          },
          "execution_count": 30
        }
      ]
    },
    {
      "cell_type": "code",
      "metadata": {
        "colab": {
          "base_uri": "https://localhost:8080/"
        },
        "id": "JLjcMk5_KB4I",
        "outputId": "873c6c5a-d506-4452-c9b6-94646a361848"
      },
      "source": [
        "length_df.mean(axis = 0)"
      ],
      "execution_count": 31,
      "outputs": [
        {
          "output_type": "execute_result",
          "data": {
            "text/plain": [
              "index         0.000000\n",
              "min         553.132858\n",
              "mean        924.293620\n",
              "max        1864.406259\n",
              "len_txt    7049.041771\n",
              "dtype: float64"
            ]
          },
          "metadata": {
            "tags": []
          },
          "execution_count": 31
        }
      ]
    },
    {
      "cell_type": "code",
      "metadata": {
        "colab": {
          "base_uri": "https://localhost:8080/"
        },
        "id": "1TN6pkWTNHFE",
        "outputId": "3721c8e6-bb68-4b62-a07b-d2558ff33918"
      },
      "source": [
        "length_df['min'].value_counts().sort_values(ascending=False)"
      ],
      "execution_count": 32,
      "outputs": [
        {
          "output_type": "execute_result",
          "data": {
            "text/plain": [
              "0.0         9052\n",
              "15.0          79\n",
              "26.0          77\n",
              "2.0           74\n",
              "1.0           70\n",
              "            ... \n",
              "328235.0       1\n",
              "564.0          1\n",
              "1356.0         1\n",
              "522.0          1\n",
              "1014.0         1\n",
              "Name: min, Length: 632, dtype: int64"
            ]
          },
          "metadata": {
            "tags": []
          },
          "execution_count": 32
        }
      ]
    },
    {
      "cell_type": "code",
      "metadata": {
        "colab": {
          "base_uri": "https://localhost:8080/"
        },
        "id": "oxeCLDLxR8_v",
        "outputId": "d4141b2a-b6f3-420a-d01e-91fe8213c95c"
      },
      "source": [
        "length_df[length_df['min'] < 100].mean(axis = 0)"
      ],
      "execution_count": 33,
      "outputs": [
        {
          "output_type": "execute_result",
          "data": {
            "text/plain": [
              "index         0.000000\n",
              "min          10.655568\n",
              "mean        374.762448\n",
              "max        1352.718951\n",
              "len_txt    6855.988687\n",
              "dtype: float64"
            ]
          },
          "metadata": {
            "tags": []
          },
          "execution_count": 33
        }
      ]
    },
    {
      "cell_type": "markdown",
      "metadata": {
        "id": "iiBMS2PZz033"
      },
      "source": [
        "we see more len is 0 let see what it is"
      ]
    },
    {
      "cell_type": "code",
      "metadata": {
        "id": "EV5eEVLyK6bm",
        "colab": {
          "base_uri": "https://localhost:8080/"
        },
        "outputId": "4e9b8fd7-d862-4c5c-f2aa-ff500d0b0c25"
      },
      "source": [
        "pd.DataFrame(['cas covid 19 antiviral candidate compounds dataset',\n",
        "              'cas covid 19 antiviral candidate compounds dataset',\n",
        "              'cas cov antiviral candidate compounds dataset'\n",
        "])[0].str.contains('covid').sum()"
      ],
      "execution_count": 192,
      "outputs": [
        {
          "output_type": "execute_result",
          "data": {
            "text/plain": [
              "2"
            ]
          },
          "metadata": {
            "tags": []
          },
          "execution_count": 192
        }
      ]
    },
    {
      "cell_type": "code",
      "metadata": {
        "id": "aTofPaUAiM7Z"
      },
      "source": [
        "def have_digit(txt: str) -> bool:\n",
        "    return any(char.isdigit() for char in txt)\n",
        "\n",
        "reusult = df.cleaned_label.apply(lambda x: have_digit(x))"
      ],
      "execution_count": 193,
      "outputs": []
    },
    {
      "cell_type": "code",
      "metadata": {
        "id": "l-RXP6wF2Vxd",
        "colab": {
          "base_uri": "https://localhost:8080/"
        },
        "outputId": "23b5d180-3739-4867-dc50-5e4367375320"
      },
      "source": [
        "for i in df[reusult].cleaned_label.values:\n",
        "    if 'covid' not in i:\n",
        "        print(i)\n",
        "        break"
      ],
      "execution_count": 200,
      "outputs": [
        {
          "output_type": "stream",
          "text": [
            "characterizing health associated risks and your baseline disease in sars cov 2 charybdis \n"
          ],
          "name": "stdout"
        }
      ]
    },
    {
      "cell_type": "code",
      "metadata": {
        "id": "wqnort055BW4"
      },
      "source": [
        "def the_smallest(txt: str)->int:\n",
        "    tmp = list(len(x) for x in txt.split() if not x.isdigit())\n",
        "    return tmp[np.argmin(tmp)]"
      ],
      "execution_count": 202,
      "outputs": []
    },
    {
      "cell_type": "code",
      "metadata": {
        "id": "Jg6OyD4a2V0c"
      },
      "source": [
        "df['the_smallest'] = df.cleaned_label.apply(lambda x: the_smallest(x))"
      ],
      "execution_count": 203,
      "outputs": []
    },
    {
      "cell_type": "code",
      "metadata": {
        "colab": {
          "base_uri": "https://localhost:8080/",
          "height": 357
        },
        "id": "a55P0awN5BLM",
        "outputId": "0d17fc90-aa71-4bc3-df82-312722109909"
      },
      "source": [
        "df[df.the_smallest == 1].head()"
      ],
      "execution_count": 206,
      "outputs": [
        {
          "output_type": "execute_result",
          "data": {
            "text/html": [
              "<div>\n",
              "<style scoped>\n",
              "    .dataframe tbody tr th:only-of-type {\n",
              "        vertical-align: middle;\n",
              "    }\n",
              "\n",
              "    .dataframe tbody tr th {\n",
              "        vertical-align: top;\n",
              "    }\n",
              "\n",
              "    .dataframe thead th {\n",
              "        text-align: right;\n",
              "    }\n",
              "</style>\n",
              "<table border=\"1\" class=\"dataframe\">\n",
              "  <thead>\n",
              "    <tr style=\"text-align: right;\">\n",
              "      <th></th>\n",
              "      <th>Id</th>\n",
              "      <th>pub_title</th>\n",
              "      <th>dataset_title</th>\n",
              "      <th>dataset_label</th>\n",
              "      <th>cleaned_label</th>\n",
              "      <th>the_smallest</th>\n",
              "    </tr>\n",
              "  </thead>\n",
              "  <tbody>\n",
              "    <tr>\n",
              "      <th>412</th>\n",
              "      <td>237b2194-9c15-4e33-b9b7-e9a0ab37f499</td>\n",
              "      <td>A Process Oriented Areal Interpolation Techniq...</td>\n",
              "      <td>Coastal Change Analysis Program</td>\n",
              "      <td>NOAA C-CAP</td>\n",
              "      <td>noaa c cap</td>\n",
              "      <td>1</td>\n",
              "    </tr>\n",
              "    <tr>\n",
              "      <th>413</th>\n",
              "      <td>c210f9ed-b69e-4bd6-aa60-d94de4efe7e1</td>\n",
              "      <td>Voluntary Restoration: Mitigation's Silent Par...</td>\n",
              "      <td>Coastal Change Analysis Program</td>\n",
              "      <td>NOAA C-CAP</td>\n",
              "      <td>noaa c cap</td>\n",
              "      <td>1</td>\n",
              "    </tr>\n",
              "    <tr>\n",
              "      <th>414</th>\n",
              "      <td>a9f6ce1b-829b-4fdf-9c0c-cb04261e21ad</td>\n",
              "      <td>The Multi-Resolution Land Characteristics (MRL...</td>\n",
              "      <td>Coastal Change Analysis Program</td>\n",
              "      <td>NOAA C-CAP</td>\n",
              "      <td>noaa c cap</td>\n",
              "      <td>1</td>\n",
              "    </tr>\n",
              "    <tr>\n",
              "      <th>415</th>\n",
              "      <td>bf02931b-7872-4c63-9837-51479e37b5d3</td>\n",
              "      <td>Evaluation of Airborne Lidar Elevation Surface...</td>\n",
              "      <td>Coastal Change Analysis Program</td>\n",
              "      <td>NOAA C-CAP</td>\n",
              "      <td>noaa c cap</td>\n",
              "      <td>1</td>\n",
              "    </tr>\n",
              "    <tr>\n",
              "      <th>416</th>\n",
              "      <td>aac0d000-4569-41fe-b071-118d93d6068a</td>\n",
              "      <td>Change in Land Cover along the Lower Columbia ...</td>\n",
              "      <td>Coastal Change Analysis Program</td>\n",
              "      <td>NOAA C-CAP</td>\n",
              "      <td>noaa c cap</td>\n",
              "      <td>1</td>\n",
              "    </tr>\n",
              "  </tbody>\n",
              "</table>\n",
              "</div>"
            ],
            "text/plain": [
              "                                       Id  ... the_smallest\n",
              "412  237b2194-9c15-4e33-b9b7-e9a0ab37f499  ...            1\n",
              "413  c210f9ed-b69e-4bd6-aa60-d94de4efe7e1  ...            1\n",
              "414  a9f6ce1b-829b-4fdf-9c0c-cb04261e21ad  ...            1\n",
              "415  bf02931b-7872-4c63-9837-51479e37b5d3  ...            1\n",
              "416  aac0d000-4569-41fe-b071-118d93d6068a  ...            1\n",
              "\n",
              "[5 rows x 6 columns]"
            ]
          },
          "metadata": {
            "tags": []
          },
          "execution_count": 206
        }
      ]
    },
    {
      "cell_type": "code",
      "metadata": {
        "id": "AD3B-k2A5BGm"
      },
      "source": [
        "def the_smallest_txt_label(txt: str)->int:\n",
        "    for x in txt.split():\n",
        "        if (not x.isdigit()) and (len(txt.split()) == 1):\n",
        "            return len(x)\n",
        "\n",
        "df['len_label'] =df.cleaned_label.apply(lambda x: the_smallest_txt_label(x))"
      ],
      "execution_count": 208,
      "outputs": []
    },
    {
      "cell_type": "code",
      "metadata": {
        "colab": {
          "base_uri": "https://localhost:8080/"
        },
        "id": "65yX_Oxt5BEP",
        "outputId": "d038a15a-7246-40e6-ae1e-5ae2fc462518"
      },
      "source": [
        "df['len_label'].value_counts()"
      ],
      "execution_count": 209,
      "outputs": [
        {
          "output_type": "execute_result",
          "data": {
            "text/plain": [
              "4.0    3673\n",
              "7.0     280\n",
              "5.0       2\n",
              "Name: len_label, dtype: int64"
            ]
          },
          "metadata": {
            "tags": []
          },
          "execution_count": 209
        }
      ]
    },
    {
      "cell_type": "code",
      "metadata": {
        "id": "iPq_GwAFPjkS",
        "colab": {
          "base_uri": "https://localhost:8080/",
          "height": 35
        },
        "outputId": "5bd0720f-18ff-4b64-e033-543c6365ea77"
      },
      "source": [
        "a = 'LITERATURE REVIEW Page adakdkah Figure'\n",
        "re.sub(r'(\\bCHAPTER|Page|Figure\\b)', ' ', a)"
      ],
      "execution_count": 211,
      "outputs": [
        {
          "output_type": "execute_result",
          "data": {
            "application/vnd.google.colaboratory.intrinsic+json": {
              "type": "string"
            },
            "text/plain": [
              "'LITERATURE REVIEW   adakdkah  '"
            ]
          },
          "metadata": {
            "tags": []
          },
          "execution_count": 211
        }
      ]
    },
    {
      "cell_type": "code",
      "metadata": {
        "id": "hnxExmKAPjYr"
      },
      "source": [
        "def clean_text(txt: str)-> str:\n",
        "    return re.sub('[^A-Za-z]+', ' ', str(txt).lower()).strip()\n",
        "\n",
        "def clean_text_add_digit(txt):\n",
        "    return re.sub('[^A-Za-z0-9]+', ' ', str(txt).lower())\n",
        "\n",
        "\n",
        "def len_title(txt: str)->str:\n",
        "    \"\"\"\n",
        "    String is p p p Result:  nan\n",
        "    String is Andi Result:  Andi\n",
        "    String is pr Result:  nan\n",
        "    String is aa aa aa Result:  nan\n",
        "    String is cas cov Result:  nan\n",
        "    String is cas c Result:  nan\n",
        "    String is c a s c o v as Result:  nan\n",
        "    String is a 0 gv) Result:  nan\n",
        "    String is ft Result:  nan\n",
        "    String is All all Result:  nan\n",
        "    String is Alaa 2 Result:  Alaa 2\n",
        "    String is A Aa2a Result:  A Aa2a\n",
        "    String is cas Result:  nan\n",
        "    String is covantiviral Result:  covantiviral\n",
        "    String is candidate compounds dataset Result:  candidate compounds dataset\n",
        "\n",
        "    if one word len >= 4 return word\n",
        "    else \n",
        "        if less and one of words >= 4 words\n",
        "    else nan\n",
        "    \n",
        "    \"\"\"\n",
        "    if txt is np.nan:\n",
        "        return txt\n",
        "    txt = txt.split()\n",
        "    # len('Andi'.split()) == 1\n",
        "    if (len(txt) == 1) and (len(txt[0])>= 4):\n",
        "        # one word\n",
        "        txt = txt[0]\n",
        "    else:\n",
        "        len_each_word = list(len(i) for i in txt)\n",
        "        max_len_txt = txt[np.argmax(len_each_word)]\n",
        "        if len(max_len_txt)>= 4:\n",
        "            if len_each_word == len(txt):\n",
        "                txt = np.nan\n",
        "            else:              \n",
        "                txt = ' '.join(txt)\n",
        "        else:\n",
        "            txt = np.nan\n",
        "    return txt\n",
        "\n",
        "def change_len(txt: str)-> str: \n",
        "    if txt is np.nan:\n",
        "        return txt   \n",
        "    return ' '.join(list(i for i in txt.split() if len(txt.split()) >= 10))\n",
        "\n",
        "\n",
        "def clear_data(txt: str):\n",
        "    tmp_df = pd.read_json(txt)\n",
        "    \"\"\"\n",
        "    a = 'CHAPTER 2. LITERATURE REVIEW Page'\n",
        "    re.sub(r'(\\bCHAPTER|Page|Figure\\b)', ' ', a) ->   2. LITERATURE REVIEW  \n",
        "    \"\"\"\n",
        "    tmp_df.section_title = tmp_df.section_title.apply(lambda x:\n",
        "                                                      re.sub(r'(\\bCHAPTER|Page\\b)', ' ', x).strip())\n",
        "    \"\"\"\n",
        "    2. delete \n",
        "        C. Career activities after obtaining a doctora...\n",
        "        IV. Changes to the 1998 SED Marital Status\n",
        "        B. Policy recommendtions for the utilization .\n",
        "        1A.\n",
        "        1.\n",
        "        GH12.\n",
        "    \"\"\"\n",
        "\n",
        "    tmp_df.section_title = tmp_df.section_title.apply(lambda x:\n",
        "                                                      re.sub('^[A-Z0-9]+(?=\\.)', ' ', x).strip())\n",
        "    \"\"\"\n",
        "    if covid in line use clear with digits save else skip digit\n",
        "    only in covid label have digit\n",
        "    \"\"\"\n",
        "    if (tmp_df.section_title.str.contains('covid', flags=re.IGNORECASE).sum() != 0) or \\\n",
        "       (tmp_df.text.str.contains('covid', flags=re.IGNORECASE).sum() != 0):\n",
        "        # print('cov')\n",
        "        #covid more digits\n",
        "        tmp_df.section_title = tmp_df.section_title.apply(lambda x: clean_text_add_digit(x))\n",
        "        tmp_df.text = tmp_df.text.apply(lambda x: clean_text_add_digit(x))\n",
        "    else:\n",
        "         # clear digit\n",
        "        tmp_df.section_title = tmp_df.section_title.apply(lambda x: clean_text(x))\n",
        "        tmp_df.text = tmp_df.text.apply(lambda x: clean_text(x))\n",
        "\n",
        "    #chek length title and if not correct droped\n",
        "    #find blank line\n",
        "    tmp_df.section_title.replace('', np.nan, inplace=True)\n",
        "    tmp_df.text.replace('', np.nan, inplace=True)\n",
        "    # idea for title if sum len words in title == len title drop, [1,1,1] == 'a t u'  \n",
        "    tmp_df.section_title = tmp_df.section_title.apply(lambda x: len_title(x))\n",
        "    tmp_df.text = tmp_df.text.apply(lambda x: change_len(x))\n",
        "\n",
        "    tmp_df.section_title.replace('', np.nan, inplace=True)\n",
        "    tmp_df.text.replace('', np.nan, inplace=True)\n",
        "\n",
        "    url = '(https?://|w{3}\\.)(?:[-\\w.]|(?:%[\\da-fA-F]{2}))+'\n",
        "    tel = '(\\d{3}[-\\.\\s]??\\d{3}[-\\.\\s]??\\d{4}|\\(\\d{3}\\)\\s*\\d{3}[-\\.\\s]??\\d{4}|\\d{3}[-\\.\\s]??\\d{4})'\n",
        "\n",
        "    tmp_df.dropna(inplace =True)\n",
        "\n",
        "    for rgx in [url, tel]:\n",
        "        tmp_df.text = tmp_df.text.apply(lambda x:\n",
        "                                    re.sub(rgx, ' ', x))\n",
        "    #save json??\n",
        "    return tmp_df.reset_index(drop=True)"
      ],
      "execution_count": 189,
      "outputs": []
    },
    {
      "cell_type": "code",
      "metadata": {
        "id": "GdD2BRbyPjSg",
        "colab": {
          "base_uri": "https://localhost:8080/",
          "height": 235
        },
        "outputId": "4f980f5a-0c77-44d5-e3dc-35075ce0fea5"
      },
      "source": [
        "f = 'b3498176-8832-4033-aea6-b5ea85ea04c4.json'\n",
        "f = 'e9057a7a-ea41-4b40-88bf-3bfb8354c807.json'\n",
        "f = 'f0249680-2273-4b1a-8a0a-2e8bbf9ec11a.json'\n",
        "f = 'c6e74b14-6da5-43bf-9723-dcce7c2124ff.json'\n",
        "f = '9e7a78df-4757-40d8-b347-fe6578f0e4ad.json'\n",
        "f = '755506a3-1516-4c8b-8fc0-ca10027aed61.json'\n",
        "f = '6bfda128-a0c0-41ba-96a8-ec62731124d9.json'\n",
        "\n",
        "\n",
        "f = Path(PATH) /'train' / f\n",
        "\n",
        "cld = clear_data(f)\n",
        "cld"
      ],
      "execution_count": 212,
      "outputs": [
        {
          "output_type": "execute_result",
          "data": {
            "text/html": [
              "<div>\n",
              "<style scoped>\n",
              "    .dataframe tbody tr th:only-of-type {\n",
              "        vertical-align: middle;\n",
              "    }\n",
              "\n",
              "    .dataframe tbody tr th {\n",
              "        vertical-align: top;\n",
              "    }\n",
              "\n",
              "    .dataframe thead th {\n",
              "        text-align: right;\n",
              "    }\n",
              "</style>\n",
              "<table border=\"1\" class=\"dataframe\">\n",
              "  <thead>\n",
              "    <tr style=\"text-align: right;\">\n",
              "      <th></th>\n",
              "      <th>section_title</th>\n",
              "      <th>text</th>\n",
              "    </tr>\n",
              "  </thead>\n",
              "  <tbody>\n",
              "    <tr>\n",
              "      <th>0</th>\n",
              "      <td>careers of korean ph ds with degrees of foreign</td>\n",
              "      <td>countries and the hrd policy of the highly ski...</td>\n",
              "    </tr>\n",
              "    <tr>\n",
              "      <th>1</th>\n",
              "      <td>overview</td>\n",
              "      <td>due to the development of information and comm...</td>\n",
              "    </tr>\n",
              "    <tr>\n",
              "      <th>2</th>\n",
              "      <td>main results of the research</td>\n",
              "      <td>a the overall number of foreign doctoral holde...</td>\n",
              "    </tr>\n",
              "    <tr>\n",
              "      <th>3</th>\n",
              "      <td>career activities after obtaining a doctorate ...</td>\n",
              "      <td>at the time of receiving a doctorate degree hi...</td>\n",
              "    </tr>\n",
              "    <tr>\n",
              "      <th>4</th>\n",
              "      <td>basic directions</td>\n",
              "      <td>the policies should be made with a basic under...</td>\n",
              "    </tr>\n",
              "    <tr>\n",
              "      <th>5</th>\n",
              "      <td>policy recommendations for the utilization of ...</td>\n",
              "      <td>strategies to attract more doctoral recipients...</td>\n",
              "    </tr>\n",
              "  </tbody>\n",
              "</table>\n",
              "</div>"
            ],
            "text/plain": [
              "                                       section_title                                               text\n",
              "0    careers of korean ph ds with degrees of foreign  countries and the hrd policy of the highly ski...\n",
              "1                                           overview  due to the development of information and comm...\n",
              "2                       main results of the research  a the overall number of foreign doctoral holde...\n",
              "3  career activities after obtaining a doctorate ...  at the time of receiving a doctorate degree hi...\n",
              "4                                   basic directions  the policies should be made with a basic under...\n",
              "5  policy recommendations for the utilization of ...  strategies to attract more doctoral recipients..."
            ]
          },
          "metadata": {
            "tags": []
          },
          "execution_count": 212
        }
      ]
    },
    {
      "cell_type": "code",
      "metadata": {
        "colab": {
          "base_uri": "https://localhost:8080/",
          "height": 266
        },
        "id": "vjDniGmrWp1R",
        "outputId": "79285fed-89e8-4ecd-a31c-1378172d1ba6"
      },
      "source": [
        "df7 = pd.read_json(Path(PATH) /'train' / f)\n",
        "df7"
      ],
      "execution_count": 213,
      "outputs": [
        {
          "output_type": "execute_result",
          "data": {
            "text/html": [
              "<div>\n",
              "<style scoped>\n",
              "    .dataframe tbody tr th:only-of-type {\n",
              "        vertical-align: middle;\n",
              "    }\n",
              "\n",
              "    .dataframe tbody tr th {\n",
              "        vertical-align: top;\n",
              "    }\n",
              "\n",
              "    .dataframe thead th {\n",
              "        text-align: right;\n",
              "    }\n",
              "</style>\n",
              "<table border=\"1\" class=\"dataframe\">\n",
              "  <thead>\n",
              "    <tr style=\"text-align: right;\">\n",
              "      <th></th>\n",
              "      <th>section_title</th>\n",
              "      <th>text</th>\n",
              "    </tr>\n",
              "  </thead>\n",
              "  <tbody>\n",
              "    <tr>\n",
              "      <th>0</th>\n",
              "      <td>Careers of Korean Ph.Ds with Degrees of Foreign</td>\n",
              "      <td>Countries and the HRD Policy of the Highly Ski...</td>\n",
              "    </tr>\n",
              "    <tr>\n",
              "      <th>1</th>\n",
              "      <td>Overview</td>\n",
              "      <td>Due to the development of information and comm...</td>\n",
              "    </tr>\n",
              "    <tr>\n",
              "      <th>2</th>\n",
              "      <td>Main Results of the Research</td>\n",
              "      <td>A. The overall number of foreign doctoral hold...</td>\n",
              "    </tr>\n",
              "    <tr>\n",
              "      <th>3</th>\n",
              "      <td>C. Career activities after obtaining a doctora...</td>\n",
              "      <td>At the time of receiving a doctorate degree, h...</td>\n",
              "    </tr>\n",
              "    <tr>\n",
              "      <th>4</th>\n",
              "      <td>Policy Implications for Utilizing High Quality...</td>\n",
              "      <td>Who Earned a Doctorate Degree Abroad</td>\n",
              "    </tr>\n",
              "    <tr>\n",
              "      <th>5</th>\n",
              "      <td>A. Basic directions</td>\n",
              "      <td>The policies should be made with a basic under...</td>\n",
              "    </tr>\n",
              "    <tr>\n",
              "      <th>6</th>\n",
              "      <td>B. Policy recommendations for the utilization ...</td>\n",
              "      <td>1) Strategies to attract more doctoral recipie...</td>\n",
              "    </tr>\n",
              "  </tbody>\n",
              "</table>\n",
              "</div>"
            ],
            "text/plain": [
              "                                       section_title                                               text\n",
              "0    Careers of Korean Ph.Ds with Degrees of Foreign  Countries and the HRD Policy of the Highly Ski...\n",
              "1                                           Overview  Due to the development of information and comm...\n",
              "2                       Main Results of the Research  A. The overall number of foreign doctoral hold...\n",
              "3  C. Career activities after obtaining a doctora...  At the time of receiving a doctorate degree, h...\n",
              "4  Policy Implications for Utilizing High Quality...               Who Earned a Doctorate Degree Abroad\n",
              "5                                A. Basic directions  The policies should be made with a basic under...\n",
              "6  B. Policy recommendations for the utilization ...  1) Strategies to attract more doctoral recipie..."
            ]
          },
          "metadata": {
            "tags": []
          },
          "execution_count": 213
        }
      ]
    },
    {
      "cell_type": "code",
      "metadata": {
        "id": "yYCSn_M_Nxxe"
      },
      "source": [
        "cld.to_json('1.json', orient=\"columns\")"
      ],
      "execution_count": 215,
      "outputs": []
    },
    {
      "cell_type": "code",
      "metadata": {
        "colab": {
          "base_uri": "https://localhost:8080/",
          "height": 235
        },
        "id": "M7xxTGshNxus",
        "outputId": "2239352d-5562-436f-f6f8-3d3411f677ec"
      },
      "source": [
        "pd.read_json('/content/1.json')"
      ],
      "execution_count": 219,
      "outputs": [
        {
          "output_type": "execute_result",
          "data": {
            "text/html": [
              "<div>\n",
              "<style scoped>\n",
              "    .dataframe tbody tr th:only-of-type {\n",
              "        vertical-align: middle;\n",
              "    }\n",
              "\n",
              "    .dataframe tbody tr th {\n",
              "        vertical-align: top;\n",
              "    }\n",
              "\n",
              "    .dataframe thead th {\n",
              "        text-align: right;\n",
              "    }\n",
              "</style>\n",
              "<table border=\"1\" class=\"dataframe\">\n",
              "  <thead>\n",
              "    <tr style=\"text-align: right;\">\n",
              "      <th></th>\n",
              "      <th>section_title</th>\n",
              "      <th>text</th>\n",
              "    </tr>\n",
              "  </thead>\n",
              "  <tbody>\n",
              "    <tr>\n",
              "      <th>0</th>\n",
              "      <td>careers of korean ph ds with degrees of foreign</td>\n",
              "      <td>countries and the hrd policy of the highly ski...</td>\n",
              "    </tr>\n",
              "    <tr>\n",
              "      <th>1</th>\n",
              "      <td>overview</td>\n",
              "      <td>due to the development of information and comm...</td>\n",
              "    </tr>\n",
              "    <tr>\n",
              "      <th>2</th>\n",
              "      <td>main results of the research</td>\n",
              "      <td>a the overall number of foreign doctoral holde...</td>\n",
              "    </tr>\n",
              "    <tr>\n",
              "      <th>3</th>\n",
              "      <td>career activities after obtaining a doctorate ...</td>\n",
              "      <td>at the time of receiving a doctorate degree hi...</td>\n",
              "    </tr>\n",
              "    <tr>\n",
              "      <th>4</th>\n",
              "      <td>basic directions</td>\n",
              "      <td>the policies should be made with a basic under...</td>\n",
              "    </tr>\n",
              "    <tr>\n",
              "      <th>5</th>\n",
              "      <td>policy recommendations for the utilization of ...</td>\n",
              "      <td>strategies to attract more doctoral recipients...</td>\n",
              "    </tr>\n",
              "  </tbody>\n",
              "</table>\n",
              "</div>"
            ],
            "text/plain": [
              "                                       section_title                                               text\n",
              "0    careers of korean ph ds with degrees of foreign  countries and the hrd policy of the highly ski...\n",
              "1                                           overview  due to the development of information and comm...\n",
              "2                       main results of the research  a the overall number of foreign doctoral holde...\n",
              "3  career activities after obtaining a doctorate ...  at the time of receiving a doctorate degree hi...\n",
              "4                                   basic directions  the policies should be made with a basic under...\n",
              "5  policy recommendations for the utilization of ...  strategies to attract more doctoral recipients..."
            ]
          },
          "metadata": {
            "tags": []
          },
          "execution_count": 219
        }
      ]
    },
    {
      "cell_type": "code",
      "metadata": {
        "id": "WM332bu6Nxmq"
      },
      "source": [
        ""
      ],
      "execution_count": null,
      "outputs": []
    },
    {
      "cell_type": "code",
      "metadata": {
        "id": "yzW124HQ4stP"
      },
      "source": [
        ""
      ],
      "execution_count": null,
      "outputs": []
    },
    {
      "cell_type": "code",
      "metadata": {
        "id": "ML64aEQN4sqi"
      },
      "source": [
        ""
      ],
      "execution_count": null,
      "outputs": []
    },
    {
      "cell_type": "code",
      "metadata": {
        "colab": {
          "base_uri": "https://localhost:8080/",
          "height": 35
        },
        "id": "-eZxt9oTkQGJ",
        "outputId": "a18fe620-3ef8-474b-8fdf-e3710ecfce6f"
      },
      "source": [
        "txt = df1.text.str.cat(sep = '\\n').lower()\n",
        "txt[:100]"
      ],
      "execution_count": null,
      "outputs": [
        {
          "output_type": "execute_result",
          "data": {
            "application/vnd.google.colaboratory.intrinsic+json": {
              "type": "string"
            },
            "text/plain": [
              "'this study used data from the national education longitudinal study (nels:88) to examine the effects'"
            ]
          },
          "metadata": {
            "tags": []
          },
          "execution_count": 29
        }
      ]
    },
    {
      "cell_type": "code",
      "metadata": {
        "colab": {
          "base_uri": "https://localhost:8080/",
          "height": 250,
          "referenced_widgets": [
            "fa6e47b40fc7487ab32caf50a7f05610",
            "8cb49eca55834decaec92e4d66b30875",
            "e74042e5d5ae41f3ad4d0adeac4ce089",
            "1f824e4fb05a44abb400e517c64a98f5",
            "21866846ab5348ac8a08e4ce884fdacd",
            "e25bf0dd66e249be8da6b1f904c604a1",
            "6a8708abaead4378bf92028e608ba8a2",
            "ef655b34508c43b3a5cd2eafe9f78f69",
            "40831194c5bc4bf4b9db6d445a270ec0",
            "f18e7e3386a74ce8b8dc0bae48271d58",
            "93d0e294381342feab9f578408e1fa74",
            "9f117b7eddde4c058f7ce80e71a0ec0e",
            "1649be5a621b4a18aba2f5a3ec302624",
            "6cbf2a5771cd4c2486d5c70dcb22f8b3",
            "20d0400f8da14101a551bc6e0a5bfddb",
            "c44d8c375f9c4dc5926f5811b7b0318e",
            "905e59dcafca4e36acf8dcf3a88c77cb",
            "9d65ec87aa8145dfa786423f17b7df8f",
            "9c021d0ebe2846e0846596c6dfbe0562",
            "975d7380573740e19faf71afad3503b3",
            "6f54fece7c0b4560adaf3c695f9cfa4c",
            "1365da6aadd64fadbee7578e34826eac",
            "ac044771f21b41bfb9b63003a6e17c2b",
            "590262326ff7401f94c673808a64f01b",
            "4ba572429a3042aeb78d4bb872b77f77",
            "519e5f8ce034417ca59a807787fe3a67",
            "395b8b4e63814e6689088c49f5a93413",
            "3673575254f84f5c861e9b56965539e9",
            "9116dad139664fcebf110e47a5fcac9f",
            "7644831d79014aa3a52ed0e77040eeb8",
            "1e4a8edf70254baf981e4af384faa61b",
            "214d2d30cd084c07ad191620ef079113"
          ]
        },
        "id": "r7HZOt4hkwlq",
        "outputId": "945e9649-847f-4eae-9392-3f049a5be427"
      },
      "source": [
        "model_name = 'bert-base-uncased'\n",
        "tokenizer = transformers.AutoTokenizer.from_pretrained(model_name)\n",
        "tokenizer"
      ],
      "execution_count": null,
      "outputs": [
        {
          "output_type": "display_data",
          "data": {
            "application/vnd.jupyter.widget-view+json": {
              "model_id": "fa6e47b40fc7487ab32caf50a7f05610",
              "version_minor": 0,
              "version_major": 2
            },
            "text/plain": [
              "HBox(children=(FloatProgress(value=0.0, description='Downloading', max=433.0, style=ProgressStyle(description_…"
            ]
          },
          "metadata": {
            "tags": []
          }
        },
        {
          "output_type": "stream",
          "text": [
            "\n"
          ],
          "name": "stdout"
        },
        {
          "output_type": "display_data",
          "data": {
            "application/vnd.jupyter.widget-view+json": {
              "model_id": "40831194c5bc4bf4b9db6d445a270ec0",
              "version_minor": 0,
              "version_major": 2
            },
            "text/plain": [
              "HBox(children=(FloatProgress(value=0.0, description='Downloading', max=231508.0, style=ProgressStyle(descripti…"
            ]
          },
          "metadata": {
            "tags": []
          }
        },
        {
          "output_type": "stream",
          "text": [
            "\n"
          ],
          "name": "stdout"
        },
        {
          "output_type": "display_data",
          "data": {
            "application/vnd.jupyter.widget-view+json": {
              "model_id": "905e59dcafca4e36acf8dcf3a88c77cb",
              "version_minor": 0,
              "version_major": 2
            },
            "text/plain": [
              "HBox(children=(FloatProgress(value=0.0, description='Downloading', max=466062.0, style=ProgressStyle(descripti…"
            ]
          },
          "metadata": {
            "tags": []
          }
        },
        {
          "output_type": "stream",
          "text": [
            "\n"
          ],
          "name": "stdout"
        },
        {
          "output_type": "display_data",
          "data": {
            "application/vnd.jupyter.widget-view+json": {
              "model_id": "4ba572429a3042aeb78d4bb872b77f77",
              "version_minor": 0,
              "version_major": 2
            },
            "text/plain": [
              "HBox(children=(FloatProgress(value=0.0, description='Downloading', max=28.0, style=ProgressStyle(description_w…"
            ]
          },
          "metadata": {
            "tags": []
          }
        },
        {
          "output_type": "stream",
          "text": [
            "\n"
          ],
          "name": "stdout"
        },
        {
          "output_type": "execute_result",
          "data": {
            "text/plain": [
              "PreTrainedTokenizerFast(name_or_path='bert-base-uncased', vocab_size=30522, model_max_len=512, is_fast=True, padding_side='right', special_tokens={'unk_token': '[UNK]', 'sep_token': '[SEP]', 'pad_token': '[PAD]', 'cls_token': '[CLS]', 'mask_token': '[MASK]'})"
            ]
          },
          "metadata": {
            "tags": []
          },
          "execution_count": 30
        }
      ]
    },
    {
      "cell_type": "code",
      "metadata": {
        "id": "cKcP_9F5kwoP"
      },
      "source": [
        "txt = 'this study used data from the national education longitudinal study (nels:88) to examine the effects'\n",
        "out_dict = tokenizer.encode_plus(\n",
        "    txt,\n",
        "    add_special_tokens = True,\n",
        "    max_length = 24,\n",
        "    padding = 'max_length',\n",
        "    return_tensors = 'pt',\n",
        "    truncation = True,\n",
        "    return_attention_mask = True\n",
        ")"
      ],
      "execution_count": null,
      "outputs": []
    },
    {
      "cell_type": "code",
      "metadata": {
        "colab": {
          "base_uri": "https://localhost:8080/"
        },
        "id": "gXRxrcoakwqn",
        "outputId": "ed9e32a3-65fc-4b1c-c845-f58c3db27f28"
      },
      "source": [
        "out_dict"
      ],
      "execution_count": null,
      "outputs": [
        {
          "output_type": "execute_result",
          "data": {
            "text/plain": [
              "{'input_ids': tensor([[  101,  2023,  2817,  2109,  2951,  2013,  1996,  2120,  2495, 20134,\n",
              "          2817,  1006, 11265,  4877,  1024,  6070,  1007,  2000, 11628,  1996,\n",
              "          3896,   102,     0,     0]]), 'token_type_ids': tensor([[0, 0, 0, 0, 0, 0, 0, 0, 0, 0, 0, 0, 0, 0, 0, 0, 0, 0, 0, 0, 0, 0, 0, 0]]), 'attention_mask': tensor([[1, 1, 1, 1, 1, 1, 1, 1, 1, 1, 1, 1, 1, 1, 1, 1, 1, 1, 1, 1, 1, 1, 0, 0]])}"
            ]
          },
          "metadata": {
            "tags": []
          },
          "execution_count": 59
        }
      ]
    },
    {
      "cell_type": "code",
      "metadata": {
        "id": "U9PSA2gokwsv"
      },
      "source": [
        "voc = tokenizer.get_vocab()\n",
        "voc = {v: k for (k, v) in voc.items()}"
      ],
      "execution_count": null,
      "outputs": []
    },
    {
      "cell_type": "code",
      "metadata": {
        "colab": {
          "base_uri": "https://localhost:8080/"
        },
        "id": "Qv90BjbWkwxo",
        "outputId": "6aa489a3-ac6d-41e6-9101-61309ae54823"
      },
      "source": [
        "[voc[i] for i in out_dict['input_ids'].tolist()[0]]"
      ],
      "execution_count": null,
      "outputs": [
        {
          "output_type": "execute_result",
          "data": {
            "text/plain": [
              "['[CLS]',\n",
              " 'this',\n",
              " 'study',\n",
              " 'used',\n",
              " 'data',\n",
              " 'from',\n",
              " 'the',\n",
              " 'national',\n",
              " 'education',\n",
              " 'longitudinal',\n",
              " 'study',\n",
              " '(',\n",
              " 'ne',\n",
              " '##ls',\n",
              " ':',\n",
              " '88',\n",
              " ')',\n",
              " 'to',\n",
              " 'examine',\n",
              " 'the',\n",
              " 'effects',\n",
              " '[SEP]',\n",
              " '[PAD]',\n",
              " '[PAD]']"
            ]
          },
          "metadata": {
            "tags": []
          },
          "execution_count": 61
        }
      ]
    },
    {
      "cell_type": "code",
      "metadata": {
        "colab": {
          "base_uri": "https://localhost:8080/"
        },
        "id": "DnGvhPLm6iEr",
        "outputId": "38ce8273-7a6d-4fe9-cb03-ad0ca94f8202"
      },
      "source": [
        "len(df.Id.unique())"
      ],
      "execution_count": null,
      "outputs": [
        {
          "output_type": "execute_result",
          "data": {
            "text/plain": [
              "14316"
            ]
          },
          "metadata": {
            "tags": []
          },
          "execution_count": 68
        }
      ]
    },
    {
      "cell_type": "markdown",
      "metadata": {
        "id": "OEgQB2yT9qzo"
      },
      "source": [
        "не могу сообразить что указывать в таргет\n",
        "\n",
        "в каждом json есть заголовки может исрользовать только их\n",
        "\n",
        "\n",
        "передаем json и читаем по заголовкам\n",
        "к примеру у нас в d0fa7568-7d8e-4db9-870f-f9c6f668c17b.json 18 заголовков в каждом текст\n",
        "есть ли смысл читать и по каждому что то вернуть а потом оптимизировать(тк усреднить)\n",
        "\n",
        "искать кааой-то контекст по заголовку но их много\n",
        "\n",
        "может сделать ответ на вопрос или поиск сущности\n",
        "\n",
        "[Summary of the tasks](https://huggingface.co/transformers/task_summary.html#)\n",
        "\n",
        "try:\n",
        "- Masked Language Modeling\n",
        "- Extractive Question Answering\n",
        "- Summarization\n",
        "\n",
        "Interest links:\n",
        "\n",
        "https://huggingface.co/transformers/preprocessing.html\n",
        "https://huggingface.co/transformers/tokenizer_summary.html\n",
        "\n",
        "https://medium.com/@aniruddha.choudhury94/part-2-bert-fine-tuning-tutorial-with-pytorch-for-text-classification-on-the-corpus-of-linguistic-18057ce330e1\n",
        "https://www.kaggle.com/tungmphung/pytorch-bert-for-named-entity-recognition\n",
        "\n",
        "\n"
      ]
    },
    {
      "cell_type": "code",
      "metadata": {
        "id": "EGOFbiwP6iCc",
        "colab": {
          "base_uri": "https://localhost:8080/",
          "height": 66,
          "referenced_widgets": [
            "bb1a4ffa79fa4f3da417bc0182f93826",
            "cf1564aa9ff540878b37f5c90e4e3d24",
            "32fef7af40d94152b302465d5df00ede",
            "23ce68d02eac4e19bd68b871ff935c97",
            "cb89fd65861e42d2b7bec445b16f9263",
            "a0592da53913412dbfa8c54755892bbf",
            "5b8ae2b551394582a6416ea6e2eca829",
            "3362cc6d786c4124a1a68bcb5dd576e7"
          ]
        },
        "outputId": "7632838a-b079-4bb4-fb09-348023dc9b6d"
      },
      "source": [
        "\"\"\"\n",
        "AutoModel.from_pretrained ('bert-base-cased')\n",
        "создаст модель, которая является экземпляром BertModel.\n",
        "\n",
        "AutoConfig\n",
        "classtransformers.AutoConfig [ИСТОЧНИК]\n",
        "Это общий класс конфигурации, который будет создан как один из классов конфигурации библиотеки при \n",
        "создании с помощью метода класса from_pretrained ().\n",
        "\"\"\"\n",
        "\n",
        "conf = transformers.AutoConfig.from_pretrained('bert-base-cased', num_labels =130)\n",
        "model = transformers.AutoModel.from_pretrained('bert-base-cased', config = conf)"
      ],
      "execution_count": null,
      "outputs": [
        {
          "output_type": "display_data",
          "data": {
            "application/vnd.jupyter.widget-view+json": {
              "model_id": "bb1a4ffa79fa4f3da417bc0182f93826",
              "version_minor": 0,
              "version_major": 2
            },
            "text/plain": [
              "HBox(children=(FloatProgress(value=0.0, description='Downloading', max=435779157.0, style=ProgressStyle(descri…"
            ]
          },
          "metadata": {
            "tags": []
          }
        },
        {
          "output_type": "stream",
          "text": [
            "\n"
          ],
          "name": "stdout"
        }
      ]
    },
    {
      "cell_type": "code",
      "metadata": {
        "id": "O2LcdSOc6iAE"
      },
      "source": [
        "model"
      ],
      "execution_count": null,
      "outputs": []
    },
    {
      "cell_type": "code",
      "metadata": {
        "id": "Am5qUXiX6h9T"
      },
      "source": [
        ""
      ],
      "execution_count": null,
      "outputs": []
    },
    {
      "cell_type": "code",
      "metadata": {
        "id": "-rx6sWC96h4q"
      },
      "source": [
        ""
      ],
      "execution_count": null,
      "outputs": []
    },
    {
      "cell_type": "code",
      "metadata": {
        "id": "GvaqigEzI-M7"
      },
      "source": [
        ""
      ],
      "execution_count": null,
      "outputs": []
    },
    {
      "cell_type": "code",
      "metadata": {
        "id": "AllUnbzVI-Kb"
      },
      "source": [
        ""
      ],
      "execution_count": null,
      "outputs": []
    },
    {
      "cell_type": "code",
      "metadata": {
        "id": "n3YztACeI-GE"
      },
      "source": [
        ""
      ],
      "execution_count": null,
      "outputs": []
    }
  ]
}