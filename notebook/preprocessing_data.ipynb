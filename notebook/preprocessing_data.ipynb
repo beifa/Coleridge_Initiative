{
  "nbformat": 4,
  "nbformat_minor": 0,
  "metadata": {
    "colab": {
      "name": "preprocessing_data.ipynb",
      "provenance": [],
      "collapsed_sections": []
    },
    "kernelspec": {
      "name": "python3",
      "display_name": "Python 3"
    },
    "language_info": {
      "name": "python"
    },
    "widgets": {
      "application/vnd.jupyter.widget-state+json": {
        "fa6e47b40fc7487ab32caf50a7f05610": {
          "model_module": "@jupyter-widgets/controls",
          "model_name": "HBoxModel",
          "state": {
            "_view_name": "HBoxView",
            "_dom_classes": [],
            "_model_name": "HBoxModel",
            "_view_module": "@jupyter-widgets/controls",
            "_model_module_version": "1.5.0",
            "_view_count": null,
            "_view_module_version": "1.5.0",
            "box_style": "",
            "layout": "IPY_MODEL_8cb49eca55834decaec92e4d66b30875",
            "_model_module": "@jupyter-widgets/controls",
            "children": [
              "IPY_MODEL_e74042e5d5ae41f3ad4d0adeac4ce089",
              "IPY_MODEL_1f824e4fb05a44abb400e517c64a98f5"
            ]
          }
        },
        "8cb49eca55834decaec92e4d66b30875": {
          "model_module": "@jupyter-widgets/base",
          "model_name": "LayoutModel",
          "state": {
            "_view_name": "LayoutView",
            "grid_template_rows": null,
            "right": null,
            "justify_content": null,
            "_view_module": "@jupyter-widgets/base",
            "overflow": null,
            "_model_module_version": "1.2.0",
            "_view_count": null,
            "flex_flow": null,
            "width": null,
            "min_width": null,
            "border": null,
            "align_items": null,
            "bottom": null,
            "_model_module": "@jupyter-widgets/base",
            "top": null,
            "grid_column": null,
            "overflow_y": null,
            "overflow_x": null,
            "grid_auto_flow": null,
            "grid_area": null,
            "grid_template_columns": null,
            "flex": null,
            "_model_name": "LayoutModel",
            "justify_items": null,
            "grid_row": null,
            "max_height": null,
            "align_content": null,
            "visibility": null,
            "align_self": null,
            "height": null,
            "min_height": null,
            "padding": null,
            "grid_auto_rows": null,
            "grid_gap": null,
            "max_width": null,
            "order": null,
            "_view_module_version": "1.2.0",
            "grid_template_areas": null,
            "object_position": null,
            "object_fit": null,
            "grid_auto_columns": null,
            "margin": null,
            "display": null,
            "left": null
          }
        },
        "e74042e5d5ae41f3ad4d0adeac4ce089": {
          "model_module": "@jupyter-widgets/controls",
          "model_name": "FloatProgressModel",
          "state": {
            "_view_name": "ProgressView",
            "style": "IPY_MODEL_21866846ab5348ac8a08e4ce884fdacd",
            "_dom_classes": [],
            "description": "Downloading: 100%",
            "_model_name": "FloatProgressModel",
            "bar_style": "success",
            "max": 433,
            "_view_module": "@jupyter-widgets/controls",
            "_model_module_version": "1.5.0",
            "value": 433,
            "_view_count": null,
            "_view_module_version": "1.5.0",
            "orientation": "horizontal",
            "min": 0,
            "description_tooltip": null,
            "_model_module": "@jupyter-widgets/controls",
            "layout": "IPY_MODEL_e25bf0dd66e249be8da6b1f904c604a1"
          }
        },
        "1f824e4fb05a44abb400e517c64a98f5": {
          "model_module": "@jupyter-widgets/controls",
          "model_name": "HTMLModel",
          "state": {
            "_view_name": "HTMLView",
            "style": "IPY_MODEL_6a8708abaead4378bf92028e608ba8a2",
            "_dom_classes": [],
            "description": "",
            "_model_name": "HTMLModel",
            "placeholder": "​",
            "_view_module": "@jupyter-widgets/controls",
            "_model_module_version": "1.5.0",
            "value": " 433/433 [00:00&lt;00:00, 8.07kB/s]",
            "_view_count": null,
            "_view_module_version": "1.5.0",
            "description_tooltip": null,
            "_model_module": "@jupyter-widgets/controls",
            "layout": "IPY_MODEL_ef655b34508c43b3a5cd2eafe9f78f69"
          }
        },
        "21866846ab5348ac8a08e4ce884fdacd": {
          "model_module": "@jupyter-widgets/controls",
          "model_name": "ProgressStyleModel",
          "state": {
            "_view_name": "StyleView",
            "_model_name": "ProgressStyleModel",
            "description_width": "initial",
            "_view_module": "@jupyter-widgets/base",
            "_model_module_version": "1.5.0",
            "_view_count": null,
            "_view_module_version": "1.2.0",
            "bar_color": null,
            "_model_module": "@jupyter-widgets/controls"
          }
        },
        "e25bf0dd66e249be8da6b1f904c604a1": {
          "model_module": "@jupyter-widgets/base",
          "model_name": "LayoutModel",
          "state": {
            "_view_name": "LayoutView",
            "grid_template_rows": null,
            "right": null,
            "justify_content": null,
            "_view_module": "@jupyter-widgets/base",
            "overflow": null,
            "_model_module_version": "1.2.0",
            "_view_count": null,
            "flex_flow": null,
            "width": null,
            "min_width": null,
            "border": null,
            "align_items": null,
            "bottom": null,
            "_model_module": "@jupyter-widgets/base",
            "top": null,
            "grid_column": null,
            "overflow_y": null,
            "overflow_x": null,
            "grid_auto_flow": null,
            "grid_area": null,
            "grid_template_columns": null,
            "flex": null,
            "_model_name": "LayoutModel",
            "justify_items": null,
            "grid_row": null,
            "max_height": null,
            "align_content": null,
            "visibility": null,
            "align_self": null,
            "height": null,
            "min_height": null,
            "padding": null,
            "grid_auto_rows": null,
            "grid_gap": null,
            "max_width": null,
            "order": null,
            "_view_module_version": "1.2.0",
            "grid_template_areas": null,
            "object_position": null,
            "object_fit": null,
            "grid_auto_columns": null,
            "margin": null,
            "display": null,
            "left": null
          }
        },
        "6a8708abaead4378bf92028e608ba8a2": {
          "model_module": "@jupyter-widgets/controls",
          "model_name": "DescriptionStyleModel",
          "state": {
            "_view_name": "StyleView",
            "_model_name": "DescriptionStyleModel",
            "description_width": "",
            "_view_module": "@jupyter-widgets/base",
            "_model_module_version": "1.5.0",
            "_view_count": null,
            "_view_module_version": "1.2.0",
            "_model_module": "@jupyter-widgets/controls"
          }
        },
        "ef655b34508c43b3a5cd2eafe9f78f69": {
          "model_module": "@jupyter-widgets/base",
          "model_name": "LayoutModel",
          "state": {
            "_view_name": "LayoutView",
            "grid_template_rows": null,
            "right": null,
            "justify_content": null,
            "_view_module": "@jupyter-widgets/base",
            "overflow": null,
            "_model_module_version": "1.2.0",
            "_view_count": null,
            "flex_flow": null,
            "width": null,
            "min_width": null,
            "border": null,
            "align_items": null,
            "bottom": null,
            "_model_module": "@jupyter-widgets/base",
            "top": null,
            "grid_column": null,
            "overflow_y": null,
            "overflow_x": null,
            "grid_auto_flow": null,
            "grid_area": null,
            "grid_template_columns": null,
            "flex": null,
            "_model_name": "LayoutModel",
            "justify_items": null,
            "grid_row": null,
            "max_height": null,
            "align_content": null,
            "visibility": null,
            "align_self": null,
            "height": null,
            "min_height": null,
            "padding": null,
            "grid_auto_rows": null,
            "grid_gap": null,
            "max_width": null,
            "order": null,
            "_view_module_version": "1.2.0",
            "grid_template_areas": null,
            "object_position": null,
            "object_fit": null,
            "grid_auto_columns": null,
            "margin": null,
            "display": null,
            "left": null
          }
        },
        "40831194c5bc4bf4b9db6d445a270ec0": {
          "model_module": "@jupyter-widgets/controls",
          "model_name": "HBoxModel",
          "state": {
            "_view_name": "HBoxView",
            "_dom_classes": [],
            "_model_name": "HBoxModel",
            "_view_module": "@jupyter-widgets/controls",
            "_model_module_version": "1.5.0",
            "_view_count": null,
            "_view_module_version": "1.5.0",
            "box_style": "",
            "layout": "IPY_MODEL_f18e7e3386a74ce8b8dc0bae48271d58",
            "_model_module": "@jupyter-widgets/controls",
            "children": [
              "IPY_MODEL_93d0e294381342feab9f578408e1fa74",
              "IPY_MODEL_9f117b7eddde4c058f7ce80e71a0ec0e"
            ]
          }
        },
        "f18e7e3386a74ce8b8dc0bae48271d58": {
          "model_module": "@jupyter-widgets/base",
          "model_name": "LayoutModel",
          "state": {
            "_view_name": "LayoutView",
            "grid_template_rows": null,
            "right": null,
            "justify_content": null,
            "_view_module": "@jupyter-widgets/base",
            "overflow": null,
            "_model_module_version": "1.2.0",
            "_view_count": null,
            "flex_flow": null,
            "width": null,
            "min_width": null,
            "border": null,
            "align_items": null,
            "bottom": null,
            "_model_module": "@jupyter-widgets/base",
            "top": null,
            "grid_column": null,
            "overflow_y": null,
            "overflow_x": null,
            "grid_auto_flow": null,
            "grid_area": null,
            "grid_template_columns": null,
            "flex": null,
            "_model_name": "LayoutModel",
            "justify_items": null,
            "grid_row": null,
            "max_height": null,
            "align_content": null,
            "visibility": null,
            "align_self": null,
            "height": null,
            "min_height": null,
            "padding": null,
            "grid_auto_rows": null,
            "grid_gap": null,
            "max_width": null,
            "order": null,
            "_view_module_version": "1.2.0",
            "grid_template_areas": null,
            "object_position": null,
            "object_fit": null,
            "grid_auto_columns": null,
            "margin": null,
            "display": null,
            "left": null
          }
        },
        "93d0e294381342feab9f578408e1fa74": {
          "model_module": "@jupyter-widgets/controls",
          "model_name": "FloatProgressModel",
          "state": {
            "_view_name": "ProgressView",
            "style": "IPY_MODEL_1649be5a621b4a18aba2f5a3ec302624",
            "_dom_classes": [],
            "description": "Downloading: 100%",
            "_model_name": "FloatProgressModel",
            "bar_style": "success",
            "max": 231508,
            "_view_module": "@jupyter-widgets/controls",
            "_model_module_version": "1.5.0",
            "value": 231508,
            "_view_count": null,
            "_view_module_version": "1.5.0",
            "orientation": "horizontal",
            "min": 0,
            "description_tooltip": null,
            "_model_module": "@jupyter-widgets/controls",
            "layout": "IPY_MODEL_6cbf2a5771cd4c2486d5c70dcb22f8b3"
          }
        },
        "9f117b7eddde4c058f7ce80e71a0ec0e": {
          "model_module": "@jupyter-widgets/controls",
          "model_name": "HTMLModel",
          "state": {
            "_view_name": "HTMLView",
            "style": "IPY_MODEL_20d0400f8da14101a551bc6e0a5bfddb",
            "_dom_classes": [],
            "description": "",
            "_model_name": "HTMLModel",
            "placeholder": "​",
            "_view_module": "@jupyter-widgets/controls",
            "_model_module_version": "1.5.0",
            "value": " 232k/232k [00:01&lt;00:00, 130kB/s]",
            "_view_count": null,
            "_view_module_version": "1.5.0",
            "description_tooltip": null,
            "_model_module": "@jupyter-widgets/controls",
            "layout": "IPY_MODEL_c44d8c375f9c4dc5926f5811b7b0318e"
          }
        },
        "1649be5a621b4a18aba2f5a3ec302624": {
          "model_module": "@jupyter-widgets/controls",
          "model_name": "ProgressStyleModel",
          "state": {
            "_view_name": "StyleView",
            "_model_name": "ProgressStyleModel",
            "description_width": "initial",
            "_view_module": "@jupyter-widgets/base",
            "_model_module_version": "1.5.0",
            "_view_count": null,
            "_view_module_version": "1.2.0",
            "bar_color": null,
            "_model_module": "@jupyter-widgets/controls"
          }
        },
        "6cbf2a5771cd4c2486d5c70dcb22f8b3": {
          "model_module": "@jupyter-widgets/base",
          "model_name": "LayoutModel",
          "state": {
            "_view_name": "LayoutView",
            "grid_template_rows": null,
            "right": null,
            "justify_content": null,
            "_view_module": "@jupyter-widgets/base",
            "overflow": null,
            "_model_module_version": "1.2.0",
            "_view_count": null,
            "flex_flow": null,
            "width": null,
            "min_width": null,
            "border": null,
            "align_items": null,
            "bottom": null,
            "_model_module": "@jupyter-widgets/base",
            "top": null,
            "grid_column": null,
            "overflow_y": null,
            "overflow_x": null,
            "grid_auto_flow": null,
            "grid_area": null,
            "grid_template_columns": null,
            "flex": null,
            "_model_name": "LayoutModel",
            "justify_items": null,
            "grid_row": null,
            "max_height": null,
            "align_content": null,
            "visibility": null,
            "align_self": null,
            "height": null,
            "min_height": null,
            "padding": null,
            "grid_auto_rows": null,
            "grid_gap": null,
            "max_width": null,
            "order": null,
            "_view_module_version": "1.2.0",
            "grid_template_areas": null,
            "object_position": null,
            "object_fit": null,
            "grid_auto_columns": null,
            "margin": null,
            "display": null,
            "left": null
          }
        },
        "20d0400f8da14101a551bc6e0a5bfddb": {
          "model_module": "@jupyter-widgets/controls",
          "model_name": "DescriptionStyleModel",
          "state": {
            "_view_name": "StyleView",
            "_model_name": "DescriptionStyleModel",
            "description_width": "",
            "_view_module": "@jupyter-widgets/base",
            "_model_module_version": "1.5.0",
            "_view_count": null,
            "_view_module_version": "1.2.0",
            "_model_module": "@jupyter-widgets/controls"
          }
        },
        "c44d8c375f9c4dc5926f5811b7b0318e": {
          "model_module": "@jupyter-widgets/base",
          "model_name": "LayoutModel",
          "state": {
            "_view_name": "LayoutView",
            "grid_template_rows": null,
            "right": null,
            "justify_content": null,
            "_view_module": "@jupyter-widgets/base",
            "overflow": null,
            "_model_module_version": "1.2.0",
            "_view_count": null,
            "flex_flow": null,
            "width": null,
            "min_width": null,
            "border": null,
            "align_items": null,
            "bottom": null,
            "_model_module": "@jupyter-widgets/base",
            "top": null,
            "grid_column": null,
            "overflow_y": null,
            "overflow_x": null,
            "grid_auto_flow": null,
            "grid_area": null,
            "grid_template_columns": null,
            "flex": null,
            "_model_name": "LayoutModel",
            "justify_items": null,
            "grid_row": null,
            "max_height": null,
            "align_content": null,
            "visibility": null,
            "align_self": null,
            "height": null,
            "min_height": null,
            "padding": null,
            "grid_auto_rows": null,
            "grid_gap": null,
            "max_width": null,
            "order": null,
            "_view_module_version": "1.2.0",
            "grid_template_areas": null,
            "object_position": null,
            "object_fit": null,
            "grid_auto_columns": null,
            "margin": null,
            "display": null,
            "left": null
          }
        },
        "905e59dcafca4e36acf8dcf3a88c77cb": {
          "model_module": "@jupyter-widgets/controls",
          "model_name": "HBoxModel",
          "state": {
            "_view_name": "HBoxView",
            "_dom_classes": [],
            "_model_name": "HBoxModel",
            "_view_module": "@jupyter-widgets/controls",
            "_model_module_version": "1.5.0",
            "_view_count": null,
            "_view_module_version": "1.5.0",
            "box_style": "",
            "layout": "IPY_MODEL_9d65ec87aa8145dfa786423f17b7df8f",
            "_model_module": "@jupyter-widgets/controls",
            "children": [
              "IPY_MODEL_9c021d0ebe2846e0846596c6dfbe0562",
              "IPY_MODEL_975d7380573740e19faf71afad3503b3"
            ]
          }
        },
        "9d65ec87aa8145dfa786423f17b7df8f": {
          "model_module": "@jupyter-widgets/base",
          "model_name": "LayoutModel",
          "state": {
            "_view_name": "LayoutView",
            "grid_template_rows": null,
            "right": null,
            "justify_content": null,
            "_view_module": "@jupyter-widgets/base",
            "overflow": null,
            "_model_module_version": "1.2.0",
            "_view_count": null,
            "flex_flow": null,
            "width": null,
            "min_width": null,
            "border": null,
            "align_items": null,
            "bottom": null,
            "_model_module": "@jupyter-widgets/base",
            "top": null,
            "grid_column": null,
            "overflow_y": null,
            "overflow_x": null,
            "grid_auto_flow": null,
            "grid_area": null,
            "grid_template_columns": null,
            "flex": null,
            "_model_name": "LayoutModel",
            "justify_items": null,
            "grid_row": null,
            "max_height": null,
            "align_content": null,
            "visibility": null,
            "align_self": null,
            "height": null,
            "min_height": null,
            "padding": null,
            "grid_auto_rows": null,
            "grid_gap": null,
            "max_width": null,
            "order": null,
            "_view_module_version": "1.2.0",
            "grid_template_areas": null,
            "object_position": null,
            "object_fit": null,
            "grid_auto_columns": null,
            "margin": null,
            "display": null,
            "left": null
          }
        },
        "9c021d0ebe2846e0846596c6dfbe0562": {
          "model_module": "@jupyter-widgets/controls",
          "model_name": "FloatProgressModel",
          "state": {
            "_view_name": "ProgressView",
            "style": "IPY_MODEL_6f54fece7c0b4560adaf3c695f9cfa4c",
            "_dom_classes": [],
            "description": "Downloading: 100%",
            "_model_name": "FloatProgressModel",
            "bar_style": "success",
            "max": 466062,
            "_view_module": "@jupyter-widgets/controls",
            "_model_module_version": "1.5.0",
            "value": 466062,
            "_view_count": null,
            "_view_module_version": "1.5.0",
            "orientation": "horizontal",
            "min": 0,
            "description_tooltip": null,
            "_model_module": "@jupyter-widgets/controls",
            "layout": "IPY_MODEL_1365da6aadd64fadbee7578e34826eac"
          }
        },
        "975d7380573740e19faf71afad3503b3": {
          "model_module": "@jupyter-widgets/controls",
          "model_name": "HTMLModel",
          "state": {
            "_view_name": "HTMLView",
            "style": "IPY_MODEL_ac044771f21b41bfb9b63003a6e17c2b",
            "_dom_classes": [],
            "description": "",
            "_model_name": "HTMLModel",
            "placeholder": "​",
            "_view_module": "@jupyter-widgets/controls",
            "_model_module_version": "1.5.0",
            "value": " 466k/466k [00:01&lt;00:00, 421kB/s]",
            "_view_count": null,
            "_view_module_version": "1.5.0",
            "description_tooltip": null,
            "_model_module": "@jupyter-widgets/controls",
            "layout": "IPY_MODEL_590262326ff7401f94c673808a64f01b"
          }
        },
        "6f54fece7c0b4560adaf3c695f9cfa4c": {
          "model_module": "@jupyter-widgets/controls",
          "model_name": "ProgressStyleModel",
          "state": {
            "_view_name": "StyleView",
            "_model_name": "ProgressStyleModel",
            "description_width": "initial",
            "_view_module": "@jupyter-widgets/base",
            "_model_module_version": "1.5.0",
            "_view_count": null,
            "_view_module_version": "1.2.0",
            "bar_color": null,
            "_model_module": "@jupyter-widgets/controls"
          }
        },
        "1365da6aadd64fadbee7578e34826eac": {
          "model_module": "@jupyter-widgets/base",
          "model_name": "LayoutModel",
          "state": {
            "_view_name": "LayoutView",
            "grid_template_rows": null,
            "right": null,
            "justify_content": null,
            "_view_module": "@jupyter-widgets/base",
            "overflow": null,
            "_model_module_version": "1.2.0",
            "_view_count": null,
            "flex_flow": null,
            "width": null,
            "min_width": null,
            "border": null,
            "align_items": null,
            "bottom": null,
            "_model_module": "@jupyter-widgets/base",
            "top": null,
            "grid_column": null,
            "overflow_y": null,
            "overflow_x": null,
            "grid_auto_flow": null,
            "grid_area": null,
            "grid_template_columns": null,
            "flex": null,
            "_model_name": "LayoutModel",
            "justify_items": null,
            "grid_row": null,
            "max_height": null,
            "align_content": null,
            "visibility": null,
            "align_self": null,
            "height": null,
            "min_height": null,
            "padding": null,
            "grid_auto_rows": null,
            "grid_gap": null,
            "max_width": null,
            "order": null,
            "_view_module_version": "1.2.0",
            "grid_template_areas": null,
            "object_position": null,
            "object_fit": null,
            "grid_auto_columns": null,
            "margin": null,
            "display": null,
            "left": null
          }
        },
        "ac044771f21b41bfb9b63003a6e17c2b": {
          "model_module": "@jupyter-widgets/controls",
          "model_name": "DescriptionStyleModel",
          "state": {
            "_view_name": "StyleView",
            "_model_name": "DescriptionStyleModel",
            "description_width": "",
            "_view_module": "@jupyter-widgets/base",
            "_model_module_version": "1.5.0",
            "_view_count": null,
            "_view_module_version": "1.2.0",
            "_model_module": "@jupyter-widgets/controls"
          }
        },
        "590262326ff7401f94c673808a64f01b": {
          "model_module": "@jupyter-widgets/base",
          "model_name": "LayoutModel",
          "state": {
            "_view_name": "LayoutView",
            "grid_template_rows": null,
            "right": null,
            "justify_content": null,
            "_view_module": "@jupyter-widgets/base",
            "overflow": null,
            "_model_module_version": "1.2.0",
            "_view_count": null,
            "flex_flow": null,
            "width": null,
            "min_width": null,
            "border": null,
            "align_items": null,
            "bottom": null,
            "_model_module": "@jupyter-widgets/base",
            "top": null,
            "grid_column": null,
            "overflow_y": null,
            "overflow_x": null,
            "grid_auto_flow": null,
            "grid_area": null,
            "grid_template_columns": null,
            "flex": null,
            "_model_name": "LayoutModel",
            "justify_items": null,
            "grid_row": null,
            "max_height": null,
            "align_content": null,
            "visibility": null,
            "align_self": null,
            "height": null,
            "min_height": null,
            "padding": null,
            "grid_auto_rows": null,
            "grid_gap": null,
            "max_width": null,
            "order": null,
            "_view_module_version": "1.2.0",
            "grid_template_areas": null,
            "object_position": null,
            "object_fit": null,
            "grid_auto_columns": null,
            "margin": null,
            "display": null,
            "left": null
          }
        },
        "4ba572429a3042aeb78d4bb872b77f77": {
          "model_module": "@jupyter-widgets/controls",
          "model_name": "HBoxModel",
          "state": {
            "_view_name": "HBoxView",
            "_dom_classes": [],
            "_model_name": "HBoxModel",
            "_view_module": "@jupyter-widgets/controls",
            "_model_module_version": "1.5.0",
            "_view_count": null,
            "_view_module_version": "1.5.0",
            "box_style": "",
            "layout": "IPY_MODEL_519e5f8ce034417ca59a807787fe3a67",
            "_model_module": "@jupyter-widgets/controls",
            "children": [
              "IPY_MODEL_395b8b4e63814e6689088c49f5a93413",
              "IPY_MODEL_3673575254f84f5c861e9b56965539e9"
            ]
          }
        },
        "519e5f8ce034417ca59a807787fe3a67": {
          "model_module": "@jupyter-widgets/base",
          "model_name": "LayoutModel",
          "state": {
            "_view_name": "LayoutView",
            "grid_template_rows": null,
            "right": null,
            "justify_content": null,
            "_view_module": "@jupyter-widgets/base",
            "overflow": null,
            "_model_module_version": "1.2.0",
            "_view_count": null,
            "flex_flow": null,
            "width": null,
            "min_width": null,
            "border": null,
            "align_items": null,
            "bottom": null,
            "_model_module": "@jupyter-widgets/base",
            "top": null,
            "grid_column": null,
            "overflow_y": null,
            "overflow_x": null,
            "grid_auto_flow": null,
            "grid_area": null,
            "grid_template_columns": null,
            "flex": null,
            "_model_name": "LayoutModel",
            "justify_items": null,
            "grid_row": null,
            "max_height": null,
            "align_content": null,
            "visibility": null,
            "align_self": null,
            "height": null,
            "min_height": null,
            "padding": null,
            "grid_auto_rows": null,
            "grid_gap": null,
            "max_width": null,
            "order": null,
            "_view_module_version": "1.2.0",
            "grid_template_areas": null,
            "object_position": null,
            "object_fit": null,
            "grid_auto_columns": null,
            "margin": null,
            "display": null,
            "left": null
          }
        },
        "395b8b4e63814e6689088c49f5a93413": {
          "model_module": "@jupyter-widgets/controls",
          "model_name": "FloatProgressModel",
          "state": {
            "_view_name": "ProgressView",
            "style": "IPY_MODEL_9116dad139664fcebf110e47a5fcac9f",
            "_dom_classes": [],
            "description": "Downloading: 100%",
            "_model_name": "FloatProgressModel",
            "bar_style": "success",
            "max": 28,
            "_view_module": "@jupyter-widgets/controls",
            "_model_module_version": "1.5.0",
            "value": 28,
            "_view_count": null,
            "_view_module_version": "1.5.0",
            "orientation": "horizontal",
            "min": 0,
            "description_tooltip": null,
            "_model_module": "@jupyter-widgets/controls",
            "layout": "IPY_MODEL_7644831d79014aa3a52ed0e77040eeb8"
          }
        },
        "3673575254f84f5c861e9b56965539e9": {
          "model_module": "@jupyter-widgets/controls",
          "model_name": "HTMLModel",
          "state": {
            "_view_name": "HTMLView",
            "style": "IPY_MODEL_1e4a8edf70254baf981e4af384faa61b",
            "_dom_classes": [],
            "description": "",
            "_model_name": "HTMLModel",
            "placeholder": "​",
            "_view_module": "@jupyter-widgets/controls",
            "_model_module_version": "1.5.0",
            "value": " 28.0/28.0 [00:19&lt;00:00, 1.46B/s]",
            "_view_count": null,
            "_view_module_version": "1.5.0",
            "description_tooltip": null,
            "_model_module": "@jupyter-widgets/controls",
            "layout": "IPY_MODEL_214d2d30cd084c07ad191620ef079113"
          }
        },
        "9116dad139664fcebf110e47a5fcac9f": {
          "model_module": "@jupyter-widgets/controls",
          "model_name": "ProgressStyleModel",
          "state": {
            "_view_name": "StyleView",
            "_model_name": "ProgressStyleModel",
            "description_width": "initial",
            "_view_module": "@jupyter-widgets/base",
            "_model_module_version": "1.5.0",
            "_view_count": null,
            "_view_module_version": "1.2.0",
            "bar_color": null,
            "_model_module": "@jupyter-widgets/controls"
          }
        },
        "7644831d79014aa3a52ed0e77040eeb8": {
          "model_module": "@jupyter-widgets/base",
          "model_name": "LayoutModel",
          "state": {
            "_view_name": "LayoutView",
            "grid_template_rows": null,
            "right": null,
            "justify_content": null,
            "_view_module": "@jupyter-widgets/base",
            "overflow": null,
            "_model_module_version": "1.2.0",
            "_view_count": null,
            "flex_flow": null,
            "width": null,
            "min_width": null,
            "border": null,
            "align_items": null,
            "bottom": null,
            "_model_module": "@jupyter-widgets/base",
            "top": null,
            "grid_column": null,
            "overflow_y": null,
            "overflow_x": null,
            "grid_auto_flow": null,
            "grid_area": null,
            "grid_template_columns": null,
            "flex": null,
            "_model_name": "LayoutModel",
            "justify_items": null,
            "grid_row": null,
            "max_height": null,
            "align_content": null,
            "visibility": null,
            "align_self": null,
            "height": null,
            "min_height": null,
            "padding": null,
            "grid_auto_rows": null,
            "grid_gap": null,
            "max_width": null,
            "order": null,
            "_view_module_version": "1.2.0",
            "grid_template_areas": null,
            "object_position": null,
            "object_fit": null,
            "grid_auto_columns": null,
            "margin": null,
            "display": null,
            "left": null
          }
        },
        "1e4a8edf70254baf981e4af384faa61b": {
          "model_module": "@jupyter-widgets/controls",
          "model_name": "DescriptionStyleModel",
          "state": {
            "_view_name": "StyleView",
            "_model_name": "DescriptionStyleModel",
            "description_width": "",
            "_view_module": "@jupyter-widgets/base",
            "_model_module_version": "1.5.0",
            "_view_count": null,
            "_view_module_version": "1.2.0",
            "_model_module": "@jupyter-widgets/controls"
          }
        },
        "214d2d30cd084c07ad191620ef079113": {
          "model_module": "@jupyter-widgets/base",
          "model_name": "LayoutModel",
          "state": {
            "_view_name": "LayoutView",
            "grid_template_rows": null,
            "right": null,
            "justify_content": null,
            "_view_module": "@jupyter-widgets/base",
            "overflow": null,
            "_model_module_version": "1.2.0",
            "_view_count": null,
            "flex_flow": null,
            "width": null,
            "min_width": null,
            "border": null,
            "align_items": null,
            "bottom": null,
            "_model_module": "@jupyter-widgets/base",
            "top": null,
            "grid_column": null,
            "overflow_y": null,
            "overflow_x": null,
            "grid_auto_flow": null,
            "grid_area": null,
            "grid_template_columns": null,
            "flex": null,
            "_model_name": "LayoutModel",
            "justify_items": null,
            "grid_row": null,
            "max_height": null,
            "align_content": null,
            "visibility": null,
            "align_self": null,
            "height": null,
            "min_height": null,
            "padding": null,
            "grid_auto_rows": null,
            "grid_gap": null,
            "max_width": null,
            "order": null,
            "_view_module_version": "1.2.0",
            "grid_template_areas": null,
            "object_position": null,
            "object_fit": null,
            "grid_auto_columns": null,
            "margin": null,
            "display": null,
            "left": null
          }
        },
        "bb1a4ffa79fa4f3da417bc0182f93826": {
          "model_module": "@jupyter-widgets/controls",
          "model_name": "HBoxModel",
          "state": {
            "_view_name": "HBoxView",
            "_dom_classes": [],
            "_model_name": "HBoxModel",
            "_view_module": "@jupyter-widgets/controls",
            "_model_module_version": "1.5.0",
            "_view_count": null,
            "_view_module_version": "1.5.0",
            "box_style": "",
            "layout": "IPY_MODEL_cf1564aa9ff540878b37f5c90e4e3d24",
            "_model_module": "@jupyter-widgets/controls",
            "children": [
              "IPY_MODEL_32fef7af40d94152b302465d5df00ede",
              "IPY_MODEL_23ce68d02eac4e19bd68b871ff935c97"
            ]
          }
        },
        "cf1564aa9ff540878b37f5c90e4e3d24": {
          "model_module": "@jupyter-widgets/base",
          "model_name": "LayoutModel",
          "state": {
            "_view_name": "LayoutView",
            "grid_template_rows": null,
            "right": null,
            "justify_content": null,
            "_view_module": "@jupyter-widgets/base",
            "overflow": null,
            "_model_module_version": "1.2.0",
            "_view_count": null,
            "flex_flow": null,
            "width": null,
            "min_width": null,
            "border": null,
            "align_items": null,
            "bottom": null,
            "_model_module": "@jupyter-widgets/base",
            "top": null,
            "grid_column": null,
            "overflow_y": null,
            "overflow_x": null,
            "grid_auto_flow": null,
            "grid_area": null,
            "grid_template_columns": null,
            "flex": null,
            "_model_name": "LayoutModel",
            "justify_items": null,
            "grid_row": null,
            "max_height": null,
            "align_content": null,
            "visibility": null,
            "align_self": null,
            "height": null,
            "min_height": null,
            "padding": null,
            "grid_auto_rows": null,
            "grid_gap": null,
            "max_width": null,
            "order": null,
            "_view_module_version": "1.2.0",
            "grid_template_areas": null,
            "object_position": null,
            "object_fit": null,
            "grid_auto_columns": null,
            "margin": null,
            "display": null,
            "left": null
          }
        },
        "32fef7af40d94152b302465d5df00ede": {
          "model_module": "@jupyter-widgets/controls",
          "model_name": "FloatProgressModel",
          "state": {
            "_view_name": "ProgressView",
            "style": "IPY_MODEL_cb89fd65861e42d2b7bec445b16f9263",
            "_dom_classes": [],
            "description": "Downloading: 100%",
            "_model_name": "FloatProgressModel",
            "bar_style": "success",
            "max": 435779157,
            "_view_module": "@jupyter-widgets/controls",
            "_model_module_version": "1.5.0",
            "value": 435779157,
            "_view_count": null,
            "_view_module_version": "1.5.0",
            "orientation": "horizontal",
            "min": 0,
            "description_tooltip": null,
            "_model_module": "@jupyter-widgets/controls",
            "layout": "IPY_MODEL_a0592da53913412dbfa8c54755892bbf"
          }
        },
        "23ce68d02eac4e19bd68b871ff935c97": {
          "model_module": "@jupyter-widgets/controls",
          "model_name": "HTMLModel",
          "state": {
            "_view_name": "HTMLView",
            "style": "IPY_MODEL_5b8ae2b551394582a6416ea6e2eca829",
            "_dom_classes": [],
            "description": "",
            "_model_name": "HTMLModel",
            "placeholder": "​",
            "_view_module": "@jupyter-widgets/controls",
            "_model_module_version": "1.5.0",
            "value": " 436M/436M [00:09&lt;00:00, 44.2MB/s]",
            "_view_count": null,
            "_view_module_version": "1.5.0",
            "description_tooltip": null,
            "_model_module": "@jupyter-widgets/controls",
            "layout": "IPY_MODEL_3362cc6d786c4124a1a68bcb5dd576e7"
          }
        },
        "cb89fd65861e42d2b7bec445b16f9263": {
          "model_module": "@jupyter-widgets/controls",
          "model_name": "ProgressStyleModel",
          "state": {
            "_view_name": "StyleView",
            "_model_name": "ProgressStyleModel",
            "description_width": "initial",
            "_view_module": "@jupyter-widgets/base",
            "_model_module_version": "1.5.0",
            "_view_count": null,
            "_view_module_version": "1.2.0",
            "bar_color": null,
            "_model_module": "@jupyter-widgets/controls"
          }
        },
        "a0592da53913412dbfa8c54755892bbf": {
          "model_module": "@jupyter-widgets/base",
          "model_name": "LayoutModel",
          "state": {
            "_view_name": "LayoutView",
            "grid_template_rows": null,
            "right": null,
            "justify_content": null,
            "_view_module": "@jupyter-widgets/base",
            "overflow": null,
            "_model_module_version": "1.2.0",
            "_view_count": null,
            "flex_flow": null,
            "width": null,
            "min_width": null,
            "border": null,
            "align_items": null,
            "bottom": null,
            "_model_module": "@jupyter-widgets/base",
            "top": null,
            "grid_column": null,
            "overflow_y": null,
            "overflow_x": null,
            "grid_auto_flow": null,
            "grid_area": null,
            "grid_template_columns": null,
            "flex": null,
            "_model_name": "LayoutModel",
            "justify_items": null,
            "grid_row": null,
            "max_height": null,
            "align_content": null,
            "visibility": null,
            "align_self": null,
            "height": null,
            "min_height": null,
            "padding": null,
            "grid_auto_rows": null,
            "grid_gap": null,
            "max_width": null,
            "order": null,
            "_view_module_version": "1.2.0",
            "grid_template_areas": null,
            "object_position": null,
            "object_fit": null,
            "grid_auto_columns": null,
            "margin": null,
            "display": null,
            "left": null
          }
        },
        "5b8ae2b551394582a6416ea6e2eca829": {
          "model_module": "@jupyter-widgets/controls",
          "model_name": "DescriptionStyleModel",
          "state": {
            "_view_name": "StyleView",
            "_model_name": "DescriptionStyleModel",
            "description_width": "",
            "_view_module": "@jupyter-widgets/base",
            "_model_module_version": "1.5.0",
            "_view_count": null,
            "_view_module_version": "1.2.0",
            "_model_module": "@jupyter-widgets/controls"
          }
        },
        "3362cc6d786c4124a1a68bcb5dd576e7": {
          "model_module": "@jupyter-widgets/base",
          "model_name": "LayoutModel",
          "state": {
            "_view_name": "LayoutView",
            "grid_template_rows": null,
            "right": null,
            "justify_content": null,
            "_view_module": "@jupyter-widgets/base",
            "overflow": null,
            "_model_module_version": "1.2.0",
            "_view_count": null,
            "flex_flow": null,
            "width": null,
            "min_width": null,
            "border": null,
            "align_items": null,
            "bottom": null,
            "_model_module": "@jupyter-widgets/base",
            "top": null,
            "grid_column": null,
            "overflow_y": null,
            "overflow_x": null,
            "grid_auto_flow": null,
            "grid_area": null,
            "grid_template_columns": null,
            "flex": null,
            "_model_name": "LayoutModel",
            "justify_items": null,
            "grid_row": null,
            "max_height": null,
            "align_content": null,
            "visibility": null,
            "align_self": null,
            "height": null,
            "min_height": null,
            "padding": null,
            "grid_auto_rows": null,
            "grid_gap": null,
            "max_width": null,
            "order": null,
            "_view_module_version": "1.2.0",
            "grid_template_areas": null,
            "object_position": null,
            "object_fit": null,
            "grid_auto_columns": null,
            "margin": null,
            "display": null,
            "left": null
          }
        }
      }
    }
  },
  "cells": [
    {
      "cell_type": "code",
      "metadata": {
        "id": "BKHpdSN0LWHh"
      },
      "source": [
        "import pandas as pd\n",
        "import numpy as np\n",
        "import os, glob,re\n",
        "\n",
        "from pathlib import Path\n",
        "from tqdm import tqdm\n",
        "import matplotlib.pyplot as plt\n",
        "\n",
        "\n",
        "import torch\n",
        "PATH = '/content/drive/MyDrive/Coleridge_Initiative/input'"
      ],
      "execution_count": 1,
      "outputs": []
    },
    {
      "cell_type": "code",
      "metadata": {
        "id": "aJRhrWInkGVi",
        "colab": {
          "base_uri": "https://localhost:8080/"
        },
        "outputId": "c16fc12c-20e2-4c09-f08d-28fb53421a5c"
      },
      "source": [
        "!pip install transformers\n",
        "!pip install pytorch_lightning"
      ],
      "execution_count": null,
      "outputs": [
        {
          "output_type": "stream",
          "text": [
            "Collecting transformers\n",
            "\u001b[?25l  Downloading https://files.pythonhosted.org/packages/81/91/61d69d58a1af1bd81d9ca9d62c90a6de3ab80d77f27c5df65d9a2c1f5626/transformers-4.5.0-py3-none-any.whl (2.1MB)\n",
            "\u001b[K     |████████████████████████████████| 2.2MB 12.6MB/s \n",
            "\u001b[?25hRequirement already satisfied: importlib-metadata; python_version < \"3.8\" in /usr/local/lib/python3.7/dist-packages (from transformers) (3.8.1)\n",
            "Collecting sacremoses\n",
            "\u001b[?25l  Downloading https://files.pythonhosted.org/packages/08/cd/342e584ee544d044fb573ae697404ce22ede086c9e87ce5960772084cad0/sacremoses-0.0.44.tar.gz (862kB)\n",
            "\u001b[K     |████████████████████████████████| 870kB 39.8MB/s \n",
            "\u001b[?25hRequirement already satisfied: tqdm>=4.27 in /usr/local/lib/python3.7/dist-packages (from transformers) (4.41.1)\n",
            "Requirement already satisfied: regex!=2019.12.17 in /usr/local/lib/python3.7/dist-packages (from transformers) (2019.12.20)\n",
            "Requirement already satisfied: numpy>=1.17 in /usr/local/lib/python3.7/dist-packages (from transformers) (1.19.5)\n",
            "Requirement already satisfied: requests in /usr/local/lib/python3.7/dist-packages (from transformers) (2.23.0)\n",
            "Collecting tokenizers<0.11,>=0.10.1\n",
            "\u001b[?25l  Downloading https://files.pythonhosted.org/packages/ae/04/5b870f26a858552025a62f1649c20d29d2672c02ff3c3fb4c688ca46467a/tokenizers-0.10.2-cp37-cp37m-manylinux2010_x86_64.whl (3.3MB)\n",
            "\u001b[K     |████████████████████████████████| 3.3MB 38.4MB/s \n",
            "\u001b[?25hRequirement already satisfied: packaging in /usr/local/lib/python3.7/dist-packages (from transformers) (20.9)\n",
            "Requirement already satisfied: filelock in /usr/local/lib/python3.7/dist-packages (from transformers) (3.0.12)\n",
            "Requirement already satisfied: zipp>=0.5 in /usr/local/lib/python3.7/dist-packages (from importlib-metadata; python_version < \"3.8\"->transformers) (3.4.1)\n",
            "Requirement already satisfied: typing-extensions>=3.6.4; python_version < \"3.8\" in /usr/local/lib/python3.7/dist-packages (from importlib-metadata; python_version < \"3.8\"->transformers) (3.7.4.3)\n",
            "Requirement already satisfied: six in /usr/local/lib/python3.7/dist-packages (from sacremoses->transformers) (1.15.0)\n",
            "Requirement already satisfied: click in /usr/local/lib/python3.7/dist-packages (from sacremoses->transformers) (7.1.2)\n",
            "Requirement already satisfied: joblib in /usr/local/lib/python3.7/dist-packages (from sacremoses->transformers) (1.0.1)\n",
            "Requirement already satisfied: idna<3,>=2.5 in /usr/local/lib/python3.7/dist-packages (from requests->transformers) (2.10)\n",
            "Requirement already satisfied: certifi>=2017.4.17 in /usr/local/lib/python3.7/dist-packages (from requests->transformers) (2020.12.5)\n",
            "Requirement already satisfied: urllib3!=1.25.0,!=1.25.1,<1.26,>=1.21.1 in /usr/local/lib/python3.7/dist-packages (from requests->transformers) (1.24.3)\n",
            "Requirement already satisfied: chardet<4,>=3.0.2 in /usr/local/lib/python3.7/dist-packages (from requests->transformers) (3.0.4)\n",
            "Requirement already satisfied: pyparsing>=2.0.2 in /usr/local/lib/python3.7/dist-packages (from packaging->transformers) (2.4.7)\n",
            "Building wheels for collected packages: sacremoses\n",
            "  Building wheel for sacremoses (setup.py) ... \u001b[?25l\u001b[?25hdone\n",
            "  Created wheel for sacremoses: filename=sacremoses-0.0.44-cp37-none-any.whl size=886084 sha256=b579d67a8cf6ba6f6ed6efaf2e4c6049c31525766dc6294c3b061ec8735c483c\n",
            "  Stored in directory: /root/.cache/pip/wheels/3e/fb/c0/13ab4d63d537658f448366744654323077c4d90069b6512f3c\n",
            "Successfully built sacremoses\n",
            "Installing collected packages: sacremoses, tokenizers, transformers\n",
            "Successfully installed sacremoses-0.0.44 tokenizers-0.10.2 transformers-4.5.0\n"
          ],
          "name": "stdout"
        }
      ]
    },
    {
      "cell_type": "code",
      "metadata": {
        "id": "Aty5BrBEkKU3"
      },
      "source": [
        "import transformers\n",
        "import pytorch_lightning as pl\n",
        "\n",
        "pl.seed_everything(13)"
      ],
      "execution_count": null,
      "outputs": []
    },
    {
      "cell_type": "code",
      "metadata": {
        "colab": {
          "base_uri": "https://localhost:8080/",
          "height": 289
        },
        "id": "HPwb6zaJLcKb",
        "outputId": "60cfc28d-0ddf-41f6-f64c-3d3e118abf63"
      },
      "source": [
        "df = pd.read_csv(Path(PATH) / 'train.csv')\n",
        "df.head()"
      ],
      "execution_count": 21,
      "outputs": [
        {
          "output_type": "execute_result",
          "data": {
            "text/html": [
              "<div>\n",
              "<style scoped>\n",
              "    .dataframe tbody tr th:only-of-type {\n",
              "        vertical-align: middle;\n",
              "    }\n",
              "\n",
              "    .dataframe tbody tr th {\n",
              "        vertical-align: top;\n",
              "    }\n",
              "\n",
              "    .dataframe thead th {\n",
              "        text-align: right;\n",
              "    }\n",
              "</style>\n",
              "<table border=\"1\" class=\"dataframe\">\n",
              "  <thead>\n",
              "    <tr style=\"text-align: right;\">\n",
              "      <th></th>\n",
              "      <th>Id</th>\n",
              "      <th>pub_title</th>\n",
              "      <th>dataset_title</th>\n",
              "      <th>dataset_label</th>\n",
              "      <th>cleaned_label</th>\n",
              "    </tr>\n",
              "  </thead>\n",
              "  <tbody>\n",
              "    <tr>\n",
              "      <th>0</th>\n",
              "      <td>d0fa7568-7d8e-4db9-870f-f9c6f668c17b</td>\n",
              "      <td>The Impact of Dual Enrollment on College Degre...</td>\n",
              "      <td>National Education Longitudinal Study</td>\n",
              "      <td>National Education Longitudinal Study</td>\n",
              "      <td>national education longitudinal study</td>\n",
              "    </tr>\n",
              "    <tr>\n",
              "      <th>1</th>\n",
              "      <td>2f26f645-3dec-485d-b68d-f013c9e05e60</td>\n",
              "      <td>Educational Attainment of High School Dropouts...</td>\n",
              "      <td>National Education Longitudinal Study</td>\n",
              "      <td>National Education Longitudinal Study</td>\n",
              "      <td>national education longitudinal study</td>\n",
              "    </tr>\n",
              "    <tr>\n",
              "      <th>2</th>\n",
              "      <td>c5d5cd2c-59de-4f29-bbb1-6a88c7b52f29</td>\n",
              "      <td>Differences in Outcomes for Female and Male St...</td>\n",
              "      <td>National Education Longitudinal Study</td>\n",
              "      <td>National Education Longitudinal Study</td>\n",
              "      <td>national education longitudinal study</td>\n",
              "    </tr>\n",
              "    <tr>\n",
              "      <th>3</th>\n",
              "      <td>5c9a3bc9-41ba-4574-ad71-e25c1442c8af</td>\n",
              "      <td>Stepping Stone and Option Value in a Model of ...</td>\n",
              "      <td>National Education Longitudinal Study</td>\n",
              "      <td>National Education Longitudinal Study</td>\n",
              "      <td>national education longitudinal study</td>\n",
              "    </tr>\n",
              "    <tr>\n",
              "      <th>4</th>\n",
              "      <td>c754dec7-c5a3-4337-9892-c02158475064</td>\n",
              "      <td>Parental Effort, School Resources, and Student...</td>\n",
              "      <td>National Education Longitudinal Study</td>\n",
              "      <td>National Education Longitudinal Study</td>\n",
              "      <td>national education longitudinal study</td>\n",
              "    </tr>\n",
              "  </tbody>\n",
              "</table>\n",
              "</div>"
            ],
            "text/plain": [
              "                                     Id  ...                          cleaned_label\n",
              "0  d0fa7568-7d8e-4db9-870f-f9c6f668c17b  ...  national education longitudinal study\n",
              "1  2f26f645-3dec-485d-b68d-f013c9e05e60  ...  national education longitudinal study\n",
              "2  c5d5cd2c-59de-4f29-bbb1-6a88c7b52f29  ...  national education longitudinal study\n",
              "3  5c9a3bc9-41ba-4574-ad71-e25c1442c8af  ...  national education longitudinal study\n",
              "4  c754dec7-c5a3-4337-9892-c02158475064  ...  national education longitudinal study\n",
              "\n",
              "[5 rows x 5 columns]"
            ]
          },
          "metadata": {
            "tags": []
          },
          "execution_count": 21
        }
      ]
    },
    {
      "cell_type": "markdown",
      "metadata": {
        "id": "RSCN8DIekUFj"
      },
      "source": [
        "Look for text\n"
      ]
    },
    {
      "cell_type": "code",
      "metadata": {
        "colab": {
          "base_uri": "https://localhost:8080/",
          "height": 607
        },
        "id": "JY2dL-c3N5Gt",
        "outputId": "8d3005de-54e9-4ce1-cf3d-d3fc1cf58530"
      },
      "source": [
        "df1 = pd.read_json(Path(PATH) /'train' /'d0fa7568-7d8e-4db9-870f-f9c6f668c17b.json')\n",
        "df1"
      ],
      "execution_count": 27,
      "outputs": [
        {
          "output_type": "execute_result",
          "data": {
            "text/html": [
              "<div>\n",
              "<style scoped>\n",
              "    .dataframe tbody tr th:only-of-type {\n",
              "        vertical-align: middle;\n",
              "    }\n",
              "\n",
              "    .dataframe tbody tr th {\n",
              "        vertical-align: top;\n",
              "    }\n",
              "\n",
              "    .dataframe thead th {\n",
              "        text-align: right;\n",
              "    }\n",
              "</style>\n",
              "<table border=\"1\" class=\"dataframe\">\n",
              "  <thead>\n",
              "    <tr style=\"text-align: right;\">\n",
              "      <th></th>\n",
              "      <th>section_title</th>\n",
              "      <th>text</th>\n",
              "    </tr>\n",
              "  </thead>\n",
              "  <tbody>\n",
              "    <tr>\n",
              "      <th>0</th>\n",
              "      <td>What is this study about?</td>\n",
              "      <td>This study used data from the National Educati...</td>\n",
              "    </tr>\n",
              "    <tr>\n",
              "      <th>1</th>\n",
              "      <td>Features of Dual Enrollment Programs</td>\n",
              "      <td>Dual enrollment programs allow high school stu...</td>\n",
              "    </tr>\n",
              "    <tr>\n",
              "      <th>2</th>\n",
              "      <td>WWC Single Study Review</td>\n",
              "      <td>What did the study find?\\nThe study reported, ...</td>\n",
              "    </tr>\n",
              "    <tr>\n",
              "      <th>3</th>\n",
              "      <td>WWC Rating</td>\n",
              "      <td>The research described in this report meets WW...</td>\n",
              "    </tr>\n",
              "    <tr>\n",
              "      <th>4</th>\n",
              "      <td>Intervention group</td>\n",
              "      <td>The intervention group was comprised of those ...</td>\n",
              "    </tr>\n",
              "    <tr>\n",
              "      <th>5</th>\n",
              "      <td>Comparison group</td>\n",
              "      <td>The comparison group was comprised of NELS par...</td>\n",
              "    </tr>\n",
              "    <tr>\n",
              "      <th>6</th>\n",
              "      <td>Outcomes and measurement</td>\n",
              "      <td>There were two outcomes examined in the study:...</td>\n",
              "    </tr>\n",
              "    <tr>\n",
              "      <th>7</th>\n",
              "      <td>Support for implementation</td>\n",
              "      <td>The study was based on secondary data from a n...</td>\n",
              "    </tr>\n",
              "    <tr>\n",
              "      <th>8</th>\n",
              "      <td>Reason for review</td>\n",
              "      <td>This study was identified for review by receiv...</td>\n",
              "    </tr>\n",
              "    <tr>\n",
              "      <th>9</th>\n",
              "      <td>Degree attainment</td>\n",
              "      <td>Any college degree attainment The study author...</td>\n",
              "    </tr>\n",
              "    <tr>\n",
              "      <th>10</th>\n",
              "      <td>Bachelor's degree attainment</td>\n",
              "      <td>The study author collected information on bach...</td>\n",
              "    </tr>\n",
              "    <tr>\n",
              "      <th>11</th>\n",
              "      <td>Study Notes:</td>\n",
              "      <td>A correction for multiple comparisons was need...</td>\n",
              "    </tr>\n",
              "    <tr>\n",
              "      <th>12</th>\n",
              "      <td>Glossary of Terms</td>\n",
              "      <td>Attrition Attrition occurs when an outcome var...</td>\n",
              "    </tr>\n",
              "    <tr>\n",
              "      <th>13</th>\n",
              "      <td>Multiple comparison adjustment</td>\n",
              "      <td>When a study includes multiple outcomes or com...</td>\n",
              "    </tr>\n",
              "    <tr>\n",
              "      <th>14</th>\n",
              "      <td>Quasi-experimental design (QED)</td>\n",
              "      <td>A quasi-experimental design (QED) is a researc...</td>\n",
              "    </tr>\n",
              "    <tr>\n",
              "      <th>15</th>\n",
              "      <td>Randomized controlled trial (RCT)</td>\n",
              "      <td>A randomized controlled trial (RCT) is an expe...</td>\n",
              "    </tr>\n",
              "    <tr>\n",
              "      <th>16</th>\n",
              "      <td>Single-case design (SCD)</td>\n",
              "      <td>A research approach in which an outcome variab...</td>\n",
              "    </tr>\n",
              "    <tr>\n",
              "      <th>17</th>\n",
              "      <td>Standard deviation</td>\n",
              "      <td>The standard deviation of a measure shows how ...</td>\n",
              "    </tr>\n",
              "  </tbody>\n",
              "</table>\n",
              "</div>"
            ],
            "text/plain": [
              "                           section_title                                               text\n",
              "0              What is this study about?  This study used data from the National Educati...\n",
              "1   Features of Dual Enrollment Programs  Dual enrollment programs allow high school stu...\n",
              "2                WWC Single Study Review  What did the study find?\\nThe study reported, ...\n",
              "3                             WWC Rating  The research described in this report meets WW...\n",
              "4                     Intervention group  The intervention group was comprised of those ...\n",
              "5                       Comparison group  The comparison group was comprised of NELS par...\n",
              "6               Outcomes and measurement  There were two outcomes examined in the study:...\n",
              "7             Support for implementation  The study was based on secondary data from a n...\n",
              "8                      Reason for review  This study was identified for review by receiv...\n",
              "9                      Degree attainment  Any college degree attainment The study author...\n",
              "10          Bachelor's degree attainment  The study author collected information on bach...\n",
              "11                          Study Notes:  A correction for multiple comparisons was need...\n",
              "12                     Glossary of Terms  Attrition Attrition occurs when an outcome var...\n",
              "13        Multiple comparison adjustment  When a study includes multiple outcomes or com...\n",
              "14       Quasi-experimental design (QED)  A quasi-experimental design (QED) is a researc...\n",
              "15     Randomized controlled trial (RCT)  A randomized controlled trial (RCT) is an expe...\n",
              "16              Single-case design (SCD)  A research approach in which an outcome variab...\n",
              "17                    Standard deviation  The standard deviation of a measure shows how ..."
            ]
          },
          "metadata": {
            "tags": []
          },
          "execution_count": 27
        }
      ]
    },
    {
      "cell_type": "markdown",
      "metadata": {
        "id": "n7Ocsw97SqxM"
      },
      "source": [
        "for BERT not useble very length text, base model 512 tokens"
      ]
    },
    {
      "cell_type": "code",
      "metadata": {
        "colab": {
          "base_uri": "https://localhost:8080/"
        },
        "id": "7ZQhC8w4OPOx",
        "outputId": "4329fb7a-9ec7-4c58-c585-a7c4f94a2e64"
      },
      "source": [
        "df1.text.apply(lambda x: len(x.split())).describe().to_dict()"
      ],
      "execution_count": 32,
      "outputs": [
        {
          "output_type": "execute_result",
          "data": {
            "text/plain": [
              "{'25%': 27.75,\n",
              " '50%': 41.5,\n",
              " '75%': 165.0,\n",
              " 'count': 18.0,\n",
              " 'max': 298.0,\n",
              " 'mean': 98.0,\n",
              " 'min': 10.0,\n",
              " 'std': 95.73615703957353}"
            ]
          },
          "metadata": {
            "tags": []
          },
          "execution_count": 32
        }
      ]
    },
    {
      "cell_type": "code",
      "metadata": {
        "colab": {
          "base_uri": "https://localhost:8080/"
        },
        "id": "Zb3gzx9WRene",
        "outputId": "c4145002-9cac-4361-a41c-eb13f006a62e"
      },
      "source": [
        "len_text = len(df1.text.str.cat(sep = '\\n').split())\n",
        "len_text"
      ],
      "execution_count": 38,
      "outputs": [
        {
          "output_type": "execute_result",
          "data": {
            "text/plain": [
              "1764"
            ]
          },
          "metadata": {
            "tags": []
          },
          "execution_count": 38
        }
      ]
    },
    {
      "cell_type": "code",
      "metadata": {
        "id": "u7OhV79nurud"
      },
      "source": [
        "def see_length(file: Path):\n",
        "    # make conf interval for length\n",
        "    tmp_df = pd.read_json(file)\n",
        "    tmp_stat = tmp_df.text.apply(lambda x: len(x.split())).describe().to_dict()\n",
        "    len_text = len(tmp_df.text.str.cat(sep = '\\n').split())\n",
        "    id = file.stem\n",
        "    return {\n",
        "        'id':id,\n",
        "        'min': tmp_stat['min'],\n",
        "        'mean': tmp_stat['mean'],\n",
        "        'max': tmp_stat['max'],\n",
        "        'len_txt': len_text\n",
        "        }"
      ],
      "execution_count": 44,
      "outputs": []
    },
    {
      "cell_type": "code",
      "metadata": {
        "colab": {
          "base_uri": "https://localhost:8080/"
        },
        "id": "CNHx5zE8urnD",
        "outputId": "978c0175-3f5e-4515-e72f-fe6017a11399"
      },
      "source": [
        "a = Path(PATH) /'train' /'d0fa7568-7d8e-4db9-870f-f9c6f668c17b.json'\n",
        "see_length(a)"
      ],
      "execution_count": 45,
      "outputs": [
        {
          "output_type": "execute_result",
          "data": {
            "text/plain": [
              "{'id': 'd0fa7568-7d8e-4db9-870f-f9c6f668c17b',\n",
              " 'len_txt': 1764,\n",
              " 'max': 298.0,\n",
              " 'mean': 98.0,\n",
              " 'min': 10.0}"
            ]
          },
          "metadata": {
            "tags": []
          },
          "execution_count": 45
        }
      ]
    },
    {
      "cell_type": "code",
      "metadata": {
        "id": "zErTHMQnvJJf"
      },
      "source": [
        "list_train_json = list(Path(PATH).glob('train/*.json'))"
      ],
      "execution_count": 48,
      "outputs": []
    },
    {
      "cell_type": "code",
      "metadata": {
        "id": "5yjcCJYL7f_g"
      },
      "source": [
        "tmp = []\n",
        "for file in tqdm(list_train_json):\n",
        "    tmp_dict = see_length(file)\n",
        "    tmp.append(\n",
        "        tmp_dict\n",
        "        )"
      ],
      "execution_count": 52,
      "outputs": []
    },
    {
      "cell_type": "code",
      "metadata": {
        "colab": {
          "base_uri": "https://localhost:8080/",
          "height": 204
        },
        "id": "_7hC5L4hG6m5",
        "outputId": "9596d490-55bc-41d1-b5d5-1892dce99ce2"
      },
      "source": [
        "df = pd.DataFrame(tmp)\n",
        "df.head()"
      ],
      "execution_count": 59,
      "outputs": [
        {
          "output_type": "execute_result",
          "data": {
            "text/html": [
              "<div>\n",
              "<style scoped>\n",
              "    .dataframe tbody tr th:only-of-type {\n",
              "        vertical-align: middle;\n",
              "    }\n",
              "\n",
              "    .dataframe tbody tr th {\n",
              "        vertical-align: top;\n",
              "    }\n",
              "\n",
              "    .dataframe thead th {\n",
              "        text-align: right;\n",
              "    }\n",
              "</style>\n",
              "<table border=\"1\" class=\"dataframe\">\n",
              "  <thead>\n",
              "    <tr style=\"text-align: right;\">\n",
              "      <th></th>\n",
              "      <th>id</th>\n",
              "      <th>min</th>\n",
              "      <th>mean</th>\n",
              "      <th>max</th>\n",
              "      <th>len_txt</th>\n",
              "    </tr>\n",
              "  </thead>\n",
              "  <tbody>\n",
              "    <tr>\n",
              "      <th>0</th>\n",
              "      <td>f0249680-2273-4b1a-8a0a-2e8bbf9ec11a</td>\n",
              "      <td>0.0</td>\n",
              "      <td>316.541667</td>\n",
              "      <td>1197.0</td>\n",
              "      <td>15194</td>\n",
              "    </tr>\n",
              "    <tr>\n",
              "      <th>1</th>\n",
              "      <td>ef4b7964-b7dc-4570-804e-74cc7b804c61</td>\n",
              "      <td>42.0</td>\n",
              "      <td>427.266667</td>\n",
              "      <td>985.0</td>\n",
              "      <td>6409</td>\n",
              "    </tr>\n",
              "    <tr>\n",
              "      <th>2</th>\n",
              "      <td>ec938f38-37e7-4a35-87bd-e59ffa02d52e</td>\n",
              "      <td>76.0</td>\n",
              "      <td>318.214286</td>\n",
              "      <td>532.0</td>\n",
              "      <td>4455</td>\n",
              "    </tr>\n",
              "    <tr>\n",
              "      <th>3</th>\n",
              "      <td>f042f6d8-c940-4cda-9b96-75cb95db4ef8</td>\n",
              "      <td>0.0</td>\n",
              "      <td>378.200000</td>\n",
              "      <td>705.0</td>\n",
              "      <td>3782</td>\n",
              "    </tr>\n",
              "    <tr>\n",
              "      <th>4</th>\n",
              "      <td>ed1a995e-63f9-4542-b515-bcaab0ed4295</td>\n",
              "      <td>0.0</td>\n",
              "      <td>380.789474</td>\n",
              "      <td>2738.0</td>\n",
              "      <td>7235</td>\n",
              "    </tr>\n",
              "  </tbody>\n",
              "</table>\n",
              "</div>"
            ],
            "text/plain": [
              "                                     id   min        mean     max  len_txt\n",
              "0  f0249680-2273-4b1a-8a0a-2e8bbf9ec11a   0.0  316.541667  1197.0    15194\n",
              "1  ef4b7964-b7dc-4570-804e-74cc7b804c61  42.0  427.266667   985.0     6409\n",
              "2  ec938f38-37e7-4a35-87bd-e59ffa02d52e  76.0  318.214286   532.0     4455\n",
              "3  f042f6d8-c940-4cda-9b96-75cb95db4ef8   0.0  378.200000   705.0     3782\n",
              "4  ed1a995e-63f9-4542-b515-bcaab0ed4295   0.0  380.789474  2738.0     7235"
            ]
          },
          "metadata": {
            "tags": []
          },
          "execution_count": 59
        }
      ]
    },
    {
      "cell_type": "code",
      "metadata": {
        "colab": {
          "base_uri": "https://localhost:8080/"
        },
        "id": "JLjcMk5_KB4I",
        "outputId": "573d5cab-c1cc-4f13-856a-cb6942477c87"
      },
      "source": [
        "df.mean(axis = 0)"
      ],
      "execution_count": 65,
      "outputs": [
        {
          "output_type": "execute_result",
          "data": {
            "text/plain": [
              "min         553.132858\n",
              "mean        924.293620\n",
              "max        1864.406259\n",
              "len_txt    7049.041771\n",
              "dtype: float64"
            ]
          },
          "metadata": {
            "tags": []
          },
          "execution_count": 65
        }
      ]
    },
    {
      "cell_type": "code",
      "metadata": {
        "colab": {
          "base_uri": "https://localhost:8080/"
        },
        "id": "oxeCLDLxR8_v",
        "outputId": "28ab33f7-798f-425d-a605-8cc6da47331c"
      },
      "source": [
        "df[df['min'] < 100].mean(axis = 0)"
      ],
      "execution_count": 103,
      "outputs": [
        {
          "output_type": "execute_result",
          "data": {
            "text/plain": [
              "min          10.655568\n",
              "mean        374.762448\n",
              "max        1352.718951\n",
              "len_txt    6855.988687\n",
              "dtype: float64"
            ]
          },
          "metadata": {
            "tags": []
          },
          "execution_count": 103
        }
      ]
    },
    {
      "cell_type": "code",
      "metadata": {
        "colab": {
          "base_uri": "https://localhost:8080/",
          "height": 1000
        },
        "id": "Fo-veHcVJ9Tr",
        "outputId": "12f12b85-38e6-4ad1-8ae0-1308f2f18457"
      },
      "source": [
        "df[df['min'] == 6]"
      ],
      "execution_count": 115,
      "outputs": [
        {
          "output_type": "execute_result",
          "data": {
            "text/html": [
              "<div>\n",
              "<style scoped>\n",
              "    .dataframe tbody tr th:only-of-type {\n",
              "        vertical-align: middle;\n",
              "    }\n",
              "\n",
              "    .dataframe tbody tr th {\n",
              "        vertical-align: top;\n",
              "    }\n",
              "\n",
              "    .dataframe thead th {\n",
              "        text-align: right;\n",
              "    }\n",
              "</style>\n",
              "<table border=\"1\" class=\"dataframe\">\n",
              "  <thead>\n",
              "    <tr style=\"text-align: right;\">\n",
              "      <th></th>\n",
              "      <th>id</th>\n",
              "      <th>min</th>\n",
              "      <th>mean</th>\n",
              "      <th>max</th>\n",
              "      <th>len_txt</th>\n",
              "    </tr>\n",
              "  </thead>\n",
              "  <tbody>\n",
              "    <tr>\n",
              "      <th>35</th>\n",
              "      <td>e9057a7a-ea41-4b40-88bf-3bfb8354c807</td>\n",
              "      <td>6.0</td>\n",
              "      <td>591.400000</td>\n",
              "      <td>1359.0</td>\n",
              "      <td>5914</td>\n",
              "    </tr>\n",
              "    <tr>\n",
              "      <th>146</th>\n",
              "      <td>f7e96f4d-3556-4f07-990a-dc4a069b4c93</td>\n",
              "      <td>6.0</td>\n",
              "      <td>316.750000</td>\n",
              "      <td>1518.0</td>\n",
              "      <td>6335</td>\n",
              "    </tr>\n",
              "    <tr>\n",
              "      <th>640</th>\n",
              "      <td>fd2e2c07-ac85-409f-88d4-846931276cba</td>\n",
              "      <td>6.0</td>\n",
              "      <td>458.875000</td>\n",
              "      <td>1210.0</td>\n",
              "      <td>7342</td>\n",
              "    </tr>\n",
              "    <tr>\n",
              "      <th>1462</th>\n",
              "      <td>dc0fc97d-19e7-4154-82e8-836b4cdd2d7d</td>\n",
              "      <td>6.0</td>\n",
              "      <td>363.400000</td>\n",
              "      <td>705.0</td>\n",
              "      <td>1817</td>\n",
              "    </tr>\n",
              "    <tr>\n",
              "      <th>1755</th>\n",
              "      <td>ed2ce29d-5a01-431c-80c9-40fa104fb04f</td>\n",
              "      <td>6.0</td>\n",
              "      <td>305.333333</td>\n",
              "      <td>1033.0</td>\n",
              "      <td>1832</td>\n",
              "    </tr>\n",
              "    <tr>\n",
              "      <th>1963</th>\n",
              "      <td>e70843e1-b397-4936-9d43-9823dc599edb</td>\n",
              "      <td>6.0</td>\n",
              "      <td>547.600000</td>\n",
              "      <td>990.0</td>\n",
              "      <td>2738</td>\n",
              "    </tr>\n",
              "    <tr>\n",
              "      <th>2022</th>\n",
              "      <td>ce6402e8-5182-42ef-96ac-3b9f703c2dee</td>\n",
              "      <td>6.0</td>\n",
              "      <td>431.666667</td>\n",
              "      <td>1088.0</td>\n",
              "      <td>2590</td>\n",
              "    </tr>\n",
              "    <tr>\n",
              "      <th>2293</th>\n",
              "      <td>d2a27799-80ab-43f9-9333-0806821ec14f</td>\n",
              "      <td>6.0</td>\n",
              "      <td>193.000000</td>\n",
              "      <td>576.0</td>\n",
              "      <td>2895</td>\n",
              "    </tr>\n",
              "    <tr>\n",
              "      <th>2330</th>\n",
              "      <td>cc81652d-51b2-49b2-be7a-1842125a698b</td>\n",
              "      <td>6.0</td>\n",
              "      <td>1821.800000</td>\n",
              "      <td>4253.0</td>\n",
              "      <td>9109</td>\n",
              "    </tr>\n",
              "    <tr>\n",
              "      <th>2443</th>\n",
              "      <td>cbb78840-b76f-4bbb-b37c-4636d1a7fd6b</td>\n",
              "      <td>6.0</td>\n",
              "      <td>503.916667</td>\n",
              "      <td>1253.0</td>\n",
              "      <td>6047</td>\n",
              "    </tr>\n",
              "    <tr>\n",
              "      <th>3707</th>\n",
              "      <td>c5bf815a-c61b-4420-a05c-dade62947a5d</td>\n",
              "      <td>6.0</td>\n",
              "      <td>398.333333</td>\n",
              "      <td>1404.0</td>\n",
              "      <td>3585</td>\n",
              "    </tr>\n",
              "    <tr>\n",
              "      <th>3924</th>\n",
              "      <td>c6e74b14-6da5-43bf-9723-dcce7c2124ff</td>\n",
              "      <td>6.0</td>\n",
              "      <td>323.880952</td>\n",
              "      <td>1764.0</td>\n",
              "      <td>13603</td>\n",
              "    </tr>\n",
              "    <tr>\n",
              "      <th>4194</th>\n",
              "      <td>ac05c8d8-759a-49c5-b8b0-3890393ffeb6</td>\n",
              "      <td>6.0</td>\n",
              "      <td>139.615385</td>\n",
              "      <td>443.0</td>\n",
              "      <td>1815</td>\n",
              "    </tr>\n",
              "    <tr>\n",
              "      <th>4233</th>\n",
              "      <td>b28c797d-8c24-4e06-9e6c-d2481c66da55</td>\n",
              "      <td>6.0</td>\n",
              "      <td>310.900000</td>\n",
              "      <td>618.0</td>\n",
              "      <td>6218</td>\n",
              "    </tr>\n",
              "    <tr>\n",
              "      <th>4265</th>\n",
              "      <td>ac45b46d-e098-44f1-8cf3-78f1027e1080</td>\n",
              "      <td>6.0</td>\n",
              "      <td>600.166667</td>\n",
              "      <td>1178.0</td>\n",
              "      <td>3601</td>\n",
              "    </tr>\n",
              "    <tr>\n",
              "      <th>4378</th>\n",
              "      <td>a9dd86a1-9ac7-4df0-99e3-4f2ee8b597b6</td>\n",
              "      <td>6.0</td>\n",
              "      <td>336.083333</td>\n",
              "      <td>860.0</td>\n",
              "      <td>4033</td>\n",
              "    </tr>\n",
              "    <tr>\n",
              "      <th>4385</th>\n",
              "      <td>ae3defe7-13e5-46db-84a6-4dc299918750</td>\n",
              "      <td>6.0</td>\n",
              "      <td>323.875000</td>\n",
              "      <td>571.0</td>\n",
              "      <td>2591</td>\n",
              "    </tr>\n",
              "    <tr>\n",
              "      <th>5101</th>\n",
              "      <td>9b32139d-6d2a-472d-a3ac-d2f05a7532d2</td>\n",
              "      <td>6.0</td>\n",
              "      <td>393.333333</td>\n",
              "      <td>1023.0</td>\n",
              "      <td>4720</td>\n",
              "    </tr>\n",
              "    <tr>\n",
              "      <th>5624</th>\n",
              "      <td>a33aa932-1fe3-427e-9155-311e3a723b83</td>\n",
              "      <td>6.0</td>\n",
              "      <td>371.571429</td>\n",
              "      <td>739.0</td>\n",
              "      <td>2601</td>\n",
              "    </tr>\n",
              "    <tr>\n",
              "      <th>5969</th>\n",
              "      <td>a22ac39e-f95f-48e3-a62d-a5aee6f9ae5f</td>\n",
              "      <td>6.0</td>\n",
              "      <td>507.187500</td>\n",
              "      <td>1234.0</td>\n",
              "      <td>8115</td>\n",
              "    </tr>\n",
              "    <tr>\n",
              "      <th>6212</th>\n",
              "      <td>8b3200da-34f1-40c2-a484-fe2253801ec4</td>\n",
              "      <td>6.0</td>\n",
              "      <td>882.800000</td>\n",
              "      <td>1498.0</td>\n",
              "      <td>4414</td>\n",
              "    </tr>\n",
              "    <tr>\n",
              "      <th>6623</th>\n",
              "      <td>8ce037f0-553a-46e0-af12-5cfbd548d869</td>\n",
              "      <td>6.0</td>\n",
              "      <td>816.833333</td>\n",
              "      <td>2373.0</td>\n",
              "      <td>4901</td>\n",
              "    </tr>\n",
              "    <tr>\n",
              "      <th>6865</th>\n",
              "      <td>958714a4-5ef2-4734-903b-301e3f6b11a4</td>\n",
              "      <td>6.0</td>\n",
              "      <td>727.250000</td>\n",
              "      <td>1535.0</td>\n",
              "      <td>2909</td>\n",
              "    </tr>\n",
              "    <tr>\n",
              "      <th>7596</th>\n",
              "      <td>7954ac21-63dc-4b69-9e80-905895f63bb6</td>\n",
              "      <td>6.0</td>\n",
              "      <td>246.800000</td>\n",
              "      <td>375.0</td>\n",
              "      <td>1234</td>\n",
              "    </tr>\n",
              "    <tr>\n",
              "      <th>7723</th>\n",
              "      <td>82811ccd-d88f-4b4b-b9ac-4b03b408e2f3</td>\n",
              "      <td>6.0</td>\n",
              "      <td>217.900000</td>\n",
              "      <td>565.0</td>\n",
              "      <td>2179</td>\n",
              "    </tr>\n",
              "    <tr>\n",
              "      <th>8004</th>\n",
              "      <td>60c3eb90-f941-475f-808c-434634597250</td>\n",
              "      <td>6.0</td>\n",
              "      <td>255.600000</td>\n",
              "      <td>1396.0</td>\n",
              "      <td>2556</td>\n",
              "    </tr>\n",
              "    <tr>\n",
              "      <th>8631</th>\n",
              "      <td>6bfda128-a0c0-41ba-96a8-ec62731124d9</td>\n",
              "      <td>6.0</td>\n",
              "      <td>448.571429</td>\n",
              "      <td>1317.0</td>\n",
              "      <td>3140</td>\n",
              "    </tr>\n",
              "    <tr>\n",
              "      <th>8674</th>\n",
              "      <td>6d216c0c-d315-4e38-8738-b3f971cf4d71</td>\n",
              "      <td>6.0</td>\n",
              "      <td>621.111111</td>\n",
              "      <td>2681.0</td>\n",
              "      <td>11180</td>\n",
              "    </tr>\n",
              "    <tr>\n",
              "      <th>8814</th>\n",
              "      <td>71f60465-215b-4102-9fb4-d317695f2a59</td>\n",
              "      <td>6.0</td>\n",
              "      <td>525.818182</td>\n",
              "      <td>1192.0</td>\n",
              "      <td>5784</td>\n",
              "    </tr>\n",
              "    <tr>\n",
              "      <th>9391</th>\n",
              "      <td>595023e7-8a3d-4195-b823-8d76151408ec</td>\n",
              "      <td>6.0</td>\n",
              "      <td>339.086957</td>\n",
              "      <td>1645.0</td>\n",
              "      <td>7799</td>\n",
              "    </tr>\n",
              "    <tr>\n",
              "      <th>10308</th>\n",
              "      <td>3bab07fa-4f04-4f67-b7a7-2191df863db4</td>\n",
              "      <td>6.0</td>\n",
              "      <td>315.000000</td>\n",
              "      <td>800.0</td>\n",
              "      <td>3465</td>\n",
              "    </tr>\n",
              "    <tr>\n",
              "      <th>10350</th>\n",
              "      <td>44eacd27-6be0-489f-97e2-e9bf6998d298</td>\n",
              "      <td>6.0</td>\n",
              "      <td>330.400000</td>\n",
              "      <td>1423.0</td>\n",
              "      <td>3304</td>\n",
              "    </tr>\n",
              "    <tr>\n",
              "      <th>11235</th>\n",
              "      <td>29a71d38-6956-4869-9c80-bd6aee12d9c6</td>\n",
              "      <td>6.0</td>\n",
              "      <td>212.560000</td>\n",
              "      <td>950.0</td>\n",
              "      <td>5314</td>\n",
              "    </tr>\n",
              "    <tr>\n",
              "      <th>11357</th>\n",
              "      <td>35c941e3-b072-4525-b8e1-32a2a27246f5</td>\n",
              "      <td>6.0</td>\n",
              "      <td>337.631579</td>\n",
              "      <td>1267.0</td>\n",
              "      <td>6415</td>\n",
              "    </tr>\n",
              "    <tr>\n",
              "      <th>11495</th>\n",
              "      <td>318d5bf8-0b4f-4a31-bba3-da91fd03bfed</td>\n",
              "      <td>6.0</td>\n",
              "      <td>476.000000</td>\n",
              "      <td>928.0</td>\n",
              "      <td>1428</td>\n",
              "    </tr>\n",
              "    <tr>\n",
              "      <th>11822</th>\n",
              "      <td>39c5fc48-11e3-4078-a944-5e87a4fce1a8</td>\n",
              "      <td>6.0</td>\n",
              "      <td>302.375000</td>\n",
              "      <td>858.0</td>\n",
              "      <td>4838</td>\n",
              "    </tr>\n",
              "    <tr>\n",
              "      <th>12155</th>\n",
              "      <td>1ca25bb4-4969-4bf2-a4ab-823f11ba9920</td>\n",
              "      <td>6.0</td>\n",
              "      <td>144.750000</td>\n",
              "      <td>359.0</td>\n",
              "      <td>1158</td>\n",
              "    </tr>\n",
              "    <tr>\n",
              "      <th>12359</th>\n",
              "      <td>1e9b4c93-3f29-4639-ac6f-aaa03846388e</td>\n",
              "      <td>6.0</td>\n",
              "      <td>479.500000</td>\n",
              "      <td>843.0</td>\n",
              "      <td>2877</td>\n",
              "    </tr>\n",
              "    <tr>\n",
              "      <th>12390</th>\n",
              "      <td>1a459658-c3f7-473c-b362-2522871a42d2</td>\n",
              "      <td>6.0</td>\n",
              "      <td>584.250000</td>\n",
              "      <td>1522.0</td>\n",
              "      <td>2337</td>\n",
              "    </tr>\n",
              "    <tr>\n",
              "      <th>12437</th>\n",
              "      <td>241f5fb3-46ef-4b61-93e9-da2637c5c63d</td>\n",
              "      <td>6.0</td>\n",
              "      <td>269.833333</td>\n",
              "      <td>620.0</td>\n",
              "      <td>1619</td>\n",
              "    </tr>\n",
              "    <tr>\n",
              "      <th>13020</th>\n",
              "      <td>049506bc-5194-4b3c-bc73-a5d263eef476</td>\n",
              "      <td>6.0</td>\n",
              "      <td>353.250000</td>\n",
              "      <td>1026.0</td>\n",
              "      <td>1413</td>\n",
              "    </tr>\n",
              "    <tr>\n",
              "      <th>13277</th>\n",
              "      <td>099ce9b5-5c24-46fd-96aa-91ad2a40f490</td>\n",
              "      <td>6.0</td>\n",
              "      <td>230.666667</td>\n",
              "      <td>626.0</td>\n",
              "      <td>4844</td>\n",
              "    </tr>\n",
              "    <tr>\n",
              "      <th>13436</th>\n",
              "      <td>0eb26b2a-2d93-42b3-a298-586f83111e4c</td>\n",
              "      <td>6.0</td>\n",
              "      <td>389.285714</td>\n",
              "      <td>1169.0</td>\n",
              "      <td>5450</td>\n",
              "    </tr>\n",
              "    <tr>\n",
              "      <th>13470</th>\n",
              "      <td>0c984fa7-8b95-47ab-8353-d540c51519b7</td>\n",
              "      <td>6.0</td>\n",
              "      <td>211.125000</td>\n",
              "      <td>851.0</td>\n",
              "      <td>3378</td>\n",
              "    </tr>\n",
              "    <tr>\n",
              "      <th>13694</th>\n",
              "      <td>13b9dc76-7651-4794-bb98-bee419423484</td>\n",
              "      <td>6.0</td>\n",
              "      <td>238.052632</td>\n",
              "      <td>843.0</td>\n",
              "      <td>4523</td>\n",
              "    </tr>\n",
              "    <tr>\n",
              "      <th>13741</th>\n",
              "      <td>1789f83b-f5e3-40e1-ade8-69fa9d9132a1</td>\n",
              "      <td>6.0</td>\n",
              "      <td>401.000000</td>\n",
              "      <td>1371.0</td>\n",
              "      <td>3609</td>\n",
              "    </tr>\n",
              "    <tr>\n",
              "      <th>14001</th>\n",
              "      <td>0010357a-6365-4e5f-b982-582e6d32c3ee</td>\n",
              "      <td>6.0</td>\n",
              "      <td>168.200000</td>\n",
              "      <td>562.0</td>\n",
              "      <td>841</td>\n",
              "    </tr>\n",
              "    <tr>\n",
              "      <th>14066</th>\n",
              "      <td>010713ff-ae8a-4523-ab23-e839abfac7c3</td>\n",
              "      <td>6.0</td>\n",
              "      <td>1322.000000</td>\n",
              "      <td>2664.0</td>\n",
              "      <td>5288</td>\n",
              "    </tr>\n",
              "  </tbody>\n",
              "</table>\n",
              "</div>"
            ],
            "text/plain": [
              "                                         id  min         mean     max  len_txt\n",
              "35     e9057a7a-ea41-4b40-88bf-3bfb8354c807  6.0   591.400000  1359.0     5914\n",
              "146    f7e96f4d-3556-4f07-990a-dc4a069b4c93  6.0   316.750000  1518.0     6335\n",
              "640    fd2e2c07-ac85-409f-88d4-846931276cba  6.0   458.875000  1210.0     7342\n",
              "1462   dc0fc97d-19e7-4154-82e8-836b4cdd2d7d  6.0   363.400000   705.0     1817\n",
              "1755   ed2ce29d-5a01-431c-80c9-40fa104fb04f  6.0   305.333333  1033.0     1832\n",
              "1963   e70843e1-b397-4936-9d43-9823dc599edb  6.0   547.600000   990.0     2738\n",
              "2022   ce6402e8-5182-42ef-96ac-3b9f703c2dee  6.0   431.666667  1088.0     2590\n",
              "2293   d2a27799-80ab-43f9-9333-0806821ec14f  6.0   193.000000   576.0     2895\n",
              "2330   cc81652d-51b2-49b2-be7a-1842125a698b  6.0  1821.800000  4253.0     9109\n",
              "2443   cbb78840-b76f-4bbb-b37c-4636d1a7fd6b  6.0   503.916667  1253.0     6047\n",
              "3707   c5bf815a-c61b-4420-a05c-dade62947a5d  6.0   398.333333  1404.0     3585\n",
              "3924   c6e74b14-6da5-43bf-9723-dcce7c2124ff  6.0   323.880952  1764.0    13603\n",
              "4194   ac05c8d8-759a-49c5-b8b0-3890393ffeb6  6.0   139.615385   443.0     1815\n",
              "4233   b28c797d-8c24-4e06-9e6c-d2481c66da55  6.0   310.900000   618.0     6218\n",
              "4265   ac45b46d-e098-44f1-8cf3-78f1027e1080  6.0   600.166667  1178.0     3601\n",
              "4378   a9dd86a1-9ac7-4df0-99e3-4f2ee8b597b6  6.0   336.083333   860.0     4033\n",
              "4385   ae3defe7-13e5-46db-84a6-4dc299918750  6.0   323.875000   571.0     2591\n",
              "5101   9b32139d-6d2a-472d-a3ac-d2f05a7532d2  6.0   393.333333  1023.0     4720\n",
              "5624   a33aa932-1fe3-427e-9155-311e3a723b83  6.0   371.571429   739.0     2601\n",
              "5969   a22ac39e-f95f-48e3-a62d-a5aee6f9ae5f  6.0   507.187500  1234.0     8115\n",
              "6212   8b3200da-34f1-40c2-a484-fe2253801ec4  6.0   882.800000  1498.0     4414\n",
              "6623   8ce037f0-553a-46e0-af12-5cfbd548d869  6.0   816.833333  2373.0     4901\n",
              "6865   958714a4-5ef2-4734-903b-301e3f6b11a4  6.0   727.250000  1535.0     2909\n",
              "7596   7954ac21-63dc-4b69-9e80-905895f63bb6  6.0   246.800000   375.0     1234\n",
              "7723   82811ccd-d88f-4b4b-b9ac-4b03b408e2f3  6.0   217.900000   565.0     2179\n",
              "8004   60c3eb90-f941-475f-808c-434634597250  6.0   255.600000  1396.0     2556\n",
              "8631   6bfda128-a0c0-41ba-96a8-ec62731124d9  6.0   448.571429  1317.0     3140\n",
              "8674   6d216c0c-d315-4e38-8738-b3f971cf4d71  6.0   621.111111  2681.0    11180\n",
              "8814   71f60465-215b-4102-9fb4-d317695f2a59  6.0   525.818182  1192.0     5784\n",
              "9391   595023e7-8a3d-4195-b823-8d76151408ec  6.0   339.086957  1645.0     7799\n",
              "10308  3bab07fa-4f04-4f67-b7a7-2191df863db4  6.0   315.000000   800.0     3465\n",
              "10350  44eacd27-6be0-489f-97e2-e9bf6998d298  6.0   330.400000  1423.0     3304\n",
              "11235  29a71d38-6956-4869-9c80-bd6aee12d9c6  6.0   212.560000   950.0     5314\n",
              "11357  35c941e3-b072-4525-b8e1-32a2a27246f5  6.0   337.631579  1267.0     6415\n",
              "11495  318d5bf8-0b4f-4a31-bba3-da91fd03bfed  6.0   476.000000   928.0     1428\n",
              "11822  39c5fc48-11e3-4078-a944-5e87a4fce1a8  6.0   302.375000   858.0     4838\n",
              "12155  1ca25bb4-4969-4bf2-a4ab-823f11ba9920  6.0   144.750000   359.0     1158\n",
              "12359  1e9b4c93-3f29-4639-ac6f-aaa03846388e  6.0   479.500000   843.0     2877\n",
              "12390  1a459658-c3f7-473c-b362-2522871a42d2  6.0   584.250000  1522.0     2337\n",
              "12437  241f5fb3-46ef-4b61-93e9-da2637c5c63d  6.0   269.833333   620.0     1619\n",
              "13020  049506bc-5194-4b3c-bc73-a5d263eef476  6.0   353.250000  1026.0     1413\n",
              "13277  099ce9b5-5c24-46fd-96aa-91ad2a40f490  6.0   230.666667   626.0     4844\n",
              "13436  0eb26b2a-2d93-42b3-a298-586f83111e4c  6.0   389.285714  1169.0     5450\n",
              "13470  0c984fa7-8b95-47ab-8353-d540c51519b7  6.0   211.125000   851.0     3378\n",
              "13694  13b9dc76-7651-4794-bb98-bee419423484  6.0   238.052632   843.0     4523\n",
              "13741  1789f83b-f5e3-40e1-ade8-69fa9d9132a1  6.0   401.000000  1371.0     3609\n",
              "14001  0010357a-6365-4e5f-b982-582e6d32c3ee  6.0   168.200000   562.0      841\n",
              "14066  010713ff-ae8a-4523-ab23-e839abfac7c3  6.0  1322.000000  2664.0     5288"
            ]
          },
          "metadata": {
            "tags": []
          },
          "execution_count": 115
        }
      ]
    },
    {
      "cell_type": "code",
      "metadata": {
        "id": "RAeyJQGNLEXd"
      },
      "source": [
        "найти количество пропусков в тексте в титле и количество титлов\n",
        "количество текста в одну Future Research .................................\n",
        "количество CHAPTER  Page\n",
        "минимальная длина текста 10\n",
        "минимальная длина титлов>0 нет точек и других знаков(исключение -) только \n",
        "\"www.balticsportscience.com \n"
      ],
      "execution_count": null,
      "outputs": []
    },
    {
      "cell_type": "code",
      "metadata": {
        "colab": {
          "base_uri": "https://localhost:8080/",
          "height": 1000
        },
        "id": "Cl7G5tR28Ds0",
        "outputId": "9a4365be-10cb-4b4c-d9ea-fc5009391aa2"
      },
      "source": [
        "f = 'f0249680-2273-4b1a-8a0a-2e8bbf9ec11a.json'\n",
        "df2 = pd.read_json(Path(PATH) /'train' / f)\n",
        "df2"
      ],
      "execution_count": 70,
      "outputs": [
        {
          "output_type": "execute_result",
          "data": {
            "text/html": [
              "<div>\n",
              "<style scoped>\n",
              "    .dataframe tbody tr th:only-of-type {\n",
              "        vertical-align: middle;\n",
              "    }\n",
              "\n",
              "    .dataframe tbody tr th {\n",
              "        vertical-align: top;\n",
              "    }\n",
              "\n",
              "    .dataframe thead th {\n",
              "        text-align: right;\n",
              "    }\n",
              "</style>\n",
              "<table border=\"1\" class=\"dataframe\">\n",
              "  <thead>\n",
              "    <tr style=\"text-align: right;\">\n",
              "      <th></th>\n",
              "      <th>section_title</th>\n",
              "      <th>text</th>\n",
              "    </tr>\n",
              "  </thead>\n",
              "  <tbody>\n",
              "    <tr>\n",
              "      <th>0</th>\n",
              "      <td></td>\n",
              "      <td>Future Research .................................</td>\n",
              "    </tr>\n",
              "    <tr>\n",
              "      <th>1</th>\n",
              "      <td>LIST OF FIGURES</td>\n",
              "      <td></td>\n",
              "    </tr>\n",
              "    <tr>\n",
              "      <th>2</th>\n",
              "      <td>Page</td>\n",
              "      <td>Significant moderation effects were found for ...</td>\n",
              "    </tr>\n",
              "    <tr>\n",
              "      <th>3</th>\n",
              "      <td>CHAPTER 1. INTRODUCTION</td>\n",
              "      <td>American Indian and Alaska Native (AIAN) child...</td>\n",
              "    </tr>\n",
              "    <tr>\n",
              "      <th>4</th>\n",
              "      <td>CHAPTER 2. LITERATURE REVIEW</td>\n",
              "      <td>Children that have not mastered critical acade...</td>\n",
              "    </tr>\n",
              "    <tr>\n",
              "      <th>5</th>\n",
              "      <td>Pre-Academic Skills</td>\n",
              "      <td>Researchers consistently point to the importan...</td>\n",
              "    </tr>\n",
              "    <tr>\n",
              "      <th>6</th>\n",
              "      <td>Early Reading Skills</td>\n",
              "      <td>Language development is the process by which c...</td>\n",
              "    </tr>\n",
              "    <tr>\n",
              "      <th>7</th>\n",
              "      <td>Early Math Skills</td>\n",
              "      <td>Cognitive skills are the result of exposure to...</td>\n",
              "    </tr>\n",
              "    <tr>\n",
              "      <th>8</th>\n",
              "      <td>Behavioral Skills</td>\n",
              "      <td>Early behavioral skills provide a critical fou...</td>\n",
              "    </tr>\n",
              "    <tr>\n",
              "      <th>9</th>\n",
              "      <td>Social Competence</td>\n",
              "      <td>Social competence may be the most broadly defi...</td>\n",
              "    </tr>\n",
              "    <tr>\n",
              "      <th>10</th>\n",
              "      <td>Approaches to Learning</td>\n",
              "      <td>Another foundational skill connecting children...</td>\n",
              "    </tr>\n",
              "    <tr>\n",
              "      <th>11</th>\n",
              "      <td>Externalizing Behaviors</td>\n",
              "      <td>Externalizing behavior is a problem behavior t...</td>\n",
              "    </tr>\n",
              "    <tr>\n",
              "      <th>12</th>\n",
              "      <td>Multidimensional School Readiness</td>\n",
              "      <td>While research documents the importance of bot...</td>\n",
              "    </tr>\n",
              "    <tr>\n",
              "      <th>13</th>\n",
              "      <td>Theoretical Framework</td>\n",
              "      <td></td>\n",
              "    </tr>\n",
              "    <tr>\n",
              "      <th>14</th>\n",
              "      <td>Ecological-Cumulative Disadvantage Framework</td>\n",
              "      <td>The complexity of the multidimensional context...</td>\n",
              "    </tr>\n",
              "    <tr>\n",
              "      <th>15</th>\n",
              "      <td>Early Risks and School Readiness</td>\n",
              "      <td>From an ecological-cumulative disadvantage per...</td>\n",
              "    </tr>\n",
              "    <tr>\n",
              "      <th>16</th>\n",
              "      <td>Child-Level Risk Factors</td>\n",
              "      <td>Proximal contexts have an important role in en...</td>\n",
              "    </tr>\n",
              "    <tr>\n",
              "      <th>17</th>\n",
              "      <td>Family-Level Risk Factors</td>\n",
              "      <td>For young children, one of the most influentia...</td>\n",
              "    </tr>\n",
              "    <tr>\n",
              "      <th>18</th>\n",
              "      <td>Cumulative Risk</td>\n",
              "      <td>Some existing studies in the educational liter...</td>\n",
              "    </tr>\n",
              "    <tr>\n",
              "      <th>19</th>\n",
              "      <td>American Indians and Alaska Native Children an...</td>\n",
              "      <td>Because of historical policies that restricted...</td>\n",
              "    </tr>\n",
              "    <tr>\n",
              "      <th>20</th>\n",
              "      <td>The Present Investigation</td>\n",
              "      <td>To best explore how the ongoing exposure to in...</td>\n",
              "    </tr>\n",
              "    <tr>\n",
              "      <th>21</th>\n",
              "      <td>Dataset Design</td>\n",
              "      <td>The ECLS-B sample was selected by using a clus...</td>\n",
              "    </tr>\n",
              "    <tr>\n",
              "      <th>22</th>\n",
              "      <td>Participants</td>\n",
              "      <td>The present study includes pooled data from 85...</td>\n",
              "    </tr>\n",
              "    <tr>\n",
              "      <th>23</th>\n",
              "      <td>Analytic Sample</td>\n",
              "      <td>The analytic sample started with all children ...</td>\n",
              "    </tr>\n",
              "    <tr>\n",
              "      <th>24</th>\n",
              "      <td>Missing Data</td>\n",
              "      <td>The majority of key study variables had indivi...</td>\n",
              "    </tr>\n",
              "    <tr>\n",
              "      <th>25</th>\n",
              "      <td>Parent-Reported Behavioral Skills</td>\n",
              "      <td>Children's social competence, approaches to le...</td>\n",
              "    </tr>\n",
              "    <tr>\n",
              "      <th>26</th>\n",
              "      <td>Individual risks</td>\n",
              "      <td>Multiple child and family risk indicators were...</td>\n",
              "    </tr>\n",
              "    <tr>\n",
              "      <th>27</th>\n",
              "      <td>Cumulative risk</td>\n",
              "      <td>All 7 individual risks were summed to create a...</td>\n",
              "    </tr>\n",
              "    <tr>\n",
              "      <th>28</th>\n",
              "      <td>Covariates</td>\n",
              "      <td>Several influential child characteristics were...</td>\n",
              "    </tr>\n",
              "    <tr>\n",
              "      <th>29</th>\n",
              "      <td>Analytic Method</td>\n",
              "      <td>Stata version 15.0 (2017) was used to compute ...</td>\n",
              "    </tr>\n",
              "    <tr>\n",
              "      <th>30</th>\n",
              "      <td>Power Analysis</td>\n",
              "      <td></td>\n",
              "    </tr>\n",
              "    <tr>\n",
              "      <th>31</th>\n",
              "      <td>Aim 2</td>\n",
              "      <td>The model includes 3 covariates, which are est...</td>\n",
              "    </tr>\n",
              "    <tr>\n",
              "      <th>32</th>\n",
              "      <td>Aim 3</td>\n",
              "      <td>The model includes 3 covariates, which are est...</td>\n",
              "    </tr>\n",
              "    <tr>\n",
              "      <th>33</th>\n",
              "      <td>Child characteristics and outcomes</td>\n",
              "      <td>Findings from the individual and cumulative ri...</td>\n",
              "    </tr>\n",
              "    <tr>\n",
              "      <th>34</th>\n",
              "      <td>Individual risk experiences and kindergarten a...</td>\n",
              "      <td>Generally, the individual risk models were use...</td>\n",
              "    </tr>\n",
              "    <tr>\n",
              "      <th>35</th>\n",
              "      <td>Poverty as a moderator and kindergarten behavi...</td>\n",
              "      <td>Given prior research and theory, poverty was s...</td>\n",
              "    </tr>\n",
              "    <tr>\n",
              "      <th>36</th>\n",
              "      <td>Cumulative risk experiences and kindergarten a...</td>\n",
              "      <td>Kindergarten reading, mathematics, social comp...</td>\n",
              "    </tr>\n",
              "    <tr>\n",
              "      <th>37</th>\n",
              "      <td>CHAPTER 5. DISCUSSION</td>\n",
              "      <td>The present investigation applied an ecologica...</td>\n",
              "    </tr>\n",
              "    <tr>\n",
              "      <th>38</th>\n",
              "      <td>Poverty and Kindergarten Academic Outcomes</td>\n",
              "      <td>One noteworthy finding in this study is that e...</td>\n",
              "    </tr>\n",
              "    <tr>\n",
              "      <th>39</th>\n",
              "      <td>Amount of Risks and Kindergarten Academic Outc...</td>\n",
              "      <td>Findings on the relationship between cumulativ...</td>\n",
              "    </tr>\n",
              "    <tr>\n",
              "      <th>40</th>\n",
              "      <td>Risk Patterns and Kindergarten Behavioral Outc...</td>\n",
              "      <td>Another salient finding in this study was that...</td>\n",
              "    </tr>\n",
              "    <tr>\n",
              "      <th>41</th>\n",
              "      <td>Future Research</td>\n",
              "      <td>Findings point to meaningful avenues for futur...</td>\n",
              "    </tr>\n",
              "    <tr>\n",
              "      <th>42</th>\n",
              "      <td>Need for Culturally-informed protective factors</td>\n",
              "      <td>What is currently established in the literatur...</td>\n",
              "    </tr>\n",
              "    <tr>\n",
              "      <th>43</th>\n",
              "      <td>Need for developing and evaluating behavioral ...</td>\n",
              "      <td>Among AIAN children, it is possible that the p...</td>\n",
              "    </tr>\n",
              "    <tr>\n",
              "      <th>44</th>\n",
              "      <td>Need for targeting the most vulnerable AIAN ch...</td>\n",
              "      <td>While results in the present study are derived...</td>\n",
              "    </tr>\n",
              "    <tr>\n",
              "      <th>45</th>\n",
              "      <td>Strengthening behavioral competence</td>\n",
              "      <td>Targeted, high-quality early child care progra...</td>\n",
              "    </tr>\n",
              "    <tr>\n",
              "      <th>46</th>\n",
              "      <td>Conclusion</td>\n",
              "      <td>Results support three principal conclusions fo...</td>\n",
              "    </tr>\n",
              "    <tr>\n",
              "      <th>47</th>\n",
              "      <td>Figure 1. Low maternal education and social co...</td>\n",
              "      <td>Interaction between low maternal education and...</td>\n",
              "    </tr>\n",
              "  </tbody>\n",
              "</table>\n",
              "</div>"
            ],
            "text/plain": [
              "                                        section_title                                               text\n",
              "0                                                      Future Research .................................\n",
              "1                                     LIST OF FIGURES                                                   \n",
              "2                                                Page  Significant moderation effects were found for ...\n",
              "3                             CHAPTER 1. INTRODUCTION  American Indian and Alaska Native (AIAN) child...\n",
              "4                        CHAPTER 2. LITERATURE REVIEW  Children that have not mastered critical acade...\n",
              "5                                 Pre-Academic Skills  Researchers consistently point to the importan...\n",
              "6                                Early Reading Skills  Language development is the process by which c...\n",
              "7                                   Early Math Skills  Cognitive skills are the result of exposure to...\n",
              "8                                   Behavioral Skills  Early behavioral skills provide a critical fou...\n",
              "9                                   Social Competence  Social competence may be the most broadly defi...\n",
              "10                             Approaches to Learning  Another foundational skill connecting children...\n",
              "11                            Externalizing Behaviors  Externalizing behavior is a problem behavior t...\n",
              "12                  Multidimensional School Readiness  While research documents the importance of bot...\n",
              "13                              Theoretical Framework                                                   \n",
              "14       Ecological-Cumulative Disadvantage Framework  The complexity of the multidimensional context...\n",
              "15                   Early Risks and School Readiness  From an ecological-cumulative disadvantage per...\n",
              "16                           Child-Level Risk Factors  Proximal contexts have an important role in en...\n",
              "17                          Family-Level Risk Factors  For young children, one of the most influentia...\n",
              "18                                    Cumulative Risk  Some existing studies in the educational liter...\n",
              "19  American Indians and Alaska Native Children an...  Because of historical policies that restricted...\n",
              "20                          The Present Investigation  To best explore how the ongoing exposure to in...\n",
              "21                                     Dataset Design  The ECLS-B sample was selected by using a clus...\n",
              "22                                       Participants  The present study includes pooled data from 85...\n",
              "23                                    Analytic Sample  The analytic sample started with all children ...\n",
              "24                                       Missing Data  The majority of key study variables had indivi...\n",
              "25                  Parent-Reported Behavioral Skills  Children's social competence, approaches to le...\n",
              "26                                   Individual risks  Multiple child and family risk indicators were...\n",
              "27                                    Cumulative risk  All 7 individual risks were summed to create a...\n",
              "28                                         Covariates  Several influential child characteristics were...\n",
              "29                                    Analytic Method  Stata version 15.0 (2017) was used to compute ...\n",
              "30                                     Power Analysis                                                   \n",
              "31                                              Aim 2  The model includes 3 covariates, which are est...\n",
              "32                                              Aim 3  The model includes 3 covariates, which are est...\n",
              "33                 Child characteristics and outcomes  Findings from the individual and cumulative ri...\n",
              "34  Individual risk experiences and kindergarten a...  Generally, the individual risk models were use...\n",
              "35  Poverty as a moderator and kindergarten behavi...  Given prior research and theory, poverty was s...\n",
              "36  Cumulative risk experiences and kindergarten a...  Kindergarten reading, mathematics, social comp...\n",
              "37                              CHAPTER 5. DISCUSSION  The present investigation applied an ecologica...\n",
              "38         Poverty and Kindergarten Academic Outcomes  One noteworthy finding in this study is that e...\n",
              "39  Amount of Risks and Kindergarten Academic Outc...  Findings on the relationship between cumulativ...\n",
              "40  Risk Patterns and Kindergarten Behavioral Outc...  Another salient finding in this study was that...\n",
              "41                                    Future Research  Findings point to meaningful avenues for futur...\n",
              "42    Need for Culturally-informed protective factors  What is currently established in the literatur...\n",
              "43  Need for developing and evaluating behavioral ...  Among AIAN children, it is possible that the p...\n",
              "44  Need for targeting the most vulnerable AIAN ch...  While results in the present study are derived...\n",
              "45                Strengthening behavioral competence  Targeted, high-quality early child care progra...\n",
              "46                                         Conclusion  Results support three principal conclusions fo...\n",
              "47  Figure 1. Low maternal education and social co...  Interaction between low maternal education and..."
            ]
          },
          "metadata": {
            "tags": []
          },
          "execution_count": 70
        }
      ]
    },
    {
      "cell_type": "code",
      "metadata": {
        "id": "pA66fnzYMP9F"
      },
      "source": [
        "df2.text.replace('', np.nan, inplace=True)"
      ],
      "execution_count": 78,
      "outputs": []
    },
    {
      "cell_type": "code",
      "metadata": {
        "colab": {
          "base_uri": "https://localhost:8080/",
          "height": 1000
        },
        "id": "wk2x1JW9NG-G",
        "outputId": "6f8a57cb-6e3e-48ff-835d-84d0fa2a2864"
      },
      "source": [
        "df2.dropna()"
      ],
      "execution_count": 81,
      "outputs": [
        {
          "output_type": "execute_result",
          "data": {
            "text/html": [
              "<div>\n",
              "<style scoped>\n",
              "    .dataframe tbody tr th:only-of-type {\n",
              "        vertical-align: middle;\n",
              "    }\n",
              "\n",
              "    .dataframe tbody tr th {\n",
              "        vertical-align: top;\n",
              "    }\n",
              "\n",
              "    .dataframe thead th {\n",
              "        text-align: right;\n",
              "    }\n",
              "</style>\n",
              "<table border=\"1\" class=\"dataframe\">\n",
              "  <thead>\n",
              "    <tr style=\"text-align: right;\">\n",
              "      <th></th>\n",
              "      <th>section_title</th>\n",
              "      <th>text</th>\n",
              "    </tr>\n",
              "  </thead>\n",
              "  <tbody>\n",
              "    <tr>\n",
              "      <th>0</th>\n",
              "      <td></td>\n",
              "      <td>Future Research .................................</td>\n",
              "    </tr>\n",
              "    <tr>\n",
              "      <th>2</th>\n",
              "      <td>Page</td>\n",
              "      <td>Significant moderation effects were found for ...</td>\n",
              "    </tr>\n",
              "    <tr>\n",
              "      <th>3</th>\n",
              "      <td>CHAPTER 1. INTRODUCTION</td>\n",
              "      <td>American Indian and Alaska Native (AIAN) child...</td>\n",
              "    </tr>\n",
              "    <tr>\n",
              "      <th>4</th>\n",
              "      <td>CHAPTER 2. LITERATURE REVIEW</td>\n",
              "      <td>Children that have not mastered critical acade...</td>\n",
              "    </tr>\n",
              "    <tr>\n",
              "      <th>5</th>\n",
              "      <td>Pre-Academic Skills</td>\n",
              "      <td>Researchers consistently point to the importan...</td>\n",
              "    </tr>\n",
              "    <tr>\n",
              "      <th>6</th>\n",
              "      <td>Early Reading Skills</td>\n",
              "      <td>Language development is the process by which c...</td>\n",
              "    </tr>\n",
              "    <tr>\n",
              "      <th>7</th>\n",
              "      <td>Early Math Skills</td>\n",
              "      <td>Cognitive skills are the result of exposure to...</td>\n",
              "    </tr>\n",
              "    <tr>\n",
              "      <th>8</th>\n",
              "      <td>Behavioral Skills</td>\n",
              "      <td>Early behavioral skills provide a critical fou...</td>\n",
              "    </tr>\n",
              "    <tr>\n",
              "      <th>9</th>\n",
              "      <td>Social Competence</td>\n",
              "      <td>Social competence may be the most broadly defi...</td>\n",
              "    </tr>\n",
              "    <tr>\n",
              "      <th>10</th>\n",
              "      <td>Approaches to Learning</td>\n",
              "      <td>Another foundational skill connecting children...</td>\n",
              "    </tr>\n",
              "    <tr>\n",
              "      <th>11</th>\n",
              "      <td>Externalizing Behaviors</td>\n",
              "      <td>Externalizing behavior is a problem behavior t...</td>\n",
              "    </tr>\n",
              "    <tr>\n",
              "      <th>12</th>\n",
              "      <td>Multidimensional School Readiness</td>\n",
              "      <td>While research documents the importance of bot...</td>\n",
              "    </tr>\n",
              "    <tr>\n",
              "      <th>14</th>\n",
              "      <td>Ecological-Cumulative Disadvantage Framework</td>\n",
              "      <td>The complexity of the multidimensional context...</td>\n",
              "    </tr>\n",
              "    <tr>\n",
              "      <th>15</th>\n",
              "      <td>Early Risks and School Readiness</td>\n",
              "      <td>From an ecological-cumulative disadvantage per...</td>\n",
              "    </tr>\n",
              "    <tr>\n",
              "      <th>16</th>\n",
              "      <td>Child-Level Risk Factors</td>\n",
              "      <td>Proximal contexts have an important role in en...</td>\n",
              "    </tr>\n",
              "    <tr>\n",
              "      <th>17</th>\n",
              "      <td>Family-Level Risk Factors</td>\n",
              "      <td>For young children, one of the most influentia...</td>\n",
              "    </tr>\n",
              "    <tr>\n",
              "      <th>18</th>\n",
              "      <td>Cumulative Risk</td>\n",
              "      <td>Some existing studies in the educational liter...</td>\n",
              "    </tr>\n",
              "    <tr>\n",
              "      <th>19</th>\n",
              "      <td>American Indians and Alaska Native Children an...</td>\n",
              "      <td>Because of historical policies that restricted...</td>\n",
              "    </tr>\n",
              "    <tr>\n",
              "      <th>20</th>\n",
              "      <td>The Present Investigation</td>\n",
              "      <td>To best explore how the ongoing exposure to in...</td>\n",
              "    </tr>\n",
              "    <tr>\n",
              "      <th>21</th>\n",
              "      <td>Dataset Design</td>\n",
              "      <td>The ECLS-B sample was selected by using a clus...</td>\n",
              "    </tr>\n",
              "    <tr>\n",
              "      <th>22</th>\n",
              "      <td>Participants</td>\n",
              "      <td>The present study includes pooled data from 85...</td>\n",
              "    </tr>\n",
              "    <tr>\n",
              "      <th>23</th>\n",
              "      <td>Analytic Sample</td>\n",
              "      <td>The analytic sample started with all children ...</td>\n",
              "    </tr>\n",
              "    <tr>\n",
              "      <th>24</th>\n",
              "      <td>Missing Data</td>\n",
              "      <td>The majority of key study variables had indivi...</td>\n",
              "    </tr>\n",
              "    <tr>\n",
              "      <th>25</th>\n",
              "      <td>Parent-Reported Behavioral Skills</td>\n",
              "      <td>Children's social competence, approaches to le...</td>\n",
              "    </tr>\n",
              "    <tr>\n",
              "      <th>26</th>\n",
              "      <td>Individual risks</td>\n",
              "      <td>Multiple child and family risk indicators were...</td>\n",
              "    </tr>\n",
              "    <tr>\n",
              "      <th>27</th>\n",
              "      <td>Cumulative risk</td>\n",
              "      <td>All 7 individual risks were summed to create a...</td>\n",
              "    </tr>\n",
              "    <tr>\n",
              "      <th>28</th>\n",
              "      <td>Covariates</td>\n",
              "      <td>Several influential child characteristics were...</td>\n",
              "    </tr>\n",
              "    <tr>\n",
              "      <th>29</th>\n",
              "      <td>Analytic Method</td>\n",
              "      <td>Stata version 15.0 (2017) was used to compute ...</td>\n",
              "    </tr>\n",
              "    <tr>\n",
              "      <th>31</th>\n",
              "      <td>Aim 2</td>\n",
              "      <td>The model includes 3 covariates, which are est...</td>\n",
              "    </tr>\n",
              "    <tr>\n",
              "      <th>32</th>\n",
              "      <td>Aim 3</td>\n",
              "      <td>The model includes 3 covariates, which are est...</td>\n",
              "    </tr>\n",
              "    <tr>\n",
              "      <th>33</th>\n",
              "      <td>Child characteristics and outcomes</td>\n",
              "      <td>Findings from the individual and cumulative ri...</td>\n",
              "    </tr>\n",
              "    <tr>\n",
              "      <th>34</th>\n",
              "      <td>Individual risk experiences and kindergarten a...</td>\n",
              "      <td>Generally, the individual risk models were use...</td>\n",
              "    </tr>\n",
              "    <tr>\n",
              "      <th>35</th>\n",
              "      <td>Poverty as a moderator and kindergarten behavi...</td>\n",
              "      <td>Given prior research and theory, poverty was s...</td>\n",
              "    </tr>\n",
              "    <tr>\n",
              "      <th>36</th>\n",
              "      <td>Cumulative risk experiences and kindergarten a...</td>\n",
              "      <td>Kindergarten reading, mathematics, social comp...</td>\n",
              "    </tr>\n",
              "    <tr>\n",
              "      <th>37</th>\n",
              "      <td>CHAPTER 5. DISCUSSION</td>\n",
              "      <td>The present investigation applied an ecologica...</td>\n",
              "    </tr>\n",
              "    <tr>\n",
              "      <th>38</th>\n",
              "      <td>Poverty and Kindergarten Academic Outcomes</td>\n",
              "      <td>One noteworthy finding in this study is that e...</td>\n",
              "    </tr>\n",
              "    <tr>\n",
              "      <th>39</th>\n",
              "      <td>Amount of Risks and Kindergarten Academic Outc...</td>\n",
              "      <td>Findings on the relationship between cumulativ...</td>\n",
              "    </tr>\n",
              "    <tr>\n",
              "      <th>40</th>\n",
              "      <td>Risk Patterns and Kindergarten Behavioral Outc...</td>\n",
              "      <td>Another salient finding in this study was that...</td>\n",
              "    </tr>\n",
              "    <tr>\n",
              "      <th>41</th>\n",
              "      <td>Future Research</td>\n",
              "      <td>Findings point to meaningful avenues for futur...</td>\n",
              "    </tr>\n",
              "    <tr>\n",
              "      <th>42</th>\n",
              "      <td>Need for Culturally-informed protective factors</td>\n",
              "      <td>What is currently established in the literatur...</td>\n",
              "    </tr>\n",
              "    <tr>\n",
              "      <th>43</th>\n",
              "      <td>Need for developing and evaluating behavioral ...</td>\n",
              "      <td>Among AIAN children, it is possible that the p...</td>\n",
              "    </tr>\n",
              "    <tr>\n",
              "      <th>44</th>\n",
              "      <td>Need for targeting the most vulnerable AIAN ch...</td>\n",
              "      <td>While results in the present study are derived...</td>\n",
              "    </tr>\n",
              "    <tr>\n",
              "      <th>45</th>\n",
              "      <td>Strengthening behavioral competence</td>\n",
              "      <td>Targeted, high-quality early child care progra...</td>\n",
              "    </tr>\n",
              "    <tr>\n",
              "      <th>46</th>\n",
              "      <td>Conclusion</td>\n",
              "      <td>Results support three principal conclusions fo...</td>\n",
              "    </tr>\n",
              "    <tr>\n",
              "      <th>47</th>\n",
              "      <td>Figure 1. Low maternal education and social co...</td>\n",
              "      <td>Interaction between low maternal education and...</td>\n",
              "    </tr>\n",
              "  </tbody>\n",
              "</table>\n",
              "</div>"
            ],
            "text/plain": [
              "                                        section_title                                               text\n",
              "0                                                      Future Research .................................\n",
              "2                                                Page  Significant moderation effects were found for ...\n",
              "3                             CHAPTER 1. INTRODUCTION  American Indian and Alaska Native (AIAN) child...\n",
              "4                        CHAPTER 2. LITERATURE REVIEW  Children that have not mastered critical acade...\n",
              "5                                 Pre-Academic Skills  Researchers consistently point to the importan...\n",
              "6                                Early Reading Skills  Language development is the process by which c...\n",
              "7                                   Early Math Skills  Cognitive skills are the result of exposure to...\n",
              "8                                   Behavioral Skills  Early behavioral skills provide a critical fou...\n",
              "9                                   Social Competence  Social competence may be the most broadly defi...\n",
              "10                             Approaches to Learning  Another foundational skill connecting children...\n",
              "11                            Externalizing Behaviors  Externalizing behavior is a problem behavior t...\n",
              "12                  Multidimensional School Readiness  While research documents the importance of bot...\n",
              "14       Ecological-Cumulative Disadvantage Framework  The complexity of the multidimensional context...\n",
              "15                   Early Risks and School Readiness  From an ecological-cumulative disadvantage per...\n",
              "16                           Child-Level Risk Factors  Proximal contexts have an important role in en...\n",
              "17                          Family-Level Risk Factors  For young children, one of the most influentia...\n",
              "18                                    Cumulative Risk  Some existing studies in the educational liter...\n",
              "19  American Indians and Alaska Native Children an...  Because of historical policies that restricted...\n",
              "20                          The Present Investigation  To best explore how the ongoing exposure to in...\n",
              "21                                     Dataset Design  The ECLS-B sample was selected by using a clus...\n",
              "22                                       Participants  The present study includes pooled data from 85...\n",
              "23                                    Analytic Sample  The analytic sample started with all children ...\n",
              "24                                       Missing Data  The majority of key study variables had indivi...\n",
              "25                  Parent-Reported Behavioral Skills  Children's social competence, approaches to le...\n",
              "26                                   Individual risks  Multiple child and family risk indicators were...\n",
              "27                                    Cumulative risk  All 7 individual risks were summed to create a...\n",
              "28                                         Covariates  Several influential child characteristics were...\n",
              "29                                    Analytic Method  Stata version 15.0 (2017) was used to compute ...\n",
              "31                                              Aim 2  The model includes 3 covariates, which are est...\n",
              "32                                              Aim 3  The model includes 3 covariates, which are est...\n",
              "33                 Child characteristics and outcomes  Findings from the individual and cumulative ri...\n",
              "34  Individual risk experiences and kindergarten a...  Generally, the individual risk models were use...\n",
              "35  Poverty as a moderator and kindergarten behavi...  Given prior research and theory, poverty was s...\n",
              "36  Cumulative risk experiences and kindergarten a...  Kindergarten reading, mathematics, social comp...\n",
              "37                              CHAPTER 5. DISCUSSION  The present investigation applied an ecologica...\n",
              "38         Poverty and Kindergarten Academic Outcomes  One noteworthy finding in this study is that e...\n",
              "39  Amount of Risks and Kindergarten Academic Outc...  Findings on the relationship between cumulativ...\n",
              "40  Risk Patterns and Kindergarten Behavioral Outc...  Another salient finding in this study was that...\n",
              "41                                    Future Research  Findings point to meaningful avenues for futur...\n",
              "42    Need for Culturally-informed protective factors  What is currently established in the literatur...\n",
              "43  Need for developing and evaluating behavioral ...  Among AIAN children, it is possible that the p...\n",
              "44  Need for targeting the most vulnerable AIAN ch...  While results in the present study are derived...\n",
              "45                Strengthening behavioral competence  Targeted, high-quality early child care progra...\n",
              "46                                         Conclusion  Results support three principal conclusions fo...\n",
              "47  Figure 1. Low maternal education and social co...  Interaction between low maternal education and..."
            ]
          },
          "metadata": {
            "tags": []
          },
          "execution_count": 81
        }
      ]
    },
    {
      "cell_type": "code",
      "metadata": {
        "colab": {
          "base_uri": "https://localhost:8080/"
        },
        "id": "Zq3OcxGjNHBV",
        "outputId": "a23c667e-9e7e-44ee-bfdc-214d1f314884"
      },
      "source": [
        "'Future Research .................................'.split()"
      ],
      "execution_count": 82,
      "outputs": [
        {
          "output_type": "execute_result",
          "data": {
            "text/plain": [
              "['Future', 'Research', '.................................']"
            ]
          },
          "metadata": {
            "tags": []
          },
          "execution_count": 82
        }
      ]
    },
    {
      "cell_type": "code",
      "metadata": {
        "colab": {
          "base_uri": "https://localhost:8080/"
        },
        "id": "1TN6pkWTNHFE",
        "outputId": "b0203acf-c9a8-4078-9a8c-8f6b7101a08a"
      },
      "source": [
        "df['min'].value_counts().sort_values(ascending=False).head(30)"
      ],
      "execution_count": 99,
      "outputs": [
        {
          "output_type": "execute_result",
          "data": {
            "text/plain": [
              "0.0     9052\n",
              "15.0      79\n",
              "26.0      77\n",
              "2.0       74\n",
              "1.0       70\n",
              "11.0      68\n",
              "7.0       68\n",
              "10.0      67\n",
              "9.0       65\n",
              "13.0      62\n",
              "12.0      61\n",
              "16.0      57\n",
              "14.0      54\n",
              "3.0       54\n",
              "17.0      50\n",
              "8.0       50\n",
              "6.0       48\n",
              "21.0      48\n",
              "5.0       47\n",
              "19.0      47\n",
              "42.0      47\n",
              "40.0      46\n",
              "18.0      46\n",
              "20.0      44\n",
              "35.0      43\n",
              "32.0      42\n",
              "36.0      42\n",
              "28.0      41\n",
              "4.0       41\n",
              "22.0      41\n",
              "Name: min, dtype: int64"
            ]
          },
          "metadata": {
            "tags": []
          },
          "execution_count": 99
        }
      ]
    },
    {
      "cell_type": "code",
      "metadata": {
        "colab": {
          "base_uri": "https://localhost:8080/"
        },
        "id": "l8wulhEUNHHk",
        "outputId": "08ef745c-387b-4bd9-b51d-4cb8adbed86e"
      },
      "source": [
        "df.iloc[7215]"
      ],
      "execution_count": 87,
      "outputs": [
        {
          "output_type": "execute_result",
          "data": {
            "text/plain": [
              "id         755506a3-1516-4c8b-8fc0-ca10027aed61\n",
              "min                                           1\n",
              "mean                                        379\n",
              "max                                        1231\n",
              "len_txt                                   11749\n",
              "Name: 7215, dtype: object"
            ]
          },
          "metadata": {
            "tags": []
          },
          "execution_count": 87
        }
      ]
    },
    {
      "cell_type": "code",
      "metadata": {
        "colab": {
          "base_uri": "https://localhost:8080/",
          "height": 1000
        },
        "id": "Ib0QD6uDN-Yl",
        "outputId": "a850cc17-1ce4-41b1-9114-fe9c8446d9d5"
      },
      "source": [
        "f = '755506a3-1516-4c8b-8fc0-ca10027aed61.json'\n",
        "df3 = pd.read_json(Path(PATH) /'train' / f)\n",
        "df3"
      ],
      "execution_count": 88,
      "outputs": [
        {
          "output_type": "execute_result",
          "data": {
            "text/html": [
              "<div>\n",
              "<style scoped>\n",
              "    .dataframe tbody tr th:only-of-type {\n",
              "        vertical-align: middle;\n",
              "    }\n",
              "\n",
              "    .dataframe tbody tr th {\n",
              "        vertical-align: top;\n",
              "    }\n",
              "\n",
              "    .dataframe thead th {\n",
              "        text-align: right;\n",
              "    }\n",
              "</style>\n",
              "<table border=\"1\" class=\"dataframe\">\n",
              "  <thead>\n",
              "    <tr style=\"text-align: right;\">\n",
              "      <th></th>\n",
              "      <th>section_title</th>\n",
              "      <th>text</th>\n",
              "    </tr>\n",
              "  </thead>\n",
              "  <tbody>\n",
              "    <tr>\n",
              "      <th>0</th>\n",
              "      <td></td>\n",
              "      <td>There are a number of threats to coastal areas...</td>\n",
              "    </tr>\n",
              "    <tr>\n",
              "      <th>1</th>\n",
              "      <td>EPA Coastal Wetland Regional Reviews</td>\n",
              "      <td>EPA conducted these CWRs to identify and bette...</td>\n",
              "    </tr>\n",
              "    <tr>\n",
              "      <th>2</th>\n",
              "      <td>Conduct a review of current, readily available...</td>\n",
              "      <td>For the selected review area, the Coastal Wetl...</td>\n",
              "    </tr>\n",
              "    <tr>\n",
              "      <th>3</th>\n",
              "      <td>Conduct stakeholder discussions.</td>\n",
              "      <td>EPA sought an entity to serve as the \"host\" of...</td>\n",
              "    </tr>\n",
              "    <tr>\n",
              "      <th>4</th>\n",
              "      <td>Assemble a coastal wetland regional review sum...</td>\n",
              "      <td>Once the notes from the stakeholder discussion...</td>\n",
              "    </tr>\n",
              "    <tr>\n",
              "      <th>5</th>\n",
              "      <td>4</td>\n",
              "      <td>Questions posed during stakeholder discussions...</td>\n",
              "    </tr>\n",
              "    <tr>\n",
              "      <th>6</th>\n",
              "      <td>2.</td>\n",
              "      <td>3.</td>\n",
              "    </tr>\n",
              "    <tr>\n",
              "      <th>7</th>\n",
              "      <td>4.</td>\n",
              "      <td>What are the root causes of coastal wetland lo...</td>\n",
              "    </tr>\n",
              "    <tr>\n",
              "      <th>8</th>\n",
              "      <td>Mid-Atlantic Review</td>\n",
              "      <td>The Mid-Atlantic region hosts a wide variety o...</td>\n",
              "    </tr>\n",
              "    <tr>\n",
              "      <th>9</th>\n",
              "      <td>Mid-Atlantic Coastal Wetland Stressors</td>\n",
              "      <td>Historically, coastal wetlands in the Mid-Atla...</td>\n",
              "    </tr>\n",
              "    <tr>\n",
              "      <th>10</th>\n",
              "      <td>Mid-Atlantic Tools and Strategies</td>\n",
              "      <td>In the Mid-Atlantic, multi-faceted programs us...</td>\n",
              "    </tr>\n",
              "    <tr>\n",
              "      <th>11</th>\n",
              "      <td>Mid-Atlantic Gaps and Needs</td>\n",
              "      <td>In addition to identifying tools and strategie...</td>\n",
              "    </tr>\n",
              "    <tr>\n",
              "      <th>12</th>\n",
              "      <td>Focal Watershed Review: Delaware Estuary Water...</td>\n",
              "      <td>The Delaware Estuary watershed (HUCs 02040201,...</td>\n",
              "    </tr>\n",
              "    <tr>\n",
              "      <th>13</th>\n",
              "      <td>Stressors</td>\n",
              "      <td>The following major coastal wetland stressors ...</td>\n",
              "    </tr>\n",
              "    <tr>\n",
              "      <th>14</th>\n",
              "      <td>Cumulative impacts through incremental filling.</td>\n",
              "      <td>Cumulative impacts are caused by a combination...</td>\n",
              "    </tr>\n",
              "    <tr>\n",
              "      <th>15</th>\n",
              "      <td>• • •</td>\n",
              "      <td>Climate change and sea level rise. Climate cha...</td>\n",
              "    </tr>\n",
              "    <tr>\n",
              "      <th>16</th>\n",
              "      <td>Tools and Strategies</td>\n",
              "      <td>There are currently a number of effective tool...</td>\n",
              "    </tr>\n",
              "    <tr>\n",
              "      <th>17</th>\n",
              "      <td>What's Needed? What's Missing?</td>\n",
              "      <td>Despite the above array of tools and strategie...</td>\n",
              "    </tr>\n",
              "    <tr>\n",
              "      <th>18</th>\n",
              "      <td>Developed 12%</td>\n",
              "      <td>.</td>\n",
              "    </tr>\n",
              "    <tr>\n",
              "      <th>19</th>\n",
              "      <td>Agriculture 60%</td>\n",
              "      <td>Open Water 24%</td>\n",
              "    </tr>\n",
              "    <tr>\n",
              "      <th>20</th>\n",
              "      <td>Bare Land 4%</td>\n",
              "      <td>VMRC oversight (most wetland boards adopt the ...</td>\n",
              "    </tr>\n",
              "    <tr>\n",
              "      <th>21</th>\n",
              "      <td>• Regulatory exemptions. Examples include:</td>\n",
              "      <td>» Similar to CWA Section 404, Virginia wetland...</td>\n",
              "    </tr>\n",
              "    <tr>\n",
              "      <th>22</th>\n",
              "      <td>Tool Highlight: living Shorelines</td>\n",
              "      <td>Among the many tools and strategies available ...</td>\n",
              "    </tr>\n",
              "    <tr>\n",
              "      <th>23</th>\n",
              "      <td>Tool Highlight: Non-Tidal Wetlands Condition A...</td>\n",
              "      <td>This online tool was developed to help VA DEQ ...</td>\n",
              "    </tr>\n",
              "    <tr>\n",
              "      <th>24</th>\n",
              "      <td>Tool Highlight: Tidal Wetlands Inventory and A...</td>\n",
              "      <td>The \"Development of a Tidal Wetlands Inventory...</td>\n",
              "    </tr>\n",
              "    <tr>\n",
              "      <th>25</th>\n",
              "      <td>Conclusion</td>\n",
              "      <td>The Mid-Atlantic coastal wetland review is the...</td>\n",
              "    </tr>\n",
              "    <tr>\n",
              "      <th>26</th>\n",
              "      <td>Acknowledgments</td>\n",
              "      <td>Many people contributed to this effort. We wou...</td>\n",
              "    </tr>\n",
              "    <tr>\n",
              "      <th>27</th>\n",
              "      <td>Nancy Laurson</td>\n",
              "      <td>Laurson.Nancy@epa.gov</td>\n",
              "    </tr>\n",
              "    <tr>\n",
              "      <th>28</th>\n",
              "      <td>DISCLAIMER:</td>\n",
              "      <td>The work reported in this document was funded ...</td>\n",
              "    </tr>\n",
              "    <tr>\n",
              "      <th>29</th>\n",
              "      <td>C-CAP Wetland Classifications</td>\n",
              "      <td>Wetlands are areas dominated by saturated soil...</td>\n",
              "    </tr>\n",
              "    <tr>\n",
              "      <th>30</th>\n",
              "      <td>Estuarine aquatic bed:</td>\n",
              "      <td>Includes tidal wetlands and deepwater habitats...</td>\n",
              "    </tr>\n",
              "  </tbody>\n",
              "</table>\n",
              "</div>"
            ],
            "text/plain": [
              "                                        section_title                                               text\n",
              "0                                                      There are a number of threats to coastal areas...\n",
              "1                EPA Coastal Wetland Regional Reviews  EPA conducted these CWRs to identify and bette...\n",
              "2   Conduct a review of current, readily available...  For the selected review area, the Coastal Wetl...\n",
              "3                    Conduct stakeholder discussions.  EPA sought an entity to serve as the \"host\" of...\n",
              "4   Assemble a coastal wetland regional review sum...  Once the notes from the stakeholder discussion...\n",
              "5                                                   4  Questions posed during stakeholder discussions...\n",
              "6                                                  2.                                                 3.\n",
              "7                                                  4.  What are the root causes of coastal wetland lo...\n",
              "8                                 Mid-Atlantic Review  The Mid-Atlantic region hosts a wide variety o...\n",
              "9              Mid-Atlantic Coastal Wetland Stressors  Historically, coastal wetlands in the Mid-Atla...\n",
              "10                  Mid-Atlantic Tools and Strategies  In the Mid-Atlantic, multi-faceted programs us...\n",
              "11                        Mid-Atlantic Gaps and Needs  In addition to identifying tools and strategie...\n",
              "12  Focal Watershed Review: Delaware Estuary Water...  The Delaware Estuary watershed (HUCs 02040201,...\n",
              "13                                          Stressors  The following major coastal wetland stressors ...\n",
              "14    Cumulative impacts through incremental filling.  Cumulative impacts are caused by a combination...\n",
              "15                                              • • •  Climate change and sea level rise. Climate cha...\n",
              "16                               Tools and Strategies  There are currently a number of effective tool...\n",
              "17                     What's Needed? What's Missing?  Despite the above array of tools and strategie...\n",
              "18                                      Developed 12%                                                  .\n",
              "19                                    Agriculture 60%                                     Open Water 24%\n",
              "20                                       Bare Land 4%  VMRC oversight (most wetland boards adopt the ...\n",
              "21         • Regulatory exemptions. Examples include:  » Similar to CWA Section 404, Virginia wetland...\n",
              "22                  Tool Highlight: living Shorelines  Among the many tools and strategies available ...\n",
              "23  Tool Highlight: Non-Tidal Wetlands Condition A...  This online tool was developed to help VA DEQ ...\n",
              "24  Tool Highlight: Tidal Wetlands Inventory and A...  The \"Development of a Tidal Wetlands Inventory...\n",
              "25                                         Conclusion  The Mid-Atlantic coastal wetland review is the...\n",
              "26                                    Acknowledgments  Many people contributed to this effort. We wou...\n",
              "27                                      Nancy Laurson                              Laurson.Nancy@epa.gov\n",
              "28                                        DISCLAIMER:  The work reported in this document was funded ...\n",
              "29                      C-CAP Wetland Classifications  Wetlands are areas dominated by saturated soil...\n",
              "30                             Estuarine aquatic bed:  Includes tidal wetlands and deepwater habitats..."
            ]
          },
          "metadata": {
            "tags": []
          },
          "execution_count": 88
        }
      ]
    },
    {
      "cell_type": "code",
      "metadata": {
        "colab": {
          "base_uri": "https://localhost:8080/",
          "height": 297
        },
        "id": "GIujaP5SN-V-",
        "outputId": "3df9b6c8-4439-4603-cac6-ab2f2b0bea09"
      },
      "source": [
        "f = '9e7a78df-4757-40d8-b347-fe6578f0e4ad.json'\n",
        "df4 = pd.read_json(Path(PATH) /'train' / f)\n",
        "df4"
      ],
      "execution_count": 105,
      "outputs": [
        {
          "output_type": "execute_result",
          "data": {
            "text/html": [
              "<div>\n",
              "<style scoped>\n",
              "    .dataframe tbody tr th:only-of-type {\n",
              "        vertical-align: middle;\n",
              "    }\n",
              "\n",
              "    .dataframe tbody tr th {\n",
              "        vertical-align: top;\n",
              "    }\n",
              "\n",
              "    .dataframe thead th {\n",
              "        text-align: right;\n",
              "    }\n",
              "</style>\n",
              "<table border=\"1\" class=\"dataframe\">\n",
              "  <thead>\n",
              "    <tr style=\"text-align: right;\">\n",
              "      <th></th>\n",
              "      <th>section_title</th>\n",
              "      <th>text</th>\n",
              "    </tr>\n",
              "  </thead>\n",
              "  <tbody>\n",
              "    <tr>\n",
              "      <th>0</th>\n",
              "      <td></td>\n",
              "      <td>a1111111111 a1111111111 a1111111111 a111111111...</td>\n",
              "    </tr>\n",
              "    <tr>\n",
              "      <th>1</th>\n",
              "      <td>Introduction</td>\n",
              "      <td>Coronavirus disease , caused by severe acute r...</td>\n",
              "    </tr>\n",
              "    <tr>\n",
              "      <th>2</th>\n",
              "      <td>Ethics statement</td>\n",
              "      <td>This study was approved by the University Mala...</td>\n",
              "    </tr>\n",
              "    <tr>\n",
              "      <th>3</th>\n",
              "      <td>Clinical sample collection</td>\n",
              "      <td>Patients admitted to UMMC with suspected COVID...</td>\n",
              "    </tr>\n",
              "    <tr>\n",
              "      <th>4</th>\n",
              "      <td>Whole genome sequencing analysis</td>\n",
              "      <td>Viral RNA was extracted from 58 positive clini...</td>\n",
              "    </tr>\n",
              "    <tr>\n",
              "      <th>5</th>\n",
              "      <td>Bioinformatic analysis</td>\n",
              "      <td>The sequenced reads were analysed using Geneio...</td>\n",
              "    </tr>\n",
              "    <tr>\n",
              "      <th>6</th>\n",
              "      <td>Results</td>\n",
              "      <td>Fifty-eight whole genome sequences with &gt;99% r...</td>\n",
              "    </tr>\n",
              "    <tr>\n",
              "      <th>7</th>\n",
              "      <td>Discussion</td>\n",
              "      <td>In Malaysia, the Tablighi Jamaat mass gatherin...</td>\n",
              "    </tr>\n",
              "  </tbody>\n",
              "</table>\n",
              "</div>"
            ],
            "text/plain": [
              "                      section_title                                               text\n",
              "0                                    a1111111111 a1111111111 a1111111111 a111111111...\n",
              "1                      Introduction  Coronavirus disease , caused by severe acute r...\n",
              "2                  Ethics statement  This study was approved by the University Mala...\n",
              "3        Clinical sample collection  Patients admitted to UMMC with suspected COVID...\n",
              "4  Whole genome sequencing analysis  Viral RNA was extracted from 58 positive clini...\n",
              "5            Bioinformatic analysis  The sequenced reads were analysed using Geneio...\n",
              "6                           Results  Fifty-eight whole genome sequences with >99% r...\n",
              "7                        Discussion  In Malaysia, the Tablighi Jamaat mass gatherin..."
            ]
          },
          "metadata": {
            "tags": []
          },
          "execution_count": 105
        }
      ]
    },
    {
      "cell_type": "code",
      "metadata": {
        "colab": {
          "base_uri": "https://localhost:8080/"
        },
        "id": "n10xY8NiXJGc",
        "outputId": "77505ead-bdfe-4616-c6a3-97af187f6a93"
      },
      "source": [
        "df4.section_title.values"
      ],
      "execution_count": 107,
      "outputs": [
        {
          "output_type": "execute_result",
          "data": {
            "text/plain": [
              "array(['', 'Introduction', 'Ethics statement',\n",
              "       'Clinical sample collection', 'Whole genome sequencing analysis',\n",
              "       'Bioinformatic analysis', 'Results', 'Discussion'], dtype=object)"
            ]
          },
          "metadata": {
            "tags": []
          },
          "execution_count": 107
        }
      ]
    },
    {
      "cell_type": "code",
      "metadata": {
        "colab": {
          "base_uri": "https://localhost:8080/",
          "height": 266
        },
        "id": "ETUtZOzNN-Tv",
        "outputId": "6ba5ec4c-65cf-4875-8af3-53742d56497b"
      },
      "source": [
        "f = '6bfda128-a0c0-41ba-96a8-ec62731124d9.json'\n",
        "df5 = pd.read_json(Path(PATH) /'train' / f)\n",
        "df5#.iloc[3].values"
      ],
      "execution_count": 122,
      "outputs": [
        {
          "output_type": "execute_result",
          "data": {
            "text/html": [
              "<div>\n",
              "<style scoped>\n",
              "    .dataframe tbody tr th:only-of-type {\n",
              "        vertical-align: middle;\n",
              "    }\n",
              "\n",
              "    .dataframe tbody tr th {\n",
              "        vertical-align: top;\n",
              "    }\n",
              "\n",
              "    .dataframe thead th {\n",
              "        text-align: right;\n",
              "    }\n",
              "</style>\n",
              "<table border=\"1\" class=\"dataframe\">\n",
              "  <thead>\n",
              "    <tr style=\"text-align: right;\">\n",
              "      <th></th>\n",
              "      <th>section_title</th>\n",
              "      <th>text</th>\n",
              "    </tr>\n",
              "  </thead>\n",
              "  <tbody>\n",
              "    <tr>\n",
              "      <th>0</th>\n",
              "      <td>Careers of Korean Ph.Ds with Degrees of Foreign</td>\n",
              "      <td>Countries and the HRD Policy of the Highly Ski...</td>\n",
              "    </tr>\n",
              "    <tr>\n",
              "      <th>1</th>\n",
              "      <td>Overview</td>\n",
              "      <td>Due to the development of information and comm...</td>\n",
              "    </tr>\n",
              "    <tr>\n",
              "      <th>2</th>\n",
              "      <td>Main Results of the Research</td>\n",
              "      <td>A. The overall number of foreign doctoral hold...</td>\n",
              "    </tr>\n",
              "    <tr>\n",
              "      <th>3</th>\n",
              "      <td>C. Career activities after obtaining a doctora...</td>\n",
              "      <td>At the time of receiving a doctorate degree, h...</td>\n",
              "    </tr>\n",
              "    <tr>\n",
              "      <th>4</th>\n",
              "      <td>Policy Implications for Utilizing High Quality...</td>\n",
              "      <td>Who Earned a Doctorate Degree Abroad</td>\n",
              "    </tr>\n",
              "    <tr>\n",
              "      <th>5</th>\n",
              "      <td>A. Basic directions</td>\n",
              "      <td>The policies should be made with a basic under...</td>\n",
              "    </tr>\n",
              "    <tr>\n",
              "      <th>6</th>\n",
              "      <td>B. Policy recommendations for the utilization ...</td>\n",
              "      <td>1) Strategies to attract more doctoral recipie...</td>\n",
              "    </tr>\n",
              "  </tbody>\n",
              "</table>\n",
              "</div>"
            ],
            "text/plain": [
              "                                       section_title                                               text\n",
              "0    Careers of Korean Ph.Ds with Degrees of Foreign  Countries and the HRD Policy of the Highly Ski...\n",
              "1                                           Overview  Due to the development of information and comm...\n",
              "2                       Main Results of the Research  A. The overall number of foreign doctoral hold...\n",
              "3  C. Career activities after obtaining a doctora...  At the time of receiving a doctorate degree, h...\n",
              "4  Policy Implications for Utilizing High Quality...               Who Earned a Doctorate Degree Abroad\n",
              "5                                A. Basic directions  The policies should be made with a basic under...\n",
              "6  B. Policy recommendations for the utilization ...  1) Strategies to attract more doctoral recipie..."
            ]
          },
          "metadata": {
            "tags": []
          },
          "execution_count": 122
        }
      ]
    },
    {
      "cell_type": "code",
      "metadata": {
        "colab": {
          "base_uri": "https://localhost:8080/",
          "height": 1000
        },
        "id": "9k_ECnviN-RB",
        "outputId": "3e1ecbe2-391b-4657-d6f7-077087dfe198"
      },
      "source": [
        "f = 'c6e74b14-6da5-43bf-9723-dcce7c2124ff.json'\n",
        "df6 = pd.read_json(Path(PATH) /'train' / f)\n",
        "df6"
      ],
      "execution_count": 140,
      "outputs": [
        {
          "output_type": "execute_result",
          "data": {
            "text/html": [
              "<div>\n",
              "<style scoped>\n",
              "    .dataframe tbody tr th:only-of-type {\n",
              "        vertical-align: middle;\n",
              "    }\n",
              "\n",
              "    .dataframe tbody tr th {\n",
              "        vertical-align: top;\n",
              "    }\n",
              "\n",
              "    .dataframe thead th {\n",
              "        text-align: right;\n",
              "    }\n",
              "</style>\n",
              "<table border=\"1\" class=\"dataframe\">\n",
              "  <thead>\n",
              "    <tr style=\"text-align: right;\">\n",
              "      <th></th>\n",
              "      <th>section_title</th>\n",
              "      <th>text</th>\n",
              "    </tr>\n",
              "  </thead>\n",
              "  <tbody>\n",
              "    <tr>\n",
              "      <th>0</th>\n",
              "      <td></td>\n",
              "      <td>Female doctorate recipients by broad field, 19...</td>\n",
              "    </tr>\n",
              "    <tr>\n",
              "      <th>1</th>\n",
              "      <td>Figure 12</td>\n",
              "      <td>Doctorates earned by minority U.S. citizens by...</td>\n",
              "    </tr>\n",
              "    <tr>\n",
              "      <th>2</th>\n",
              "      <td>Figure 13</td>\n",
              "      <td>Median number of years to doctorate from bacca...</td>\n",
              "    </tr>\n",
              "    <tr>\n",
              "      <th>3</th>\n",
              "      <td>Figure 14</td>\n",
              "      <td>Age distribution at doctorate by broad field o...</td>\n",
              "    </tr>\n",
              "    <tr>\n",
              "      <th>4</th>\n",
              "      <td>Figure 15</td>\n",
              "      <td>Primary sources of financial support for docto...</td>\n",
              "    </tr>\n",
              "    <tr>\n",
              "      <th>5</th>\n",
              "      <td>LIST OF TABLES</td>\n",
              "      <td>Page Table 1 Doctorates awarded by U.S. colleg...</td>\n",
              "    </tr>\n",
              "    <tr>\n",
              "      <th>6</th>\n",
              "      <td>Trends in Doctorate Recipients</td>\n",
              "      <td>Overall Numbers and Rates of. Growth</td>\n",
              "    </tr>\n",
              "    <tr>\n",
              "      <th>7</th>\n",
              "      <td>77.77-FT\"</td>\n",
              "      <td>During the 1998 academic year (July 1, 1997, t...</td>\n",
              "    </tr>\n",
              "    <tr>\n",
              "      <th>8</th>\n",
              "      <td>Doctorates by Broad Field</td>\n",
              "      <td>The SED classifies research doctoral degrees i...</td>\n",
              "    </tr>\n",
              "    <tr>\n",
              "      <th>9</th>\n",
              "      <td>Doctorates by Sex</td>\n",
              "      <td>The aggregate percentage increase in doctorate...</td>\n",
              "    </tr>\n",
              "    <tr>\n",
              "      <th>10</th>\n",
              "      <td>Doctorates by Citizenship</td>\n",
              "      <td>Approximately one-fifth of all doctorates gran...</td>\n",
              "    </tr>\n",
              "    <tr>\n",
              "      <th>11</th>\n",
              "      <td>26</td>\n",
              "      <td>Stated another way, while the number of U.S. c...</td>\n",
              "    </tr>\n",
              "    <tr>\n",
              "      <th>12</th>\n",
              "      <td>Doctorates by Parental Education Background</td>\n",
              "      <td>In addition to the distribution of doctorate r...</td>\n",
              "    </tr>\n",
              "    <tr>\n",
              "      <th>13</th>\n",
              "      <td>Time to Degree</td>\n",
              "      <td>The median 1998 doctorate recipient graduated ...</td>\n",
              "    </tr>\n",
              "    <tr>\n",
              "      <th>14</th>\n",
              "      <td>20</td>\n",
              "      <td>For 1998 doctoral recipients, the median numbe...</td>\n",
              "    </tr>\n",
              "    <tr>\n",
              "      <th>15</th>\n",
              "      <td>[Financial Resources in Support of Doctoral Re...</td>\n",
              "      <td>Nearly one-third (32.2 percent) of 1998 doctor...</td>\n",
              "    </tr>\n",
              "    <tr>\n",
              "      <th>16</th>\n",
              "      <td>23</td>\n",
              "      <td>complete their studies in this country. Becaus...</td>\n",
              "    </tr>\n",
              "    <tr>\n",
              "      <th>17</th>\n",
              "      <td>Postgraduate Plans, Employment and Location</td>\n",
              "      <td>The SED questionnaire includes a number of que...</td>\n",
              "    </tr>\n",
              "    <tr>\n",
              "      <th>18</th>\n",
              "      <td>Definite versus Indefinite Plans</td>\n",
              "      <td>Over two-thirds (69.6 percent) of all doctorat...</td>\n",
              "    </tr>\n",
              "    <tr>\n",
              "      <th>19</th>\n",
              "      <td>Career Employment versus Postdoctorates</td>\n",
              "      <td>Among the doctorate recipients reporting defin...</td>\n",
              "    </tr>\n",
              "    <tr>\n",
              "      <th>20</th>\n",
              "      <td>Postdoctoral Location of Non-U.S. Citizens</td>\n",
              "      <td>As the number of international students earnin...</td>\n",
              "    </tr>\n",
              "    <tr>\n",
              "      <th>21</th>\n",
              "      <td>Employment Sectors in the United States</td>\n",
              "      <td>The most common employment destination of new ...</td>\n",
              "    </tr>\n",
              "    <tr>\n",
              "      <th>22</th>\n",
              "      <td>Migration</td>\n",
              "      <td>About three in ten (28.9 percent) of the 1998 ...</td>\n",
              "    </tr>\n",
              "    <tr>\n",
              "      <th>23</th>\n",
              "      <td>SPECIAL SECTION: Indebtedness Introduction</td>\n",
              "      <td>Student indebtedness is a topic of great impor...</td>\n",
              "    </tr>\n",
              "    <tr>\n",
              "      <th>24</th>\n",
              "      <td>Recent Historical and Current Debt Levels</td>\n",
              "      <td>In 1998, 43.8 percent of U.S. citizens receivi...</td>\n",
              "    </tr>\n",
              "    <tr>\n",
              "      <th>25</th>\n",
              "      <td>Indebtedness by Race/Ethnicity</td>\n",
              "      <td>Among U.S. racial/ethnic minorities, Asians re...</td>\n",
              "    </tr>\n",
              "    <tr>\n",
              "      <th>26</th>\n",
              "      <td>Indebtedness by Source of Support and Postdoct...</td>\n",
              "      <td>In 1998 the amount of indebtedness varied by t...</td>\n",
              "    </tr>\n",
              "    <tr>\n",
              "      <th>27</th>\n",
              "      <td>40</td>\n",
              "      <td>Indebtedness by Institutional Type Few, if any...</td>\n",
              "    </tr>\n",
              "    <tr>\n",
              "      <th>28</th>\n",
              "      <td>Indebtedness by Citizenship</td>\n",
              "      <td>As shown in table 2-2 and noted above, 43.8 pe...</td>\n",
              "    </tr>\n",
              "    <tr>\n",
              "      <th>29</th>\n",
              "      <td>Undergraduate versus Graduate Indebtedness</td>\n",
              "      <td>Currently the indebtedness question in the sur...</td>\n",
              "    </tr>\n",
              "    <tr>\n",
              "      <th>30</th>\n",
              "      <td>Indebtedness by Demographic Background</td>\n",
              "      <td>Borrowing by U.S.-citizen doctorate recipients...</td>\n",
              "    </tr>\n",
              "    <tr>\n",
              "      <th>31</th>\n",
              "      <td>84</td>\n",
              "      <td>A recipient counts in more than one category i...</td>\n",
              "    </tr>\n",
              "    <tr>\n",
              "      <th>32</th>\n",
              "      <td>a 0 g`v)</td>\n",
              "      <td>3 :3F -?. Includes 20 respondents for whom doc...</td>\n",
              "    </tr>\n",
              "    <tr>\n",
              "      <th>33</th>\n",
              "      <td>I.</td>\n",
              "      <td>1978 ' ''1983 1988 1989 1990 1991 '1992 1993 1...</td>\n",
              "    </tr>\n",
              "    <tr>\n",
              "      <th>34</th>\n",
              "      <td>II. Item Response Rates</td>\n",
              "      <td>The table on the following pages shows the res...</td>\n",
              "    </tr>\n",
              "    <tr>\n",
              "      <th>35</th>\n",
              "      <td>PHDTYPE2a</td>\n",
              "      <td>Applied Research Doctorate the total doctoral ...</td>\n",
              "    </tr>\n",
              "    <tr>\n",
              "      <th>36</th>\n",
              "      <td>114</td>\n",
              "      <td>BEST COPY AVAILABLE category was subdivided in...</td>\n",
              "    </tr>\n",
              "    <tr>\n",
              "      <th>37</th>\n",
              "      <td>IV. Changes to the 1998 SED Marital Status</td>\n",
              "      <td>Beginning in the 1998 SED, response categories...</td>\n",
              "    </tr>\n",
              "    <tr>\n",
              "      <th>38</th>\n",
              "      <td>Source of Funding Variables (Questions All, Al2)</td>\n",
              "      <td>Before the 1998 SED, the source of funding var...</td>\n",
              "    </tr>\n",
              "    <tr>\n",
              "      <th>39</th>\n",
              "      <td>Best wishes,</td>\n",
              "      <td>Jeanne E. Griffith Director, Division of Scien...</td>\n",
              "    </tr>\n",
              "    <tr>\n",
              "      <th>40</th>\n",
              "      <td>INSTRUCTIONS</td>\n",
              "      <td>Thank you for taking the time to complete this...</td>\n",
              "    </tr>\n",
              "    <tr>\n",
              "      <th>41</th>\n",
              "      <td>Name of field</td>\n",
              "      <td>Number of field A3. After receiving your first...</td>\n",
              "    </tr>\n",
              "  </tbody>\n",
              "</table>\n",
              "</div>"
            ],
            "text/plain": [
              "                                        section_title                                               text\n",
              "0                                                      Female doctorate recipients by broad field, 19...\n",
              "1                                           Figure 12  Doctorates earned by minority U.S. citizens by...\n",
              "2                                           Figure 13  Median number of years to doctorate from bacca...\n",
              "3                                           Figure 14  Age distribution at doctorate by broad field o...\n",
              "4                                           Figure 15  Primary sources of financial support for docto...\n",
              "5                                      LIST OF TABLES  Page Table 1 Doctorates awarded by U.S. colleg...\n",
              "6                      Trends in Doctorate Recipients               Overall Numbers and Rates of. Growth\n",
              "7                                           77.77-FT\"  During the 1998 academic year (July 1, 1997, t...\n",
              "8                           Doctorates by Broad Field  The SED classifies research doctoral degrees i...\n",
              "9                                   Doctorates by Sex  The aggregate percentage increase in doctorate...\n",
              "10                          Doctorates by Citizenship  Approximately one-fifth of all doctorates gran...\n",
              "11                                                 26  Stated another way, while the number of U.S. c...\n",
              "12        Doctorates by Parental Education Background  In addition to the distribution of doctorate r...\n",
              "13                                     Time to Degree  The median 1998 doctorate recipient graduated ...\n",
              "14                                                 20  For 1998 doctoral recipients, the median numbe...\n",
              "15  [Financial Resources in Support of Doctoral Re...  Nearly one-third (32.2 percent) of 1998 doctor...\n",
              "16                                                 23  complete their studies in this country. Becaus...\n",
              "17        Postgraduate Plans, Employment and Location  The SED questionnaire includes a number of que...\n",
              "18                   Definite versus Indefinite Plans  Over two-thirds (69.6 percent) of all doctorat...\n",
              "19            Career Employment versus Postdoctorates  Among the doctorate recipients reporting defin...\n",
              "20         Postdoctoral Location of Non-U.S. Citizens  As the number of international students earnin...\n",
              "21            Employment Sectors in the United States  The most common employment destination of new ...\n",
              "22                                          Migration  About three in ten (28.9 percent) of the 1998 ...\n",
              "23         SPECIAL SECTION: Indebtedness Introduction  Student indebtedness is a topic of great impor...\n",
              "24          Recent Historical and Current Debt Levels  In 1998, 43.8 percent of U.S. citizens receivi...\n",
              "25                     Indebtedness by Race/Ethnicity  Among U.S. racial/ethnic minorities, Asians re...\n",
              "26  Indebtedness by Source of Support and Postdoct...  In 1998 the amount of indebtedness varied by t...\n",
              "27                                                 40  Indebtedness by Institutional Type Few, if any...\n",
              "28                        Indebtedness by Citizenship  As shown in table 2-2 and noted above, 43.8 pe...\n",
              "29         Undergraduate versus Graduate Indebtedness  Currently the indebtedness question in the sur...\n",
              "30             Indebtedness by Demographic Background  Borrowing by U.S.-citizen doctorate recipients...\n",
              "31                                                 84  A recipient counts in more than one category i...\n",
              "32                                           a 0 g`v)  3 :3F -?. Includes 20 respondents for whom doc...\n",
              "33                                                 I.  1978 ' ''1983 1988 1989 1990 1991 '1992 1993 1...\n",
              "34                            II. Item Response Rates  The table on the following pages shows the res...\n",
              "35                                          PHDTYPE2a  Applied Research Doctorate the total doctoral ...\n",
              "36                                                114  BEST COPY AVAILABLE category was subdivided in...\n",
              "37         IV. Changes to the 1998 SED Marital Status  Beginning in the 1998 SED, response categories...\n",
              "38   Source of Funding Variables (Questions All, Al2)  Before the 1998 SED, the source of funding var...\n",
              "39                                       Best wishes,  Jeanne E. Griffith Director, Division of Scien...\n",
              "40                                       INSTRUCTIONS  Thank you for taking the time to complete this...\n",
              "41                                      Name of field  Number of field A3. After receiving your first..."
            ]
          },
          "metadata": {
            "tags": []
          },
          "execution_count": 140
        }
      ]
    },
    {
      "cell_type": "code",
      "metadata": {
        "colab": {
          "base_uri": "https://localhost:8080/"
        },
        "id": "zhPuBEzveVZG",
        "outputId": "3b4bd7ea-646a-4fe4-956b-3f83100b4a33"
      },
      "source": [
        "df6.iloc[7].values"
      ],
      "execution_count": 146,
      "outputs": [
        {
          "output_type": "execute_result",
          "data": {
            "text/plain": [
              "array(['77.77-FT\"',\n",
              "       'During the 1998 academic year (July 1, 1997, through June 30, 1998), U.S. universities awarded a total of 42,683 research doctorate degrees,3 marking the thirteenth straight year in which the absolute number of doctorates increased. The annual growth rate from 1997 to 1998, 0.3 percent, was the same rate as for the preceding year.4 Over the past few years, the rate of increase has become markedly smaller than earlier in the decade. (See table 1.) In absolute numbers, 42,683 represents an increase of 2,882 doctorates over the number for 1993 and is 9,183 more than in 1988.5 For the 10-year interval between 1988 and 1998, U.S. universities collectively awarded almost 400,000 doctorates (397,048), as compared to a total of 316,413 for the preceding 10-year period. U.S. institutions have awarded more than one million doctorates (1,174,442) over the last 40 years, of which 33.8 percent were granted within the last 10 years (figures 1 and 2). The aggregate figure for 1998 is the largest number ever for any single academic year: an increase of 2,882 doctorates or 7.2 percent higher than 5 years ago and 9,183 or 27.4 percent more than 10 years ago. Only the 17-year interval between 1957 and 1974 was a longer period of consecutive annual growth. (See figures 1 and 2.) In general for the 1998 academic year, 58.2 percent of doctorate recipients were male, about two-thirds were U.S. citizens, and 62.7 percent were white. The typical recipient was slightly under 34 years of age at the time the degree was awarded. About three in ten recipients (29.2 percent) had never been married; 6.9 percent were either widowed, divorced, or separated; and 63.9 percent (66.0 percent for men and 60.9 percent for women) were currently married or 3.13  1957 1963 1968 1973 1978 1983 1988 1993 1998 Year See living in a marriage-like relationship.6 A decade ago the corresponding figures were higher percentages male, white, and U.S. citizenship; smaller percentage married; and the same approximate age at doctorate award. (See tables 7, 8, 11, A-3a and Summary Report 1988.7) Doctorate-granting Institutions, Doctorates per Institution, and Geographical Distribution During the 1998 academic year, 387 colleges and universities in the United States and Puerto Rico awarded at least one research doctorate, as compared with 382 institutions granting doctorates in the 1997 academic year. The number of institutions increased steadily from the early 1960s (174 in 1961) until 1988 but has remained relatively level for the last few years. (See table 2.) The mean number of doctorates awarded per institution in 1998 was 110, and the median was 45. As the difference between mean and median suggests, a relatively small number of institutions grant a disproportionately large number of doctorates. For example, only 115 institutions awarded more than the mean in 1998, but these 115 institutions granted an average of 296 doctorates each, accounting for 79.8 percent of all Ph.D.s earned in that 12-month period. The remaining 272 institutions awarded 32 doctorates on average in 1998. In terms of quartiles, the top 18 institutions accounted for 25 percent of all doctorates, the second quartile contained the next 29, the third quartile included 52 universities, and the remaining 288 were in the fourth quartile.8 The University of Texas at Austin granted 834 doctorates, or just under 2 percent of all doctorates awardedthe most Ph.D.s of any U.S. institution. The University of  and the University of California-Berkeley (748) were second and third. These same three universities, in the same order, also were the top doctorate-degree producers in 1997. The University of Minnesota (Twin Cities), University of Illinois (Champaign-Urbana), Ohio State University, University of Michigan, and UCLA round out the list of the top eight doctorate producers in recent years. Generally, either Harvard or Stanford follows the top eight in granting the next largest number of doctorates, the most for a private institution. In 1998 the leading 10 universities awarded 16.2 percent of all doctorates. (See table 3 and appendix table A-7.) Ten years ago the largest number of doctorates was awarded by the University of California-Berkeley (758), and the top 10 institutions together granted 17.7 percent of the 33,456 doctorates awarded. With respect to broad field, the University of California-Berkeley awarded the most doctorates (156) in the physical sciences. MIT granted the most engineering doctorates (229), while the University of Wisconsin-Madison led all universities in granting doctorates in the life sciences (185). Nova Southeastern University awarded the most doctorates in both the social sciences (149) and education (298). Nova also granted the largest number of degrees in the smaller, heterogeneous, \"professional/other\" category (58). The University of Texas-Austin was the leading granter of humanities doctorates (151). (See table 3 for the top 20 ranked institutions in each broad field.) Doctorates granted by the top 10 institutions are concentrated in certain broad field areas. While these institutions accounted for 16.2 percent of all doctorates, they granted 19.1 percent of all Ph.D.s in the physical sciences, 27.7 percent in engineering, 18.1 percent in life sciences, 22.9 percent in humanities, and 21.0 percent in education. The lowest concentration was in the social sciences, in which the top 10 universities produced 15.4 percent of the doctorates. For their doctoral studies, 68.4 percent of all new Ph.D.s attended public universities (for U.S. citizens that figure was 68.5 percent); 59.4 percent of the 1998 recipients who were U.S. citizens had earned their undergraduate degrees at public institutions.9 The 89 institutions in the Carnegie Research I classificationl° awarded 67.6 percent of all doctorates in 1998; the 37 Research II universities granted 11.2 percent of all Ph.D.s. In 1998, 10.5 percent of new Ph.D.s received their degrees at Doctoral I institutions; for Doctoral II institutions, the figure was 4.8 percent. The set of \"other\" Carnegie institutions awarded 5.8 percent of all doctoral degrees in 1998. (See figure 3.) California universities awarded 4,731 doctorates (11 percent of the total). New York institutions granted the next highest number of doctorates (3,784), followed by institutions in Texas (2,736), Illinois (2,260), and Pennsylvania (2,234). These five states accounted for 36.9 percent of all doctorates awarded in 1998. Appendix table A-7 shows the aggregate and subfield distribution of 1998 doctorates by individual institution and state. Ten years ago, the top five states (with Massachusetts in place of Pennsylvania) accounted for 39.9 percent of the 33,456 doctorates awarded that year.'],\n",
              "      dtype=object)"
            ]
          },
          "metadata": {
            "tags": []
          },
          "execution_count": 146
        }
      ]
    },
    {
      "cell_type": "code",
      "metadata": {
        "colab": {
          "base_uri": "https://localhost:8080/",
          "height": 359
        },
        "id": "XRLzei8SeVUz",
        "outputId": "2d27cca7-7f96-4382-f70d-279f653440c9"
      },
      "source": [
        "f = 'e9057a7a-ea41-4b40-88bf-3bfb8354c807.json'\n",
        "df7 = pd.read_json(Path(PATH) /'train' / f)\n",
        "df7"
      ],
      "execution_count": 141,
      "outputs": [
        {
          "output_type": "execute_result",
          "data": {
            "text/html": [
              "<div>\n",
              "<style scoped>\n",
              "    .dataframe tbody tr th:only-of-type {\n",
              "        vertical-align: middle;\n",
              "    }\n",
              "\n",
              "    .dataframe tbody tr th {\n",
              "        vertical-align: top;\n",
              "    }\n",
              "\n",
              "    .dataframe thead th {\n",
              "        text-align: right;\n",
              "    }\n",
              "</style>\n",
              "<table border=\"1\" class=\"dataframe\">\n",
              "  <thead>\n",
              "    <tr style=\"text-align: right;\">\n",
              "      <th></th>\n",
              "      <th>section_title</th>\n",
              "      <th>text</th>\n",
              "    </tr>\n",
              "  </thead>\n",
              "  <tbody>\n",
              "    <tr>\n",
              "      <th>0</th>\n",
              "      <td>I. Introduction</td>\n",
              "      <td>In the United States, there has been an increa...</td>\n",
              "    </tr>\n",
              "    <tr>\n",
              "      <th>1</th>\n",
              "      <td>4</td>\n",
              "      <td>Our empirical strategy is discussed in section...</td>\n",
              "    </tr>\n",
              "    <tr>\n",
              "      <th>2</th>\n",
              "      <td>II. Policy Context</td>\n",
              "      <td>The federal food and nutritional safety net is...</td>\n",
              "    </tr>\n",
              "    <tr>\n",
              "      <th>3</th>\n",
              "      <td>III. Data</td>\n",
              "      <td>This study uses data from the Early Childhood ...</td>\n",
              "    </tr>\n",
              "    <tr>\n",
              "      <th>4</th>\n",
              "      <td>IV. Empirical Strategy</td>\n",
              "      <td>This paper uses longitudinal data to explore d...</td>\n",
              "    </tr>\n",
              "    <tr>\n",
              "      <th>5</th>\n",
              "      <td>V. Potential Manipulation</td>\n",
              "      <td>The validity of our regression discontinuity d...</td>\n",
              "    </tr>\n",
              "    <tr>\n",
              "      <th>6</th>\n",
              "      <td>VI. Results</td>\n",
              "      <td>We begin by presenting descriptive statistics ...</td>\n",
              "    </tr>\n",
              "    <tr>\n",
              "      <th>7</th>\n",
              "      <td>VII. Extensions and robustness checks</td>\n",
              "      <td>In this section we present the stability of ou...</td>\n",
              "    </tr>\n",
              "    <tr>\n",
              "      <th>8</th>\n",
              "      <td>VIII. Discussion</td>\n",
              "      <td>In this paper, we explore the effect of aging ...</td>\n",
              "    </tr>\n",
              "    <tr>\n",
              "      <th>9</th>\n",
              "      <td>Figure 1 -Graphical Inspection</td>\n",
              "      <td>* p&lt;.1, ** p&lt;.05, *** p&lt;.01.</td>\n",
              "    </tr>\n",
              "  </tbody>\n",
              "</table>\n",
              "</div>"
            ],
            "text/plain": [
              "                           section_title                                               text\n",
              "0                        I. Introduction  In the United States, there has been an increa...\n",
              "1                                      4  Our empirical strategy is discussed in section...\n",
              "2                     II. Policy Context  The federal food and nutritional safety net is...\n",
              "3                              III. Data  This study uses data from the Early Childhood ...\n",
              "4                 IV. Empirical Strategy  This paper uses longitudinal data to explore d...\n",
              "5              V. Potential Manipulation  The validity of our regression discontinuity d...\n",
              "6                            VI. Results  We begin by presenting descriptive statistics ...\n",
              "7  VII. Extensions and robustness checks  In this section we present the stability of ou...\n",
              "8                       VIII. Discussion  In this paper, we explore the effect of aging ...\n",
              "9         Figure 1 -Graphical Inspection                       * p<.1, ** p<.05, *** p<.01."
            ]
          },
          "metadata": {
            "tags": []
          },
          "execution_count": 141
        }
      ]
    },
    {
      "cell_type": "code",
      "metadata": {
        "colab": {
          "base_uri": "https://localhost:8080/"
        },
        "id": "lvDLu6ChpP4t",
        "outputId": "e8877009-0eff-45a0-a252-371329e50f99"
      },
      "source": [
        "df7.iloc[2].values"
      ],
      "execution_count": 154,
      "outputs": [
        {
          "output_type": "execute_result",
          "data": {
            "text/plain": [
              "array(['II. Policy Context',\n",
              "       \"The federal food and nutritional safety net is currently a patchwork. Program services may be delivered in the form of vouchers, (near) cash supplements, or directly as food. Services may be available to specific members of the household only or to the entire household. In addition to household income eligibility, children's eligibility for a specific program may depend upon their age and the income level of others in their day-care or school. The result of this hodge-podge of food and nutritional programs is that different households with similar income levels and numbers of children, may be receiving substantially different bundles of food assistance. While variation may occur across the entire childhood period, there is a significant transition in the types of food and nutrition programs for which children qualify as children reach age five and become eligible to enter kindergarten. The main federal food and nutrition assistance program that targets children from birth to age five is the Women, Infants and Children program (WIC). The WIC program provides supplemental food assistance, nutrition education and health referrals to low-income pregnant and post-partum women, and to children under age five at nutritional risk. In order for a household to be income eligible, gross net income must be below 185 percent of the federal 5 poverty line for the household size or participate in the Medicaid program. In the fiscal year 2011, 8.9 million individuals per month received WIC benefits, with a little over half of the participant's children older than 1 and younger than 5 years of age (USDA 2012). 1 Several studies have demonstrated WIC participants benefit from participation across a range of outcomes beginning with pregnancy and birth outcomes, improved iron status among preschoolers, lowered prevalence of iron-deficiency anemia among young children and reduced levels of household food insecurity and food insecurity with hunger (Cook, Frank, Levenson et al., 2006;Lee, Mackey-Bilaver & Chin, 2006;Kennedy, Gershoff, Reed & Austin, 1982;Bitler and Currie 2005;Metallinos-Katsaras et al. 2010). According to the U.S. Census Bureau (2011), 4.1 million Americans were five years of age in 2010, with 79 percent of them enrolled in Kindergarten or elementary school. However, only 57 percent of the 4.1 million 5-year-old children attended full-day kindergarten or elementary grade. This is an important issue because WIC eligibility ends at age 5 and only children attending a full-day program may have access to the NSLP. Thus, it is unclear the extent to which the NSLP provides a good substitute for the nutritional benefits available through participation in WIC. Moreover, according to Dahl and Scholz (2011), participation rates among eligible children are only 75 percent for the NSLP. We consider the impact of aging out of WIC on household-level food security status. Participation in food and nutrition programs that increase the supply of food to children may be observed to have an effect not only the food security status of the children participating, but may also increase the food consumed by adults in the household. Qualitative reports suggest that children may be buffered from the reduced food intake by other adults in the households (Polit, London, & Martinez, 2001). Consequently, our analyses will evaluate the effect of WIC's child eligibility age cut-off on the food security status (food insecure, low food security and very low food security) of the household. Specifically, our investigation exploits a discontinuity in children's age. As children reach age 61 months, they lose eligibility for WIC. This federal rule is applied uniformly across all the states in the US. Moreover, children who reach 61 months qualify to attend kindergarten and therefore transition into the formal school system at the next fall and can potentially get access to federal school nutrition programs at that point. We show that WIC participation for children just below the 61 month age cutoff (the treatment group) is observable, while children whose age is just above the cutoff (the control group) do not participate in WIC. These findings come from the Early Childhood Longitudinal Study Birth cohort (ECLS-B), which tracks a national sample of children who were born in 2001.\"],\n",
              "      dtype=object)"
            ]
          },
          "metadata": {
            "tags": []
          },
          "execution_count": 154
        }
      ]
    },
    {
      "cell_type": "code",
      "metadata": {
        "colab": {
          "base_uri": "https://localhost:8080/",
          "height": 97
        },
        "id": "m04oaZoelw8m",
        "outputId": "69be0e9a-1683-413d-8f02-26d4ee0c8f99"
      },
      "source": [
        "df_head[df_head['Id'] == 'e9057a7a-ea41-4b40-88bf-3bfb8354c807']"
      ],
      "execution_count": 142,
      "outputs": [
        {
          "output_type": "execute_result",
          "data": {
            "text/html": [
              "<div>\n",
              "<style scoped>\n",
              "    .dataframe tbody tr th:only-of-type {\n",
              "        vertical-align: middle;\n",
              "    }\n",
              "\n",
              "    .dataframe tbody tr th {\n",
              "        vertical-align: top;\n",
              "    }\n",
              "\n",
              "    .dataframe thead th {\n",
              "        text-align: right;\n",
              "    }\n",
              "</style>\n",
              "<table border=\"1\" class=\"dataframe\">\n",
              "  <thead>\n",
              "    <tr style=\"text-align: right;\">\n",
              "      <th></th>\n",
              "      <th>Id</th>\n",
              "      <th>pub_title</th>\n",
              "      <th>dataset_title</th>\n",
              "      <th>dataset_label</th>\n",
              "      <th>cleaned_label</th>\n",
              "    </tr>\n",
              "  </thead>\n",
              "  <tbody>\n",
              "    <tr>\n",
              "      <th>13879</th>\n",
              "      <td>e9057a7a-ea41-4b40-88bf-3bfb8354c807</td>\n",
              "      <td>Families with Hungry Children and the Transiti...</td>\n",
              "      <td>Early Childhood Longitudinal Study</td>\n",
              "      <td>Early Childhood Longitudinal Study</td>\n",
              "      <td>early childhood longitudinal study</td>\n",
              "    </tr>\n",
              "  </tbody>\n",
              "</table>\n",
              "</div>"
            ],
            "text/plain": [
              "                                         Id  ...                       cleaned_label\n",
              "13879  e9057a7a-ea41-4b40-88bf-3bfb8354c807  ...  early childhood longitudinal study\n",
              "\n",
              "[1 rows x 5 columns]"
            ]
          },
          "metadata": {
            "tags": []
          },
          "execution_count": 142
        }
      ]
    },
    {
      "cell_type": "code",
      "metadata": {
        "colab": {
          "base_uri": "https://localhost:8080/"
        },
        "id": "SdWgTBvClw6D",
        "outputId": "7779b177-952d-49c5-be01-674997065481"
      },
      "source": [
        ""
      ],
      "execution_count": 148,
      "outputs": [
        {
          "output_type": "execute_result",
          "data": {
            "text/plain": [
              "['77.77-FT\"']"
            ]
          },
          "metadata": {
            "tags": []
          },
          "execution_count": 148
        }
      ]
    },
    {
      "cell_type": "code",
      "metadata": {
        "id": "glU00RZGlw1o"
      },
      "source": [
        "def clean_text(txt: str)-> str:\n",
        "    return re.sub('[^A-Za-z]+', ' ', str(txt).lower()).strip()"
      ],
      "execution_count": 152,
      "outputs": []
    },
    {
      "cell_type": "code",
      "metadata": {
        "colab": {
          "base_uri": "https://localhost:8080/",
          "height": 35
        },
        "id": "gPn2dB41lwy0",
        "outputId": "619e2d57-5136-4b08-fe01-4240fd3cfc2f"
      },
      "source": [
        "clean_text('77.77-FT\"')"
      ],
      "execution_count": 153,
      "outputs": [
        {
          "output_type": "execute_result",
          "data": {
            "application/vnd.google.colaboratory.intrinsic+json": {
              "type": "string"
            },
            "text/plain": [
              "'ft'"
            ]
          },
          "metadata": {
            "tags": []
          },
          "execution_count": 153
        }
      ]
    },
    {
      "cell_type": "code",
      "metadata": {
        "colab": {
          "base_uri": "https://localhost:8080/",
          "height": 35
        },
        "id": "6HBUIz1eo3Rd",
        "outputId": "317b05a5-ff31-476c-9cde-d4fc7fc5c8c9"
      },
      "source": [
        "clean_text('II. Policy Context',)"
      ],
      "execution_count": 155,
      "outputs": [
        {
          "output_type": "execute_result",
          "data": {
            "application/vnd.google.colaboratory.intrinsic+json": {
              "type": "string"
            },
            "text/plain": [
              "'ii policy context'"
            ]
          },
          "metadata": {
            "tags": []
          },
          "execution_count": 155
        }
      ]
    },
    {
      "cell_type": "code",
      "metadata": {
        "colab": {
          "base_uri": "https://localhost:8080/",
          "height": 35
        },
        "id": "JAqJjiY4o3Pa",
        "outputId": "584812c5-7cef-46dd-fb34-bba0aaf9aa2d"
      },
      "source": [
        "clean_text('a 0 g`v)')"
      ],
      "execution_count": 156,
      "outputs": [
        {
          "output_type": "execute_result",
          "data": {
            "application/vnd.google.colaboratory.intrinsic+json": {
              "type": "string"
            },
            "text/plain": [
              "'a g v'"
            ]
          },
          "metadata": {
            "tags": []
          },
          "execution_count": 156
        }
      ]
    },
    {
      "cell_type": "code",
      "metadata": {
        "colab": {
          "base_uri": "https://localhost:8080/",
          "height": 35
        },
        "id": "xrQ94VkYo3Ml",
        "outputId": "c4d0fe5b-bc9a-405f-8d78-79817633440c"
      },
      "source": [
        "df_head.iloc[19658].cleaned_label"
      ],
      "execution_count": 158,
      "outputs": [
        {
          "output_type": "execute_result",
          "data": {
            "application/vnd.google.colaboratory.intrinsic+json": {
              "type": "string"
            },
            "text/plain": [
              "'cas covid 19 antiviral candidate compounds dataset'"
            ]
          },
          "metadata": {
            "tags": []
          },
          "execution_count": 158
        }
      ]
    },
    {
      "cell_type": "markdown",
      "metadata": {
        "id": "LLAjc8VxJtKd"
      },
      "source": [
        "У НАС ЕСТЬ ПРОПУСКИ В в тексте и в названии\n",
        "есть скобки\n",
        "надо оставить только текст цифры мне тоже не нужны\n",
        "\n",
        "карочь просто пипец в данных"
      ]
    },
    {
      "cell_type": "code",
      "metadata": {
        "id": "aTofPaUAiM7Z"
      },
      "source": [
        "def have_digit(txt: str) -> bool:\n",
        "    return any(char.isdigit() for char in txt)\n",
        "\n",
        "reusult = df_head.cleaned_label.apply(lambda x: have_digit(x))"
      ],
      "execution_count": 162,
      "outputs": []
    },
    {
      "cell_type": "code",
      "metadata": {
        "id": "l-RXP6wF2Vxd"
      },
      "source": [
        "for i in df_head[reusult].cleaned_label.values:\n",
        "    if 'cov' not in i:\n",
        "        print(i)"
      ],
      "execution_count": 168,
      "outputs": []
    },
    {
      "cell_type": "code",
      "metadata": {
        "id": "Jg6OyD4a2V0c"
      },
      "source": [
        ""
      ],
      "execution_count": null,
      "outputs": []
    },
    {
      "cell_type": "code",
      "metadata": {
        "id": "wqnort055BW4"
      },
      "source": [
        ""
      ],
      "execution_count": null,
      "outputs": []
    },
    {
      "cell_type": "code",
      "metadata": {
        "id": "1zNmy1WA5BTi"
      },
      "source": [
        ""
      ],
      "execution_count": null,
      "outputs": []
    },
    {
      "cell_type": "code",
      "metadata": {
        "id": "aB0ZpuCi5BNl"
      },
      "source": [
        ""
      ],
      "execution_count": null,
      "outputs": []
    },
    {
      "cell_type": "code",
      "metadata": {
        "id": "a55P0awN5BLM"
      },
      "source": [
        ""
      ],
      "execution_count": null,
      "outputs": []
    },
    {
      "cell_type": "code",
      "metadata": {
        "id": "AD3B-k2A5BGm"
      },
      "source": [
        ""
      ],
      "execution_count": null,
      "outputs": []
    },
    {
      "cell_type": "code",
      "metadata": {
        "id": "65yX_Oxt5BEP"
      },
      "source": [
        ""
      ],
      "execution_count": null,
      "outputs": []
    },
    {
      "cell_type": "code",
      "metadata": {
        "id": "c9tEy5aY5BBh"
      },
      "source": [
        ""
      ],
      "execution_count": null,
      "outputs": []
    },
    {
      "cell_type": "code",
      "metadata": {
        "colab": {
          "base_uri": "https://localhost:8080/",
          "height": 35
        },
        "id": "-eZxt9oTkQGJ",
        "outputId": "a18fe620-3ef8-474b-8fdf-e3710ecfce6f"
      },
      "source": [
        "txt = df1.text.str.cat(sep = '\\n').lower()\n",
        "txt[:100]"
      ],
      "execution_count": null,
      "outputs": [
        {
          "output_type": "execute_result",
          "data": {
            "application/vnd.google.colaboratory.intrinsic+json": {
              "type": "string"
            },
            "text/plain": [
              "'this study used data from the national education longitudinal study (nels:88) to examine the effects'"
            ]
          },
          "metadata": {
            "tags": []
          },
          "execution_count": 29
        }
      ]
    },
    {
      "cell_type": "code",
      "metadata": {
        "colab": {
          "base_uri": "https://localhost:8080/",
          "height": 250,
          "referenced_widgets": [
            "fa6e47b40fc7487ab32caf50a7f05610",
            "8cb49eca55834decaec92e4d66b30875",
            "e74042e5d5ae41f3ad4d0adeac4ce089",
            "1f824e4fb05a44abb400e517c64a98f5",
            "21866846ab5348ac8a08e4ce884fdacd",
            "e25bf0dd66e249be8da6b1f904c604a1",
            "6a8708abaead4378bf92028e608ba8a2",
            "ef655b34508c43b3a5cd2eafe9f78f69",
            "40831194c5bc4bf4b9db6d445a270ec0",
            "f18e7e3386a74ce8b8dc0bae48271d58",
            "93d0e294381342feab9f578408e1fa74",
            "9f117b7eddde4c058f7ce80e71a0ec0e",
            "1649be5a621b4a18aba2f5a3ec302624",
            "6cbf2a5771cd4c2486d5c70dcb22f8b3",
            "20d0400f8da14101a551bc6e0a5bfddb",
            "c44d8c375f9c4dc5926f5811b7b0318e",
            "905e59dcafca4e36acf8dcf3a88c77cb",
            "9d65ec87aa8145dfa786423f17b7df8f",
            "9c021d0ebe2846e0846596c6dfbe0562",
            "975d7380573740e19faf71afad3503b3",
            "6f54fece7c0b4560adaf3c695f9cfa4c",
            "1365da6aadd64fadbee7578e34826eac",
            "ac044771f21b41bfb9b63003a6e17c2b",
            "590262326ff7401f94c673808a64f01b",
            "4ba572429a3042aeb78d4bb872b77f77",
            "519e5f8ce034417ca59a807787fe3a67",
            "395b8b4e63814e6689088c49f5a93413",
            "3673575254f84f5c861e9b56965539e9",
            "9116dad139664fcebf110e47a5fcac9f",
            "7644831d79014aa3a52ed0e77040eeb8",
            "1e4a8edf70254baf981e4af384faa61b",
            "214d2d30cd084c07ad191620ef079113"
          ]
        },
        "id": "r7HZOt4hkwlq",
        "outputId": "945e9649-847f-4eae-9392-3f049a5be427"
      },
      "source": [
        "model_name = 'bert-base-uncased'\n",
        "tokenizer = transformers.AutoTokenizer.from_pretrained(model_name)\n",
        "tokenizer"
      ],
      "execution_count": null,
      "outputs": [
        {
          "output_type": "display_data",
          "data": {
            "application/vnd.jupyter.widget-view+json": {
              "model_id": "fa6e47b40fc7487ab32caf50a7f05610",
              "version_minor": 0,
              "version_major": 2
            },
            "text/plain": [
              "HBox(children=(FloatProgress(value=0.0, description='Downloading', max=433.0, style=ProgressStyle(description_…"
            ]
          },
          "metadata": {
            "tags": []
          }
        },
        {
          "output_type": "stream",
          "text": [
            "\n"
          ],
          "name": "stdout"
        },
        {
          "output_type": "display_data",
          "data": {
            "application/vnd.jupyter.widget-view+json": {
              "model_id": "40831194c5bc4bf4b9db6d445a270ec0",
              "version_minor": 0,
              "version_major": 2
            },
            "text/plain": [
              "HBox(children=(FloatProgress(value=0.0, description='Downloading', max=231508.0, style=ProgressStyle(descripti…"
            ]
          },
          "metadata": {
            "tags": []
          }
        },
        {
          "output_type": "stream",
          "text": [
            "\n"
          ],
          "name": "stdout"
        },
        {
          "output_type": "display_data",
          "data": {
            "application/vnd.jupyter.widget-view+json": {
              "model_id": "905e59dcafca4e36acf8dcf3a88c77cb",
              "version_minor": 0,
              "version_major": 2
            },
            "text/plain": [
              "HBox(children=(FloatProgress(value=0.0, description='Downloading', max=466062.0, style=ProgressStyle(descripti…"
            ]
          },
          "metadata": {
            "tags": []
          }
        },
        {
          "output_type": "stream",
          "text": [
            "\n"
          ],
          "name": "stdout"
        },
        {
          "output_type": "display_data",
          "data": {
            "application/vnd.jupyter.widget-view+json": {
              "model_id": "4ba572429a3042aeb78d4bb872b77f77",
              "version_minor": 0,
              "version_major": 2
            },
            "text/plain": [
              "HBox(children=(FloatProgress(value=0.0, description='Downloading', max=28.0, style=ProgressStyle(description_w…"
            ]
          },
          "metadata": {
            "tags": []
          }
        },
        {
          "output_type": "stream",
          "text": [
            "\n"
          ],
          "name": "stdout"
        },
        {
          "output_type": "execute_result",
          "data": {
            "text/plain": [
              "PreTrainedTokenizerFast(name_or_path='bert-base-uncased', vocab_size=30522, model_max_len=512, is_fast=True, padding_side='right', special_tokens={'unk_token': '[UNK]', 'sep_token': '[SEP]', 'pad_token': '[PAD]', 'cls_token': '[CLS]', 'mask_token': '[MASK]'})"
            ]
          },
          "metadata": {
            "tags": []
          },
          "execution_count": 30
        }
      ]
    },
    {
      "cell_type": "code",
      "metadata": {
        "id": "cKcP_9F5kwoP"
      },
      "source": [
        "txt = 'this study used data from the national education longitudinal study (nels:88) to examine the effects'\n",
        "out_dict = tokenizer.encode_plus(\n",
        "    txt,\n",
        "    add_special_tokens = True,\n",
        "    max_length = 24,\n",
        "    padding = 'max_length',\n",
        "    return_tensors = 'pt',\n",
        "    truncation = True,\n",
        "    return_attention_mask = True\n",
        ")"
      ],
      "execution_count": null,
      "outputs": []
    },
    {
      "cell_type": "code",
      "metadata": {
        "colab": {
          "base_uri": "https://localhost:8080/"
        },
        "id": "gXRxrcoakwqn",
        "outputId": "ed9e32a3-65fc-4b1c-c845-f58c3db27f28"
      },
      "source": [
        "out_dict"
      ],
      "execution_count": null,
      "outputs": [
        {
          "output_type": "execute_result",
          "data": {
            "text/plain": [
              "{'input_ids': tensor([[  101,  2023,  2817,  2109,  2951,  2013,  1996,  2120,  2495, 20134,\n",
              "          2817,  1006, 11265,  4877,  1024,  6070,  1007,  2000, 11628,  1996,\n",
              "          3896,   102,     0,     0]]), 'token_type_ids': tensor([[0, 0, 0, 0, 0, 0, 0, 0, 0, 0, 0, 0, 0, 0, 0, 0, 0, 0, 0, 0, 0, 0, 0, 0]]), 'attention_mask': tensor([[1, 1, 1, 1, 1, 1, 1, 1, 1, 1, 1, 1, 1, 1, 1, 1, 1, 1, 1, 1, 1, 1, 0, 0]])}"
            ]
          },
          "metadata": {
            "tags": []
          },
          "execution_count": 59
        }
      ]
    },
    {
      "cell_type": "code",
      "metadata": {
        "id": "U9PSA2gokwsv"
      },
      "source": [
        "voc = tokenizer.get_vocab()\n",
        "voc = {v: k for (k, v) in voc.items()}"
      ],
      "execution_count": null,
      "outputs": []
    },
    {
      "cell_type": "code",
      "metadata": {
        "colab": {
          "base_uri": "https://localhost:8080/"
        },
        "id": "Qv90BjbWkwxo",
        "outputId": "6aa489a3-ac6d-41e6-9101-61309ae54823"
      },
      "source": [
        "[voc[i] for i in out_dict['input_ids'].tolist()[0]]"
      ],
      "execution_count": null,
      "outputs": [
        {
          "output_type": "execute_result",
          "data": {
            "text/plain": [
              "['[CLS]',\n",
              " 'this',\n",
              " 'study',\n",
              " 'used',\n",
              " 'data',\n",
              " 'from',\n",
              " 'the',\n",
              " 'national',\n",
              " 'education',\n",
              " 'longitudinal',\n",
              " 'study',\n",
              " '(',\n",
              " 'ne',\n",
              " '##ls',\n",
              " ':',\n",
              " '88',\n",
              " ')',\n",
              " 'to',\n",
              " 'examine',\n",
              " 'the',\n",
              " 'effects',\n",
              " '[SEP]',\n",
              " '[PAD]',\n",
              " '[PAD]']"
            ]
          },
          "metadata": {
            "tags": []
          },
          "execution_count": 61
        }
      ]
    },
    {
      "cell_type": "code",
      "metadata": {
        "colab": {
          "base_uri": "https://localhost:8080/"
        },
        "id": "DnGvhPLm6iEr",
        "outputId": "38ce8273-7a6d-4fe9-cb03-ad0ca94f8202"
      },
      "source": [
        "len(df.Id.unique())"
      ],
      "execution_count": null,
      "outputs": [
        {
          "output_type": "execute_result",
          "data": {
            "text/plain": [
              "14316"
            ]
          },
          "metadata": {
            "tags": []
          },
          "execution_count": 68
        }
      ]
    },
    {
      "cell_type": "markdown",
      "metadata": {
        "id": "OEgQB2yT9qzo"
      },
      "source": [
        "не могу сообразить что указывать в таргет\n",
        "\n",
        "в каждом json есть заголовки может исрользовать только их\n",
        "\n",
        "\n",
        "передаем json и читаем по заголовкам\n",
        "к примеру у нас в d0fa7568-7d8e-4db9-870f-f9c6f668c17b.json 18 заголовков в каждом текст\n",
        "есть ли смысл читать и по каждому что то вернуть а потом оптимизировать(тк усреднить)\n",
        "\n",
        "искать кааой-то контекст по заголовку но их много\n",
        "\n",
        "может сделать ответ на вопрос или поиск сущности\n",
        "\n",
        "[Summary of the tasks](https://huggingface.co/transformers/task_summary.html#)\n",
        "\n",
        "try:\n",
        "- Masked Language Modeling\n",
        "- Extractive Question Answering\n",
        "- Summarization\n",
        "\n",
        "Interest links:\n",
        "\n",
        "https://huggingface.co/transformers/preprocessing.html\n",
        "https://huggingface.co/transformers/tokenizer_summary.html\n",
        "\n",
        "https://medium.com/@aniruddha.choudhury94/part-2-bert-fine-tuning-tutorial-with-pytorch-for-text-classification-on-the-corpus-of-linguistic-18057ce330e1\n",
        "https://www.kaggle.com/tungmphung/pytorch-bert-for-named-entity-recognition\n",
        "\n",
        "\n"
      ]
    },
    {
      "cell_type": "code",
      "metadata": {
        "id": "EGOFbiwP6iCc",
        "colab": {
          "base_uri": "https://localhost:8080/",
          "height": 66,
          "referenced_widgets": [
            "bb1a4ffa79fa4f3da417bc0182f93826",
            "cf1564aa9ff540878b37f5c90e4e3d24",
            "32fef7af40d94152b302465d5df00ede",
            "23ce68d02eac4e19bd68b871ff935c97",
            "cb89fd65861e42d2b7bec445b16f9263",
            "a0592da53913412dbfa8c54755892bbf",
            "5b8ae2b551394582a6416ea6e2eca829",
            "3362cc6d786c4124a1a68bcb5dd576e7"
          ]
        },
        "outputId": "7632838a-b079-4bb4-fb09-348023dc9b6d"
      },
      "source": [
        "\"\"\"\n",
        "AutoModel.from_pretrained ('bert-base-cased')\n",
        "создаст модель, которая является экземпляром BertModel.\n",
        "\n",
        "AutoConfig\n",
        "classtransformers.AutoConfig [ИСТОЧНИК]\n",
        "Это общий класс конфигурации, который будет создан как один из классов конфигурации библиотеки при \n",
        "создании с помощью метода класса from_pretrained ().\n",
        "\"\"\"\n",
        "\n",
        "conf = transformers.AutoConfig.from_pretrained('bert-base-cased', num_labels =130)\n",
        "model = transformers.AutoModel.from_pretrained('bert-base-cased', config = conf)"
      ],
      "execution_count": null,
      "outputs": [
        {
          "output_type": "display_data",
          "data": {
            "application/vnd.jupyter.widget-view+json": {
              "model_id": "bb1a4ffa79fa4f3da417bc0182f93826",
              "version_minor": 0,
              "version_major": 2
            },
            "text/plain": [
              "HBox(children=(FloatProgress(value=0.0, description='Downloading', max=435779157.0, style=ProgressStyle(descri…"
            ]
          },
          "metadata": {
            "tags": []
          }
        },
        {
          "output_type": "stream",
          "text": [
            "\n"
          ],
          "name": "stdout"
        }
      ]
    },
    {
      "cell_type": "code",
      "metadata": {
        "id": "O2LcdSOc6iAE"
      },
      "source": [
        "model"
      ],
      "execution_count": null,
      "outputs": []
    },
    {
      "cell_type": "code",
      "metadata": {
        "id": "Am5qUXiX6h9T"
      },
      "source": [
        ""
      ],
      "execution_count": null,
      "outputs": []
    },
    {
      "cell_type": "code",
      "metadata": {
        "id": "-rx6sWC96h4q"
      },
      "source": [
        ""
      ],
      "execution_count": null,
      "outputs": []
    },
    {
      "cell_type": "code",
      "metadata": {
        "id": "GvaqigEzI-M7"
      },
      "source": [
        ""
      ],
      "execution_count": null,
      "outputs": []
    },
    {
      "cell_type": "code",
      "metadata": {
        "id": "AllUnbzVI-Kb"
      },
      "source": [
        ""
      ],
      "execution_count": null,
      "outputs": []
    },
    {
      "cell_type": "code",
      "metadata": {
        "id": "n3YztACeI-GE"
      },
      "source": [
        ""
      ],
      "execution_count": null,
      "outputs": []
    }
  ]
}