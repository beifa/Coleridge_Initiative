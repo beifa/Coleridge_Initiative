{
 "cells": [
  {
   "cell_type": "markdown",
   "metadata": {
    "id": "QFoVuUlsARfR"
   },
   "source": [
    "Descriptions\n",
    "\n",
    "[github code hugingface run_ner](https://github.com/huggingface/transformers/blob/master/examples/pytorch/token-classification/run_ner.py)\n",
    "\n",
    "[hugingface readme Named Entity Recognition](https://huggingface.co/transformers/task_summary.html#named-entity-recognition)"
   ]
  },
  {
   "cell_type": "code",
   "execution_count": 1,
   "metadata": {
    "colab": {
     "base_uri": "https://localhost:8080/"
    },
    "id": "nLvuElwT90d1",
    "outputId": "430b8e65-b400-419e-99e2-5f8ba7ab1eca"
   },
   "outputs": [
    {
     "name": "stdout",
     "output_type": "stream",
     "text": [
      "Mounted at /content/drive\n"
     ]
    }
   ],
   "source": [
    "from IPython.display import clear_output\n",
    "from google.colab import drive\n",
    "drive.mount('/content/drive')"
   ]
  },
  {
   "cell_type": "code",
   "execution_count": 2,
   "metadata": {
    "id": "I_3UZqLw61B9"
   },
   "outputs": [],
   "source": [
    "!pip install pytorch_lightning\n",
    "!pip install transformers\n",
    "!pip install sentencepiece\n",
    "clear_output()"
   ]
  },
  {
   "cell_type": "code",
   "execution_count": 3,
   "metadata": {
    "id": "muNE_jkzZiR5"
   },
   "outputs": [],
   "source": [
    "# https://github.com/huggingface/datasets\n",
    "!pip install datasets\n",
    "!pip install seqeval\n",
    "clear_output()"
   ]
  },
  {
   "cell_type": "code",
   "execution_count": null,
   "metadata": {
    "id": "i1Mu6OEa71I_"
   },
   "outputs": [],
   "source": [
    "!pip install wandb -qqq\n",
    "clear_output()"
   ]
  },
  {
   "cell_type": "code",
   "execution_count": null,
   "metadata": {
    "colab": {
     "base_uri": "https://localhost:8080/"
    },
    "id": "nqC3b3SO8BeC",
    "outputId": "474c95a2-eccd-406d-91f3-00b82194cc66"
   },
   "outputs": [
    {
     "name": "stderr",
     "output_type": "stream",
     "text": [
      "\u001b[34m\u001b[1mwandb\u001b[0m: Currently logged in as: \u001b[33mbeifa\u001b[0m (use `wandb login --relogin` to force relogin)\n"
     ]
    },
    {
     "data": {
      "text/plain": [
       "True"
      ]
     },
     "execution_count": 4,
     "metadata": {
      "tags": []
     },
     "output_type": "execute_result"
    }
   ],
   "source": [
    "import wandb\n",
    "wandb.login()"
   ]
  },
  {
   "cell_type": "code",
   "execution_count": null,
   "metadata": {
    "colab": {
     "base_uri": "https://localhost:8080/"
    },
    "id": "bqh7j3n878Id",
    "outputId": "2a4a1dfb-6cca-4a89-8d3d-c2f011031390"
   },
   "outputs": [
    {
     "name": "stderr",
     "output_type": "stream",
     "text": [
      "Global seed set to 13\n"
     ]
    },
    {
     "name": "stdout",
     "output_type": "stream",
     "text": [
      "1.8.1+cu101\n"
     ]
    }
   ],
   "source": [
    "import json\n",
    "import torch\n",
    "import datetime\n",
    "from tqdm import tqdm\n",
    "import torch.nn as nn\n",
    "import os, glob, re\n",
    "import pandas as pd\n",
    "import numpy as np\n",
    "from pathlib import Path\n",
    "from tqdm import tqdm\n",
    "import matplotlib.pyplot as plt\n",
    "\n",
    "import transformers\n",
    "\n",
    "from torch.utils.data import Dataset, DataLoader\n",
    "import pytorch_lightning as pl\n",
    "from sklearn.model_selection import train_test_split\n",
    "pl.seed_everything(13)\n",
    "print(torch.__version__)\n",
    "PATH = '/content/drive/MyDrive/Coleridge_Initiative/input'"
   ]
  },
  {
   "cell_type": "code",
   "execution_count": null,
   "metadata": {
    "id": "I33ZjK0CHwMi"
   },
   "outputs": [],
   "source": [
    "!nvidia-smi"
   ]
  },
  {
   "cell_type": "markdown",
   "metadata": {
    "id": "VHf1tD8WVPrf"
   },
   "source": [
    "## Make data to ner\n",
    "\n",
    "1. full txt split by 64 words\n",
    "2. my 512 not split\n",
    "3. split my 512"
   ]
  },
  {
   "cell_type": "code",
   "execution_count": null,
   "metadata": {
    "colab": {
     "base_uri": "https://localhost:8080/",
     "height": 66
    },
    "id": "WY3lis9B9X5M",
    "outputId": "e61fa2a6-b5f5-49e0-a7c9-3d3021f6ee38"
   },
   "outputs": [
    {
     "data": {
      "text/html": [
       "<div>\n",
       "<style scoped>\n",
       "    .dataframe tbody tr th:only-of-type {\n",
       "        vertical-align: middle;\n",
       "    }\n",
       "\n",
       "    .dataframe tbody tr th {\n",
       "        vertical-align: top;\n",
       "    }\n",
       "\n",
       "    .dataframe thead th {\n",
       "        text-align: right;\n",
       "    }\n",
       "</style>\n",
       "<table border=\"1\" class=\"dataframe\">\n",
       "  <thead>\n",
       "    <tr style=\"text-align: right;\">\n",
       "      <th></th>\n",
       "      <th>question</th>\n",
       "      <th>text</th>\n",
       "      <th>answer</th>\n",
       "      <th>answer_start</th>\n",
       "      <th>answer_end</th>\n",
       "      <th>origin_text</th>\n",
       "      <th>origin_answer_start</th>\n",
       "      <th>origin_answer_end</th>\n",
       "      <th>len text</th>\n",
       "      <th>id</th>\n",
       "    </tr>\n",
       "  </thead>\n",
       "  <tbody>\n",
       "  </tbody>\n",
       "</table>\n",
       "</div>"
      ],
      "text/plain": [
       "Empty DataFrame\n",
       "Columns: [question, text, answer, answer_start, answer_end, origin_text, origin_answer_start, origin_answer_end, len text, id]\n",
       "Index: []"
      ]
     },
     "execution_count": 64,
     "metadata": {
      "tags": []
     },
     "output_type": "execute_result"
    }
   ],
   "source": [
    "df = pd.read_csv('/content/drive/MyDrive/Coleridge_Initiative/input/v6_data_qa.csv')\n",
    "df[df.answer.isna()]"
   ]
  },
  {
   "cell_type": "code",
   "execution_count": null,
   "metadata": {
    "id": "xB7ZEGV811dq"
   },
   "outputs": [],
   "source": [
    "def check_len(data:list, len_skip:int = 10)->list:\n",
    "    \"\"\"\n",
    "    checked len for all text in data  must be  more > 10 words\n",
    "    \"\"\"\n",
    "    tmp = []\n",
    "    for txt in data:\n",
    "        w = txt.split()\n",
    "        if len(w) >= len_skip:\n",
    "            tmp.append(txt)\n",
    "    return tmp\n",
    "\n",
    "\n",
    "def make_split_txt(txt:str, split:bool = None, len_split:int = 64, crossing:int = 12)->list:\n",
    "    \"\"\"\n",
    "    we split text on small part\n",
    "    txt:str\n",
    "    len_split: bool  split text or no\n",
    "    crossing:int    \n",
    "        txt =  is simply dummy text of the printing and typesetting industry \n",
    "            Lorem Ipsum has been the industry's standard dummy text ever since the 1500s\n",
    "\n",
    "            len_split = 5, crossing= 2\n",
    "            1. is, simply, dummy, text, of,\n",
    "            2.                    text, of, the, printing, and\n",
    "            3.                                   printing, and, typesetting, industry, Lorem\n",
    "\n",
    "\n",
    "    return: list   \n",
    "\n",
    "            [\n",
    "                ['the',\n",
    "                 'quality',\n",
    "                 ...],\n",
    "                 ...\n",
    "                 ]\n",
    "        len current example 13 array by 42 or less words \n",
    "   \n",
    "    \"\"\"\n",
    "    \n",
    "    words = txt.split() # array\n",
    "    tmp =[]\n",
    "    if split is None:\n",
    "        tmp.append(txt)\n",
    "    else:\n",
    "        if len(words) > len_split:\n",
    "            for i in range(0, len(words), len_split - crossing):        \n",
    "                tmp.append(' '.join(words[i:i + len_split]))\n",
    "        else:\n",
    "            tmp.append(txt)\n",
    "    return tmp\n",
    "\n",
    "\n",
    "def find_idx_eq_words(txt_w:np.array, label_w: np.array)->list:\n",
    "    \"\"\"\n",
    "    two array text & labels\n",
    "\n",
    "    if word in text == word in label\n",
    "        add position index   \n",
    "        ['trends', 'in', 'international', 'mathematics', 'and', 'science', 'study']\n",
    "                    == ['trends', 'in', 'international', 'mathematics', 'and', 'science', 'study']\n",
    "\n",
    "    get index position full label\n",
    "    return: list index\n",
    "    \"\"\"\n",
    "    pos = []\n",
    "    for i in range(len(txt_w)-len(label_w)):\n",
    "        if label_w == txt_w[i:i+len(label_w)]:\n",
    "            pos.append(i)\n",
    "    return pos\n",
    "\n",
    "\n",
    "def make_tag_ner(txt: str, label: str )->list:\n",
    "    \"\"\"\n",
    "    txt: str current text\n",
    "    label: str label\n",
    "    return: list\n",
    "        [\n",
    "        ...\n",
    "        ('and', 'O'),\n",
    "        ('the', 'O'),\n",
    "\n",
    "        ('trends', 'B'),\n",
    "        ('in', 'I'),\n",
    "        ('international', 'I'),\n",
    "        ('mathematics', 'I'),\n",
    "        ('and', 'I'),\n",
    "        ('science', 'I'),\n",
    "        ('study', 'I'),\n",
    "\n",
    "        ('timss', 'O'),\n",
    "        ('show', 'O'),\n",
    "        ...\n",
    "        ]\n",
    "    \n",
    "    \"\"\"\n",
    "    words_txt = txt.split() # array\n",
    "    words_label = label.split() # array\n",
    "    tmp = ['O'] * len(words_txt)\n",
    "    idx = find_idx_eq_words(words_txt, words_label)    \n",
    "    if len(idx) > 0:\n",
    "        for j in idx:\n",
    "            tmp[j]= 'B'\n",
    "            for i in range(j+1, j + len(words_label)):\n",
    "                tmp[i] = 'I'\n",
    "    return list(zip(words_txt, tmp))"
   ]
  },
  {
   "cell_type": "code",
   "execution_count": null,
   "metadata": {
    "id": "G20yjIYoE6MD"
   },
   "outputs": [],
   "source": [
    "#test\n",
    "t = df.origin_text[0]\n",
    "l = df.answer[0]\n",
    "\n",
    "o = make_split_txt(t, split = True, len_split=64 ,crossing= 0)\n",
    "assert len(t) == len(' '.join(o)), 'woops!!'\n",
    "assert len(check_len(o)) == 20, 'mot eq 20 realy why?'\n",
    "assert len(check_len(o, len_skip=46)) == 19, 'watss...'"
   ]
  },
  {
   "cell_type": "code",
   "execution_count": null,
   "metadata": {
    "colab": {
     "base_uri": "https://localhost:8080/",
     "height": 111
    },
    "id": "j65clgQDFPPV",
    "outputId": "e533b2a4-563c-4ef3-b48d-5886dc58e323"
   },
   "outputs": [
    {
     "data": {
      "text/html": [
       "<div>\n",
       "<style scoped>\n",
       "    .dataframe tbody tr th:only-of-type {\n",
       "        vertical-align: middle;\n",
       "    }\n",
       "\n",
       "    .dataframe tbody tr th {\n",
       "        vertical-align: top;\n",
       "    }\n",
       "\n",
       "    .dataframe thead th {\n",
       "        text-align: right;\n",
       "    }\n",
       "</style>\n",
       "<table border=\"1\" class=\"dataframe\">\n",
       "  <thead>\n",
       "    <tr style=\"text-align: right;\">\n",
       "      <th></th>\n",
       "      <th>text</th>\n",
       "      <th>answer</th>\n",
       "    </tr>\n",
       "  </thead>\n",
       "  <tbody>\n",
       "    <tr>\n",
       "      <th>0</th>\n",
       "      <td>we were able to associate mycoplasmal conjunct...</td>\n",
       "      <td>north american breeding bird survey bbs</td>\n",
       "    </tr>\n",
       "    <tr>\n",
       "      <th>1</th>\n",
       "      <td>mass index and lean mass were both directly co...</td>\n",
       "      <td>baltimore longitudinal study of aging</td>\n",
       "    </tr>\n",
       "  </tbody>\n",
       "</table>\n",
       "</div>"
      ],
      "text/plain": [
       "                                                text                                    answer\n",
       "0  we were able to associate mycoplasmal conjunct...  north american breeding bird survey bbs \n",
       "1  mass index and lean mass were both directly co...     baltimore longitudinal study of aging"
      ]
     },
     "execution_count": 102,
     "metadata": {
      "tags": []
     },
     "output_type": "execute_result"
    }
   ],
   "source": [
    "df = df.drop_duplicates(subset=['question']).sample(frac = 1, random_state = 13).reset_index(drop=True)\n",
    "df = df[['text', 'answer']]\n",
    "df.head(2)"
   ]
  },
  {
   "cell_type": "code",
   "execution_count": null,
   "metadata": {
    "colab": {
     "base_uri": "https://localhost:8080/"
    },
    "id": "1FFs4JOuFs4I",
    "outputId": "68900f62-a103-4ab8-ddb9-7159bf73398e"
   },
   "outputs": [
    {
     "name": "stderr",
     "output_type": "stream",
     "text": [
      "13902it [00:05, 2691.48it/s]\n"
     ]
    }
   ],
   "source": [
    "tmp_ner = []\n",
    "all_in = False\n",
    "for i, t, a in tqdm(df.itertuples()):\n",
    "    mst = make_split_txt(t, split = True, len_split=64 ,crossing= 12)\n",
    "    out = check_len(mst)\n",
    "    for txt in out:\n",
    "        if all_in:\n",
    "            if a is not None and any(re.findall(f'\\\\b{a}\\\\b', txt)): \n",
    "                ner = make_tag_ner(txt, a)\n",
    "                tmp_ner.append(ner)\n",
    "        else:\n",
    "            ner = make_tag_ner(txt, a)\n",
    "            tmp_ner.append(ner)"
   ]
  },
  {
   "cell_type": "code",
   "execution_count": null,
   "metadata": {
    "id": "dZbYyO1snJry"
   },
   "outputs": [],
   "source": [
    "# shuffling\n",
    "import random\n",
    "random.shuffle(tmp_ner)\n",
    "with open('/content/drive/MyDrive/Coleridge_Initiative/input/train_ner.json', 'w') as f:\n",
    "    for row in tmp_ner:\n",
    "        words, nes = list(zip(*row))\n",
    "        row_json = {'tokens' : words, 'tags' : nes}\n",
    "        json.dump(row_json, f)\n",
    "        f.write('\\n')"
   ]
  },
  {
   "cell_type": "code",
   "execution_count": null,
   "metadata": {
    "id": "Gngq3DlOSyFd"
   },
   "outputs": [],
   "source": [
    "!python /content/kaggle_run_ner.py \\\n",
    "--model_name_or_path 'bert-base-cased' \\\n",
    "--train_file '/content/drive/MyDrive/Coleridge_Initiative/input/train_ner.json' \\\n",
    "--validation_file '/content/drive/MyDrive/Coleridge_Initiative/input/train_ner.json' \\\n",
    "--num_train_epochs 1 \\\n",
    "--per_device_train_batch_size 8 \\\n",
    "--per_device_eval_batch_size 8 \\\n",
    "--save_steps 15000 \\\n",
    "--output_dir './output' \\\n",
    "--report_to 'none' \\\n",
    "--seed 123 \\\n",
    "--do_train "
   ]
  }
 ],
 "metadata": {
  "colab": {
   "collapsed_sections": [],
   "name": "BERT_question_NER_torch.ipynb",
   "provenance": []
  },
  "kernelspec": {
   "display_name": "Python 3",
   "language": "python",
   "name": "python3"
  },
  "language_info": {
   "codemirror_mode": {
    "name": "ipython",
    "version": 3
   },
   "file_extension": ".py",
   "mimetype": "text/x-python",
   "name": "python",
   "nbconvert_exporter": "python",
   "pygments_lexer": "ipython3",
   "version": "3.9.2"
  },
  "widgets": {
   "application/vnd.jupyter.widget-state+json": {
    "1e6b83e59ccb4dd2b84fa9e1341f92b7": {
     "model_module": "@jupyter-widgets/controls",
     "model_name": "DescriptionStyleModel",
     "state": {
      "_model_module": "@jupyter-widgets/controls",
      "_model_module_version": "1.5.0",
      "_model_name": "DescriptionStyleModel",
      "_view_count": null,
      "_view_module": "@jupyter-widgets/base",
      "_view_module_version": "1.2.0",
      "_view_name": "StyleView",
      "description_width": ""
     }
    },
    "4466ce041efc43c2889460729cffa67e": {
     "model_module": "@jupyter-widgets/base",
     "model_name": "LayoutModel",
     "state": {
      "_model_module": "@jupyter-widgets/base",
      "_model_module_version": "1.2.0",
      "_model_name": "LayoutModel",
      "_view_count": null,
      "_view_module": "@jupyter-widgets/base",
      "_view_module_version": "1.2.0",
      "_view_name": "LayoutView",
      "align_content": null,
      "align_items": null,
      "align_self": null,
      "border": null,
      "bottom": null,
      "display": null,
      "flex": null,
      "flex_flow": null,
      "grid_area": null,
      "grid_auto_columns": null,
      "grid_auto_flow": null,
      "grid_auto_rows": null,
      "grid_column": null,
      "grid_gap": null,
      "grid_row": null,
      "grid_template_areas": null,
      "grid_template_columns": null,
      "grid_template_rows": null,
      "height": null,
      "justify_content": null,
      "justify_items": null,
      "left": null,
      "margin": null,
      "max_height": null,
      "max_width": null,
      "min_height": null,
      "min_width": null,
      "object_fit": null,
      "object_position": null,
      "order": null,
      "overflow": null,
      "overflow_x": null,
      "overflow_y": null,
      "padding": null,
      "right": null,
      "top": null,
      "visibility": null,
      "width": null
     }
    },
    "6185d7e0bd964e2dabac204d906b09a7": {
     "model_module": "@jupyter-widgets/controls",
     "model_name": "ProgressStyleModel",
     "state": {
      "_model_module": "@jupyter-widgets/controls",
      "_model_module_version": "1.5.0",
      "_model_name": "ProgressStyleModel",
      "_view_count": null,
      "_view_module": "@jupyter-widgets/base",
      "_view_module_version": "1.2.0",
      "_view_name": "StyleView",
      "bar_color": null,
      "description_width": "initial"
     }
    },
    "74d52098c2af4434ad9271074d324cd8": {
     "model_module": "@jupyter-widgets/controls",
     "model_name": "HBoxModel",
     "state": {
      "_dom_classes": [],
      "_model_module": "@jupyter-widgets/controls",
      "_model_module_version": "1.5.0",
      "_model_name": "HBoxModel",
      "_view_count": null,
      "_view_module": "@jupyter-widgets/controls",
      "_view_module_version": "1.5.0",
      "_view_name": "HBoxView",
      "box_style": "",
      "children": [
       "IPY_MODEL_c06437766528465ab576105938274fc8",
       "IPY_MODEL_f53151752d534292a8426b893c6a26ed"
      ],
      "layout": "IPY_MODEL_8b0c8ec2f0c6468e84343d1741d9dfb5"
     }
    },
    "8b0c8ec2f0c6468e84343d1741d9dfb5": {
     "model_module": "@jupyter-widgets/base",
     "model_name": "LayoutModel",
     "state": {
      "_model_module": "@jupyter-widgets/base",
      "_model_module_version": "1.2.0",
      "_model_name": "LayoutModel",
      "_view_count": null,
      "_view_module": "@jupyter-widgets/base",
      "_view_module_version": "1.2.0",
      "_view_name": "LayoutView",
      "align_content": null,
      "align_items": null,
      "align_self": null,
      "border": null,
      "bottom": null,
      "display": null,
      "flex": null,
      "flex_flow": null,
      "grid_area": null,
      "grid_auto_columns": null,
      "grid_auto_flow": null,
      "grid_auto_rows": null,
      "grid_column": null,
      "grid_gap": null,
      "grid_row": null,
      "grid_template_areas": null,
      "grid_template_columns": null,
      "grid_template_rows": null,
      "height": null,
      "justify_content": null,
      "justify_items": null,
      "left": null,
      "margin": null,
      "max_height": null,
      "max_width": null,
      "min_height": null,
      "min_width": null,
      "object_fit": null,
      "object_position": null,
      "order": null,
      "overflow": null,
      "overflow_x": null,
      "overflow_y": null,
      "padding": null,
      "right": null,
      "top": null,
      "visibility": null,
      "width": null
     }
    },
    "c06437766528465ab576105938274fc8": {
     "model_module": "@jupyter-widgets/controls",
     "model_name": "FloatProgressModel",
     "state": {
      "_dom_classes": [],
      "_model_module": "@jupyter-widgets/controls",
      "_model_module_version": "1.5.0",
      "_model_name": "FloatProgressModel",
      "_view_count": null,
      "_view_module": "@jupyter-widgets/controls",
      "_view_module_version": "1.5.0",
      "_view_name": "ProgressView",
      "bar_style": "info",
      "description": "",
      "description_tooltip": null,
      "layout": "IPY_MODEL_4466ce041efc43c2889460729cffa67e",
      "max": 1,
      "min": 0,
      "orientation": "horizontal",
      "style": "IPY_MODEL_6185d7e0bd964e2dabac204d906b09a7",
      "value": 1
     }
    },
    "c9257ddd790d4a0ebfdb3be3787785db": {
     "model_module": "@jupyter-widgets/base",
     "model_name": "LayoutModel",
     "state": {
      "_model_module": "@jupyter-widgets/base",
      "_model_module_version": "1.2.0",
      "_model_name": "LayoutModel",
      "_view_count": null,
      "_view_module": "@jupyter-widgets/base",
      "_view_module_version": "1.2.0",
      "_view_name": "LayoutView",
      "align_content": null,
      "align_items": null,
      "align_self": null,
      "border": null,
      "bottom": null,
      "display": null,
      "flex": null,
      "flex_flow": null,
      "grid_area": null,
      "grid_auto_columns": null,
      "grid_auto_flow": null,
      "grid_auto_rows": null,
      "grid_column": null,
      "grid_gap": null,
      "grid_row": null,
      "grid_template_areas": null,
      "grid_template_columns": null,
      "grid_template_rows": null,
      "height": null,
      "justify_content": null,
      "justify_items": null,
      "left": null,
      "margin": null,
      "max_height": null,
      "max_width": null,
      "min_height": null,
      "min_width": null,
      "object_fit": null,
      "object_position": null,
      "order": null,
      "overflow": null,
      "overflow_x": null,
      "overflow_y": null,
      "padding": null,
      "right": null,
      "top": null,
      "visibility": null,
      "width": null
     }
    },
    "f53151752d534292a8426b893c6a26ed": {
     "model_module": "@jupyter-widgets/controls",
     "model_name": "HTMLModel",
     "state": {
      "_dom_classes": [],
      "_model_module": "@jupyter-widgets/controls",
      "_model_module_version": "1.5.0",
      "_model_name": "HTMLModel",
      "_view_count": null,
      "_view_module": "@jupyter-widgets/controls",
      "_view_module_version": "1.5.0",
      "_view_name": "HTMLView",
      "description": "",
      "description_tooltip": null,
      "layout": "IPY_MODEL_c9257ddd790d4a0ebfdb3be3787785db",
      "placeholder": "​",
      "style": "IPY_MODEL_1e6b83e59ccb4dd2b84fa9e1341f92b7",
      "value": " 1/? [00:01&lt;00:00,  1.24s/ tables]"
     }
    }
   }
  }
 },
 "nbformat": 4,
 "nbformat_minor": 1
}
